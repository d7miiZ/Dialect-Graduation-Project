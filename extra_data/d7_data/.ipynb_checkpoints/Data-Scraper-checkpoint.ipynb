{
 "cells": [
  {
   "cell_type": "code",
   "execution_count": null,
   "id": "d5c501ab",
   "metadata": {},
   "outputs": [],
   "source": [
    "import requests\n",
    "from bs4 import BeautifulSoup\n",
    "import pyarabic.araby as araby\n",
    "import re\n",
    "import pandas as pd"
   ]
  },
  {
   "cell_type": "code",
   "execution_count": null,
   "id": "b43f5573",
   "metadata": {},
   "outputs": [],
   "source": [
    "def remove_any_non_arabic_char(text):\n",
    "    non_arabic_char = re.compile('[^\\s\\\\u0600-\\u06FF]')\n",
    "    text_with_no_spaces = re.sub(non_arabic_char, \"\", text)\n",
    "    text_with_single_spaces = \" \".join(re.split(\"\\s+\", text_with_no_spaces))\n",
    "    return text_with_single_spaces"
   ]
  },
  {
   "cell_type": "markdown",
   "id": "e644f173",
   "metadata": {},
   "source": [
    "# Source 1"
   ]
  },
  {
   "cell_type": "code",
   "execution_count": null,
   "id": "8e47aefd",
   "metadata": {},
   "outputs": [],
   "source": [
    "URLs ={\n",
    "       \"https://www.lyricsongation.com/%d9%83%d9%84%d9%85%d8%a7%d8%aa-%d8%a7%d8%ba%d8%a7%d9%86%d9%8a-%d8%b9%d8%b1%d8%a7%d9%82%d9%8a%d8%a9/\" : \"IRQ\",\n",
    "       \"https://www.lyricsongation.com/kalemat-aghani-saudiya/\" : \"GLF\",\n",
    "       \"https://www.lyricsongation.com/%d9%83%d9%84%d9%85%d8%a7%d8%aa-%d8%a7%d8%ba%d8%a7%d9%86%d9%8a-%d9%83%d9%88%d9%8a%d8%aa%d9%8a%d8%a9/\" : \"GLF\",\n",
    "       \"https://www.lyricsongation.com/%d9%83%d9%84%d9%85%d8%a7%d8%aa-%d8%a7%d8%ba%d8%a7%d9%86%d9%8a-%d8%a7%d9%85%d8%a7%d8%b1%d8%a7%d8%aa%d9%8a%d8%a9/\" : \"GLF\",\n",
    "       \"https://www.lyricsongation.com/%d9%83%d9%84%d9%85%d8%a7%d8%aa-%d8%a7%d8%ba%d8%a7%d9%86%d9%8a-%d8%b9%d9%85%d8%a7%d9%86%d9%8a%d8%a9/\" : \"GLF\",\n",
    "       \"https://www.lyricsongation.com/%d9%83%d9%84%d9%85%d8%a7%d8%aa-%d8%a7%d8%ba%d8%a7%d9%86%d9%8a-%d8%a8%d8%ad%d8%b1%d9%8a%d9%86%d9%8a%d8%a9/\" : \"GLF\",\n",
    "       \"https://www.lyricsongation.com/%d9%83%d9%84%d9%85%d8%a7%d8%aa-%d8%a7%d8%ba%d8%a7%d9%86%d9%8a-%d9%82%d8%b7%d8%b1%d9%8a%d8%a9/\" : \"GLF\",\n",
    "       \"https://www.lyricsongation.com/%d9%83%d9%84%d9%85%d8%a7%d8%aa-%d8%a7%d8%ba%d8%a7%d9%86%d9%8a-%d8%ac%d8%b2%d8%a7%d8%a6%d8%b1%d9%8a%d8%a9/\" : \"NOR\",\n",
    "       \"https://www.lyricsongation.com/%d9%83%d9%84%d9%85%d8%a7%d8%aa-%d8%a7%d8%ba%d8%a7%d9%86%d9%8a-%d9%85%d8%ba%d8%b1%d8%a8%d9%8a%d8%a9/\" : \"NOR\",\n",
    "       \"https://www.lyricsongation.com/%d9%83%d9%84%d9%85%d8%a7%d8%aa-%d8%a7%d8%ba%d8%a7%d9%86%d9%8a-%d8%aa%d9%88%d9%86%d8%b3%d9%8a%d8%a9/\" : \"NOR\",\n",
    "       \"https://www.lyricsongation.com/%d9%83%d9%84%d9%85%d8%a7%d8%aa-%d8%a7%d8%ba%d8%a7%d9%86%d9%8a-%d8%a7%d8%b1%d8%af%d9%86%d9%8a%d8%a9/\": \"LEV\",\n",
    "       \"https://www.lyricsongation.com/%d9%83%d9%84%d9%85%d8%a7%d8%aa-%d8%a7%d8%ba%d8%a7%d9%86%d9%8a-%d8%b3%d9%88%d8%b1%d9%8a%d8%a9/\" : \"LEV\",\n",
    "       \"https://www.lyricsongation.com/%d9%83%d9%84%d9%85%d8%a7%d8%aa-%d8%a7%d8%ba%d8%a7%d9%86%d9%8a-%d9%84%d8%a8%d9%86%d8%a7%d9%86%d9%8a%d8%a9/\" : \"LEV\",\n",
    "       \"https://www.lyricsongation.com/%d9%83%d9%84%d9%85%d8%a7%d8%aa-%d8%a7%d8%ba%d8%a7%d9%86%d9%8a-%d9%81%d9%84%d8%b3%d8%b7%d9%8a%d9%86%d9%8a%d8%a9/\" : \"LEV\",\n",
    "       }\n",
    "\n",
    "for url in URLs:    \n",
    "    page = requests.get(url)\n",
    "    soup = BeautifulSoup(page.content, \"html.parser\")\n",
    "    musics = soup.find_all(class_='listing listing-blog listing-blog-5 clearfix')[0].find_all(class_='featured clearfix')\n",
    "    text_list = []\n",
    "    f = open(f\"{URLs[url]}-music.txt\", \"a\" , encoding=\"utf-8\")\n",
    "    while len(soup.find_all(class_='btn-bs-pagination')) != 0:\n",
    "        for music in musics:\n",
    "            for link in music.find_all('a'):\n",
    "                lyric_page = requests.get(link.get('href'))\n",
    "                lyric_page_soup = BeautifulSoup(lyric_page.content, \"html.parser\")\n",
    "                lyrics = lyric_page_soup.find_all(class_='entry-content clearfix single-post-content')[0].find_all('p')\n",
    "                for tag in lyrics[1:]:\n",
    "                    text = araby.strip_diacritics(tag.get_text())\n",
    "                    text = remove_any_non_arabic_char(text)\n",
    "                    text_list.append(text)\n",
    "                    f.write(f\"{text}\\n\")\n",
    "        page = requests.get(soup.find_all(class_='btn-bs-pagination')[0].get('href'))\n",
    "        print(soup.find_all(class_='btn-bs-pagination')[0].get('href'))\n",
    "        soup = BeautifulSoup(page.content, \"html.parser\")\n",
    "        try:\n",
    "            musics = soup.find_all(class_='listing listing-blog listing-blog-5 clearfix')[0].find_all(class_='featured clearfix')\n",
    "        except:\n",
    "            print(len(text_list), URLs[url])\n",
    "            f.close()  "
   ]
  },
  {
   "cell_type": "code",
   "execution_count": null,
   "id": "1198eb1a",
   "metadata": {},
   "outputs": [],
   "source": [
    "!pip uninstall twint"
   ]
  },
  {
   "cell_type": "code",
   "execution_count": null,
   "id": "89b59ee6",
   "metadata": {},
   "outputs": [],
   "source": [
    "!pip install --user --upgrade git+https://github.com/twintproject/twint.git@origin/master#egg=twint"
   ]
  },
  {
   "cell_type": "code",
   "execution_count": null,
   "id": "37e2cfac",
   "metadata": {},
   "outputs": [],
   "source": [
    "import twint\n",
    "import nest_asyncio\n",
    "nest_asyncio.apply()"
   ]
  },
  {
   "cell_type": "code",
   "execution_count": null,
   "id": "bb8f6d40",
   "metadata": {},
   "outputs": [],
   "source": [
    "c = twint.Config()\n",
    "\n",
    "c.Store_json = True\n",
    "c.Geo = '33.2232,43.6793,400km' \n",
    "c.Limit = 500\n",
    "c.Output = './tweets/tweets.json'\n",
    "\n",
    "twint.run.Search(c)"
   ]
  },
  {
   "cell_type": "code",
   "execution_count": null,
   "id": "a12a99d1",
   "metadata": {},
   "outputs": [],
   "source": [
    "tweets = pd.read_json(\"./tweets/tweets.json\" , lines=True)[\"tweet\"].to_list()"
   ]
  },
  {
   "cell_type": "code",
   "execution_count": null,
   "id": "faefa32b",
   "metadata": {},
   "outputs": [],
   "source": [
    "for tweet in tweets:\n",
    "    print(remove_any_non_arabic_char(tweet))"
   ]
  },
  {
   "cell_type": "code",
   "execution_count": null,
   "id": "45056150",
   "metadata": {},
   "outputs": [],
   "source": [
    "tweets"
   ]
  },
  {
   "cell_type": "code",
   "execution_count": null,
   "id": "4af5a5f7",
   "metadata": {},
   "outputs": [],
   "source": []
  }
 ],
 "metadata": {
  "kernelspec": {
   "display_name": "Python 3",
   "language": "python",
   "name": "python3"
  },
  "language_info": {
   "codemirror_mode": {
    "name": "ipython",
    "version": 3
   },
   "file_extension": ".py",
   "mimetype": "text/x-python",
   "name": "python",
   "nbconvert_exporter": "python",
   "pygments_lexer": "ipython3",
   "version": "3.8.10"
  }
 },
 "nbformat": 4,
 "nbformat_minor": 5
}
