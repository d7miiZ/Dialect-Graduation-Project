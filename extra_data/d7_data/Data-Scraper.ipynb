{
 "cells": [
  {
   "cell_type": "code",
   "execution_count": 1,
   "id": "d5c501ab",
   "metadata": {},
   "outputs": [],
   "source": [
    "import requests\n",
    "from bs4 import BeautifulSoup\n",
    "import pyarabic.araby as araby\n",
    "import re\n",
    "import pandas as pd"
   ]
  },
  {
   "cell_type": "code",
   "execution_count": 2,
   "id": "b43f5573",
   "metadata": {},
   "outputs": [],
   "source": [
    "def remove_any_non_arabic_char(text):\n",
    "    non_arabic_char = re.compile('[^\\s\\\\u0600-\\u06FF]')\n",
    "    text_with_no_spaces = re.sub(non_arabic_char, \"\", text)\n",
    "    text_with_single_spaces = \" \".join(re.split(\"\\s+\", text_with_no_spaces))\n",
    "    return text_with_single_spaces"
   ]
  },
  {
   "cell_type": "markdown",
   "id": "e644f173",
   "metadata": {},
   "source": [
    "# Source 1"
   ]
  },
  {
   "cell_type": "code",
   "execution_count": null,
   "id": "8e47aefd",
   "metadata": {},
   "outputs": [],
   "source": [
    "URLs ={\n",
    "       \"https://www.lyricsongation.com/%d9%83%d9%84%d9%85%d8%a7%d8%aa-%d8%a7%d8%ba%d8%a7%d9%86%d9%8a-%d8%b9%d8%b1%d8%a7%d9%82%d9%8a%d8%a9/\" : \"IRQ\",\n",
    "       \"https://www.lyricsongation.com/kalemat-aghani-saudiya/\" : \"GLF\",\n",
    "       \"https://www.lyricsongation.com/%d9%83%d9%84%d9%85%d8%a7%d8%aa-%d8%a7%d8%ba%d8%a7%d9%86%d9%8a-%d9%83%d9%88%d9%8a%d8%aa%d9%8a%d8%a9/\" : \"GLF\",\n",
    "       \"https://www.lyricsongation.com/%d9%83%d9%84%d9%85%d8%a7%d8%aa-%d8%a7%d8%ba%d8%a7%d9%86%d9%8a-%d8%a7%d9%85%d8%a7%d8%b1%d8%a7%d8%aa%d9%8a%d8%a9/\" : \"GLF\",\n",
    "       \"https://www.lyricsongation.com/%d9%83%d9%84%d9%85%d8%a7%d8%aa-%d8%a7%d8%ba%d8%a7%d9%86%d9%8a-%d8%b9%d9%85%d8%a7%d9%86%d9%8a%d8%a9/\" : \"GLF\",\n",
    "       \"https://www.lyricsongation.com/%d9%83%d9%84%d9%85%d8%a7%d8%aa-%d8%a7%d8%ba%d8%a7%d9%86%d9%8a-%d8%a8%d8%ad%d8%b1%d9%8a%d9%86%d9%8a%d8%a9/\" : \"GLF\",\n",
    "       \"https://www.lyricsongation.com/%d9%83%d9%84%d9%85%d8%a7%d8%aa-%d8%a7%d8%ba%d8%a7%d9%86%d9%8a-%d9%82%d8%b7%d8%b1%d9%8a%d8%a9/\" : \"GLF\",\n",
    "       \"https://www.lyricsongation.com/%d9%83%d9%84%d9%85%d8%a7%d8%aa-%d8%a7%d8%ba%d8%a7%d9%86%d9%8a-%d8%ac%d8%b2%d8%a7%d8%a6%d8%b1%d9%8a%d8%a9/\" : \"NOR\",\n",
    "       \"https://www.lyricsongation.com/%d9%83%d9%84%d9%85%d8%a7%d8%aa-%d8%a7%d8%ba%d8%a7%d9%86%d9%8a-%d9%85%d8%ba%d8%b1%d8%a8%d9%8a%d8%a9/\" : \"NOR\",\n",
    "       \"https://www.lyricsongation.com/%d9%83%d9%84%d9%85%d8%a7%d8%aa-%d8%a7%d8%ba%d8%a7%d9%86%d9%8a-%d8%aa%d9%88%d9%86%d8%b3%d9%8a%d8%a9/\" : \"NOR\",\n",
    "       \"https://www.lyricsongation.com/%d9%83%d9%84%d9%85%d8%a7%d8%aa-%d8%a7%d8%ba%d8%a7%d9%86%d9%8a-%d8%a7%d8%b1%d8%af%d9%86%d9%8a%d8%a9/\": \"LEV\",\n",
    "       \"https://www.lyricsongation.com/%d9%83%d9%84%d9%85%d8%a7%d8%aa-%d8%a7%d8%ba%d8%a7%d9%86%d9%8a-%d8%b3%d9%88%d8%b1%d9%8a%d8%a9/\" : \"LEV\",\n",
    "       \"https://www.lyricsongation.com/%d9%83%d9%84%d9%85%d8%a7%d8%aa-%d8%a7%d8%ba%d8%a7%d9%86%d9%8a-%d9%84%d8%a8%d9%86%d8%a7%d9%86%d9%8a%d8%a9/\" : \"LEV\",\n",
    "       \"https://www.lyricsongation.com/%d9%83%d9%84%d9%85%d8%a7%d8%aa-%d8%a7%d8%ba%d8%a7%d9%86%d9%8a-%d9%81%d9%84%d8%b3%d8%b7%d9%8a%d9%86%d9%8a%d8%a9/\" : \"LEV\",\n",
    "       }\n",
    "\n",
    "for url in URLs:    \n",
    "    page = requests.get(url)\n",
    "    soup = BeautifulSoup(page.content, \"html.parser\")\n",
    "    musics = soup.find_all(class_='listing listing-blog listing-blog-5 clearfix')[0].find_all(class_='featured clearfix')\n",
    "    text_list = []\n",
    "    f = open(f\"{URLs[url]}-music.txt\", \"a\" , encoding=\"utf-8\")\n",
    "    while len(soup.find_all(class_='btn-bs-pagination')) != 0:\n",
    "        for music in musics:\n",
    "            for link in music.find_all('a'):\n",
    "                lyric_page = requests.get(link.get('href'))\n",
    "                lyric_page_soup = BeautifulSoup(lyric_page.content, \"html.parser\")\n",
    "                lyrics = lyric_page_soup.find_all(class_='entry-content clearfix single-post-content')[0].find_all('p')\n",
    "                for tag in lyrics[1:]:\n",
    "                    text = araby.strip_diacritics(tag.get_text())\n",
    "                    text = remove_any_non_arabic_char(text)\n",
    "                    text_list.append(text)\n",
    "                    f.write(f\"{text}\\n\")\n",
    "        page = requests.get(soup.find_all(class_='btn-bs-pagination')[0].get('href'))\n",
    "        print(soup.find_all(class_='btn-bs-pagination')[0].get('href'))\n",
    "        soup = BeautifulSoup(page.content, \"html.parser\")\n",
    "        try:\n",
    "            musics = soup.find_all(class_='listing listing-blog listing-blog-5 clearfix')[0].find_all(class_='featured clearfix')\n",
    "        except:\n",
    "            print(len(text_list), URLs[url])\n",
    "            f.close()  "
   ]
  },
  {
   "cell_type": "code",
   "execution_count": null,
   "id": "1198eb1a",
   "metadata": {},
   "outputs": [],
   "source": [
    "!pip uninstall twint"
   ]
  },
  {
   "cell_type": "code",
   "execution_count": null,
   "id": "89b59ee6",
   "metadata": {},
   "outputs": [],
   "source": [
    "!pip install --user --upgrade git+https://github.com/twintproject/twint.git@origin/master#egg=twint"
   ]
  },
  {
   "cell_type": "code",
   "execution_count": 3,
   "id": "37e2cfac",
   "metadata": {},
   "outputs": [],
   "source": [
    "import twint\n",
    "import nest_asyncio\n",
    "nest_asyncio.apply()"
   ]
  },
  {
   "cell_type": "code",
   "execution_count": null,
   "id": "bb8f6d40",
   "metadata": {},
   "outputs": [],
   "source": [
    "c = twint.Config()\n",
    "\n",
    "c.Store_json = True\n",
    "c.Geo = '33.2232,43.6793,400km' \n",
    "c.Output = './tweets/tweets.json'\n",
    "\n",
    "twint.run.Search(c)"
   ]
  },
  {
   "cell_type": "code",
   "execution_count": 6,
   "id": "a12a99d1",
   "metadata": {},
   "outputs": [],
   "source": [
    "tweeets_df = pd.read_json(\"./tweets/tweets.json\" , lines=True)[\"tweet\"]\n",
    "tweets = pd.read_json(\"./tweets/tweets.json\" , lines=True)[\"tweet\"].to_list()"
   ]
  },
  {
   "cell_type": "code",
   "execution_count": 19,
   "id": "a27d67cf",
   "metadata": {},
   "outputs": [],
   "source": [
    "tweeets_df = tweeets_df[tweeets_df != \" \"]"
   ]
  },
  {
   "cell_type": "code",
   "execution_count": 20,
   "id": "72504d95",
   "metadata": {},
   "outputs": [
    {
     "data": {
      "text/plain": [
       "181960"
      ]
     },
     "execution_count": 20,
     "metadata": {},
     "output_type": "execute_result"
    }
   ],
   "source": [
    "len(tweeets_df)"
   ]
  },
  {
   "cell_type": "code",
   "execution_count": 21,
   "id": "633135c6",
   "metadata": {},
   "outputs": [],
   "source": [
    "tweeets_df = tweeets_df.apply(remove_any_non_arabic_char)"
   ]
  },
  {
   "cell_type": "code",
   "execution_count": 25,
   "id": "89e8eb08",
   "metadata": {},
   "outputs": [
    {
     "name": "stdout",
     "output_type": "stream",
     "text": [
      "من النعم الي الله انعم علي فيها اني صرت الاخو الكبير ، وعسى الله يجعلني خير اخ وسند \n",
      " الان چیپسه چقد براتون تموم شد؟؟؟\n",
      " الصدق والوفاء \n",
      " نجاح رونالدو مع الفريق هذي ما فيه شك المشكله في المدرب اقل بوايد من انه يكون مدرب للاعبين بهذي الجوده\n",
      " اتفق من الصبح\n",
      "حلببب ام ام الاغنيه و ما زال الحلب مستمر\n",
      " ههههههههههههههههه باع مو وجه نعمة والله صوجي هوا هذا الي يثخنها وية الخوات\n",
      " رحمه على والديك انت منيلك الاسرار\n",
      " كيف الحال\n",
      " قال ابن القيم ولأهل الجهاد في هذا من الهداية والكشف ماليس لأهل المجاهدة وقال الأوزاعي وابن المبارك إذا اختلف الناس في شيء فانظروا ما عليه أهل الثغر يعني أهل الجهاد قال تعالى والَّذِينَ جاهدُوا فِينَا لَنَهدِيَنَّهُمْ سُبُلَنَا وإِنَّ اللَّهَ لمع المُحسنِينَ\n",
      " سعی میکنم\n",
      "كـٰٓــؤدخٓـٓصٰٓــمــ نمشي \n",
      " فديتج مروه خوش ترضعين\n",
      "شسالفه مشاعر الليل مشتغلة من الظهر للان \n",
      " صباح الرضا\n",
      " ههههههههههههههههههههههههههههههههههههههههههههههههههههههههههههههه صارت\n",
      " از محسن رضایی بپرسین\n",
      " خذوني معاكم \n",
      "يصير ما يجي يوم الأحد ولا السبوع بكبره يصير نسوي له سكيب ؟ من الحين اني تعبانة \n",
      "لا تتحدى جبروتي في التخلي أنا أَفلت في عز تعلقي ولا ألتفت أنا أنهيك ولو كان إنهاؤك شيئًا من إنهائي أنا أتجاوزك ولو كان في ذلك تجاوزاً لسعادتي أنا أفعل أي شيءٍ في سبيل ذاتي فلا تُراهن ِ\n",
      " کی گفته عالم محضر خداست،یادتون باشه با یه ادم که بی دینه بحث میکنی\n",
      " تضحكين وياها قصدج ههه\n",
      " مساك الورد يا الامير \n",
      " ادم میمونه چی بگه\n",
      "يا ليت تمددون الاجازة اسبوعين بعد ما شبعنا\n",
      " ههههههه معلومه خاطئه جدا وغريبه\n",
      " في طريقه ان تذاكرين عشرين دقيقه وتاخذين بريك خمس دقايق لمدة ساعه بس بصراحه ما عرفت لان تخلص العشرين وانا في نقطه مهمه اقول بخلصها واصير ااجل واسحب على امها\n",
      " اغنيييه اكسووو بشكل عام باصوات اكسوووووو\n",
      " الماطور كتال صاحبه\n",
      "الكاظميالفقرهقانون ٦\n"
     ]
    }
   ],
   "source": [
    "for tweet in tweeets_df.sample(30):\n",
    "    print(tweet)"
   ]
  },
  {
   "cell_type": "code",
   "execution_count": null,
   "id": "faefa32b",
   "metadata": {},
   "outputs": [],
   "source": [
    "for tweet in tweets:\n",
    "    print(remove_any_non_arabic_char(tweet))"
   ]
  },
  {
   "cell_type": "code",
   "execution_count": null,
   "id": "4af5a5f7",
   "metadata": {},
   "outputs": [],
   "source": []
  }
 ],
 "metadata": {
  "kernelspec": {
   "display_name": "Python 3",
   "language": "python",
   "name": "python3"
  },
  "language_info": {
   "codemirror_mode": {
    "name": "ipython",
    "version": 3
   },
   "file_extension": ".py",
   "mimetype": "text/x-python",
   "name": "python",
   "nbconvert_exporter": "python",
   "pygments_lexer": "ipython3",
   "version": "3.8.10"
  }
 },
 "nbformat": 4,
 "nbformat_minor": 5
}
