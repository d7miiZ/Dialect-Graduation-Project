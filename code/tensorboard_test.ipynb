{
 "cells": [
  {
   "cell_type": "code",
   "execution_count": 1,
   "metadata": {},
   "outputs": [
    {
     "name": "stdout",
     "output_type": "stream",
     "text": [
      "Requirement already satisfied: torch in c:\\users\\abdul\\anaconda3\\lib\\site-packages (1.9.0+cu111)\n",
      "Requirement already satisfied: torchvision in c:\\users\\abdul\\anaconda3\\lib\\site-packages (0.10.0+cu111)\n",
      "Requirement already satisfied: typing-extensions in c:\\users\\abdul\\anaconda3\\lib\\site-packages (from torch) (3.7.4.3)\n",
      "Requirement already satisfied: pillow>=5.3.0 in c:\\users\\abdul\\anaconda3\\lib\\site-packages (from torchvision) (8.2.0)\n",
      "Requirement already satisfied: numpy in c:\\users\\abdul\\appdata\\roaming\\python\\python38\\site-packages (from torchvision) (1.19.5)\n"
     ]
    }
   ],
   "source": [
    "!pip install torch torchvision"
   ]
  },
  {
   "cell_type": "code",
   "execution_count": 3,
   "metadata": {},
   "outputs": [],
   "source": [
    "import torch\n",
    "from torch.utils.tensorboard import SummaryWriter\n",
    "import os\n",
    "os.environ['TF_CPP_MIN_LOG_LEVEL'] = '3' \n",
    "writer = SummaryWriter()"
   ]
  },
  {
   "cell_type": "code",
   "execution_count": 4,
   "metadata": {},
   "outputs": [],
   "source": [
    "x = torch.arange(-5, 5, 0.1).view(-1, 1)\n",
    "y = -5 * x + 0.1 * torch.randn(x.size())\n",
    "\n",
    "model = torch.nn.Linear(1, 1)\n",
    "criterion = torch.nn.MSELoss()\n",
    "optimizer = torch.optim.SGD(model.parameters(), lr = 0.1)\n",
    "\n",
    "def train_model(iter):\n",
    "    for epoch in range(iter):\n",
    "        y1 = model(x)\n",
    "        loss = criterion(y1, y)\n",
    "        writer.add_scalar(\"Loss/train\", loss, epoch)\n",
    "        optimizer.zero_grad()\n",
    "        loss.backward()\n",
    "        optimizer.step()\n",
    "\n",
    "train_model(10)\n",
    "writer.flush()"
   ]
  },
  {
   "cell_type": "code",
   "execution_count": 5,
   "metadata": {},
   "outputs": [],
   "source": [
    "writer.close()"
   ]
  },
  {
   "cell_type": "code",
   "execution_count": 2,
   "metadata": {},
   "outputs": [
    {
     "name": "stdout",
     "output_type": "stream",
     "text": [
      "Requirement already satisfied: tensorboard in c:\\softwarez\\anaconda\\lib\\site-packages (1.15.0)\n",
      "Requirement already satisfied: six>=1.10.0 in c:\\softwarez\\anaconda\\lib\\site-packages (from tensorboard) (1.15.0)\n",
      "Requirement already satisfied: absl-py>=0.4 in c:\\softwarez\\anaconda\\lib\\site-packages (from tensorboard) (0.13.0)\n",
      "Requirement already satisfied: grpcio>=1.6.3 in c:\\softwarez\\anaconda\\lib\\site-packages (from tensorboard) (1.31.0)\n",
      "Requirement already satisfied: wheel>=0.26; python_version >= \"3\" in c:\\softwarez\\anaconda\\lib\\site-packages (from tensorboard) (0.35.1)\n",
      "Requirement already satisfied: markdown>=2.6.8 in c:\\softwarez\\anaconda\\lib\\site-packages (from tensorboard) (3.3.4)\n",
      "Requirement already satisfied: werkzeug>=0.11.15 in c:\\softwarez\\anaconda\\lib\\site-packages (from tensorboard) (1.0.1)\n",
      "Requirement already satisfied: protobuf>=3.6.0 in c:\\softwarez\\anaconda\\lib\\site-packages (from tensorboard) (3.17.2)\n",
      "Requirement already satisfied: setuptools>=41.0.0 in c:\\softwarez\\anaconda\\lib\\site-packages (from tensorboard) (50.3.1.post20201107)\n",
      "Requirement already satisfied: numpy>=1.12.0 in c:\\softwarez\\anaconda\\lib\\site-packages (from tensorboard) (1.19.2)\n",
      "Note: you may need to restart the kernel to use updated packages.\n"
     ]
    }
   ],
   "source": [
    "%pip install tensorboard"
   ]
  },
  {
   "cell_type": "code",
   "execution_count": null,
   "metadata": {},
   "outputs": [],
   "source": [
    "!tensorboard --logdir=runs"
   ]
  },
  {
   "cell_type": "code",
   "execution_count": null,
   "metadata": {},
   "outputs": [],
   "source": []
  }
 ],
 "metadata": {
  "kernelspec": {
   "display_name": "Python 3",
   "language": "python",
   "name": "python3"
  },
  "language_info": {
   "codemirror_mode": {
    "name": "ipython",
    "version": 3
   },
   "file_extension": ".py",
   "mimetype": "text/x-python",
   "name": "python",
   "nbconvert_exporter": "python",
   "pygments_lexer": "ipython3",
   "version": "3.8.5"
  }
 },
 "nbformat": 4,
 "nbformat_minor": 5
}
