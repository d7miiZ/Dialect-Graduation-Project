{
 "cells": [
  {
   "cell_type": "markdown",
   "metadata": {},
   "source": [
    "# Import Libs"
   ]
  },
  {
   "cell_type": "code",
   "execution_count": null,
   "metadata": {},
   "outputs": [],
   "source": [
    "import sys\n",
    "import os\n",
    "sys.path.append(os.path.dirname(os.path.realpath(\"\")))"
   ]
  },
  {
   "cell_type": "code",
   "execution_count": 3,
   "metadata": {},
   "outputs": [],
   "source": [
    "import pandas as pd\n",
    "from utilities import *"
   ]
  },
  {
   "cell_type": "markdown",
   "metadata": {},
   "source": [
    "# Test Lexicon"
   ]
  },
  {
   "cell_type": "code",
   "execution_count": 7,
   "metadata": {},
   "outputs": [],
   "source": [
    "egy_joy = [ \"تزغرط\", \"هيرضى\", \"تمزحو\", \"احباب\", \"هنولع\", \"هتستمتع\", \"هفرح\", \"هتضحك\", \"مريحني\"]\n",
    "glf_joy = [ \"ينحب\", \"ماقصرت\", \"سالخير\", \"مشكور\", \"لاهنتوا\", \"عقبالك\", \"يهنيكم\", \"نكتة\"]"
   ]
  },
  {
   "cell_type": "markdown",
   "metadata": {},
   "source": [
    "## Annotated Dataset"
   ]
  },
  {
   "cell_type": "code",
   "execution_count": 5,
   "metadata": {},
   "outputs": [
    {
     "data": {
      "text/html": [
       "<div>\n",
       "<style scoped>\n",
       "    .dataframe tbody tr th:only-of-type {\n",
       "        vertical-align: middle;\n",
       "    }\n",
       "\n",
       "    .dataframe tbody tr th {\n",
       "        vertical-align: top;\n",
       "    }\n",
       "\n",
       "    .dataframe thead th {\n",
       "        text-align: right;\n",
       "    }\n",
       "</style>\n",
       "<table border=\"1\" class=\"dataframe\">\n",
       "  <thead>\n",
       "    <tr style=\"text-align: right;\">\n",
       "      <th></th>\n",
       "      <th>Region</th>\n",
       "      <th>Text</th>\n",
       "    </tr>\n",
       "  </thead>\n",
       "  <tbody>\n",
       "    <tr>\n",
       "      <th>2</th>\n",
       "      <td>EGY</td>\n",
       "      <td>والله الاخلاق في ها الزمن ضاعت وصارت النساء مث...</td>\n",
       "    </tr>\n",
       "    <tr>\n",
       "      <th>3</th>\n",
       "      <td>EGY</td>\n",
       "      <td>بصراحة الوحدات الان بدفع ثمن تفريطو بأكثر من ل...</td>\n",
       "    </tr>\n",
       "    <tr>\n",
       "      <th>4</th>\n",
       "      <td>EGY</td>\n",
       "      <td>الكل ضد المارد الاخضر الجميع فرحان بخساره الوح...</td>\n",
       "    </tr>\n",
       "    <tr>\n",
       "      <th>5</th>\n",
       "      <td>EGY</td>\n",
       "      <td>واحد جاي</td>\n",
       "    </tr>\n",
       "    <tr>\n",
       "      <th>6</th>\n",
       "      <td>EGY</td>\n",
       "      <td>بالتوفيق لأحلى رنووووووش بالدنياتستاهل كل خير ...</td>\n",
       "    </tr>\n",
       "    <tr>\n",
       "      <th>...</th>\n",
       "      <td>...</td>\n",
       "      <td>...</td>\n",
       "    </tr>\n",
       "    <tr>\n",
       "      <th>6510</th>\n",
       "      <td>NOR</td>\n",
       "      <td>ارحمونا منه لينا 6 سنين ماشفناهوش وكتر خيرو عم...</td>\n",
       "    </tr>\n",
       "    <tr>\n",
       "      <th>6511</th>\n",
       "      <td>NOR</td>\n",
       "      <td>لكنه و كافة المعارضة يعرفون ان يلعبون فى النار.</td>\n",
       "    </tr>\n",
       "    <tr>\n",
       "      <th>6512</th>\n",
       "      <td>NOR</td>\n",
       "      <td>نبقى وحيد و يقضي عليك</td>\n",
       "    </tr>\n",
       "    <tr>\n",
       "      <th>6513</th>\n",
       "      <td>NOR</td>\n",
       "      <td>أنمد عدونا بالغاز</td>\n",
       "    </tr>\n",
       "    <tr>\n",
       "      <th>6514</th>\n",
       "      <td>NOR</td>\n",
       "      <td>انشاء الله يتحد البرادعي و الاخوان المسلمون و ...</td>\n",
       "    </tr>\n",
       "  </tbody>\n",
       "</table>\n",
       "<p>26804 rows × 2 columns</p>\n",
       "</div>"
      ],
      "text/plain": [
       "     Region                                               Text\n",
       "2       EGY  والله الاخلاق في ها الزمن ضاعت وصارت النساء مث...\n",
       "3       EGY  بصراحة الوحدات الان بدفع ثمن تفريطو بأكثر من ل...\n",
       "4       EGY  الكل ضد المارد الاخضر الجميع فرحان بخساره الوح...\n",
       "5       EGY                                           واحد جاي\n",
       "6       EGY  بالتوفيق لأحلى رنووووووش بالدنياتستاهل كل خير ...\n",
       "...     ...                                                ...\n",
       "6510    NOR  ارحمونا منه لينا 6 سنين ماشفناهوش وكتر خيرو عم...\n",
       "6511    NOR    لكنه و كافة المعارضة يعرفون ان يلعبون فى النار.\n",
       "6512    NOR                              نبقى وحيد و يقضي عليك\n",
       "6513    NOR                                  أنمد عدونا بالغاز\n",
       "6514    NOR  انشاء الله يتحد البرادعي و الاخوان المسلمون و ...\n",
       "\n",
       "[26804 rows x 2 columns]"
      ]
     },
     "execution_count": 5,
     "metadata": {},
     "output_type": "execute_result"
    }
   ],
   "source": [
    "df = get_annotated_data_folder_data(\"..\")\n",
    "df"
   ]
  },
  {
   "cell_type": "code",
   "execution_count": null,
   "metadata": {},
   "outputs": [],
   "source": []
  }
 ],
 "metadata": {
  "interpreter": {
   "hash": "04bf7c5048c44052f72b8bf37baf02c4a3c1f9aba82796c3f014f38260524f40"
  },
  "kernelspec": {
   "display_name": "Python 3.9.12 64-bit (windows store)",
   "language": "python",
   "name": "python3"
  },
  "language_info": {
   "codemirror_mode": {
    "name": "ipython",
    "version": 3
   },
   "file_extension": ".py",
   "mimetype": "text/x-python",
   "name": "python",
   "nbconvert_exporter": "python",
   "pygments_lexer": "ipython3",
   "version": "3.8.11"
  },
  "orig_nbformat": 4
 },
 "nbformat": 4,
 "nbformat_minor": 2
}
