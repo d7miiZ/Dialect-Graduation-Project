{
 "cells": [
  {
   "cell_type": "code",
   "execution_count": null,
   "metadata": {},
   "outputs": [
    {
     "ename": "Error",
     "evalue": "Session cannot generate requests",
     "output_type": "error",
     "traceback": [
      "Error: Session cannot generate requests",
      "at w.executeCodeCell (c:\\Users\\mohnd\\.vscode\\extensions\\ms-toolsai.jupyter-2021.8.2031187289\\out\\client\\extension.js:54:361777)",
      "at w.execute (c:\\Users\\mohnd\\.vscode\\extensions\\ms-toolsai.jupyter-2021.8.2031187289\\out\\client\\extension.js:54:361078)",
      "at w.start (c:\\Users\\mohnd\\.vscode\\extensions\\ms-toolsai.jupyter-2021.8.2031187289\\out\\client\\extension.js:54:356725)",
      "at runMicrotasks (<anonymous>)",
      "at processTicksAndRejections (internal/process/task_queues.js:93:5)",
      "at async t.CellExecutionQueue.executeQueuedCells (c:\\Users\\mohnd\\.vscode\\extensions\\ms-toolsai.jupyter-2021.8.2031187289\\out\\client\\extension.js:54:371647)",
      "at async t.CellExecutionQueue.start (c:\\Users\\mohnd\\.vscode\\extensions\\ms-toolsai.jupyter-2021.8.2031187289\\out\\client\\extension.js:54:371187)"
     ]
    }
   ],
   "source": [
    "import logging\n",
    "import json\n",
    "import gc\n",
    "from os import system\n",
    "from glob import glob\n",
    "from os.path import join\n",
    "from pickle import dump, load\n",
    "from datetime import datetime\n",
    "from collections import namedtuple\n",
    "\n",
    "\n",
    "import numpy as np\n",
    "import pandas as pd\n",
    "import plotly.express as px\n",
    "import matplotlib.pyplot as plt\n",
    "from sklearn.preprocessing import OneHotEncoder\n",
    "from sklearn.model_selection import train_test_split\n",
    "from sklearn.metrics import classification_report, accuracy_score, f1_score, confusion_matrix, precision_score , recall_score\n",
    "import torch\n",
    "import torch.nn as nn\n",
    "import torch.nn.functional as F\n",
    "import torch.optim as optim\n",
    "from torch.utils.data import DataLoader\n",
    "import transformers\n",
    "from transformers import Trainer, TrainingArguments\n",
    "from transformers.integrations import TensorBoardCallback\n",
    "from transformers.trainer_utils import EvaluationStrategy\n",
    "from transformers.data.processors.utils import InputFeatures\n",
    "from transformers.data.processors import SingleSentenceClassificationProcessor\n",
    "from transformers import AutoModel, AutoConfig, AutoModelForSequenceClassification, AutoTokenizer, BertTokenizer, EarlyStoppingCallback, BatchEncoding\n",
    "import optuna \n",
    "\n",
    "from arabert.preprocess import ArabertPreprocessor\n",
    "\n",
    "import tensorboard_analysis \n",
    "from utilities import *"
   ]
  },
  {
   "cell_type": "markdown",
   "metadata": {},
   "source": [
    "# Parameters"
   ]
  },
  {
   "cell_type": "code",
   "execution_count": null,
   "metadata": {},
   "outputs": [],
   "source": [
    "# Config\n",
    "seed: int = 1\n",
    "\n",
    "# Data \n",
    "data_proportion: float = 1.0 # propotion of data to be loaded in df\n",
    "load_data: bool = False \n",
    "save_data: bool = False\n",
    "test_validation_proportion: float = 0.013 # test and validation proportion from df\n",
    "\n",
    "# Model \n",
    "model_name = \"aubmindlab/bert-large-arabertv2\"\n",
    "from_pretrained_classifier: bool = False\n",
    "pretrained_classifier_name: str = \"2021-12-05-train-0.898193359375\"\n",
    "    \n",
    "# Preprocessing \n",
    "sequence_length: int = 32\n",
    "tokenize_in_batches: bool = False # Helps reduce memory footprint\n",
    "\n",
    "# Paths\n",
    "code_folder_path: str = \"\"\n",
    "\n",
    "# Training \n",
    "validation_size: int = 4096\n",
    "batch_size: int = 64\n",
    "learning_rate: float = 1e-5\n",
    "epochs: int = 4\n",
    "warmup_ratio: float = 0.2\n",
    "save_model_while_training: bool = True # maybe doesn't work, transformers is terrible\n",
    "do_warmup: bool = True\n",
    "eval_while_training: bool = True # maybe doesn't work, transformers is terrible\n",
    "save_model_after_finish: bool = True # maybe doesn't work, transformers is terrible\n",
    "\n",
    "# Etc\n",
    "open_tensorboard: bool = True"
   ]
  },
  {
   "cell_type": "markdown",
   "metadata": {},
   "source": [
    "## Don't touch "
   ]
  },
  {
   "cell_type": "code",
   "execution_count": null,
   "metadata": {},
   "outputs": [],
   "source": [
    "gc.collect()\n",
    "torch.cuda.empty_cache()"
   ]
  },
  {
   "cell_type": "code",
   "execution_count": null,
   "metadata": {},
   "outputs": [],
   "source": [
    "# Config\n",
    "device = torch.device(\"cuda\")\n",
    "logger = logging.getLogger(__name__)\n",
    "logger.setLevel(logging.ERROR)\n",
    "logging.disable(logging.WARNING)\n",
    "\n",
    "# General\n",
    "date = str(datetime.today().date())\n",
    "\n",
    "# Data\n",
    "labels = [\"EGY\", \"GLF\", \"IRQ\", \"LEV\", \"NOR\"]\n",
    "\n",
    "# Preprocessing\n",
    "arabert_prep = ArabertPreprocessor(model_name)\n",
    "tokenizer = AutoTokenizer.from_pretrained(model_name)\n",
    "\n",
    "# Model \n",
    "if from_pretrained_classifier:\n",
    "    pretrained_classifier_path = join(code_folder_path, \"models\", \"finalized_models\", pretrained_classifier_name)\n",
    "    pretrained_classifier = AutoModelForSequenceClassification.from_pretrained(pretrained_classifier_path)\n",
    "\n",
    "# Paths\n",
    "train_path= f\"./models/{date}-train\"\n",
    "search_path = f\"./models/{date}-search\"\n",
    "dataset_string = \"{}_dataset-seqlen\" + str(sequence_length)\n"
   ]
  },
  {
   "cell_type": "code",
   "execution_count": null,
   "metadata": {},
   "outputs": [],
   "source": [
    "assert 0 < data_proportion <= 1, \"data_proportion must be right side inclusively between 0 and 1\"\n",
    "assert 0 <= warmup_ratio <= 1, \"warmup_ratio must be inclusively between 0 and 1\"\n",
    "assert 0 < test_validation_proportion < 1, \"test_validation_proportion must be exclusively between 0 and 1\"\n",
    "assert 0 < sequence_length, \"sequence_length must be positive\"\n",
    "assert 0 < epochs, \"epochs must be positive\"\n",
    "assert 0 < batch_size, \"batch_size must be positive\"\n",
    "assert 0 < validation_size, \"validation_size must be positive\"\n"
   ]
  },
  {
   "cell_type": "markdown",
   "metadata": {},
   "source": [
    "# Data (loading, preprocessing, tokenizing)"
   ]
  },
  {
   "cell_type": "code",
   "execution_count": null,
   "metadata": {},
   "outputs": [
    {
     "name": "stdout",
     "output_type": "stream",
     "text": [
      "Wall time: 4.85 s\n"
     ]
    }
   ],
   "source": [
    "%%time\n",
    "# Date to dataframe ~(2.9 s)\n",
    "df = get_SMADC_folder_data(code_folder_path)\n",
    "df = df.sample(frac=data_proportion)\n",
    "\n",
    "# Encode Y ~(307 ms)\n",
    "classes = df[\"Region\"].unique()\n",
    "num_labels = len(classes)\n",
    "class_to_index = {class_:index for class_, index in zip(classes, range(len(classes)))}\n",
    "index_to_class = {index:class_ for class_, index in zip(classes, range(len(classes)))}\n",
    "df[\"Labels\"] = df[\"Region\"].apply(class_to_index.get)"
   ]
  },
  {
   "cell_type": "markdown",
   "metadata": {},
   "source": [
    "### Further preprocessing"
   ]
  },
  {
   "cell_type": "code",
   "execution_count": null,
   "metadata": {},
   "outputs": [],
   "source": [
    "if not load_data:\n",
    "    # Preprocess X ~(16min 22s)\n",
    "    df[\"Text\"] = df[\"Text\"].apply(arabert_prep.preprocess)\n",
    "\n",
    "    # split and ~(323ms)\n",
    "    train, test = train_test_split(df, test_size=test_validation_proportion, random_state=seed)\n",
    "    validate, test = train_test_split(test, test_size=len(test)-validation_size, random_state=seed)\n",
    "    train.reset_index(drop=True, inplace=True)\n",
    "    validate.reset_index(drop=True, inplace=True)\n",
    "    test.reset_index(drop=True, inplace=True)\n",
    "\n",
    "    # Tokenize\n",
    "    if tokenize_in_batches:\n",
    "        validate_encoding = batch_tokenize(tokenizer, validate[\"Text\"], 10, sequence_length)\n",
    "        test_encoding = batch_tokenize(tokenizer, test[\"Text\"], 100, sequence_length)\n",
    "        train_encoding = batch_tokenize(tokenizer, train[\"Text\"], 500, sequence_length)\n",
    "    else:\n",
    "        validate_encoding = tokenize(tokenizer, validate[\"Text\"].to_list(), sequence_length)\n",
    "        test_encoding = tokenize(tokenizer, test[\"Text\"].to_list(), sequence_length)\n",
    "        train_encoding = tokenize(tokenizer, list(train[\"Text\"]), sequence_length)\n",
    "\n",
    "    # Make Dataset \n",
    "    validate_dataset = Dialect_dataset(validate_encoding, validate[\"Labels\"].to_list())\n",
    "    test_dataset = Dialect_dataset(test_encoding, test[\"Labels\"].to_list())\n",
    "    train_dataset = Dialect_dataset(train_encoding, train[\"Labels\"].to_list())"
   ]
  },
  {
   "cell_type": "markdown",
   "metadata": {},
   "source": [
    "# Save & load preprocessed data"
   ]
  },
  {
   "cell_type": "code",
   "execution_count": null,
   "metadata": {},
   "outputs": [],
   "source": [
    "if save_data:\n",
    "    save_preprocessed_data(validate_dataset, \"preprocessed_validation\")\n",
    "    save_preprocessed_data(test_dataset, \"preprocessed_test\")\n",
    "    save_preprocessed_data(train_dataset, \"preprocessed_train\")\n",
    "\n",
    "if load_data:\n",
    "    # ~(3mins)\n",
    "    validate_dataset = load_preprocessed_data(\"preprocessed_validation\")\n",
    "    test_dataset = load_preprocessed_data(\"preprocessed_test\")\n",
    "    train_dataset = load_preprocessed_data(\"preprocessed_train\")"
   ]
  },
  {
   "cell_type": "markdown",
   "metadata": {},
   "source": [
    "# Training"
   ]
  },
  {
   "cell_type": "code",
   "execution_count": null,
   "metadata": {},
   "outputs": [],
   "source": [
    "training_args = generate_training_args(\n",
    "                    train_path, epochs=epochs, do_warmup=do_warmup, warmup_ratio=warmup_ratio, \n",
    "                    save_model=save_model_while_training, eval_while_training=eval_while_training, \n",
    "                    learning_rate=learning_rate,batch_size=batch_size, \n",
    "                    train_dataset_length=len(train_dataset), seed=seed\n",
    "                    )"
   ]
  },
  {
   "cell_type": "markdown",
   "metadata": {},
   "source": [
    "# Begin train"
   ]
  },
  {
   "cell_type": "code",
   "execution_count": null,
   "metadata": {},
   "outputs": [],
   "source": [
    "if from_pretrained_classifier:\n",
    "    trainer = Trainer(\n",
    "    pretrained_classifier,\n",
    "    args=training_args,\n",
    "    train_dataset=train_dataset,\n",
    "    eval_dataset=validate_dataset,\n",
    "    compute_metrics=compute_metrics,\n",
    "    callbacks=[EarlyStoppingCallback(early_stopping_patience=3), TensorBoardCallback()]\n",
    "    )\n",
    "else:\n",
    "    trainer = Trainer(\n",
    "        model_init=lambda:model_init(model_name, len(classes), label2id=class_to_index, id2label=index_to_class),\n",
    "        args=training_args,\n",
    "        train_dataset=train_dataset,\n",
    "        eval_dataset=validate_dataset,\n",
    "        compute_metrics=compute_metrics,\n",
    "        callbacks=[EarlyStoppingCallback(early_stopping_patience=3), TensorBoardCallback()]\n",
    "    )"
   ]
  },
  {
   "cell_type": "code",
   "execution_count": null,
   "metadata": {},
   "outputs": [
    {
     "name": "stdout",
     "output_type": "stream",
     "text": [
      "Tensorflow listening on http://localhost:6006/\n"
     ]
    }
   ],
   "source": [
    "if open_tensorboard:\n",
    "    from tensorboard import program\n",
    "    tb = program.TensorBoard()\n",
    "    tb.configure(argv=[None, '--logdir', join(code_folder_path, f\"models\")])\n",
    "    print(f\"Tensorflow listening on {tb.launch()}\")"
   ]
  },
  {
   "cell_type": "code",
   "execution_count": null,
   "metadata": {
    "collapsed": true,
    "jupyter": {
     "outputs_hidden": true
    }
   },
   "outputs": [
    {
     "name": "stderr",
     "output_type": "stream",
     "text": [
      " 12%|█▏        | 10000/86888 [1:13:27<9:21:08,  2.28it/s]"
     ]
    },
    {
     "name": "stdout",
     "output_type": "stream",
     "text": [
      "{'loss': 0.7872, 'learning_rate': 5.7484692233322605e-06, 'epoch': 0.46}\n"
     ]
    },
    {
     "name": "stderr",
     "output_type": "stream",
     "text": [
      "ERROR:tensorboard:File models\\2022-03-28-train\\runs\\Mar28_02-36-09_At-Low-desktop\\events.out.tfevents.1648424196.At-Low-desktop.8200.0 updated even though the current file is models\\2022-03-28-train\\runs\\Mar28_02-36-09_At-Low-desktop\\events.out.tfevents.1648424196.At-Low-desktop.8200.2\n",
      "\n",
      " 12%|█▏        | 10000/86888 [1:13:35<9:21:08,  2.28it/s]"
     ]
    },
    {
     "name": "stdout",
     "output_type": "stream",
     "text": [
      "{'eval_loss': 0.5382239818572998, 'eval_macro_f1': 0.7711108669405669, 'eval_macro_precision': 0.7871137170759666, 'eval_macro_recall': 0.758862307953288, 'eval_accuracy': 0.808349609375, 'eval_report': {'NOR': {'precision': 0.6753246753246753, 'recall': 0.7086882453151618, 'f1-score': 0.6916043225270159, 'support': 587}, 'IRQ': {'precision': 0.8582554517133957, 'recall': 0.924496644295302, 'f1-score': 0.8901453957996768, 'support': 1788}, 'LEV': {'precision': 0.7905918057663126, 'recall': 0.7186206896551725, 'f1-score': 0.7528901734104047, 'support': 725}, 'EGY': {'precision': 0.806615776081425, 'recall': 0.6788008565310493, 'f1-score': 0.7372093023255814, 'support': 467}, 'GLF': {'precision': 0.8047808764940239, 'recall': 0.7637051039697542, 'f1-score': 0.7837051406401552, 'support': 529}, 'accuracy': 0.808349609375, 'macro avg': {'precision': 0.7871137170759666, 'recall': 0.758862307953288, 'f1-score': 0.7711108669405669, 'support': 4096}, 'weighted avg': {'precision': 0.8072690533093448, 'recall': 0.808349609375, 'f1-score': 0.8062143174610381, 'support': 4096}}, 'eval_runtime': 7.6006, 'eval_samples_per_second': 538.902, 'eval_steps_per_second': 8.42, 'epoch': 0.46}\n"
     ]
    },
    {
     "name": "stderr",
     "output_type": "stream",
     "text": [
      "\n",
      " 12%|█▏        | 10000/86888 [1:13:42<9:21:08,  2.28it/s]"
     ]
    },
    {
     "name": "stdout",
     "output_type": "stream",
     "text": [
      "{'eval_loss': 0.5382239818572998, 'eval_macro_f1': 0.7711108669405669, 'eval_macro_precision': 0.7871137170759666, 'eval_macro_recall': 0.758862307953288, 'eval_accuracy': 0.808349609375, 'eval_report': {'NOR': {'precision': 0.6753246753246753, 'recall': 0.7086882453151618, 'f1-score': 0.6916043225270159, 'support': 587}, 'IRQ': {'precision': 0.8582554517133957, 'recall': 0.924496644295302, 'f1-score': 0.8901453957996768, 'support': 1788}, 'LEV': {'precision': 0.7905918057663126, 'recall': 0.7186206896551725, 'f1-score': 0.7528901734104047, 'support': 725}, 'EGY': {'precision': 0.806615776081425, 'recall': 0.6788008565310493, 'f1-score': 0.7372093023255814, 'support': 467}, 'GLF': {'precision': 0.8047808764940239, 'recall': 0.7637051039697542, 'f1-score': 0.7837051406401552, 'support': 529}, 'accuracy': 0.808349609375, 'macro avg': {'precision': 0.7871137170759666, 'recall': 0.758862307953288, 'f1-score': 0.7711108669405669, 'support': 4096}, 'weighted avg': {'precision': 0.8072690533093448, 'recall': 0.808349609375, 'f1-score': 0.8062143174610381, 'support': 4096}}, 'eval_runtime': 7.4372, 'eval_samples_per_second': 550.743, 'eval_steps_per_second': 8.605, 'epoch': 0.46}\n"
     ]
    },
    {
     "name": "stderr",
     "output_type": "stream",
     "text": [
      "\n",
      " 12%|█▏        | 10000/86888 [1:13:50<9:21:08,  2.28it/s]"
     ]
    },
    {
     "name": "stdout",
     "output_type": "stream",
     "text": [
      "{'eval_loss': 0.5382239818572998, 'eval_macro_f1': 0.7711108669405669, 'eval_macro_precision': 0.7871137170759666, 'eval_macro_recall': 0.758862307953288, 'eval_accuracy': 0.808349609375, 'eval_report': {'NOR': {'precision': 0.6753246753246753, 'recall': 0.7086882453151618, 'f1-score': 0.6916043225270159, 'support': 587}, 'IRQ': {'precision': 0.8582554517133957, 'recall': 0.924496644295302, 'f1-score': 0.8901453957996768, 'support': 1788}, 'LEV': {'precision': 0.7905918057663126, 'recall': 0.7186206896551725, 'f1-score': 0.7528901734104047, 'support': 725}, 'EGY': {'precision': 0.806615776081425, 'recall': 0.6788008565310493, 'f1-score': 0.7372093023255814, 'support': 467}, 'GLF': {'precision': 0.8047808764940239, 'recall': 0.7637051039697542, 'f1-score': 0.7837051406401552, 'support': 529}, 'accuracy': 0.808349609375, 'macro avg': {'precision': 0.7871137170759666, 'recall': 0.758862307953288, 'f1-score': 0.7711108669405669, 'support': 4096}, 'weighted avg': {'precision': 0.8072690533093448, 'recall': 0.808349609375, 'f1-score': 0.8062143174610381, 'support': 4096}}, 'eval_runtime': 7.4338, 'eval_samples_per_second': 550.995, 'eval_steps_per_second': 8.609, 'epoch': 0.46}\n"
     ]
    },
    {
     "name": "stderr",
     "output_type": "stream",
     "text": [
      "\n",
      " 12%|█▏        | 10000/86888 [1:13:57<9:21:08,  2.28it/s]"
     ]
    },
    {
     "name": "stdout",
     "output_type": "stream",
     "text": [
      "{'eval_loss': 0.5382239818572998, 'eval_macro_f1': 0.7711108669405669, 'eval_macro_precision': 0.7871137170759666, 'eval_macro_recall': 0.758862307953288, 'eval_accuracy': 0.808349609375, 'eval_report': {'NOR': {'precision': 0.6753246753246753, 'recall': 0.7086882453151618, 'f1-score': 0.6916043225270159, 'support': 587}, 'IRQ': {'precision': 0.8582554517133957, 'recall': 0.924496644295302, 'f1-score': 0.8901453957996768, 'support': 1788}, 'LEV': {'precision': 0.7905918057663126, 'recall': 0.7186206896551725, 'f1-score': 0.7528901734104047, 'support': 725}, 'EGY': {'precision': 0.806615776081425, 'recall': 0.6788008565310493, 'f1-score': 0.7372093023255814, 'support': 467}, 'GLF': {'precision': 0.8047808764940239, 'recall': 0.7637051039697542, 'f1-score': 0.7837051406401552, 'support': 529}, 'accuracy': 0.808349609375, 'macro avg': {'precision': 0.7871137170759666, 'recall': 0.758862307953288, 'f1-score': 0.7711108669405669, 'support': 4096}, 'weighted avg': {'precision': 0.8072690533093448, 'recall': 0.808349609375, 'f1-score': 0.8062143174610381, 'support': 4096}}, 'eval_runtime': 7.4265, 'eval_samples_per_second': 551.537, 'eval_steps_per_second': 8.618, 'epoch': 0.46}\n"
     ]
    },
    {
     "name": "stderr",
     "output_type": "stream",
     "text": [
      "\n",
      " 12%|█▏        | 10000/86888 [1:14:05<9:21:08,  2.28it/s]"
     ]
    },
    {
     "name": "stdout",
     "output_type": "stream",
     "text": [
      "{'eval_loss': 0.5382239818572998, 'eval_macro_f1': 0.7711108669405669, 'eval_macro_precision': 0.7871137170759666, 'eval_macro_recall': 0.758862307953288, 'eval_accuracy': 0.808349609375, 'eval_report': {'NOR': {'precision': 0.6753246753246753, 'recall': 0.7086882453151618, 'f1-score': 0.6916043225270159, 'support': 587}, 'IRQ': {'precision': 0.8582554517133957, 'recall': 0.924496644295302, 'f1-score': 0.8901453957996768, 'support': 1788}, 'LEV': {'precision': 0.7905918057663126, 'recall': 0.7186206896551725, 'f1-score': 0.7528901734104047, 'support': 725}, 'EGY': {'precision': 0.806615776081425, 'recall': 0.6788008565310493, 'f1-score': 0.7372093023255814, 'support': 467}, 'GLF': {'precision': 0.8047808764940239, 'recall': 0.7637051039697542, 'f1-score': 0.7837051406401552, 'support': 529}, 'accuracy': 0.808349609375, 'macro avg': {'precision': 0.7871137170759666, 'recall': 0.758862307953288, 'f1-score': 0.7711108669405669, 'support': 4096}, 'weighted avg': {'precision': 0.8072690533093448, 'recall': 0.808349609375, 'f1-score': 0.8062143174610381, 'support': 4096}}, 'eval_runtime': 7.439, 'eval_samples_per_second': 550.615, 'eval_steps_per_second': 8.603, 'epoch': 0.46}\n"
     ]
    },
    {
     "name": "stderr",
     "output_type": "stream",
     "text": [
      "\n",
      " 12%|█▏        | 10000/86888 [1:14:12<9:21:08,  2.28it/s]"
     ]
    },
    {
     "name": "stdout",
     "output_type": "stream",
     "text": [
      "{'eval_loss': 0.5382239818572998, 'eval_macro_f1': 0.7711108669405669, 'eval_macro_precision': 0.7871137170759666, 'eval_macro_recall': 0.758862307953288, 'eval_accuracy': 0.808349609375, 'eval_report': {'NOR': {'precision': 0.6753246753246753, 'recall': 0.7086882453151618, 'f1-score': 0.6916043225270159, 'support': 587}, 'IRQ': {'precision': 0.8582554517133957, 'recall': 0.924496644295302, 'f1-score': 0.8901453957996768, 'support': 1788}, 'LEV': {'precision': 0.7905918057663126, 'recall': 0.7186206896551725, 'f1-score': 0.7528901734104047, 'support': 725}, 'EGY': {'precision': 0.806615776081425, 'recall': 0.6788008565310493, 'f1-score': 0.7372093023255814, 'support': 467}, 'GLF': {'precision': 0.8047808764940239, 'recall': 0.7637051039697542, 'f1-score': 0.7837051406401552, 'support': 529}, 'accuracy': 0.808349609375, 'macro avg': {'precision': 0.7871137170759666, 'recall': 0.758862307953288, 'f1-score': 0.7711108669405669, 'support': 4096}, 'weighted avg': {'precision': 0.8072690533093448, 'recall': 0.808349609375, 'f1-score': 0.8062143174610381, 'support': 4096}}, 'eval_runtime': 7.4462, 'eval_samples_per_second': 550.082, 'eval_steps_per_second': 8.595, 'epoch': 0.46}\n"
     ]
    },
    {
     "name": "stderr",
     "output_type": "stream",
     "text": [
      "\n",
      " 12%|█▏        | 10000/86888 [1:14:20<9:21:08,  2.28it/s]"
     ]
    },
    {
     "name": "stdout",
     "output_type": "stream",
     "text": [
      "{'eval_loss': 0.5382239818572998, 'eval_macro_f1': 0.7711108669405669, 'eval_macro_precision': 0.7871137170759666, 'eval_macro_recall': 0.758862307953288, 'eval_accuracy': 0.808349609375, 'eval_report': {'NOR': {'precision': 0.6753246753246753, 'recall': 0.7086882453151618, 'f1-score': 0.6916043225270159, 'support': 587}, 'IRQ': {'precision': 0.8582554517133957, 'recall': 0.924496644295302, 'f1-score': 0.8901453957996768, 'support': 1788}, 'LEV': {'precision': 0.7905918057663126, 'recall': 0.7186206896551725, 'f1-score': 0.7528901734104047, 'support': 725}, 'EGY': {'precision': 0.806615776081425, 'recall': 0.6788008565310493, 'f1-score': 0.7372093023255814, 'support': 467}, 'GLF': {'precision': 0.8047808764940239, 'recall': 0.7637051039697542, 'f1-score': 0.7837051406401552, 'support': 529}, 'accuracy': 0.808349609375, 'macro avg': {'precision': 0.7871137170759666, 'recall': 0.758862307953288, 'f1-score': 0.7711108669405669, 'support': 4096}, 'weighted avg': {'precision': 0.8072690533093448, 'recall': 0.808349609375, 'f1-score': 0.8062143174610381, 'support': 4096}}, 'eval_runtime': 7.4101, 'eval_samples_per_second': 552.76, 'eval_steps_per_second': 8.637, 'epoch': 0.46}\n"
     ]
    },
    {
     "name": "stderr",
     "output_type": "stream",
     "text": [
      "\n",
      " 12%|█▏        | 10000/86888 [1:14:27<9:21:08,  2.28it/s]"
     ]
    },
    {
     "name": "stdout",
     "output_type": "stream",
     "text": [
      "{'eval_loss': 0.5382239818572998, 'eval_macro_f1': 0.7711108669405669, 'eval_macro_precision': 0.7871137170759666, 'eval_macro_recall': 0.758862307953288, 'eval_accuracy': 0.808349609375, 'eval_report': {'NOR': {'precision': 0.6753246753246753, 'recall': 0.7086882453151618, 'f1-score': 0.6916043225270159, 'support': 587}, 'IRQ': {'precision': 0.8582554517133957, 'recall': 0.924496644295302, 'f1-score': 0.8901453957996768, 'support': 1788}, 'LEV': {'precision': 0.7905918057663126, 'recall': 0.7186206896551725, 'f1-score': 0.7528901734104047, 'support': 725}, 'EGY': {'precision': 0.806615776081425, 'recall': 0.6788008565310493, 'f1-score': 0.7372093023255814, 'support': 467}, 'GLF': {'precision': 0.8047808764940239, 'recall': 0.7637051039697542, 'f1-score': 0.7837051406401552, 'support': 529}, 'accuracy': 0.808349609375, 'macro avg': {'precision': 0.7871137170759666, 'recall': 0.758862307953288, 'f1-score': 0.7711108669405669, 'support': 4096}, 'weighted avg': {'precision': 0.8072690533093448, 'recall': 0.808349609375, 'f1-score': 0.8062143174610381, 'support': 4096}}, 'eval_runtime': 7.4249, 'eval_samples_per_second': 551.657, 'eval_steps_per_second': 8.62, 'epoch': 0.46}\n"
     ]
    },
    {
     "name": "stderr",
     "output_type": "stream",
     "text": [
      "\n",
      " 12%|█▏        | 10000/86888 [1:14:35<9:21:08,  2.28it/s]"
     ]
    },
    {
     "name": "stdout",
     "output_type": "stream",
     "text": [
      "{'eval_loss': 0.5382239818572998, 'eval_macro_f1': 0.7711108669405669, 'eval_macro_precision': 0.7871137170759666, 'eval_macro_recall': 0.758862307953288, 'eval_accuracy': 0.808349609375, 'eval_report': {'NOR': {'precision': 0.6753246753246753, 'recall': 0.7086882453151618, 'f1-score': 0.6916043225270159, 'support': 587}, 'IRQ': {'precision': 0.8582554517133957, 'recall': 0.924496644295302, 'f1-score': 0.8901453957996768, 'support': 1788}, 'LEV': {'precision': 0.7905918057663126, 'recall': 0.7186206896551725, 'f1-score': 0.7528901734104047, 'support': 725}, 'EGY': {'precision': 0.806615776081425, 'recall': 0.6788008565310493, 'f1-score': 0.7372093023255814, 'support': 467}, 'GLF': {'precision': 0.8047808764940239, 'recall': 0.7637051039697542, 'f1-score': 0.7837051406401552, 'support': 529}, 'accuracy': 0.808349609375, 'macro avg': {'precision': 0.7871137170759666, 'recall': 0.758862307953288, 'f1-score': 0.7711108669405669, 'support': 4096}, 'weighted avg': {'precision': 0.8072690533093448, 'recall': 0.808349609375, 'f1-score': 0.8062143174610381, 'support': 4096}}, 'eval_runtime': 7.4247, 'eval_samples_per_second': 551.674, 'eval_steps_per_second': 8.62, 'epoch': 0.46}\n"
     ]
    },
    {
     "name": "stderr",
     "output_type": "stream",
     "text": [
      "\n",
      " 12%|█▏        | 10000/86888 [1:14:42<9:21:08,  2.28it/s]"
     ]
    },
    {
     "name": "stdout",
     "output_type": "stream",
     "text": [
      "{'eval_loss': 0.5382239818572998, 'eval_macro_f1': 0.7711108669405669, 'eval_macro_precision': 0.7871137170759666, 'eval_macro_recall': 0.758862307953288, 'eval_accuracy': 0.808349609375, 'eval_report': {'NOR': {'precision': 0.6753246753246753, 'recall': 0.7086882453151618, 'f1-score': 0.6916043225270159, 'support': 587}, 'IRQ': {'precision': 0.8582554517133957, 'recall': 0.924496644295302, 'f1-score': 0.8901453957996768, 'support': 1788}, 'LEV': {'precision': 0.7905918057663126, 'recall': 0.7186206896551725, 'f1-score': 0.7528901734104047, 'support': 725}, 'EGY': {'precision': 0.806615776081425, 'recall': 0.6788008565310493, 'f1-score': 0.7372093023255814, 'support': 467}, 'GLF': {'precision': 0.8047808764940239, 'recall': 0.7637051039697542, 'f1-score': 0.7837051406401552, 'support': 529}, 'accuracy': 0.808349609375, 'macro avg': {'precision': 0.7871137170759666, 'recall': 0.758862307953288, 'f1-score': 0.7711108669405669, 'support': 4096}, 'weighted avg': {'precision': 0.8072690533093448, 'recall': 0.808349609375, 'f1-score': 0.8062143174610381, 'support': 4096}}, 'eval_runtime': 7.425, 'eval_samples_per_second': 551.648, 'eval_steps_per_second': 8.619, 'epoch': 0.46}\n"
     ]
    },
    {
     "name": "stderr",
     "output_type": "stream",
     "text": [
      "\n",
      " 12%|█▏        | 10000/86888 [1:14:49<9:21:08,  2.28it/s]"
     ]
    },
    {
     "name": "stdout",
     "output_type": "stream",
     "text": [
      "{'eval_loss': 0.5382239818572998, 'eval_macro_f1': 0.7711108669405669, 'eval_macro_precision': 0.7871137170759666, 'eval_macro_recall': 0.758862307953288, 'eval_accuracy': 0.808349609375, 'eval_report': {'NOR': {'precision': 0.6753246753246753, 'recall': 0.7086882453151618, 'f1-score': 0.6916043225270159, 'support': 587}, 'IRQ': {'precision': 0.8582554517133957, 'recall': 0.924496644295302, 'f1-score': 0.8901453957996768, 'support': 1788}, 'LEV': {'precision': 0.7905918057663126, 'recall': 0.7186206896551725, 'f1-score': 0.7528901734104047, 'support': 725}, 'EGY': {'precision': 0.806615776081425, 'recall': 0.6788008565310493, 'f1-score': 0.7372093023255814, 'support': 467}, 'GLF': {'precision': 0.8047808764940239, 'recall': 0.7637051039697542, 'f1-score': 0.7837051406401552, 'support': 529}, 'accuracy': 0.808349609375, 'macro avg': {'precision': 0.7871137170759666, 'recall': 0.758862307953288, 'f1-score': 0.7711108669405669, 'support': 4096}, 'weighted avg': {'precision': 0.8072690533093448, 'recall': 0.808349609375, 'f1-score': 0.8062143174610381, 'support': 4096}}, 'eval_runtime': 7.4306, 'eval_samples_per_second': 551.237, 'eval_steps_per_second': 8.613, 'epoch': 0.46}\n"
     ]
    },
    {
     "name": "stderr",
     "output_type": "stream",
     "text": [
      "\n",
      " 12%|█▏        | 10000/86888 [1:14:57<9:21:08,  2.28it/s]"
     ]
    },
    {
     "name": "stdout",
     "output_type": "stream",
     "text": [
      "{'eval_loss': 0.5382239818572998, 'eval_macro_f1': 0.7711108669405669, 'eval_macro_precision': 0.7871137170759666, 'eval_macro_recall': 0.758862307953288, 'eval_accuracy': 0.808349609375, 'eval_report': {'NOR': {'precision': 0.6753246753246753, 'recall': 0.7086882453151618, 'f1-score': 0.6916043225270159, 'support': 587}, 'IRQ': {'precision': 0.8582554517133957, 'recall': 0.924496644295302, 'f1-score': 0.8901453957996768, 'support': 1788}, 'LEV': {'precision': 0.7905918057663126, 'recall': 0.7186206896551725, 'f1-score': 0.7528901734104047, 'support': 725}, 'EGY': {'precision': 0.806615776081425, 'recall': 0.6788008565310493, 'f1-score': 0.7372093023255814, 'support': 467}, 'GLF': {'precision': 0.8047808764940239, 'recall': 0.7637051039697542, 'f1-score': 0.7837051406401552, 'support': 529}, 'accuracy': 0.808349609375, 'macro avg': {'precision': 0.7871137170759666, 'recall': 0.758862307953288, 'f1-score': 0.7711108669405669, 'support': 4096}, 'weighted avg': {'precision': 0.8072690533093448, 'recall': 0.808349609375, 'f1-score': 0.8062143174610381, 'support': 4096}}, 'eval_runtime': 7.4266, 'eval_samples_per_second': 551.532, 'eval_steps_per_second': 8.618, 'epoch': 0.46}\n"
     ]
    },
    {
     "name": "stderr",
     "output_type": "stream",
     "text": [
      "\n",
      " 12%|█▏        | 10000/86888 [1:15:04<9:21:08,  2.28it/s]"
     ]
    },
    {
     "name": "stdout",
     "output_type": "stream",
     "text": [
      "{'eval_loss': 0.5382239818572998, 'eval_macro_f1': 0.7711108669405669, 'eval_macro_precision': 0.7871137170759666, 'eval_macro_recall': 0.758862307953288, 'eval_accuracy': 0.808349609375, 'eval_report': {'NOR': {'precision': 0.6753246753246753, 'recall': 0.7086882453151618, 'f1-score': 0.6916043225270159, 'support': 587}, 'IRQ': {'precision': 0.8582554517133957, 'recall': 0.924496644295302, 'f1-score': 0.8901453957996768, 'support': 1788}, 'LEV': {'precision': 0.7905918057663126, 'recall': 0.7186206896551725, 'f1-score': 0.7528901734104047, 'support': 725}, 'EGY': {'precision': 0.806615776081425, 'recall': 0.6788008565310493, 'f1-score': 0.7372093023255814, 'support': 467}, 'GLF': {'precision': 0.8047808764940239, 'recall': 0.7637051039697542, 'f1-score': 0.7837051406401552, 'support': 529}, 'accuracy': 0.808349609375, 'macro avg': {'precision': 0.7871137170759666, 'recall': 0.758862307953288, 'f1-score': 0.7711108669405669, 'support': 4096}, 'weighted avg': {'precision': 0.8072690533093448, 'recall': 0.808349609375, 'f1-score': 0.8062143174610381, 'support': 4096}}, 'eval_runtime': 7.4465, 'eval_samples_per_second': 550.054, 'eval_steps_per_second': 8.595, 'epoch': 0.46}\n"
     ]
    },
    {
     "name": "stderr",
     "output_type": "stream",
     "text": [
      "\n",
      " 12%|█▏        | 10000/86888 [1:15:12<9:21:08,  2.28it/s]"
     ]
    },
    {
     "name": "stdout",
     "output_type": "stream",
     "text": [
      "{'eval_loss': 0.5382239818572998, 'eval_macro_f1': 0.7711108669405669, 'eval_macro_precision': 0.7871137170759666, 'eval_macro_recall': 0.758862307953288, 'eval_accuracy': 0.808349609375, 'eval_report': {'NOR': {'precision': 0.6753246753246753, 'recall': 0.7086882453151618, 'f1-score': 0.6916043225270159, 'support': 587}, 'IRQ': {'precision': 0.8582554517133957, 'recall': 0.924496644295302, 'f1-score': 0.8901453957996768, 'support': 1788}, 'LEV': {'precision': 0.7905918057663126, 'recall': 0.7186206896551725, 'f1-score': 0.7528901734104047, 'support': 725}, 'EGY': {'precision': 0.806615776081425, 'recall': 0.6788008565310493, 'f1-score': 0.7372093023255814, 'support': 467}, 'GLF': {'precision': 0.8047808764940239, 'recall': 0.7637051039697542, 'f1-score': 0.7837051406401552, 'support': 529}, 'accuracy': 0.808349609375, 'macro avg': {'precision': 0.7871137170759666, 'recall': 0.758862307953288, 'f1-score': 0.7711108669405669, 'support': 4096}, 'weighted avg': {'precision': 0.8072690533093448, 'recall': 0.808349609375, 'f1-score': 0.8062143174610381, 'support': 4096}}, 'eval_runtime': 7.4476, 'eval_samples_per_second': 549.976, 'eval_steps_per_second': 8.593, 'epoch': 0.46}\n"
     ]
    },
    {
     "name": "stderr",
     "output_type": "stream",
     "text": [
      "\n",
      " 12%|█▏        | 10000/86888 [1:15:19<9:21:08,  2.28it/s]"
     ]
    },
    {
     "name": "stdout",
     "output_type": "stream",
     "text": [
      "{'eval_loss': 0.5382239818572998, 'eval_macro_f1': 0.7711108669405669, 'eval_macro_precision': 0.7871137170759666, 'eval_macro_recall': 0.758862307953288, 'eval_accuracy': 0.808349609375, 'eval_report': {'NOR': {'precision': 0.6753246753246753, 'recall': 0.7086882453151618, 'f1-score': 0.6916043225270159, 'support': 587}, 'IRQ': {'precision': 0.8582554517133957, 'recall': 0.924496644295302, 'f1-score': 0.8901453957996768, 'support': 1788}, 'LEV': {'precision': 0.7905918057663126, 'recall': 0.7186206896551725, 'f1-score': 0.7528901734104047, 'support': 725}, 'EGY': {'precision': 0.806615776081425, 'recall': 0.6788008565310493, 'f1-score': 0.7372093023255814, 'support': 467}, 'GLF': {'precision': 0.8047808764940239, 'recall': 0.7637051039697542, 'f1-score': 0.7837051406401552, 'support': 529}, 'accuracy': 0.808349609375, 'macro avg': {'precision': 0.7871137170759666, 'recall': 0.758862307953288, 'f1-score': 0.7711108669405669, 'support': 4096}, 'weighted avg': {'precision': 0.8072690533093448, 'recall': 0.808349609375, 'f1-score': 0.8062143174610381, 'support': 4096}}, 'eval_runtime': 7.4189, 'eval_samples_per_second': 552.101, 'eval_steps_per_second': 8.627, 'epoch': 0.46}\n"
     ]
    },
    {
     "name": "stderr",
     "output_type": "stream",
     "text": [
      "\n",
      " 12%|█▏        | 10000/86888 [1:15:27<9:21:08,  2.28it/s]"
     ]
    },
    {
     "name": "stdout",
     "output_type": "stream",
     "text": [
      "{'eval_loss': 0.5382239818572998, 'eval_macro_f1': 0.7711108669405669, 'eval_macro_precision': 0.7871137170759666, 'eval_macro_recall': 0.758862307953288, 'eval_accuracy': 0.808349609375, 'eval_report': {'NOR': {'precision': 0.6753246753246753, 'recall': 0.7086882453151618, 'f1-score': 0.6916043225270159, 'support': 587}, 'IRQ': {'precision': 0.8582554517133957, 'recall': 0.924496644295302, 'f1-score': 0.8901453957996768, 'support': 1788}, 'LEV': {'precision': 0.7905918057663126, 'recall': 0.7186206896551725, 'f1-score': 0.7528901734104047, 'support': 725}, 'EGY': {'precision': 0.806615776081425, 'recall': 0.6788008565310493, 'f1-score': 0.7372093023255814, 'support': 467}, 'GLF': {'precision': 0.8047808764940239, 'recall': 0.7637051039697542, 'f1-score': 0.7837051406401552, 'support': 529}, 'accuracy': 0.808349609375, 'macro avg': {'precision': 0.7871137170759666, 'recall': 0.758862307953288, 'f1-score': 0.7711108669405669, 'support': 4096}, 'weighted avg': {'precision': 0.8072690533093448, 'recall': 0.808349609375, 'f1-score': 0.8062143174610381, 'support': 4096}}, 'eval_runtime': 7.4194, 'eval_samples_per_second': 552.064, 'eval_steps_per_second': 8.626, 'epoch': 0.46}\n"
     ]
    },
    {
     "name": "stderr",
     "output_type": "stream",
     "text": [
      "\n",
      " 12%|█▏        | 10000/86888 [1:15:34<9:21:08,  2.28it/s]"
     ]
    },
    {
     "name": "stdout",
     "output_type": "stream",
     "text": [
      "{'eval_loss': 0.5382239818572998, 'eval_macro_f1': 0.7711108669405669, 'eval_macro_precision': 0.7871137170759666, 'eval_macro_recall': 0.758862307953288, 'eval_accuracy': 0.808349609375, 'eval_report': {'NOR': {'precision': 0.6753246753246753, 'recall': 0.7086882453151618, 'f1-score': 0.6916043225270159, 'support': 587}, 'IRQ': {'precision': 0.8582554517133957, 'recall': 0.924496644295302, 'f1-score': 0.8901453957996768, 'support': 1788}, 'LEV': {'precision': 0.7905918057663126, 'recall': 0.7186206896551725, 'f1-score': 0.7528901734104047, 'support': 725}, 'EGY': {'precision': 0.806615776081425, 'recall': 0.6788008565310493, 'f1-score': 0.7372093023255814, 'support': 467}, 'GLF': {'precision': 0.8047808764940239, 'recall': 0.7637051039697542, 'f1-score': 0.7837051406401552, 'support': 529}, 'accuracy': 0.808349609375, 'macro avg': {'precision': 0.7871137170759666, 'recall': 0.758862307953288, 'f1-score': 0.7711108669405669, 'support': 4096}, 'weighted avg': {'precision': 0.8072690533093448, 'recall': 0.808349609375, 'f1-score': 0.8062143174610381, 'support': 4096}}, 'eval_runtime': 7.4223, 'eval_samples_per_second': 551.851, 'eval_steps_per_second': 8.623, 'epoch': 0.46}\n"
     ]
    },
    {
     "name": "stderr",
     "output_type": "stream",
     "text": [
      "\n",
      " 12%|█▏        | 10000/86888 [1:15:42<9:21:08,  2.28it/s]"
     ]
    },
    {
     "name": "stdout",
     "output_type": "stream",
     "text": [
      "{'eval_loss': 0.5382239818572998, 'eval_macro_f1': 0.7711108669405669, 'eval_macro_precision': 0.7871137170759666, 'eval_macro_recall': 0.758862307953288, 'eval_accuracy': 0.808349609375, 'eval_report': {'NOR': {'precision': 0.6753246753246753, 'recall': 0.7086882453151618, 'f1-score': 0.6916043225270159, 'support': 587}, 'IRQ': {'precision': 0.8582554517133957, 'recall': 0.924496644295302, 'f1-score': 0.8901453957996768, 'support': 1788}, 'LEV': {'precision': 0.7905918057663126, 'recall': 0.7186206896551725, 'f1-score': 0.7528901734104047, 'support': 725}, 'EGY': {'precision': 0.806615776081425, 'recall': 0.6788008565310493, 'f1-score': 0.7372093023255814, 'support': 467}, 'GLF': {'precision': 0.8047808764940239, 'recall': 0.7637051039697542, 'f1-score': 0.7837051406401552, 'support': 529}, 'accuracy': 0.808349609375, 'macro avg': {'precision': 0.7871137170759666, 'recall': 0.758862307953288, 'f1-score': 0.7711108669405669, 'support': 4096}, 'weighted avg': {'precision': 0.8072690533093448, 'recall': 0.808349609375, 'f1-score': 0.8062143174610381, 'support': 4096}}, 'eval_runtime': 7.4233, 'eval_samples_per_second': 551.774, 'eval_steps_per_second': 8.621, 'epoch': 0.46}\n"
     ]
    },
    {
     "name": "stderr",
     "output_type": "stream",
     "text": [
      "\n",
      " 12%|█▏        | 10000/86888 [1:15:49<9:21:08,  2.28it/s]"
     ]
    },
    {
     "name": "stdout",
     "output_type": "stream",
     "text": [
      "{'eval_loss': 0.5382239818572998, 'eval_macro_f1': 0.7711108669405669, 'eval_macro_precision': 0.7871137170759666, 'eval_macro_recall': 0.758862307953288, 'eval_accuracy': 0.808349609375, 'eval_report': {'NOR': {'precision': 0.6753246753246753, 'recall': 0.7086882453151618, 'f1-score': 0.6916043225270159, 'support': 587}, 'IRQ': {'precision': 0.8582554517133957, 'recall': 0.924496644295302, 'f1-score': 0.8901453957996768, 'support': 1788}, 'LEV': {'precision': 0.7905918057663126, 'recall': 0.7186206896551725, 'f1-score': 0.7528901734104047, 'support': 725}, 'EGY': {'precision': 0.806615776081425, 'recall': 0.6788008565310493, 'f1-score': 0.7372093023255814, 'support': 467}, 'GLF': {'precision': 0.8047808764940239, 'recall': 0.7637051039697542, 'f1-score': 0.7837051406401552, 'support': 529}, 'accuracy': 0.808349609375, 'macro avg': {'precision': 0.7871137170759666, 'recall': 0.758862307953288, 'f1-score': 0.7711108669405669, 'support': 4096}, 'weighted avg': {'precision': 0.8072690533093448, 'recall': 0.808349609375, 'f1-score': 0.8062143174610381, 'support': 4096}}, 'eval_runtime': 7.4027, 'eval_samples_per_second': 553.314, 'eval_steps_per_second': 8.646, 'epoch': 0.46}\n"
     ]
    },
    {
     "name": "stderr",
     "output_type": "stream",
     "text": [
      "\n",
      " 12%|█▏        | 10000/86888 [1:15:56<9:21:08,  2.28it/s]"
     ]
    },
    {
     "name": "stdout",
     "output_type": "stream",
     "text": [
      "{'eval_loss': 0.5382239818572998, 'eval_macro_f1': 0.7711108669405669, 'eval_macro_precision': 0.7871137170759666, 'eval_macro_recall': 0.758862307953288, 'eval_accuracy': 0.808349609375, 'eval_report': {'NOR': {'precision': 0.6753246753246753, 'recall': 0.7086882453151618, 'f1-score': 0.6916043225270159, 'support': 587}, 'IRQ': {'precision': 0.8582554517133957, 'recall': 0.924496644295302, 'f1-score': 0.8901453957996768, 'support': 1788}, 'LEV': {'precision': 0.7905918057663126, 'recall': 0.7186206896551725, 'f1-score': 0.7528901734104047, 'support': 725}, 'EGY': {'precision': 0.806615776081425, 'recall': 0.6788008565310493, 'f1-score': 0.7372093023255814, 'support': 467}, 'GLF': {'precision': 0.8047808764940239, 'recall': 0.7637051039697542, 'f1-score': 0.7837051406401552, 'support': 529}, 'accuracy': 0.808349609375, 'macro avg': {'precision': 0.7871137170759666, 'recall': 0.758862307953288, 'f1-score': 0.7711108669405669, 'support': 4096}, 'weighted avg': {'precision': 0.8072690533093448, 'recall': 0.808349609375, 'f1-score': 0.8062143174610381, 'support': 4096}}, 'eval_runtime': 7.4266, 'eval_samples_per_second': 551.533, 'eval_steps_per_second': 8.618, 'epoch': 0.46}\n"
     ]
    },
    {
     "name": "stderr",
     "output_type": "stream",
     "text": [
      "\n",
      " 12%|█▏        | 10000/86888 [1:16:04<9:21:08,  2.28it/s]"
     ]
    },
    {
     "name": "stdout",
     "output_type": "stream",
     "text": [
      "{'eval_loss': 0.5382239818572998, 'eval_macro_f1': 0.7711108669405669, 'eval_macro_precision': 0.7871137170759666, 'eval_macro_recall': 0.758862307953288, 'eval_accuracy': 0.808349609375, 'eval_report': {'NOR': {'precision': 0.6753246753246753, 'recall': 0.7086882453151618, 'f1-score': 0.6916043225270159, 'support': 587}, 'IRQ': {'precision': 0.8582554517133957, 'recall': 0.924496644295302, 'f1-score': 0.8901453957996768, 'support': 1788}, 'LEV': {'precision': 0.7905918057663126, 'recall': 0.7186206896551725, 'f1-score': 0.7528901734104047, 'support': 725}, 'EGY': {'precision': 0.806615776081425, 'recall': 0.6788008565310493, 'f1-score': 0.7372093023255814, 'support': 467}, 'GLF': {'precision': 0.8047808764940239, 'recall': 0.7637051039697542, 'f1-score': 0.7837051406401552, 'support': 529}, 'accuracy': 0.808349609375, 'macro avg': {'precision': 0.7871137170759666, 'recall': 0.758862307953288, 'f1-score': 0.7711108669405669, 'support': 4096}, 'weighted avg': {'precision': 0.8072690533093448, 'recall': 0.808349609375, 'f1-score': 0.8062143174610381, 'support': 4096}}, 'eval_runtime': 7.4505, 'eval_samples_per_second': 549.759, 'eval_steps_per_second': 8.59, 'epoch': 0.46}\n"
     ]
    },
    {
     "name": "stderr",
     "output_type": "stream",
     "text": [
      "\n",
      " 12%|█▏        | 10000/86888 [1:16:11<9:21:08,  2.28it/s]"
     ]
    },
    {
     "name": "stdout",
     "output_type": "stream",
     "text": [
      "{'eval_loss': 0.5382239818572998, 'eval_macro_f1': 0.7711108669405669, 'eval_macro_precision': 0.7871137170759666, 'eval_macro_recall': 0.758862307953288, 'eval_accuracy': 0.808349609375, 'eval_report': {'NOR': {'precision': 0.6753246753246753, 'recall': 0.7086882453151618, 'f1-score': 0.6916043225270159, 'support': 587}, 'IRQ': {'precision': 0.8582554517133957, 'recall': 0.924496644295302, 'f1-score': 0.8901453957996768, 'support': 1788}, 'LEV': {'precision': 0.7905918057663126, 'recall': 0.7186206896551725, 'f1-score': 0.7528901734104047, 'support': 725}, 'EGY': {'precision': 0.806615776081425, 'recall': 0.6788008565310493, 'f1-score': 0.7372093023255814, 'support': 467}, 'GLF': {'precision': 0.8047808764940239, 'recall': 0.7637051039697542, 'f1-score': 0.7837051406401552, 'support': 529}, 'accuracy': 0.808349609375, 'macro avg': {'precision': 0.7871137170759666, 'recall': 0.758862307953288, 'f1-score': 0.7711108669405669, 'support': 4096}, 'weighted avg': {'precision': 0.8072690533093448, 'recall': 0.808349609375, 'f1-score': 0.8062143174610381, 'support': 4096}}, 'eval_runtime': 7.4318, 'eval_samples_per_second': 551.148, 'eval_steps_per_second': 8.612, 'epoch': 0.46}\n"
     ]
    },
    {
     "name": "stderr",
     "output_type": "stream",
     "text": [
      "\n",
      " 12%|█▏        | 10000/86888 [1:16:19<9:21:08,  2.28it/s]"
     ]
    },
    {
     "name": "stdout",
     "output_type": "stream",
     "text": [
      "{'eval_loss': 0.5382239818572998, 'eval_macro_f1': 0.7711108669405669, 'eval_macro_precision': 0.7871137170759666, 'eval_macro_recall': 0.758862307953288, 'eval_accuracy': 0.808349609375, 'eval_report': {'NOR': {'precision': 0.6753246753246753, 'recall': 0.7086882453151618, 'f1-score': 0.6916043225270159, 'support': 587}, 'IRQ': {'precision': 0.8582554517133957, 'recall': 0.924496644295302, 'f1-score': 0.8901453957996768, 'support': 1788}, 'LEV': {'precision': 0.7905918057663126, 'recall': 0.7186206896551725, 'f1-score': 0.7528901734104047, 'support': 725}, 'EGY': {'precision': 0.806615776081425, 'recall': 0.6788008565310493, 'f1-score': 0.7372093023255814, 'support': 467}, 'GLF': {'precision': 0.8047808764940239, 'recall': 0.7637051039697542, 'f1-score': 0.7837051406401552, 'support': 529}, 'accuracy': 0.808349609375, 'macro avg': {'precision': 0.7871137170759666, 'recall': 0.758862307953288, 'f1-score': 0.7711108669405669, 'support': 4096}, 'weighted avg': {'precision': 0.8072690533093448, 'recall': 0.808349609375, 'f1-score': 0.8062143174610381, 'support': 4096}}, 'eval_runtime': 7.4325, 'eval_samples_per_second': 551.089, 'eval_steps_per_second': 8.611, 'epoch': 0.46}\n"
     ]
    },
    {
     "name": "stderr",
     "output_type": "stream",
     "text": [
      "\n",
      " 12%|█▏        | 10000/86888 [1:16:26<9:21:08,  2.28it/s]"
     ]
    },
    {
     "name": "stdout",
     "output_type": "stream",
     "text": [
      "{'eval_loss': 0.5382239818572998, 'eval_macro_f1': 0.7711108669405669, 'eval_macro_precision': 0.7871137170759666, 'eval_macro_recall': 0.758862307953288, 'eval_accuracy': 0.808349609375, 'eval_report': {'NOR': {'precision': 0.6753246753246753, 'recall': 0.7086882453151618, 'f1-score': 0.6916043225270159, 'support': 587}, 'IRQ': {'precision': 0.8582554517133957, 'recall': 0.924496644295302, 'f1-score': 0.8901453957996768, 'support': 1788}, 'LEV': {'precision': 0.7905918057663126, 'recall': 0.7186206896551725, 'f1-score': 0.7528901734104047, 'support': 725}, 'EGY': {'precision': 0.806615776081425, 'recall': 0.6788008565310493, 'f1-score': 0.7372093023255814, 'support': 467}, 'GLF': {'precision': 0.8047808764940239, 'recall': 0.7637051039697542, 'f1-score': 0.7837051406401552, 'support': 529}, 'accuracy': 0.808349609375, 'macro avg': {'precision': 0.7871137170759666, 'recall': 0.758862307953288, 'f1-score': 0.7711108669405669, 'support': 4096}, 'weighted avg': {'precision': 0.8072690533093448, 'recall': 0.808349609375, 'f1-score': 0.8062143174610381, 'support': 4096}}, 'eval_runtime': 7.4157, 'eval_samples_per_second': 552.344, 'eval_steps_per_second': 8.63, 'epoch': 0.46}\n"
     ]
    },
    {
     "name": "stderr",
     "output_type": "stream",
     "text": [
      "\n",
      " 12%|█▏        | 10000/86888 [1:16:34<9:21:08,  2.28it/s]"
     ]
    },
    {
     "name": "stdout",
     "output_type": "stream",
     "text": [
      "{'eval_loss': 0.5382239818572998, 'eval_macro_f1': 0.7711108669405669, 'eval_macro_precision': 0.7871137170759666, 'eval_macro_recall': 0.758862307953288, 'eval_accuracy': 0.808349609375, 'eval_report': {'NOR': {'precision': 0.6753246753246753, 'recall': 0.7086882453151618, 'f1-score': 0.6916043225270159, 'support': 587}, 'IRQ': {'precision': 0.8582554517133957, 'recall': 0.924496644295302, 'f1-score': 0.8901453957996768, 'support': 1788}, 'LEV': {'precision': 0.7905918057663126, 'recall': 0.7186206896551725, 'f1-score': 0.7528901734104047, 'support': 725}, 'EGY': {'precision': 0.806615776081425, 'recall': 0.6788008565310493, 'f1-score': 0.7372093023255814, 'support': 467}, 'GLF': {'precision': 0.8047808764940239, 'recall': 0.7637051039697542, 'f1-score': 0.7837051406401552, 'support': 529}, 'accuracy': 0.808349609375, 'macro avg': {'precision': 0.7871137170759666, 'recall': 0.758862307953288, 'f1-score': 0.7711108669405669, 'support': 4096}, 'weighted avg': {'precision': 0.8072690533093448, 'recall': 0.808349609375, 'f1-score': 0.8062143174610381, 'support': 4096}}, 'eval_runtime': 7.426, 'eval_samples_per_second': 551.576, 'eval_steps_per_second': 8.618, 'epoch': 0.46}\n"
     ]
    },
    {
     "name": "stderr",
     "output_type": "stream",
     "text": [
      "\n",
      " 12%|█▏        | 10000/86888 [1:16:41<9:21:08,  2.28it/s]"
     ]
    },
    {
     "name": "stdout",
     "output_type": "stream",
     "text": [
      "{'eval_loss': 0.5382239818572998, 'eval_macro_f1': 0.7711108669405669, 'eval_macro_precision': 0.7871137170759666, 'eval_macro_recall': 0.758862307953288, 'eval_accuracy': 0.808349609375, 'eval_report': {'NOR': {'precision': 0.6753246753246753, 'recall': 0.7086882453151618, 'f1-score': 0.6916043225270159, 'support': 587}, 'IRQ': {'precision': 0.8582554517133957, 'recall': 0.924496644295302, 'f1-score': 0.8901453957996768, 'support': 1788}, 'LEV': {'precision': 0.7905918057663126, 'recall': 0.7186206896551725, 'f1-score': 0.7528901734104047, 'support': 725}, 'EGY': {'precision': 0.806615776081425, 'recall': 0.6788008565310493, 'f1-score': 0.7372093023255814, 'support': 467}, 'GLF': {'precision': 0.8047808764940239, 'recall': 0.7637051039697542, 'f1-score': 0.7837051406401552, 'support': 529}, 'accuracy': 0.808349609375, 'macro avg': {'precision': 0.7871137170759666, 'recall': 0.758862307953288, 'f1-score': 0.7711108669405669, 'support': 4096}, 'weighted avg': {'precision': 0.8072690533093448, 'recall': 0.808349609375, 'f1-score': 0.8062143174610381, 'support': 4096}}, 'eval_runtime': 7.4154, 'eval_samples_per_second': 552.366, 'eval_steps_per_second': 8.631, 'epoch': 0.46}\n"
     ]
    },
    {
     "name": "stderr",
     "output_type": "stream",
     "text": [
      "\n",
      " 12%|█▏        | 10000/86888 [1:16:48<9:21:08,  2.28it/s]"
     ]
    },
    {
     "name": "stdout",
     "output_type": "stream",
     "text": [
      "{'eval_loss': 0.5382239818572998, 'eval_macro_f1': 0.7711108669405669, 'eval_macro_precision': 0.7871137170759666, 'eval_macro_recall': 0.758862307953288, 'eval_accuracy': 0.808349609375, 'eval_report': {'NOR': {'precision': 0.6753246753246753, 'recall': 0.7086882453151618, 'f1-score': 0.6916043225270159, 'support': 587}, 'IRQ': {'precision': 0.8582554517133957, 'recall': 0.924496644295302, 'f1-score': 0.8901453957996768, 'support': 1788}, 'LEV': {'precision': 0.7905918057663126, 'recall': 0.7186206896551725, 'f1-score': 0.7528901734104047, 'support': 725}, 'EGY': {'precision': 0.806615776081425, 'recall': 0.6788008565310493, 'f1-score': 0.7372093023255814, 'support': 467}, 'GLF': {'precision': 0.8047808764940239, 'recall': 0.7637051039697542, 'f1-score': 0.7837051406401552, 'support': 529}, 'accuracy': 0.808349609375, 'macro avg': {'precision': 0.7871137170759666, 'recall': 0.758862307953288, 'f1-score': 0.7711108669405669, 'support': 4096}, 'weighted avg': {'precision': 0.8072690533093448, 'recall': 0.808349609375, 'f1-score': 0.8062143174610381, 'support': 4096}}, 'eval_runtime': 7.4169, 'eval_samples_per_second': 552.255, 'eval_steps_per_second': 8.629, 'epoch': 0.46}\n"
     ]
    },
    {
     "name": "stderr",
     "output_type": "stream",
     "text": [
      "\n",
      " 12%|█▏        | 10000/86888 [1:16:56<9:21:08,  2.28it/s]"
     ]
    },
    {
     "name": "stdout",
     "output_type": "stream",
     "text": [
      "{'eval_loss': 0.5382239818572998, 'eval_macro_f1': 0.7711108669405669, 'eval_macro_precision': 0.7871137170759666, 'eval_macro_recall': 0.758862307953288, 'eval_accuracy': 0.808349609375, 'eval_report': {'NOR': {'precision': 0.6753246753246753, 'recall': 0.7086882453151618, 'f1-score': 0.6916043225270159, 'support': 587}, 'IRQ': {'precision': 0.8582554517133957, 'recall': 0.924496644295302, 'f1-score': 0.8901453957996768, 'support': 1788}, 'LEV': {'precision': 0.7905918057663126, 'recall': 0.7186206896551725, 'f1-score': 0.7528901734104047, 'support': 725}, 'EGY': {'precision': 0.806615776081425, 'recall': 0.6788008565310493, 'f1-score': 0.7372093023255814, 'support': 467}, 'GLF': {'precision': 0.8047808764940239, 'recall': 0.7637051039697542, 'f1-score': 0.7837051406401552, 'support': 529}, 'accuracy': 0.808349609375, 'macro avg': {'precision': 0.7871137170759666, 'recall': 0.758862307953288, 'f1-score': 0.7711108669405669, 'support': 4096}, 'weighted avg': {'precision': 0.8072690533093448, 'recall': 0.808349609375, 'f1-score': 0.8062143174610381, 'support': 4096}}, 'eval_runtime': 7.4166, 'eval_samples_per_second': 552.277, 'eval_steps_per_second': 8.629, 'epoch': 0.46}\n"
     ]
    },
    {
     "name": "stderr",
     "output_type": "stream",
     "text": [
      "\n",
      " 12%|█▏        | 10000/86888 [1:17:03<9:21:08,  2.28it/s]"
     ]
    },
    {
     "name": "stdout",
     "output_type": "stream",
     "text": [
      "{'eval_loss': 0.5382239818572998, 'eval_macro_f1': 0.7711108669405669, 'eval_macro_precision': 0.7871137170759666, 'eval_macro_recall': 0.758862307953288, 'eval_accuracy': 0.808349609375, 'eval_report': {'NOR': {'precision': 0.6753246753246753, 'recall': 0.7086882453151618, 'f1-score': 0.6916043225270159, 'support': 587}, 'IRQ': {'precision': 0.8582554517133957, 'recall': 0.924496644295302, 'f1-score': 0.8901453957996768, 'support': 1788}, 'LEV': {'precision': 0.7905918057663126, 'recall': 0.7186206896551725, 'f1-score': 0.7528901734104047, 'support': 725}, 'EGY': {'precision': 0.806615776081425, 'recall': 0.6788008565310493, 'f1-score': 0.7372093023255814, 'support': 467}, 'GLF': {'precision': 0.8047808764940239, 'recall': 0.7637051039697542, 'f1-score': 0.7837051406401552, 'support': 529}, 'accuracy': 0.808349609375, 'macro avg': {'precision': 0.7871137170759666, 'recall': 0.758862307953288, 'f1-score': 0.7711108669405669, 'support': 4096}, 'weighted avg': {'precision': 0.8072690533093448, 'recall': 0.808349609375, 'f1-score': 0.8062143174610381, 'support': 4096}}, 'eval_runtime': 7.4381, 'eval_samples_per_second': 550.677, 'eval_steps_per_second': 8.604, 'epoch': 0.46}\n"
     ]
    },
    {
     "name": "stderr",
     "output_type": "stream",
     "text": [
      "\n",
      " 12%|█▏        | 10000/86888 [1:17:11<9:21:08,  2.28it/s]"
     ]
    },
    {
     "name": "stdout",
     "output_type": "stream",
     "text": [
      "{'eval_loss': 0.5382239818572998, 'eval_macro_f1': 0.7711108669405669, 'eval_macro_precision': 0.7871137170759666, 'eval_macro_recall': 0.758862307953288, 'eval_accuracy': 0.808349609375, 'eval_report': {'NOR': {'precision': 0.6753246753246753, 'recall': 0.7086882453151618, 'f1-score': 0.6916043225270159, 'support': 587}, 'IRQ': {'precision': 0.8582554517133957, 'recall': 0.924496644295302, 'f1-score': 0.8901453957996768, 'support': 1788}, 'LEV': {'precision': 0.7905918057663126, 'recall': 0.7186206896551725, 'f1-score': 0.7528901734104047, 'support': 725}, 'EGY': {'precision': 0.806615776081425, 'recall': 0.6788008565310493, 'f1-score': 0.7372093023255814, 'support': 467}, 'GLF': {'precision': 0.8047808764940239, 'recall': 0.7637051039697542, 'f1-score': 0.7837051406401552, 'support': 529}, 'accuracy': 0.808349609375, 'macro avg': {'precision': 0.7871137170759666, 'recall': 0.758862307953288, 'f1-score': 0.7711108669405669, 'support': 4096}, 'weighted avg': {'precision': 0.8072690533093448, 'recall': 0.808349609375, 'f1-score': 0.8062143174610381, 'support': 4096}}, 'eval_runtime': 7.4375, 'eval_samples_per_second': 550.726, 'eval_steps_per_second': 8.605, 'epoch': 0.46}\n"
     ]
    },
    {
     "name": "stderr",
     "output_type": "stream",
     "text": [
      "\n",
      " 12%|█▏        | 10000/86888 [1:17:18<9:21:08,  2.28it/s]"
     ]
    },
    {
     "name": "stdout",
     "output_type": "stream",
     "text": [
      "{'eval_loss': 0.5382239818572998, 'eval_macro_f1': 0.7711108669405669, 'eval_macro_precision': 0.7871137170759666, 'eval_macro_recall': 0.758862307953288, 'eval_accuracy': 0.808349609375, 'eval_report': {'NOR': {'precision': 0.6753246753246753, 'recall': 0.7086882453151618, 'f1-score': 0.6916043225270159, 'support': 587}, 'IRQ': {'precision': 0.8582554517133957, 'recall': 0.924496644295302, 'f1-score': 0.8901453957996768, 'support': 1788}, 'LEV': {'precision': 0.7905918057663126, 'recall': 0.7186206896551725, 'f1-score': 0.7528901734104047, 'support': 725}, 'EGY': {'precision': 0.806615776081425, 'recall': 0.6788008565310493, 'f1-score': 0.7372093023255814, 'support': 467}, 'GLF': {'precision': 0.8047808764940239, 'recall': 0.7637051039697542, 'f1-score': 0.7837051406401552, 'support': 529}, 'accuracy': 0.808349609375, 'macro avg': {'precision': 0.7871137170759666, 'recall': 0.758862307953288, 'f1-score': 0.7711108669405669, 'support': 4096}, 'weighted avg': {'precision': 0.8072690533093448, 'recall': 0.808349609375, 'f1-score': 0.8062143174610381, 'support': 4096}}, 'eval_runtime': 7.4228, 'eval_samples_per_second': 551.814, 'eval_steps_per_second': 8.622, 'epoch': 0.46}\n"
     ]
    },
    {
     "name": "stderr",
     "output_type": "stream",
     "text": [
      "\n",
      " 12%|█▏        | 10000/86888 [1:17:26<9:21:08,  2.28it/s]"
     ]
    },
    {
     "name": "stdout",
     "output_type": "stream",
     "text": [
      "{'eval_loss': 0.5382239818572998, 'eval_macro_f1': 0.7711108669405669, 'eval_macro_precision': 0.7871137170759666, 'eval_macro_recall': 0.758862307953288, 'eval_accuracy': 0.808349609375, 'eval_report': {'NOR': {'precision': 0.6753246753246753, 'recall': 0.7086882453151618, 'f1-score': 0.6916043225270159, 'support': 587}, 'IRQ': {'precision': 0.8582554517133957, 'recall': 0.924496644295302, 'f1-score': 0.8901453957996768, 'support': 1788}, 'LEV': {'precision': 0.7905918057663126, 'recall': 0.7186206896551725, 'f1-score': 0.7528901734104047, 'support': 725}, 'EGY': {'precision': 0.806615776081425, 'recall': 0.6788008565310493, 'f1-score': 0.7372093023255814, 'support': 467}, 'GLF': {'precision': 0.8047808764940239, 'recall': 0.7637051039697542, 'f1-score': 0.7837051406401552, 'support': 529}, 'accuracy': 0.808349609375, 'macro avg': {'precision': 0.7871137170759666, 'recall': 0.758862307953288, 'f1-score': 0.7711108669405669, 'support': 4096}, 'weighted avg': {'precision': 0.8072690533093448, 'recall': 0.808349609375, 'f1-score': 0.8062143174610381, 'support': 4096}}, 'eval_runtime': 7.4185, 'eval_samples_per_second': 552.132, 'eval_steps_per_second': 8.627, 'epoch': 0.46}\n"
     ]
    },
    {
     "name": "stderr",
     "output_type": "stream",
     "text": [
      "\n",
      " 12%|█▏        | 10000/86888 [1:17:33<9:21:08,  2.28it/s]"
     ]
    },
    {
     "name": "stdout",
     "output_type": "stream",
     "text": [
      "{'eval_loss': 0.5382239818572998, 'eval_macro_f1': 0.7711108669405669, 'eval_macro_precision': 0.7871137170759666, 'eval_macro_recall': 0.758862307953288, 'eval_accuracy': 0.808349609375, 'eval_report': {'NOR': {'precision': 0.6753246753246753, 'recall': 0.7086882453151618, 'f1-score': 0.6916043225270159, 'support': 587}, 'IRQ': {'precision': 0.8582554517133957, 'recall': 0.924496644295302, 'f1-score': 0.8901453957996768, 'support': 1788}, 'LEV': {'precision': 0.7905918057663126, 'recall': 0.7186206896551725, 'f1-score': 0.7528901734104047, 'support': 725}, 'EGY': {'precision': 0.806615776081425, 'recall': 0.6788008565310493, 'f1-score': 0.7372093023255814, 'support': 467}, 'GLF': {'precision': 0.8047808764940239, 'recall': 0.7637051039697542, 'f1-score': 0.7837051406401552, 'support': 529}, 'accuracy': 0.808349609375, 'macro avg': {'precision': 0.7871137170759666, 'recall': 0.758862307953288, 'f1-score': 0.7711108669405669, 'support': 4096}, 'weighted avg': {'precision': 0.8072690533093448, 'recall': 0.808349609375, 'f1-score': 0.8062143174610381, 'support': 4096}}, 'eval_runtime': 7.4184, 'eval_samples_per_second': 552.143, 'eval_steps_per_second': 8.627, 'epoch': 0.46}\n"
     ]
    },
    {
     "name": "stderr",
     "output_type": "stream",
     "text": [
      "\n",
      " 12%|█▏        | 10000/86888 [1:17:40<9:21:08,  2.28it/s]"
     ]
    },
    {
     "name": "stdout",
     "output_type": "stream",
     "text": [
      "{'eval_loss': 0.5382239818572998, 'eval_macro_f1': 0.7711108669405669, 'eval_macro_precision': 0.7871137170759666, 'eval_macro_recall': 0.758862307953288, 'eval_accuracy': 0.808349609375, 'eval_report': {'NOR': {'precision': 0.6753246753246753, 'recall': 0.7086882453151618, 'f1-score': 0.6916043225270159, 'support': 587}, 'IRQ': {'precision': 0.8582554517133957, 'recall': 0.924496644295302, 'f1-score': 0.8901453957996768, 'support': 1788}, 'LEV': {'precision': 0.7905918057663126, 'recall': 0.7186206896551725, 'f1-score': 0.7528901734104047, 'support': 725}, 'EGY': {'precision': 0.806615776081425, 'recall': 0.6788008565310493, 'f1-score': 0.7372093023255814, 'support': 467}, 'GLF': {'precision': 0.8047808764940239, 'recall': 0.7637051039697542, 'f1-score': 0.7837051406401552, 'support': 529}, 'accuracy': 0.808349609375, 'macro avg': {'precision': 0.7871137170759666, 'recall': 0.758862307953288, 'f1-score': 0.7711108669405669, 'support': 4096}, 'weighted avg': {'precision': 0.8072690533093448, 'recall': 0.808349609375, 'f1-score': 0.8062143174610381, 'support': 4096}}, 'eval_runtime': 7.4055, 'eval_samples_per_second': 553.099, 'eval_steps_per_second': 8.642, 'epoch': 0.46}\n"
     ]
    },
    {
     "name": "stderr",
     "output_type": "stream",
     "text": [
      "\n",
      " 12%|█▏        | 10000/86888 [1:17:48<9:21:08,  2.28it/s]"
     ]
    },
    {
     "name": "stdout",
     "output_type": "stream",
     "text": [
      "{'eval_loss': 0.5382239818572998, 'eval_macro_f1': 0.7711108669405669, 'eval_macro_precision': 0.7871137170759666, 'eval_macro_recall': 0.758862307953288, 'eval_accuracy': 0.808349609375, 'eval_report': {'NOR': {'precision': 0.6753246753246753, 'recall': 0.7086882453151618, 'f1-score': 0.6916043225270159, 'support': 587}, 'IRQ': {'precision': 0.8582554517133957, 'recall': 0.924496644295302, 'f1-score': 0.8901453957996768, 'support': 1788}, 'LEV': {'precision': 0.7905918057663126, 'recall': 0.7186206896551725, 'f1-score': 0.7528901734104047, 'support': 725}, 'EGY': {'precision': 0.806615776081425, 'recall': 0.6788008565310493, 'f1-score': 0.7372093023255814, 'support': 467}, 'GLF': {'precision': 0.8047808764940239, 'recall': 0.7637051039697542, 'f1-score': 0.7837051406401552, 'support': 529}, 'accuracy': 0.808349609375, 'macro avg': {'precision': 0.7871137170759666, 'recall': 0.758862307953288, 'f1-score': 0.7711108669405669, 'support': 4096}, 'weighted avg': {'precision': 0.8072690533093448, 'recall': 0.808349609375, 'f1-score': 0.8062143174610381, 'support': 4096}}, 'eval_runtime': 7.4189, 'eval_samples_per_second': 552.106, 'eval_steps_per_second': 8.627, 'epoch': 0.46}\n"
     ]
    },
    {
     "name": "stderr",
     "output_type": "stream",
     "text": [
      "\n",
      " 12%|█▏        | 10000/86888 [1:17:55<9:21:08,  2.28it/s]"
     ]
    },
    {
     "name": "stdout",
     "output_type": "stream",
     "text": [
      "{'eval_loss': 0.5382239818572998, 'eval_macro_f1': 0.7711108669405669, 'eval_macro_precision': 0.7871137170759666, 'eval_macro_recall': 0.758862307953288, 'eval_accuracy': 0.808349609375, 'eval_report': {'NOR': {'precision': 0.6753246753246753, 'recall': 0.7086882453151618, 'f1-score': 0.6916043225270159, 'support': 587}, 'IRQ': {'precision': 0.8582554517133957, 'recall': 0.924496644295302, 'f1-score': 0.8901453957996768, 'support': 1788}, 'LEV': {'precision': 0.7905918057663126, 'recall': 0.7186206896551725, 'f1-score': 0.7528901734104047, 'support': 725}, 'EGY': {'precision': 0.806615776081425, 'recall': 0.6788008565310493, 'f1-score': 0.7372093023255814, 'support': 467}, 'GLF': {'precision': 0.8047808764940239, 'recall': 0.7637051039697542, 'f1-score': 0.7837051406401552, 'support': 529}, 'accuracy': 0.808349609375, 'macro avg': {'precision': 0.7871137170759666, 'recall': 0.758862307953288, 'f1-score': 0.7711108669405669, 'support': 4096}, 'weighted avg': {'precision': 0.8072690533093448, 'recall': 0.808349609375, 'f1-score': 0.8062143174610381, 'support': 4096}}, 'eval_runtime': 7.4095, 'eval_samples_per_second': 552.805, 'eval_steps_per_second': 8.638, 'epoch': 0.46}\n"
     ]
    },
    {
     "name": "stderr",
     "output_type": "stream",
     "text": [
      "\n",
      " 12%|█▏        | 10000/86888 [1:18:03<9:21:08,  2.28it/s]"
     ]
    },
    {
     "name": "stdout",
     "output_type": "stream",
     "text": [
      "{'eval_loss': 0.5382239818572998, 'eval_macro_f1': 0.7711108669405669, 'eval_macro_precision': 0.7871137170759666, 'eval_macro_recall': 0.758862307953288, 'eval_accuracy': 0.808349609375, 'eval_report': {'NOR': {'precision': 0.6753246753246753, 'recall': 0.7086882453151618, 'f1-score': 0.6916043225270159, 'support': 587}, 'IRQ': {'precision': 0.8582554517133957, 'recall': 0.924496644295302, 'f1-score': 0.8901453957996768, 'support': 1788}, 'LEV': {'precision': 0.7905918057663126, 'recall': 0.7186206896551725, 'f1-score': 0.7528901734104047, 'support': 725}, 'EGY': {'precision': 0.806615776081425, 'recall': 0.6788008565310493, 'f1-score': 0.7372093023255814, 'support': 467}, 'GLF': {'precision': 0.8047808764940239, 'recall': 0.7637051039697542, 'f1-score': 0.7837051406401552, 'support': 529}, 'accuracy': 0.808349609375, 'macro avg': {'precision': 0.7871137170759666, 'recall': 0.758862307953288, 'f1-score': 0.7711108669405669, 'support': 4096}, 'weighted avg': {'precision': 0.8072690533093448, 'recall': 0.808349609375, 'f1-score': 0.8062143174610381, 'support': 4096}}, 'eval_runtime': 7.4393, 'eval_samples_per_second': 550.589, 'eval_steps_per_second': 8.603, 'epoch': 0.46}\n"
     ]
    },
    {
     "name": "stderr",
     "output_type": "stream",
     "text": [
      "\n",
      " 12%|█▏        | 10000/86888 [1:18:10<9:21:08,  2.28it/s]"
     ]
    },
    {
     "name": "stdout",
     "output_type": "stream",
     "text": [
      "{'eval_loss': 0.5382239818572998, 'eval_macro_f1': 0.7711108669405669, 'eval_macro_precision': 0.7871137170759666, 'eval_macro_recall': 0.758862307953288, 'eval_accuracy': 0.808349609375, 'eval_report': {'NOR': {'precision': 0.6753246753246753, 'recall': 0.7086882453151618, 'f1-score': 0.6916043225270159, 'support': 587}, 'IRQ': {'precision': 0.8582554517133957, 'recall': 0.924496644295302, 'f1-score': 0.8901453957996768, 'support': 1788}, 'LEV': {'precision': 0.7905918057663126, 'recall': 0.7186206896551725, 'f1-score': 0.7528901734104047, 'support': 725}, 'EGY': {'precision': 0.806615776081425, 'recall': 0.6788008565310493, 'f1-score': 0.7372093023255814, 'support': 467}, 'GLF': {'precision': 0.8047808764940239, 'recall': 0.7637051039697542, 'f1-score': 0.7837051406401552, 'support': 529}, 'accuracy': 0.808349609375, 'macro avg': {'precision': 0.7871137170759666, 'recall': 0.758862307953288, 'f1-score': 0.7711108669405669, 'support': 4096}, 'weighted avg': {'precision': 0.8072690533093448, 'recall': 0.808349609375, 'f1-score': 0.8062143174610381, 'support': 4096}}, 'eval_runtime': 7.4209, 'eval_samples_per_second': 551.954, 'eval_steps_per_second': 8.624, 'epoch': 0.46}\n"
     ]
    },
    {
     "name": "stderr",
     "output_type": "stream",
     "text": [
      "\n",
      " 12%|█▏        | 10000/86888 [1:18:18<9:21:08,  2.28it/s]"
     ]
    },
    {
     "name": "stdout",
     "output_type": "stream",
     "text": [
      "{'eval_loss': 0.5382239818572998, 'eval_macro_f1': 0.7711108669405669, 'eval_macro_precision': 0.7871137170759666, 'eval_macro_recall': 0.758862307953288, 'eval_accuracy': 0.808349609375, 'eval_report': {'NOR': {'precision': 0.6753246753246753, 'recall': 0.7086882453151618, 'f1-score': 0.6916043225270159, 'support': 587}, 'IRQ': {'precision': 0.8582554517133957, 'recall': 0.924496644295302, 'f1-score': 0.8901453957996768, 'support': 1788}, 'LEV': {'precision': 0.7905918057663126, 'recall': 0.7186206896551725, 'f1-score': 0.7528901734104047, 'support': 725}, 'EGY': {'precision': 0.806615776081425, 'recall': 0.6788008565310493, 'f1-score': 0.7372093023255814, 'support': 467}, 'GLF': {'precision': 0.8047808764940239, 'recall': 0.7637051039697542, 'f1-score': 0.7837051406401552, 'support': 529}, 'accuracy': 0.808349609375, 'macro avg': {'precision': 0.7871137170759666, 'recall': 0.758862307953288, 'f1-score': 0.7711108669405669, 'support': 4096}, 'weighted avg': {'precision': 0.8072690533093448, 'recall': 0.808349609375, 'f1-score': 0.8062143174610381, 'support': 4096}}, 'eval_runtime': 7.4025, 'eval_samples_per_second': 553.327, 'eval_steps_per_second': 8.646, 'epoch': 0.46}\n"
     ]
    },
    {
     "name": "stderr",
     "output_type": "stream",
     "text": [
      "\n",
      " 12%|█▏        | 10000/86888 [1:18:25<9:21:08,  2.28it/s]"
     ]
    },
    {
     "name": "stdout",
     "output_type": "stream",
     "text": [
      "{'eval_loss': 0.5382239818572998, 'eval_macro_f1': 0.7711108669405669, 'eval_macro_precision': 0.7871137170759666, 'eval_macro_recall': 0.758862307953288, 'eval_accuracy': 0.808349609375, 'eval_report': {'NOR': {'precision': 0.6753246753246753, 'recall': 0.7086882453151618, 'f1-score': 0.6916043225270159, 'support': 587}, 'IRQ': {'precision': 0.8582554517133957, 'recall': 0.924496644295302, 'f1-score': 0.8901453957996768, 'support': 1788}, 'LEV': {'precision': 0.7905918057663126, 'recall': 0.7186206896551725, 'f1-score': 0.7528901734104047, 'support': 725}, 'EGY': {'precision': 0.806615776081425, 'recall': 0.6788008565310493, 'f1-score': 0.7372093023255814, 'support': 467}, 'GLF': {'precision': 0.8047808764940239, 'recall': 0.7637051039697542, 'f1-score': 0.7837051406401552, 'support': 529}, 'accuracy': 0.808349609375, 'macro avg': {'precision': 0.7871137170759666, 'recall': 0.758862307953288, 'f1-score': 0.7711108669405669, 'support': 4096}, 'weighted avg': {'precision': 0.8072690533093448, 'recall': 0.808349609375, 'f1-score': 0.8062143174610381, 'support': 4096}}, 'eval_runtime': 7.424, 'eval_samples_per_second': 551.721, 'eval_steps_per_second': 8.621, 'epoch': 0.46}\n"
     ]
    },
    {
     "name": "stderr",
     "output_type": "stream",
     "text": [
      "\n",
      " 12%|█▏        | 10000/86888 [1:18:32<9:21:08,  2.28it/s]"
     ]
    },
    {
     "name": "stdout",
     "output_type": "stream",
     "text": [
      "{'eval_loss': 0.5382239818572998, 'eval_macro_f1': 0.7711108669405669, 'eval_macro_precision': 0.7871137170759666, 'eval_macro_recall': 0.758862307953288, 'eval_accuracy': 0.808349609375, 'eval_report': {'NOR': {'precision': 0.6753246753246753, 'recall': 0.7086882453151618, 'f1-score': 0.6916043225270159, 'support': 587}, 'IRQ': {'precision': 0.8582554517133957, 'recall': 0.924496644295302, 'f1-score': 0.8901453957996768, 'support': 1788}, 'LEV': {'precision': 0.7905918057663126, 'recall': 0.7186206896551725, 'f1-score': 0.7528901734104047, 'support': 725}, 'EGY': {'precision': 0.806615776081425, 'recall': 0.6788008565310493, 'f1-score': 0.7372093023255814, 'support': 467}, 'GLF': {'precision': 0.8047808764940239, 'recall': 0.7637051039697542, 'f1-score': 0.7837051406401552, 'support': 529}, 'accuracy': 0.808349609375, 'macro avg': {'precision': 0.7871137170759666, 'recall': 0.758862307953288, 'f1-score': 0.7711108669405669, 'support': 4096}, 'weighted avg': {'precision': 0.8072690533093448, 'recall': 0.808349609375, 'f1-score': 0.8062143174610381, 'support': 4096}}, 'eval_runtime': 7.4188, 'eval_samples_per_second': 552.109, 'eval_steps_per_second': 8.627, 'epoch': 0.46}\n"
     ]
    },
    {
     "name": "stderr",
     "output_type": "stream",
     "text": [
      "\n",
      " 12%|█▏        | 10000/86888 [1:18:40<9:21:08,  2.28it/s]"
     ]
    },
    {
     "name": "stdout",
     "output_type": "stream",
     "text": [
      "{'eval_loss': 0.5382239818572998, 'eval_macro_f1': 0.7711108669405669, 'eval_macro_precision': 0.7871137170759666, 'eval_macro_recall': 0.758862307953288, 'eval_accuracy': 0.808349609375, 'eval_report': {'NOR': {'precision': 0.6753246753246753, 'recall': 0.7086882453151618, 'f1-score': 0.6916043225270159, 'support': 587}, 'IRQ': {'precision': 0.8582554517133957, 'recall': 0.924496644295302, 'f1-score': 0.8901453957996768, 'support': 1788}, 'LEV': {'precision': 0.7905918057663126, 'recall': 0.7186206896551725, 'f1-score': 0.7528901734104047, 'support': 725}, 'EGY': {'precision': 0.806615776081425, 'recall': 0.6788008565310493, 'f1-score': 0.7372093023255814, 'support': 467}, 'GLF': {'precision': 0.8047808764940239, 'recall': 0.7637051039697542, 'f1-score': 0.7837051406401552, 'support': 529}, 'accuracy': 0.808349609375, 'macro avg': {'precision': 0.7871137170759666, 'recall': 0.758862307953288, 'f1-score': 0.7711108669405669, 'support': 4096}, 'weighted avg': {'precision': 0.8072690533093448, 'recall': 0.808349609375, 'f1-score': 0.8062143174610381, 'support': 4096}}, 'eval_runtime': 7.4136, 'eval_samples_per_second': 552.501, 'eval_steps_per_second': 8.633, 'epoch': 0.46}\n"
     ]
    },
    {
     "name": "stderr",
     "output_type": "stream",
     "text": [
      "\n",
      " 12%|█▏        | 10000/86888 [1:18:47<9:21:08,  2.28it/s]"
     ]
    },
    {
     "name": "stdout",
     "output_type": "stream",
     "text": [
      "{'eval_loss': 0.5382239818572998, 'eval_macro_f1': 0.7711108669405669, 'eval_macro_precision': 0.7871137170759666, 'eval_macro_recall': 0.758862307953288, 'eval_accuracy': 0.808349609375, 'eval_report': {'NOR': {'precision': 0.6753246753246753, 'recall': 0.7086882453151618, 'f1-score': 0.6916043225270159, 'support': 587}, 'IRQ': {'precision': 0.8582554517133957, 'recall': 0.924496644295302, 'f1-score': 0.8901453957996768, 'support': 1788}, 'LEV': {'precision': 0.7905918057663126, 'recall': 0.7186206896551725, 'f1-score': 0.7528901734104047, 'support': 725}, 'EGY': {'precision': 0.806615776081425, 'recall': 0.6788008565310493, 'f1-score': 0.7372093023255814, 'support': 467}, 'GLF': {'precision': 0.8047808764940239, 'recall': 0.7637051039697542, 'f1-score': 0.7837051406401552, 'support': 529}, 'accuracy': 0.808349609375, 'macro avg': {'precision': 0.7871137170759666, 'recall': 0.758862307953288, 'f1-score': 0.7711108669405669, 'support': 4096}, 'weighted avg': {'precision': 0.8072690533093448, 'recall': 0.808349609375, 'f1-score': 0.8062143174610381, 'support': 4096}}, 'eval_runtime': 7.4154, 'eval_samples_per_second': 552.367, 'eval_steps_per_second': 8.631, 'epoch': 0.46}\n"
     ]
    },
    {
     "name": "stderr",
     "output_type": "stream",
     "text": [
      "\n",
      " 12%|█▏        | 10000/86888 [1:18:55<9:21:08,  2.28it/s]"
     ]
    },
    {
     "name": "stdout",
     "output_type": "stream",
     "text": [
      "{'eval_loss': 0.5382239818572998, 'eval_macro_f1': 0.7711108669405669, 'eval_macro_precision': 0.7871137170759666, 'eval_macro_recall': 0.758862307953288, 'eval_accuracy': 0.808349609375, 'eval_report': {'NOR': {'precision': 0.6753246753246753, 'recall': 0.7086882453151618, 'f1-score': 0.6916043225270159, 'support': 587}, 'IRQ': {'precision': 0.8582554517133957, 'recall': 0.924496644295302, 'f1-score': 0.8901453957996768, 'support': 1788}, 'LEV': {'precision': 0.7905918057663126, 'recall': 0.7186206896551725, 'f1-score': 0.7528901734104047, 'support': 725}, 'EGY': {'precision': 0.806615776081425, 'recall': 0.6788008565310493, 'f1-score': 0.7372093023255814, 'support': 467}, 'GLF': {'precision': 0.8047808764940239, 'recall': 0.7637051039697542, 'f1-score': 0.7837051406401552, 'support': 529}, 'accuracy': 0.808349609375, 'macro avg': {'precision': 0.7871137170759666, 'recall': 0.758862307953288, 'f1-score': 0.7711108669405669, 'support': 4096}, 'weighted avg': {'precision': 0.8072690533093448, 'recall': 0.808349609375, 'f1-score': 0.8062143174610381, 'support': 4096}}, 'eval_runtime': 7.4148, 'eval_samples_per_second': 552.407, 'eval_steps_per_second': 8.631, 'epoch': 0.46}\n"
     ]
    },
    {
     "name": "stderr",
     "output_type": "stream",
     "text": [
      "\n",
      " 12%|█▏        | 10000/86888 [1:19:02<9:21:08,  2.28it/s]"
     ]
    },
    {
     "name": "stdout",
     "output_type": "stream",
     "text": [
      "{'eval_loss': 0.5382239818572998, 'eval_macro_f1': 0.7711108669405669, 'eval_macro_precision': 0.7871137170759666, 'eval_macro_recall': 0.758862307953288, 'eval_accuracy': 0.808349609375, 'eval_report': {'NOR': {'precision': 0.6753246753246753, 'recall': 0.7086882453151618, 'f1-score': 0.6916043225270159, 'support': 587}, 'IRQ': {'precision': 0.8582554517133957, 'recall': 0.924496644295302, 'f1-score': 0.8901453957996768, 'support': 1788}, 'LEV': {'precision': 0.7905918057663126, 'recall': 0.7186206896551725, 'f1-score': 0.7528901734104047, 'support': 725}, 'EGY': {'precision': 0.806615776081425, 'recall': 0.6788008565310493, 'f1-score': 0.7372093023255814, 'support': 467}, 'GLF': {'precision': 0.8047808764940239, 'recall': 0.7637051039697542, 'f1-score': 0.7837051406401552, 'support': 529}, 'accuracy': 0.808349609375, 'macro avg': {'precision': 0.7871137170759666, 'recall': 0.758862307953288, 'f1-score': 0.7711108669405669, 'support': 4096}, 'weighted avg': {'precision': 0.8072690533093448, 'recall': 0.808349609375, 'f1-score': 0.8062143174610381, 'support': 4096}}, 'eval_runtime': 7.4535, 'eval_samples_per_second': 549.541, 'eval_steps_per_second': 8.587, 'epoch': 0.46}\n"
     ]
    },
    {
     "name": "stderr",
     "output_type": "stream",
     "text": [
      "\n",
      " 12%|█▏        | 10000/86888 [1:19:10<9:21:08,  2.28it/s]"
     ]
    },
    {
     "name": "stdout",
     "output_type": "stream",
     "text": [
      "{'eval_loss': 0.5382239818572998, 'eval_macro_f1': 0.7711108669405669, 'eval_macro_precision': 0.7871137170759666, 'eval_macro_recall': 0.758862307953288, 'eval_accuracy': 0.808349609375, 'eval_report': {'NOR': {'precision': 0.6753246753246753, 'recall': 0.7086882453151618, 'f1-score': 0.6916043225270159, 'support': 587}, 'IRQ': {'precision': 0.8582554517133957, 'recall': 0.924496644295302, 'f1-score': 0.8901453957996768, 'support': 1788}, 'LEV': {'precision': 0.7905918057663126, 'recall': 0.7186206896551725, 'f1-score': 0.7528901734104047, 'support': 725}, 'EGY': {'precision': 0.806615776081425, 'recall': 0.6788008565310493, 'f1-score': 0.7372093023255814, 'support': 467}, 'GLF': {'precision': 0.8047808764940239, 'recall': 0.7637051039697542, 'f1-score': 0.7837051406401552, 'support': 529}, 'accuracy': 0.808349609375, 'macro avg': {'precision': 0.7871137170759666, 'recall': 0.758862307953288, 'f1-score': 0.7711108669405669, 'support': 4096}, 'weighted avg': {'precision': 0.8072690533093448, 'recall': 0.808349609375, 'f1-score': 0.8062143174610381, 'support': 4096}}, 'eval_runtime': 7.4265, 'eval_samples_per_second': 551.54, 'eval_steps_per_second': 8.618, 'epoch': 0.46}\n"
     ]
    },
    {
     "name": "stderr",
     "output_type": "stream",
     "text": [
      "\n",
      " 12%|█▏        | 10000/86888 [1:19:17<9:21:08,  2.28it/s]"
     ]
    },
    {
     "name": "stdout",
     "output_type": "stream",
     "text": [
      "{'eval_loss': 0.5382239818572998, 'eval_macro_f1': 0.7711108669405669, 'eval_macro_precision': 0.7871137170759666, 'eval_macro_recall': 0.758862307953288, 'eval_accuracy': 0.808349609375, 'eval_report': {'NOR': {'precision': 0.6753246753246753, 'recall': 0.7086882453151618, 'f1-score': 0.6916043225270159, 'support': 587}, 'IRQ': {'precision': 0.8582554517133957, 'recall': 0.924496644295302, 'f1-score': 0.8901453957996768, 'support': 1788}, 'LEV': {'precision': 0.7905918057663126, 'recall': 0.7186206896551725, 'f1-score': 0.7528901734104047, 'support': 725}, 'EGY': {'precision': 0.806615776081425, 'recall': 0.6788008565310493, 'f1-score': 0.7372093023255814, 'support': 467}, 'GLF': {'precision': 0.8047808764940239, 'recall': 0.7637051039697542, 'f1-score': 0.7837051406401552, 'support': 529}, 'accuracy': 0.808349609375, 'macro avg': {'precision': 0.7871137170759666, 'recall': 0.758862307953288, 'f1-score': 0.7711108669405669, 'support': 4096}, 'weighted avg': {'precision': 0.8072690533093448, 'recall': 0.808349609375, 'f1-score': 0.8062143174610381, 'support': 4096}}, 'eval_runtime': 7.4218, 'eval_samples_per_second': 551.884, 'eval_steps_per_second': 8.623, 'epoch': 0.46}\n"
     ]
    },
    {
     "name": "stderr",
     "output_type": "stream",
     "text": [
      "\n",
      " 12%|█▏        | 10000/86888 [1:19:25<9:21:08,  2.28it/s]"
     ]
    },
    {
     "name": "stdout",
     "output_type": "stream",
     "text": [
      "{'eval_loss': 0.5382239818572998, 'eval_macro_f1': 0.7711108669405669, 'eval_macro_precision': 0.7871137170759666, 'eval_macro_recall': 0.758862307953288, 'eval_accuracy': 0.808349609375, 'eval_report': {'NOR': {'precision': 0.6753246753246753, 'recall': 0.7086882453151618, 'f1-score': 0.6916043225270159, 'support': 587}, 'IRQ': {'precision': 0.8582554517133957, 'recall': 0.924496644295302, 'f1-score': 0.8901453957996768, 'support': 1788}, 'LEV': {'precision': 0.7905918057663126, 'recall': 0.7186206896551725, 'f1-score': 0.7528901734104047, 'support': 725}, 'EGY': {'precision': 0.806615776081425, 'recall': 0.6788008565310493, 'f1-score': 0.7372093023255814, 'support': 467}, 'GLF': {'precision': 0.8047808764940239, 'recall': 0.7637051039697542, 'f1-score': 0.7837051406401552, 'support': 529}, 'accuracy': 0.808349609375, 'macro avg': {'precision': 0.7871137170759666, 'recall': 0.758862307953288, 'f1-score': 0.7711108669405669, 'support': 4096}, 'weighted avg': {'precision': 0.8072690533093448, 'recall': 0.808349609375, 'f1-score': 0.8062143174610381, 'support': 4096}}, 'eval_runtime': 7.426, 'eval_samples_per_second': 551.578, 'eval_steps_per_second': 8.618, 'epoch': 0.46}\n"
     ]
    },
    {
     "name": "stderr",
     "output_type": "stream",
     "text": [
      "\n",
      " 12%|█▏        | 10000/86888 [1:19:32<9:21:08,  2.28it/s]"
     ]
    },
    {
     "name": "stdout",
     "output_type": "stream",
     "text": [
      "{'eval_loss': 0.5382239818572998, 'eval_macro_f1': 0.7711108669405669, 'eval_macro_precision': 0.7871137170759666, 'eval_macro_recall': 0.758862307953288, 'eval_accuracy': 0.808349609375, 'eval_report': {'NOR': {'precision': 0.6753246753246753, 'recall': 0.7086882453151618, 'f1-score': 0.6916043225270159, 'support': 587}, 'IRQ': {'precision': 0.8582554517133957, 'recall': 0.924496644295302, 'f1-score': 0.8901453957996768, 'support': 1788}, 'LEV': {'precision': 0.7905918057663126, 'recall': 0.7186206896551725, 'f1-score': 0.7528901734104047, 'support': 725}, 'EGY': {'precision': 0.806615776081425, 'recall': 0.6788008565310493, 'f1-score': 0.7372093023255814, 'support': 467}, 'GLF': {'precision': 0.8047808764940239, 'recall': 0.7637051039697542, 'f1-score': 0.7837051406401552, 'support': 529}, 'accuracy': 0.808349609375, 'macro avg': {'precision': 0.7871137170759666, 'recall': 0.758862307953288, 'f1-score': 0.7711108669405669, 'support': 4096}, 'weighted avg': {'precision': 0.8072690533093448, 'recall': 0.808349609375, 'f1-score': 0.8062143174610381, 'support': 4096}}, 'eval_runtime': 7.4193, 'eval_samples_per_second': 552.071, 'eval_steps_per_second': 8.626, 'epoch': 0.46}\n"
     ]
    },
    {
     "name": "stderr",
     "output_type": "stream",
     "text": [
      "\n",
      " 12%|█▏        | 10000/86888 [1:19:39<9:21:08,  2.28it/s]"
     ]
    },
    {
     "name": "stdout",
     "output_type": "stream",
     "text": [
      "{'eval_loss': 0.5382239818572998, 'eval_macro_f1': 0.7711108669405669, 'eval_macro_precision': 0.7871137170759666, 'eval_macro_recall': 0.758862307953288, 'eval_accuracy': 0.808349609375, 'eval_report': {'NOR': {'precision': 0.6753246753246753, 'recall': 0.7086882453151618, 'f1-score': 0.6916043225270159, 'support': 587}, 'IRQ': {'precision': 0.8582554517133957, 'recall': 0.924496644295302, 'f1-score': 0.8901453957996768, 'support': 1788}, 'LEV': {'precision': 0.7905918057663126, 'recall': 0.7186206896551725, 'f1-score': 0.7528901734104047, 'support': 725}, 'EGY': {'precision': 0.806615776081425, 'recall': 0.6788008565310493, 'f1-score': 0.7372093023255814, 'support': 467}, 'GLF': {'precision': 0.8047808764940239, 'recall': 0.7637051039697542, 'f1-score': 0.7837051406401552, 'support': 529}, 'accuracy': 0.808349609375, 'macro avg': {'precision': 0.7871137170759666, 'recall': 0.758862307953288, 'f1-score': 0.7711108669405669, 'support': 4096}, 'weighted avg': {'precision': 0.8072690533093448, 'recall': 0.808349609375, 'f1-score': 0.8062143174610381, 'support': 4096}}, 'eval_runtime': 7.4329, 'eval_samples_per_second': 551.06, 'eval_steps_per_second': 8.61, 'epoch': 0.46}\n"
     ]
    },
    {
     "name": "stderr",
     "output_type": "stream",
     "text": [
      "\n",
      " 12%|█▏        | 10000/86888 [1:19:47<9:21:08,  2.28it/s]"
     ]
    },
    {
     "name": "stdout",
     "output_type": "stream",
     "text": [
      "{'eval_loss': 0.5382239818572998, 'eval_macro_f1': 0.7711108669405669, 'eval_macro_precision': 0.7871137170759666, 'eval_macro_recall': 0.758862307953288, 'eval_accuracy': 0.808349609375, 'eval_report': {'NOR': {'precision': 0.6753246753246753, 'recall': 0.7086882453151618, 'f1-score': 0.6916043225270159, 'support': 587}, 'IRQ': {'precision': 0.8582554517133957, 'recall': 0.924496644295302, 'f1-score': 0.8901453957996768, 'support': 1788}, 'LEV': {'precision': 0.7905918057663126, 'recall': 0.7186206896551725, 'f1-score': 0.7528901734104047, 'support': 725}, 'EGY': {'precision': 0.806615776081425, 'recall': 0.6788008565310493, 'f1-score': 0.7372093023255814, 'support': 467}, 'GLF': {'precision': 0.8047808764940239, 'recall': 0.7637051039697542, 'f1-score': 0.7837051406401552, 'support': 529}, 'accuracy': 0.808349609375, 'macro avg': {'precision': 0.7871137170759666, 'recall': 0.758862307953288, 'f1-score': 0.7711108669405669, 'support': 4096}, 'weighted avg': {'precision': 0.8072690533093448, 'recall': 0.808349609375, 'f1-score': 0.8062143174610381, 'support': 4096}}, 'eval_runtime': 7.425, 'eval_samples_per_second': 551.652, 'eval_steps_per_second': 8.62, 'epoch': 0.46}\n"
     ]
    },
    {
     "name": "stderr",
     "output_type": "stream",
     "text": [
      "\n",
      " 12%|█▏        | 10000/86888 [1:19:54<9:21:08,  2.28it/s]"
     ]
    },
    {
     "name": "stdout",
     "output_type": "stream",
     "text": [
      "{'eval_loss': 0.5382239818572998, 'eval_macro_f1': 0.7711108669405669, 'eval_macro_precision': 0.7871137170759666, 'eval_macro_recall': 0.758862307953288, 'eval_accuracy': 0.808349609375, 'eval_report': {'NOR': {'precision': 0.6753246753246753, 'recall': 0.7086882453151618, 'f1-score': 0.6916043225270159, 'support': 587}, 'IRQ': {'precision': 0.8582554517133957, 'recall': 0.924496644295302, 'f1-score': 0.8901453957996768, 'support': 1788}, 'LEV': {'precision': 0.7905918057663126, 'recall': 0.7186206896551725, 'f1-score': 0.7528901734104047, 'support': 725}, 'EGY': {'precision': 0.806615776081425, 'recall': 0.6788008565310493, 'f1-score': 0.7372093023255814, 'support': 467}, 'GLF': {'precision': 0.8047808764940239, 'recall': 0.7637051039697542, 'f1-score': 0.7837051406401552, 'support': 529}, 'accuracy': 0.808349609375, 'macro avg': {'precision': 0.7871137170759666, 'recall': 0.758862307953288, 'f1-score': 0.7711108669405669, 'support': 4096}, 'weighted avg': {'precision': 0.8072690533093448, 'recall': 0.808349609375, 'f1-score': 0.8062143174610381, 'support': 4096}}, 'eval_runtime': 7.432, 'eval_samples_per_second': 551.131, 'eval_steps_per_second': 8.611, 'epoch': 0.46}\n"
     ]
    },
    {
     "name": "stderr",
     "output_type": "stream",
     "text": [
      "\n",
      " 12%|█▏        | 10000/86888 [1:20:02<9:21:08,  2.28it/s]"
     ]
    },
    {
     "name": "stdout",
     "output_type": "stream",
     "text": [
      "{'eval_loss': 0.5382239818572998, 'eval_macro_f1': 0.7711108669405669, 'eval_macro_precision': 0.7871137170759666, 'eval_macro_recall': 0.758862307953288, 'eval_accuracy': 0.808349609375, 'eval_report': {'NOR': {'precision': 0.6753246753246753, 'recall': 0.7086882453151618, 'f1-score': 0.6916043225270159, 'support': 587}, 'IRQ': {'precision': 0.8582554517133957, 'recall': 0.924496644295302, 'f1-score': 0.8901453957996768, 'support': 1788}, 'LEV': {'precision': 0.7905918057663126, 'recall': 0.7186206896551725, 'f1-score': 0.7528901734104047, 'support': 725}, 'EGY': {'precision': 0.806615776081425, 'recall': 0.6788008565310493, 'f1-score': 0.7372093023255814, 'support': 467}, 'GLF': {'precision': 0.8047808764940239, 'recall': 0.7637051039697542, 'f1-score': 0.7837051406401552, 'support': 529}, 'accuracy': 0.808349609375, 'macro avg': {'precision': 0.7871137170759666, 'recall': 0.758862307953288, 'f1-score': 0.7711108669405669, 'support': 4096}, 'weighted avg': {'precision': 0.8072690533093448, 'recall': 0.808349609375, 'f1-score': 0.8062143174610381, 'support': 4096}}, 'eval_runtime': 7.4533, 'eval_samples_per_second': 549.555, 'eval_steps_per_second': 8.587, 'epoch': 0.46}\n"
     ]
    },
    {
     "name": "stderr",
     "output_type": "stream",
     "text": [
      "\n",
      " 12%|█▏        | 10000/86888 [1:20:09<9:21:08,  2.28it/s]"
     ]
    },
    {
     "name": "stdout",
     "output_type": "stream",
     "text": [
      "{'eval_loss': 0.5382239818572998, 'eval_macro_f1': 0.7711108669405669, 'eval_macro_precision': 0.7871137170759666, 'eval_macro_recall': 0.758862307953288, 'eval_accuracy': 0.808349609375, 'eval_report': {'NOR': {'precision': 0.6753246753246753, 'recall': 0.7086882453151618, 'f1-score': 0.6916043225270159, 'support': 587}, 'IRQ': {'precision': 0.8582554517133957, 'recall': 0.924496644295302, 'f1-score': 0.8901453957996768, 'support': 1788}, 'LEV': {'precision': 0.7905918057663126, 'recall': 0.7186206896551725, 'f1-score': 0.7528901734104047, 'support': 725}, 'EGY': {'precision': 0.806615776081425, 'recall': 0.6788008565310493, 'f1-score': 0.7372093023255814, 'support': 467}, 'GLF': {'precision': 0.8047808764940239, 'recall': 0.7637051039697542, 'f1-score': 0.7837051406401552, 'support': 529}, 'accuracy': 0.808349609375, 'macro avg': {'precision': 0.7871137170759666, 'recall': 0.758862307953288, 'f1-score': 0.7711108669405669, 'support': 4096}, 'weighted avg': {'precision': 0.8072690533093448, 'recall': 0.808349609375, 'f1-score': 0.8062143174610381, 'support': 4096}}, 'eval_runtime': 7.4265, 'eval_samples_per_second': 551.541, 'eval_steps_per_second': 8.618, 'epoch': 0.46}\n"
     ]
    },
    {
     "name": "stderr",
     "output_type": "stream",
     "text": [
      "\n",
      " 12%|█▏        | 10000/86888 [1:20:17<9:21:08,  2.28it/s]"
     ]
    },
    {
     "name": "stdout",
     "output_type": "stream",
     "text": [
      "{'eval_loss': 0.5382239818572998, 'eval_macro_f1': 0.7711108669405669, 'eval_macro_precision': 0.7871137170759666, 'eval_macro_recall': 0.758862307953288, 'eval_accuracy': 0.808349609375, 'eval_report': {'NOR': {'precision': 0.6753246753246753, 'recall': 0.7086882453151618, 'f1-score': 0.6916043225270159, 'support': 587}, 'IRQ': {'precision': 0.8582554517133957, 'recall': 0.924496644295302, 'f1-score': 0.8901453957996768, 'support': 1788}, 'LEV': {'precision': 0.7905918057663126, 'recall': 0.7186206896551725, 'f1-score': 0.7528901734104047, 'support': 725}, 'EGY': {'precision': 0.806615776081425, 'recall': 0.6788008565310493, 'f1-score': 0.7372093023255814, 'support': 467}, 'GLF': {'precision': 0.8047808764940239, 'recall': 0.7637051039697542, 'f1-score': 0.7837051406401552, 'support': 529}, 'accuracy': 0.808349609375, 'macro avg': {'precision': 0.7871137170759666, 'recall': 0.758862307953288, 'f1-score': 0.7711108669405669, 'support': 4096}, 'weighted avg': {'precision': 0.8072690533093448, 'recall': 0.808349609375, 'f1-score': 0.8062143174610381, 'support': 4096}}, 'eval_runtime': 7.4425, 'eval_samples_per_second': 550.355, 'eval_steps_per_second': 8.599, 'epoch': 0.46}\n"
     ]
    },
    {
     "name": "stderr",
     "output_type": "stream",
     "text": [
      "\n",
      " 12%|█▏        | 10000/86888 [1:20:24<9:21:08,  2.28it/s]"
     ]
    },
    {
     "name": "stdout",
     "output_type": "stream",
     "text": [
      "{'eval_loss': 0.5382239818572998, 'eval_macro_f1': 0.7711108669405669, 'eval_macro_precision': 0.7871137170759666, 'eval_macro_recall': 0.758862307953288, 'eval_accuracy': 0.808349609375, 'eval_report': {'NOR': {'precision': 0.6753246753246753, 'recall': 0.7086882453151618, 'f1-score': 0.6916043225270159, 'support': 587}, 'IRQ': {'precision': 0.8582554517133957, 'recall': 0.924496644295302, 'f1-score': 0.8901453957996768, 'support': 1788}, 'LEV': {'precision': 0.7905918057663126, 'recall': 0.7186206896551725, 'f1-score': 0.7528901734104047, 'support': 725}, 'EGY': {'precision': 0.806615776081425, 'recall': 0.6788008565310493, 'f1-score': 0.7372093023255814, 'support': 467}, 'GLF': {'precision': 0.8047808764940239, 'recall': 0.7637051039697542, 'f1-score': 0.7837051406401552, 'support': 529}, 'accuracy': 0.808349609375, 'macro avg': {'precision': 0.7871137170759666, 'recall': 0.758862307953288, 'f1-score': 0.7711108669405669, 'support': 4096}, 'weighted avg': {'precision': 0.8072690533093448, 'recall': 0.808349609375, 'f1-score': 0.8062143174610381, 'support': 4096}}, 'eval_runtime': 7.4252, 'eval_samples_per_second': 551.635, 'eval_steps_per_second': 8.619, 'epoch': 0.46}\n"
     ]
    },
    {
     "name": "stderr",
     "output_type": "stream",
     "text": [
      "\n",
      " 12%|█▏        | 10000/86888 [1:20:32<9:21:08,  2.28it/s]"
     ]
    },
    {
     "name": "stdout",
     "output_type": "stream",
     "text": [
      "{'eval_loss': 0.5382239818572998, 'eval_macro_f1': 0.7711108669405669, 'eval_macro_precision': 0.7871137170759666, 'eval_macro_recall': 0.758862307953288, 'eval_accuracy': 0.808349609375, 'eval_report': {'NOR': {'precision': 0.6753246753246753, 'recall': 0.7086882453151618, 'f1-score': 0.6916043225270159, 'support': 587}, 'IRQ': {'precision': 0.8582554517133957, 'recall': 0.924496644295302, 'f1-score': 0.8901453957996768, 'support': 1788}, 'LEV': {'precision': 0.7905918057663126, 'recall': 0.7186206896551725, 'f1-score': 0.7528901734104047, 'support': 725}, 'EGY': {'precision': 0.806615776081425, 'recall': 0.6788008565310493, 'f1-score': 0.7372093023255814, 'support': 467}, 'GLF': {'precision': 0.8047808764940239, 'recall': 0.7637051039697542, 'f1-score': 0.7837051406401552, 'support': 529}, 'accuracy': 0.808349609375, 'macro avg': {'precision': 0.7871137170759666, 'recall': 0.758862307953288, 'f1-score': 0.7711108669405669, 'support': 4096}, 'weighted avg': {'precision': 0.8072690533093448, 'recall': 0.808349609375, 'f1-score': 0.8062143174610381, 'support': 4096}}, 'eval_runtime': 7.4244, 'eval_samples_per_second': 551.692, 'eval_steps_per_second': 8.62, 'epoch': 0.46}\n"
     ]
    },
    {
     "name": "stderr",
     "output_type": "stream",
     "text": [
      "\n",
      " 12%|█▏        | 10000/86888 [1:20:39<9:21:08,  2.28it/s]"
     ]
    },
    {
     "name": "stdout",
     "output_type": "stream",
     "text": [
      "{'eval_loss': 0.5382239818572998, 'eval_macro_f1': 0.7711108669405669, 'eval_macro_precision': 0.7871137170759666, 'eval_macro_recall': 0.758862307953288, 'eval_accuracy': 0.808349609375, 'eval_report': {'NOR': {'precision': 0.6753246753246753, 'recall': 0.7086882453151618, 'f1-score': 0.6916043225270159, 'support': 587}, 'IRQ': {'precision': 0.8582554517133957, 'recall': 0.924496644295302, 'f1-score': 0.8901453957996768, 'support': 1788}, 'LEV': {'precision': 0.7905918057663126, 'recall': 0.7186206896551725, 'f1-score': 0.7528901734104047, 'support': 725}, 'EGY': {'precision': 0.806615776081425, 'recall': 0.6788008565310493, 'f1-score': 0.7372093023255814, 'support': 467}, 'GLF': {'precision': 0.8047808764940239, 'recall': 0.7637051039697542, 'f1-score': 0.7837051406401552, 'support': 529}, 'accuracy': 0.808349609375, 'macro avg': {'precision': 0.7871137170759666, 'recall': 0.758862307953288, 'f1-score': 0.7711108669405669, 'support': 4096}, 'weighted avg': {'precision': 0.8072690533093448, 'recall': 0.808349609375, 'f1-score': 0.8062143174610381, 'support': 4096}}, 'eval_runtime': 7.4274, 'eval_samples_per_second': 551.471, 'eval_steps_per_second': 8.617, 'epoch': 0.46}\n"
     ]
    },
    {
     "name": "stderr",
     "output_type": "stream",
     "text": [
      "\n",
      " 12%|█▏        | 10000/86888 [1:20:46<9:21:08,  2.28it/s]"
     ]
    },
    {
     "name": "stdout",
     "output_type": "stream",
     "text": [
      "{'eval_loss': 0.5382239818572998, 'eval_macro_f1': 0.7711108669405669, 'eval_macro_precision': 0.7871137170759666, 'eval_macro_recall': 0.758862307953288, 'eval_accuracy': 0.808349609375, 'eval_report': {'NOR': {'precision': 0.6753246753246753, 'recall': 0.7086882453151618, 'f1-score': 0.6916043225270159, 'support': 587}, 'IRQ': {'precision': 0.8582554517133957, 'recall': 0.924496644295302, 'f1-score': 0.8901453957996768, 'support': 1788}, 'LEV': {'precision': 0.7905918057663126, 'recall': 0.7186206896551725, 'f1-score': 0.7528901734104047, 'support': 725}, 'EGY': {'precision': 0.806615776081425, 'recall': 0.6788008565310493, 'f1-score': 0.7372093023255814, 'support': 467}, 'GLF': {'precision': 0.8047808764940239, 'recall': 0.7637051039697542, 'f1-score': 0.7837051406401552, 'support': 529}, 'accuracy': 0.808349609375, 'macro avg': {'precision': 0.7871137170759666, 'recall': 0.758862307953288, 'f1-score': 0.7711108669405669, 'support': 4096}, 'weighted avg': {'precision': 0.8072690533093448, 'recall': 0.808349609375, 'f1-score': 0.8062143174610381, 'support': 4096}}, 'eval_runtime': 7.4353, 'eval_samples_per_second': 550.889, 'eval_steps_per_second': 8.608, 'epoch': 0.46}\n"
     ]
    },
    {
     "name": "stderr",
     "output_type": "stream",
     "text": [
      "\n",
      " 12%|█▏        | 10000/86888 [1:20:54<9:21:08,  2.28it/s]"
     ]
    },
    {
     "name": "stdout",
     "output_type": "stream",
     "text": [
      "{'eval_loss': 0.5382239818572998, 'eval_macro_f1': 0.7711108669405669, 'eval_macro_precision': 0.7871137170759666, 'eval_macro_recall': 0.758862307953288, 'eval_accuracy': 0.808349609375, 'eval_report': {'NOR': {'precision': 0.6753246753246753, 'recall': 0.7086882453151618, 'f1-score': 0.6916043225270159, 'support': 587}, 'IRQ': {'precision': 0.8582554517133957, 'recall': 0.924496644295302, 'f1-score': 0.8901453957996768, 'support': 1788}, 'LEV': {'precision': 0.7905918057663126, 'recall': 0.7186206896551725, 'f1-score': 0.7528901734104047, 'support': 725}, 'EGY': {'precision': 0.806615776081425, 'recall': 0.6788008565310493, 'f1-score': 0.7372093023255814, 'support': 467}, 'GLF': {'precision': 0.8047808764940239, 'recall': 0.7637051039697542, 'f1-score': 0.7837051406401552, 'support': 529}, 'accuracy': 0.808349609375, 'macro avg': {'precision': 0.7871137170759666, 'recall': 0.758862307953288, 'f1-score': 0.7711108669405669, 'support': 4096}, 'weighted avg': {'precision': 0.8072690533093448, 'recall': 0.808349609375, 'f1-score': 0.8062143174610381, 'support': 4096}}, 'eval_runtime': 7.4754, 'eval_samples_per_second': 547.933, 'eval_steps_per_second': 8.561, 'epoch': 0.46}\n"
     ]
    },
    {
     "name": "stderr",
     "output_type": "stream",
     "text": [
      "\n",
      " 12%|█▏        | 10000/86888 [1:21:01<9:21:08,  2.28it/s]"
     ]
    },
    {
     "name": "stdout",
     "output_type": "stream",
     "text": [
      "{'eval_loss': 0.5382239818572998, 'eval_macro_f1': 0.7711108669405669, 'eval_macro_precision': 0.7871137170759666, 'eval_macro_recall': 0.758862307953288, 'eval_accuracy': 0.808349609375, 'eval_report': {'NOR': {'precision': 0.6753246753246753, 'recall': 0.7086882453151618, 'f1-score': 0.6916043225270159, 'support': 587}, 'IRQ': {'precision': 0.8582554517133957, 'recall': 0.924496644295302, 'f1-score': 0.8901453957996768, 'support': 1788}, 'LEV': {'precision': 0.7905918057663126, 'recall': 0.7186206896551725, 'f1-score': 0.7528901734104047, 'support': 725}, 'EGY': {'precision': 0.806615776081425, 'recall': 0.6788008565310493, 'f1-score': 0.7372093023255814, 'support': 467}, 'GLF': {'precision': 0.8047808764940239, 'recall': 0.7637051039697542, 'f1-score': 0.7837051406401552, 'support': 529}, 'accuracy': 0.808349609375, 'macro avg': {'precision': 0.7871137170759666, 'recall': 0.758862307953288, 'f1-score': 0.7711108669405669, 'support': 4096}, 'weighted avg': {'precision': 0.8072690533093448, 'recall': 0.808349609375, 'f1-score': 0.8062143174610381, 'support': 4096}}, 'eval_runtime': 7.4718, 'eval_samples_per_second': 548.195, 'eval_steps_per_second': 8.566, 'epoch': 0.46}\n"
     ]
    },
    {
     "name": "stderr",
     "output_type": "stream",
     "text": [
      "\n",
      " 12%|█▏        | 10000/86888 [1:21:09<9:21:08,  2.28it/s]"
     ]
    },
    {
     "name": "stdout",
     "output_type": "stream",
     "text": [
      "{'eval_loss': 0.5382239818572998, 'eval_macro_f1': 0.7711108669405669, 'eval_macro_precision': 0.7871137170759666, 'eval_macro_recall': 0.758862307953288, 'eval_accuracy': 0.808349609375, 'eval_report': {'NOR': {'precision': 0.6753246753246753, 'recall': 0.7086882453151618, 'f1-score': 0.6916043225270159, 'support': 587}, 'IRQ': {'precision': 0.8582554517133957, 'recall': 0.924496644295302, 'f1-score': 0.8901453957996768, 'support': 1788}, 'LEV': {'precision': 0.7905918057663126, 'recall': 0.7186206896551725, 'f1-score': 0.7528901734104047, 'support': 725}, 'EGY': {'precision': 0.806615776081425, 'recall': 0.6788008565310493, 'f1-score': 0.7372093023255814, 'support': 467}, 'GLF': {'precision': 0.8047808764940239, 'recall': 0.7637051039697542, 'f1-score': 0.7837051406401552, 'support': 529}, 'accuracy': 0.808349609375, 'macro avg': {'precision': 0.7871137170759666, 'recall': 0.758862307953288, 'f1-score': 0.7711108669405669, 'support': 4096}, 'weighted avg': {'precision': 0.8072690533093448, 'recall': 0.808349609375, 'f1-score': 0.8062143174610381, 'support': 4096}}, 'eval_runtime': 7.4383, 'eval_samples_per_second': 550.66, 'eval_steps_per_second': 8.604, 'epoch': 0.46}\n"
     ]
    },
    {
     "name": "stderr",
     "output_type": "stream",
     "text": [
      "\n",
      " 12%|█▏        | 10000/86888 [1:21:16<9:21:08,  2.28it/s]"
     ]
    },
    {
     "name": "stdout",
     "output_type": "stream",
     "text": [
      "{'eval_loss': 0.5382239818572998, 'eval_macro_f1': 0.7711108669405669, 'eval_macro_precision': 0.7871137170759666, 'eval_macro_recall': 0.758862307953288, 'eval_accuracy': 0.808349609375, 'eval_report': {'NOR': {'precision': 0.6753246753246753, 'recall': 0.7086882453151618, 'f1-score': 0.6916043225270159, 'support': 587}, 'IRQ': {'precision': 0.8582554517133957, 'recall': 0.924496644295302, 'f1-score': 0.8901453957996768, 'support': 1788}, 'LEV': {'precision': 0.7905918057663126, 'recall': 0.7186206896551725, 'f1-score': 0.7528901734104047, 'support': 725}, 'EGY': {'precision': 0.806615776081425, 'recall': 0.6788008565310493, 'f1-score': 0.7372093023255814, 'support': 467}, 'GLF': {'precision': 0.8047808764940239, 'recall': 0.7637051039697542, 'f1-score': 0.7837051406401552, 'support': 529}, 'accuracy': 0.808349609375, 'macro avg': {'precision': 0.7871137170759666, 'recall': 0.758862307953288, 'f1-score': 0.7711108669405669, 'support': 4096}, 'weighted avg': {'precision': 0.8072690533093448, 'recall': 0.808349609375, 'f1-score': 0.8062143174610381, 'support': 4096}}, 'eval_runtime': 7.4227, 'eval_samples_per_second': 551.819, 'eval_steps_per_second': 8.622, 'epoch': 0.46}\n"
     ]
    },
    {
     "name": "stderr",
     "output_type": "stream",
     "text": [
      "\n",
      " 12%|█▏        | 10000/86888 [1:21:24<9:21:08,  2.28it/s]"
     ]
    },
    {
     "name": "stdout",
     "output_type": "stream",
     "text": [
      "{'eval_loss': 0.5382239818572998, 'eval_macro_f1': 0.7711108669405669, 'eval_macro_precision': 0.7871137170759666, 'eval_macro_recall': 0.758862307953288, 'eval_accuracy': 0.808349609375, 'eval_report': {'NOR': {'precision': 0.6753246753246753, 'recall': 0.7086882453151618, 'f1-score': 0.6916043225270159, 'support': 587}, 'IRQ': {'precision': 0.8582554517133957, 'recall': 0.924496644295302, 'f1-score': 0.8901453957996768, 'support': 1788}, 'LEV': {'precision': 0.7905918057663126, 'recall': 0.7186206896551725, 'f1-score': 0.7528901734104047, 'support': 725}, 'EGY': {'precision': 0.806615776081425, 'recall': 0.6788008565310493, 'f1-score': 0.7372093023255814, 'support': 467}, 'GLF': {'precision': 0.8047808764940239, 'recall': 0.7637051039697542, 'f1-score': 0.7837051406401552, 'support': 529}, 'accuracy': 0.808349609375, 'macro avg': {'precision': 0.7871137170759666, 'recall': 0.758862307953288, 'f1-score': 0.7711108669405669, 'support': 4096}, 'weighted avg': {'precision': 0.8072690533093448, 'recall': 0.808349609375, 'f1-score': 0.8062143174610381, 'support': 4096}}, 'eval_runtime': 7.4197, 'eval_samples_per_second': 552.042, 'eval_steps_per_second': 8.626, 'epoch': 0.46}\n"
     ]
    },
    {
     "name": "stderr",
     "output_type": "stream",
     "text": [
      "\n",
      " 12%|█▏        | 10000/86888 [1:21:31<9:21:08,  2.28it/s]"
     ]
    },
    {
     "name": "stdout",
     "output_type": "stream",
     "text": [
      "{'eval_loss': 0.5382239818572998, 'eval_macro_f1': 0.7711108669405669, 'eval_macro_precision': 0.7871137170759666, 'eval_macro_recall': 0.758862307953288, 'eval_accuracy': 0.808349609375, 'eval_report': {'NOR': {'precision': 0.6753246753246753, 'recall': 0.7086882453151618, 'f1-score': 0.6916043225270159, 'support': 587}, 'IRQ': {'precision': 0.8582554517133957, 'recall': 0.924496644295302, 'f1-score': 0.8901453957996768, 'support': 1788}, 'LEV': {'precision': 0.7905918057663126, 'recall': 0.7186206896551725, 'f1-score': 0.7528901734104047, 'support': 725}, 'EGY': {'precision': 0.806615776081425, 'recall': 0.6788008565310493, 'f1-score': 0.7372093023255814, 'support': 467}, 'GLF': {'precision': 0.8047808764940239, 'recall': 0.7637051039697542, 'f1-score': 0.7837051406401552, 'support': 529}, 'accuracy': 0.808349609375, 'macro avg': {'precision': 0.7871137170759666, 'recall': 0.758862307953288, 'f1-score': 0.7711108669405669, 'support': 4096}, 'weighted avg': {'precision': 0.8072690533093448, 'recall': 0.808349609375, 'f1-score': 0.8062143174610381, 'support': 4096}}, 'eval_runtime': 7.4322, 'eval_samples_per_second': 551.112, 'eval_steps_per_second': 8.611, 'epoch': 0.46}\n"
     ]
    },
    {
     "name": "stderr",
     "output_type": "stream",
     "text": [
      "\n",
      " 12%|█▏        | 10000/86888 [1:21:39<9:21:08,  2.28it/s]"
     ]
    },
    {
     "name": "stdout",
     "output_type": "stream",
     "text": [
      "{'eval_loss': 0.5382239818572998, 'eval_macro_f1': 0.7711108669405669, 'eval_macro_precision': 0.7871137170759666, 'eval_macro_recall': 0.758862307953288, 'eval_accuracy': 0.808349609375, 'eval_report': {'NOR': {'precision': 0.6753246753246753, 'recall': 0.7086882453151618, 'f1-score': 0.6916043225270159, 'support': 587}, 'IRQ': {'precision': 0.8582554517133957, 'recall': 0.924496644295302, 'f1-score': 0.8901453957996768, 'support': 1788}, 'LEV': {'precision': 0.7905918057663126, 'recall': 0.7186206896551725, 'f1-score': 0.7528901734104047, 'support': 725}, 'EGY': {'precision': 0.806615776081425, 'recall': 0.6788008565310493, 'f1-score': 0.7372093023255814, 'support': 467}, 'GLF': {'precision': 0.8047808764940239, 'recall': 0.7637051039697542, 'f1-score': 0.7837051406401552, 'support': 529}, 'accuracy': 0.808349609375, 'macro avg': {'precision': 0.7871137170759666, 'recall': 0.758862307953288, 'f1-score': 0.7711108669405669, 'support': 4096}, 'weighted avg': {'precision': 0.8072690533093448, 'recall': 0.808349609375, 'f1-score': 0.8062143174610381, 'support': 4096}}, 'eval_runtime': 7.4126, 'eval_samples_per_second': 552.571, 'eval_steps_per_second': 8.634, 'epoch': 0.46}\n"
     ]
    },
    {
     "name": "stderr",
     "output_type": "stream",
     "text": [
      "\n",
      " 12%|█▏        | 10000/86888 [1:21:46<9:21:08,  2.28it/s]"
     ]
    },
    {
     "name": "stdout",
     "output_type": "stream",
     "text": [
      "{'eval_loss': 0.5382239818572998, 'eval_macro_f1': 0.7711108669405669, 'eval_macro_precision': 0.7871137170759666, 'eval_macro_recall': 0.758862307953288, 'eval_accuracy': 0.808349609375, 'eval_report': {'NOR': {'precision': 0.6753246753246753, 'recall': 0.7086882453151618, 'f1-score': 0.6916043225270159, 'support': 587}, 'IRQ': {'precision': 0.8582554517133957, 'recall': 0.924496644295302, 'f1-score': 0.8901453957996768, 'support': 1788}, 'LEV': {'precision': 0.7905918057663126, 'recall': 0.7186206896551725, 'f1-score': 0.7528901734104047, 'support': 725}, 'EGY': {'precision': 0.806615776081425, 'recall': 0.6788008565310493, 'f1-score': 0.7372093023255814, 'support': 467}, 'GLF': {'precision': 0.8047808764940239, 'recall': 0.7637051039697542, 'f1-score': 0.7837051406401552, 'support': 529}, 'accuracy': 0.808349609375, 'macro avg': {'precision': 0.7871137170759666, 'recall': 0.758862307953288, 'f1-score': 0.7711108669405669, 'support': 4096}, 'weighted avg': {'precision': 0.8072690533093448, 'recall': 0.808349609375, 'f1-score': 0.8062143174610381, 'support': 4096}}, 'eval_runtime': 7.426, 'eval_samples_per_second': 551.576, 'eval_steps_per_second': 8.618, 'epoch': 0.46}\n"
     ]
    },
    {
     "name": "stderr",
     "output_type": "stream",
     "text": [
      "\n",
      " 12%|█▏        | 10000/86888 [1:21:53<9:21:08,  2.28it/s]"
     ]
    },
    {
     "name": "stdout",
     "output_type": "stream",
     "text": [
      "{'eval_loss': 0.5382239818572998, 'eval_macro_f1': 0.7711108669405669, 'eval_macro_precision': 0.7871137170759666, 'eval_macro_recall': 0.758862307953288, 'eval_accuracy': 0.808349609375, 'eval_report': {'NOR': {'precision': 0.6753246753246753, 'recall': 0.7086882453151618, 'f1-score': 0.6916043225270159, 'support': 587}, 'IRQ': {'precision': 0.8582554517133957, 'recall': 0.924496644295302, 'f1-score': 0.8901453957996768, 'support': 1788}, 'LEV': {'precision': 0.7905918057663126, 'recall': 0.7186206896551725, 'f1-score': 0.7528901734104047, 'support': 725}, 'EGY': {'precision': 0.806615776081425, 'recall': 0.6788008565310493, 'f1-score': 0.7372093023255814, 'support': 467}, 'GLF': {'precision': 0.8047808764940239, 'recall': 0.7637051039697542, 'f1-score': 0.7837051406401552, 'support': 529}, 'accuracy': 0.808349609375, 'macro avg': {'precision': 0.7871137170759666, 'recall': 0.758862307953288, 'f1-score': 0.7711108669405669, 'support': 4096}, 'weighted avg': {'precision': 0.8072690533093448, 'recall': 0.808349609375, 'f1-score': 0.8062143174610381, 'support': 4096}}, 'eval_runtime': 7.44, 'eval_samples_per_second': 550.54, 'eval_steps_per_second': 8.602, 'epoch': 0.46}\n"
     ]
    },
    {
     "name": "stderr",
     "output_type": "stream",
     "text": [
      "\n",
      " 12%|█▏        | 10000/86888 [1:22:01<9:21:08,  2.28it/s]"
     ]
    },
    {
     "name": "stdout",
     "output_type": "stream",
     "text": [
      "{'eval_loss': 0.5382239818572998, 'eval_macro_f1': 0.7711108669405669, 'eval_macro_precision': 0.7871137170759666, 'eval_macro_recall': 0.758862307953288, 'eval_accuracy': 0.808349609375, 'eval_report': {'NOR': {'precision': 0.6753246753246753, 'recall': 0.7086882453151618, 'f1-score': 0.6916043225270159, 'support': 587}, 'IRQ': {'precision': 0.8582554517133957, 'recall': 0.924496644295302, 'f1-score': 0.8901453957996768, 'support': 1788}, 'LEV': {'precision': 0.7905918057663126, 'recall': 0.7186206896551725, 'f1-score': 0.7528901734104047, 'support': 725}, 'EGY': {'precision': 0.806615776081425, 'recall': 0.6788008565310493, 'f1-score': 0.7372093023255814, 'support': 467}, 'GLF': {'precision': 0.8047808764940239, 'recall': 0.7637051039697542, 'f1-score': 0.7837051406401552, 'support': 529}, 'accuracy': 0.808349609375, 'macro avg': {'precision': 0.7871137170759666, 'recall': 0.758862307953288, 'f1-score': 0.7711108669405669, 'support': 4096}, 'weighted avg': {'precision': 0.8072690533093448, 'recall': 0.808349609375, 'f1-score': 0.8062143174610381, 'support': 4096}}, 'eval_runtime': 7.4375, 'eval_samples_per_second': 550.725, 'eval_steps_per_second': 8.605, 'epoch': 0.46}\n"
     ]
    },
    {
     "name": "stderr",
     "output_type": "stream",
     "text": [
      "\n",
      " 12%|█▏        | 10000/86888 [1:22:08<9:21:08,  2.28it/s]"
     ]
    },
    {
     "name": "stdout",
     "output_type": "stream",
     "text": [
      "{'eval_loss': 0.5382239818572998, 'eval_macro_f1': 0.7711108669405669, 'eval_macro_precision': 0.7871137170759666, 'eval_macro_recall': 0.758862307953288, 'eval_accuracy': 0.808349609375, 'eval_report': {'NOR': {'precision': 0.6753246753246753, 'recall': 0.7086882453151618, 'f1-score': 0.6916043225270159, 'support': 587}, 'IRQ': {'precision': 0.8582554517133957, 'recall': 0.924496644295302, 'f1-score': 0.8901453957996768, 'support': 1788}, 'LEV': {'precision': 0.7905918057663126, 'recall': 0.7186206896551725, 'f1-score': 0.7528901734104047, 'support': 725}, 'EGY': {'precision': 0.806615776081425, 'recall': 0.6788008565310493, 'f1-score': 0.7372093023255814, 'support': 467}, 'GLF': {'precision': 0.8047808764940239, 'recall': 0.7637051039697542, 'f1-score': 0.7837051406401552, 'support': 529}, 'accuracy': 0.808349609375, 'macro avg': {'precision': 0.7871137170759666, 'recall': 0.758862307953288, 'f1-score': 0.7711108669405669, 'support': 4096}, 'weighted avg': {'precision': 0.8072690533093448, 'recall': 0.808349609375, 'f1-score': 0.8062143174610381, 'support': 4096}}, 'eval_runtime': 7.424, 'eval_samples_per_second': 551.724, 'eval_steps_per_second': 8.621, 'epoch': 0.46}\n"
     ]
    },
    {
     "name": "stderr",
     "output_type": "stream",
     "text": [
      "\n",
      " 12%|█▏        | 10000/86888 [1:22:16<9:21:08,  2.28it/s]"
     ]
    },
    {
     "name": "stdout",
     "output_type": "stream",
     "text": [
      "{'eval_loss': 0.5382239818572998, 'eval_macro_f1': 0.7711108669405669, 'eval_macro_precision': 0.7871137170759666, 'eval_macro_recall': 0.758862307953288, 'eval_accuracy': 0.808349609375, 'eval_report': {'NOR': {'precision': 0.6753246753246753, 'recall': 0.7086882453151618, 'f1-score': 0.6916043225270159, 'support': 587}, 'IRQ': {'precision': 0.8582554517133957, 'recall': 0.924496644295302, 'f1-score': 0.8901453957996768, 'support': 1788}, 'LEV': {'precision': 0.7905918057663126, 'recall': 0.7186206896551725, 'f1-score': 0.7528901734104047, 'support': 725}, 'EGY': {'precision': 0.806615776081425, 'recall': 0.6788008565310493, 'f1-score': 0.7372093023255814, 'support': 467}, 'GLF': {'precision': 0.8047808764940239, 'recall': 0.7637051039697542, 'f1-score': 0.7837051406401552, 'support': 529}, 'accuracy': 0.808349609375, 'macro avg': {'precision': 0.7871137170759666, 'recall': 0.758862307953288, 'f1-score': 0.7711108669405669, 'support': 4096}, 'weighted avg': {'precision': 0.8072690533093448, 'recall': 0.808349609375, 'f1-score': 0.8062143174610381, 'support': 4096}}, 'eval_runtime': 7.4288, 'eval_samples_per_second': 551.365, 'eval_steps_per_second': 8.615, 'epoch': 0.46}\n"
     ]
    },
    {
     "name": "stderr",
     "output_type": "stream",
     "text": [
      "\n",
      " 12%|█▏        | 10000/86888 [1:22:23<9:21:08,  2.28it/s]"
     ]
    },
    {
     "name": "stdout",
     "output_type": "stream",
     "text": [
      "{'eval_loss': 0.5382239818572998, 'eval_macro_f1': 0.7711108669405669, 'eval_macro_precision': 0.7871137170759666, 'eval_macro_recall': 0.758862307953288, 'eval_accuracy': 0.808349609375, 'eval_report': {'NOR': {'precision': 0.6753246753246753, 'recall': 0.7086882453151618, 'f1-score': 0.6916043225270159, 'support': 587}, 'IRQ': {'precision': 0.8582554517133957, 'recall': 0.924496644295302, 'f1-score': 0.8901453957996768, 'support': 1788}, 'LEV': {'precision': 0.7905918057663126, 'recall': 0.7186206896551725, 'f1-score': 0.7528901734104047, 'support': 725}, 'EGY': {'precision': 0.806615776081425, 'recall': 0.6788008565310493, 'f1-score': 0.7372093023255814, 'support': 467}, 'GLF': {'precision': 0.8047808764940239, 'recall': 0.7637051039697542, 'f1-score': 0.7837051406401552, 'support': 529}, 'accuracy': 0.808349609375, 'macro avg': {'precision': 0.7871137170759666, 'recall': 0.758862307953288, 'f1-score': 0.7711108669405669, 'support': 4096}, 'weighted avg': {'precision': 0.8072690533093448, 'recall': 0.808349609375, 'f1-score': 0.8062143174610381, 'support': 4096}}, 'eval_runtime': 7.4267, 'eval_samples_per_second': 551.522, 'eval_steps_per_second': 8.618, 'epoch': 0.46}\n"
     ]
    },
    {
     "name": "stderr",
     "output_type": "stream",
     "text": [
      "\n",
      " 12%|█▏        | 10000/86888 [1:22:31<9:21:08,  2.28it/s]"
     ]
    },
    {
     "name": "stdout",
     "output_type": "stream",
     "text": [
      "{'eval_loss': 0.5382239818572998, 'eval_macro_f1': 0.7711108669405669, 'eval_macro_precision': 0.7871137170759666, 'eval_macro_recall': 0.758862307953288, 'eval_accuracy': 0.808349609375, 'eval_report': {'NOR': {'precision': 0.6753246753246753, 'recall': 0.7086882453151618, 'f1-score': 0.6916043225270159, 'support': 587}, 'IRQ': {'precision': 0.8582554517133957, 'recall': 0.924496644295302, 'f1-score': 0.8901453957996768, 'support': 1788}, 'LEV': {'precision': 0.7905918057663126, 'recall': 0.7186206896551725, 'f1-score': 0.7528901734104047, 'support': 725}, 'EGY': {'precision': 0.806615776081425, 'recall': 0.6788008565310493, 'f1-score': 0.7372093023255814, 'support': 467}, 'GLF': {'precision': 0.8047808764940239, 'recall': 0.7637051039697542, 'f1-score': 0.7837051406401552, 'support': 529}, 'accuracy': 0.808349609375, 'macro avg': {'precision': 0.7871137170759666, 'recall': 0.758862307953288, 'f1-score': 0.7711108669405669, 'support': 4096}, 'weighted avg': {'precision': 0.8072690533093448, 'recall': 0.808349609375, 'f1-score': 0.8062143174610381, 'support': 4096}}, 'eval_runtime': 7.419, 'eval_samples_per_second': 552.098, 'eval_steps_per_second': 8.627, 'epoch': 0.46}\n"
     ]
    },
    {
     "name": "stderr",
     "output_type": "stream",
     "text": [
      "\n",
      " 12%|█▏        | 10000/86888 [1:22:38<9:21:08,  2.28it/s]"
     ]
    },
    {
     "name": "stdout",
     "output_type": "stream",
     "text": [
      "{'eval_loss': 0.5382239818572998, 'eval_macro_f1': 0.7711108669405669, 'eval_macro_precision': 0.7871137170759666, 'eval_macro_recall': 0.758862307953288, 'eval_accuracy': 0.808349609375, 'eval_report': {'NOR': {'precision': 0.6753246753246753, 'recall': 0.7086882453151618, 'f1-score': 0.6916043225270159, 'support': 587}, 'IRQ': {'precision': 0.8582554517133957, 'recall': 0.924496644295302, 'f1-score': 0.8901453957996768, 'support': 1788}, 'LEV': {'precision': 0.7905918057663126, 'recall': 0.7186206896551725, 'f1-score': 0.7528901734104047, 'support': 725}, 'EGY': {'precision': 0.806615776081425, 'recall': 0.6788008565310493, 'f1-score': 0.7372093023255814, 'support': 467}, 'GLF': {'precision': 0.8047808764940239, 'recall': 0.7637051039697542, 'f1-score': 0.7837051406401552, 'support': 529}, 'accuracy': 0.808349609375, 'macro avg': {'precision': 0.7871137170759666, 'recall': 0.758862307953288, 'f1-score': 0.7711108669405669, 'support': 4096}, 'weighted avg': {'precision': 0.8072690533093448, 'recall': 0.808349609375, 'f1-score': 0.8062143174610381, 'support': 4096}}, 'eval_runtime': 7.4275, 'eval_samples_per_second': 551.467, 'eval_steps_per_second': 8.617, 'epoch': 0.46}\n"
     ]
    },
    {
     "name": "stderr",
     "output_type": "stream",
     "text": [
      "\n",
      " 12%|█▏        | 10000/86888 [1:22:46<9:21:08,  2.28it/s]"
     ]
    },
    {
     "name": "stdout",
     "output_type": "stream",
     "text": [
      "{'eval_loss': 0.5382239818572998, 'eval_macro_f1': 0.7711108669405669, 'eval_macro_precision': 0.7871137170759666, 'eval_macro_recall': 0.758862307953288, 'eval_accuracy': 0.808349609375, 'eval_report': {'NOR': {'precision': 0.6753246753246753, 'recall': 0.7086882453151618, 'f1-score': 0.6916043225270159, 'support': 587}, 'IRQ': {'precision': 0.8582554517133957, 'recall': 0.924496644295302, 'f1-score': 0.8901453957996768, 'support': 1788}, 'LEV': {'precision': 0.7905918057663126, 'recall': 0.7186206896551725, 'f1-score': 0.7528901734104047, 'support': 725}, 'EGY': {'precision': 0.806615776081425, 'recall': 0.6788008565310493, 'f1-score': 0.7372093023255814, 'support': 467}, 'GLF': {'precision': 0.8047808764940239, 'recall': 0.7637051039697542, 'f1-score': 0.7837051406401552, 'support': 529}, 'accuracy': 0.808349609375, 'macro avg': {'precision': 0.7871137170759666, 'recall': 0.758862307953288, 'f1-score': 0.7711108669405669, 'support': 4096}, 'weighted avg': {'precision': 0.8072690533093448, 'recall': 0.808349609375, 'f1-score': 0.8062143174610381, 'support': 4096}}, 'eval_runtime': 7.4286, 'eval_samples_per_second': 551.382, 'eval_steps_per_second': 8.615, 'epoch': 0.46}\n"
     ]
    },
    {
     "name": "stderr",
     "output_type": "stream",
     "text": [
      "\n",
      " 12%|█▏        | 10000/86888 [1:22:53<9:21:08,  2.28it/s]"
     ]
    },
    {
     "name": "stdout",
     "output_type": "stream",
     "text": [
      "{'eval_loss': 0.5382239818572998, 'eval_macro_f1': 0.7711108669405669, 'eval_macro_precision': 0.7871137170759666, 'eval_macro_recall': 0.758862307953288, 'eval_accuracy': 0.808349609375, 'eval_report': {'NOR': {'precision': 0.6753246753246753, 'recall': 0.7086882453151618, 'f1-score': 0.6916043225270159, 'support': 587}, 'IRQ': {'precision': 0.8582554517133957, 'recall': 0.924496644295302, 'f1-score': 0.8901453957996768, 'support': 1788}, 'LEV': {'precision': 0.7905918057663126, 'recall': 0.7186206896551725, 'f1-score': 0.7528901734104047, 'support': 725}, 'EGY': {'precision': 0.806615776081425, 'recall': 0.6788008565310493, 'f1-score': 0.7372093023255814, 'support': 467}, 'GLF': {'precision': 0.8047808764940239, 'recall': 0.7637051039697542, 'f1-score': 0.7837051406401552, 'support': 529}, 'accuracy': 0.808349609375, 'macro avg': {'precision': 0.7871137170759666, 'recall': 0.758862307953288, 'f1-score': 0.7711108669405669, 'support': 4096}, 'weighted avg': {'precision': 0.8072690533093448, 'recall': 0.808349609375, 'f1-score': 0.8062143174610381, 'support': 4096}}, 'eval_runtime': 7.445, 'eval_samples_per_second': 550.167, 'eval_steps_per_second': 8.596, 'epoch': 0.46}\n"
     ]
    },
    {
     "name": "stderr",
     "output_type": "stream",
     "text": [
      "\n",
      " 12%|█▏        | 10000/86888 [1:23:00<9:21:08,  2.28it/s]"
     ]
    },
    {
     "name": "stdout",
     "output_type": "stream",
     "text": [
      "{'eval_loss': 0.5382239818572998, 'eval_macro_f1': 0.7711108669405669, 'eval_macro_precision': 0.7871137170759666, 'eval_macro_recall': 0.758862307953288, 'eval_accuracy': 0.808349609375, 'eval_report': {'NOR': {'precision': 0.6753246753246753, 'recall': 0.7086882453151618, 'f1-score': 0.6916043225270159, 'support': 587}, 'IRQ': {'precision': 0.8582554517133957, 'recall': 0.924496644295302, 'f1-score': 0.8901453957996768, 'support': 1788}, 'LEV': {'precision': 0.7905918057663126, 'recall': 0.7186206896551725, 'f1-score': 0.7528901734104047, 'support': 725}, 'EGY': {'precision': 0.806615776081425, 'recall': 0.6788008565310493, 'f1-score': 0.7372093023255814, 'support': 467}, 'GLF': {'precision': 0.8047808764940239, 'recall': 0.7637051039697542, 'f1-score': 0.7837051406401552, 'support': 529}, 'accuracy': 0.808349609375, 'macro avg': {'precision': 0.7871137170759666, 'recall': 0.758862307953288, 'f1-score': 0.7711108669405669, 'support': 4096}, 'weighted avg': {'precision': 0.8072690533093448, 'recall': 0.808349609375, 'f1-score': 0.8062143174610381, 'support': 4096}}, 'eval_runtime': 7.4586, 'eval_samples_per_second': 549.162, 'eval_steps_per_second': 8.581, 'epoch': 0.46}\n"
     ]
    },
    {
     "name": "stderr",
     "output_type": "stream",
     "text": [
      "\n",
      " 12%|█▏        | 10000/86888 [1:23:08<9:21:08,  2.28it/s]"
     ]
    },
    {
     "name": "stdout",
     "output_type": "stream",
     "text": [
      "{'eval_loss': 0.5382239818572998, 'eval_macro_f1': 0.7711108669405669, 'eval_macro_precision': 0.7871137170759666, 'eval_macro_recall': 0.758862307953288, 'eval_accuracy': 0.808349609375, 'eval_report': {'NOR': {'precision': 0.6753246753246753, 'recall': 0.7086882453151618, 'f1-score': 0.6916043225270159, 'support': 587}, 'IRQ': {'precision': 0.8582554517133957, 'recall': 0.924496644295302, 'f1-score': 0.8901453957996768, 'support': 1788}, 'LEV': {'precision': 0.7905918057663126, 'recall': 0.7186206896551725, 'f1-score': 0.7528901734104047, 'support': 725}, 'EGY': {'precision': 0.806615776081425, 'recall': 0.6788008565310493, 'f1-score': 0.7372093023255814, 'support': 467}, 'GLF': {'precision': 0.8047808764940239, 'recall': 0.7637051039697542, 'f1-score': 0.7837051406401552, 'support': 529}, 'accuracy': 0.808349609375, 'macro avg': {'precision': 0.7871137170759666, 'recall': 0.758862307953288, 'f1-score': 0.7711108669405669, 'support': 4096}, 'weighted avg': {'precision': 0.8072690533093448, 'recall': 0.808349609375, 'f1-score': 0.8062143174610381, 'support': 4096}}, 'eval_runtime': 7.4255, 'eval_samples_per_second': 551.609, 'eval_steps_per_second': 8.619, 'epoch': 0.46}\n"
     ]
    },
    {
     "name": "stderr",
     "output_type": "stream",
     "text": [
      "\n",
      " 12%|█▏        | 10000/86888 [1:23:15<9:21:08,  2.28it/s]"
     ]
    },
    {
     "name": "stdout",
     "output_type": "stream",
     "text": [
      "{'eval_loss': 0.5382239818572998, 'eval_macro_f1': 0.7711108669405669, 'eval_macro_precision': 0.7871137170759666, 'eval_macro_recall': 0.758862307953288, 'eval_accuracy': 0.808349609375, 'eval_report': {'NOR': {'precision': 0.6753246753246753, 'recall': 0.7086882453151618, 'f1-score': 0.6916043225270159, 'support': 587}, 'IRQ': {'precision': 0.8582554517133957, 'recall': 0.924496644295302, 'f1-score': 0.8901453957996768, 'support': 1788}, 'LEV': {'precision': 0.7905918057663126, 'recall': 0.7186206896551725, 'f1-score': 0.7528901734104047, 'support': 725}, 'EGY': {'precision': 0.806615776081425, 'recall': 0.6788008565310493, 'f1-score': 0.7372093023255814, 'support': 467}, 'GLF': {'precision': 0.8047808764940239, 'recall': 0.7637051039697542, 'f1-score': 0.7837051406401552, 'support': 529}, 'accuracy': 0.808349609375, 'macro avg': {'precision': 0.7871137170759666, 'recall': 0.758862307953288, 'f1-score': 0.7711108669405669, 'support': 4096}, 'weighted avg': {'precision': 0.8072690533093448, 'recall': 0.808349609375, 'f1-score': 0.8062143174610381, 'support': 4096}}, 'eval_runtime': 7.4245, 'eval_samples_per_second': 551.687, 'eval_steps_per_second': 8.62, 'epoch': 0.46}\n"
     ]
    },
    {
     "name": "stderr",
     "output_type": "stream",
     "text": [
      "\n",
      " 12%|█▏        | 10000/86888 [1:23:23<9:21:08,  2.28it/s]"
     ]
    },
    {
     "name": "stdout",
     "output_type": "stream",
     "text": [
      "{'eval_loss': 0.5382239818572998, 'eval_macro_f1': 0.7711108669405669, 'eval_macro_precision': 0.7871137170759666, 'eval_macro_recall': 0.758862307953288, 'eval_accuracy': 0.808349609375, 'eval_report': {'NOR': {'precision': 0.6753246753246753, 'recall': 0.7086882453151618, 'f1-score': 0.6916043225270159, 'support': 587}, 'IRQ': {'precision': 0.8582554517133957, 'recall': 0.924496644295302, 'f1-score': 0.8901453957996768, 'support': 1788}, 'LEV': {'precision': 0.7905918057663126, 'recall': 0.7186206896551725, 'f1-score': 0.7528901734104047, 'support': 725}, 'EGY': {'precision': 0.806615776081425, 'recall': 0.6788008565310493, 'f1-score': 0.7372093023255814, 'support': 467}, 'GLF': {'precision': 0.8047808764940239, 'recall': 0.7637051039697542, 'f1-score': 0.7837051406401552, 'support': 529}, 'accuracy': 0.808349609375, 'macro avg': {'precision': 0.7871137170759666, 'recall': 0.758862307953288, 'f1-score': 0.7711108669405669, 'support': 4096}, 'weighted avg': {'precision': 0.8072690533093448, 'recall': 0.808349609375, 'f1-score': 0.8062143174610381, 'support': 4096}}, 'eval_runtime': 7.4282, 'eval_samples_per_second': 551.411, 'eval_steps_per_second': 8.616, 'epoch': 0.46}\n"
     ]
    },
    {
     "name": "stderr",
     "output_type": "stream",
     "text": [
      "\n",
      " 12%|█▏        | 10000/86888 [1:23:30<9:21:08,  2.28it/s]"
     ]
    },
    {
     "name": "stdout",
     "output_type": "stream",
     "text": [
      "{'eval_loss': 0.5382239818572998, 'eval_macro_f1': 0.7711108669405669, 'eval_macro_precision': 0.7871137170759666, 'eval_macro_recall': 0.758862307953288, 'eval_accuracy': 0.808349609375, 'eval_report': {'NOR': {'precision': 0.6753246753246753, 'recall': 0.7086882453151618, 'f1-score': 0.6916043225270159, 'support': 587}, 'IRQ': {'precision': 0.8582554517133957, 'recall': 0.924496644295302, 'f1-score': 0.8901453957996768, 'support': 1788}, 'LEV': {'precision': 0.7905918057663126, 'recall': 0.7186206896551725, 'f1-score': 0.7528901734104047, 'support': 725}, 'EGY': {'precision': 0.806615776081425, 'recall': 0.6788008565310493, 'f1-score': 0.7372093023255814, 'support': 467}, 'GLF': {'precision': 0.8047808764940239, 'recall': 0.7637051039697542, 'f1-score': 0.7837051406401552, 'support': 529}, 'accuracy': 0.808349609375, 'macro avg': {'precision': 0.7871137170759666, 'recall': 0.758862307953288, 'f1-score': 0.7711108669405669, 'support': 4096}, 'weighted avg': {'precision': 0.8072690533093448, 'recall': 0.808349609375, 'f1-score': 0.8062143174610381, 'support': 4096}}, 'eval_runtime': 7.4334, 'eval_samples_per_second': 551.03, 'eval_steps_per_second': 8.61, 'epoch': 0.46}\n"
     ]
    },
    {
     "name": "stderr",
     "output_type": "stream",
     "text": [
      "\n",
      " 12%|█▏        | 10000/86888 [1:23:38<9:21:08,  2.28it/s]"
     ]
    },
    {
     "name": "stdout",
     "output_type": "stream",
     "text": [
      "{'eval_loss': 0.5382239818572998, 'eval_macro_f1': 0.7711108669405669, 'eval_macro_precision': 0.7871137170759666, 'eval_macro_recall': 0.758862307953288, 'eval_accuracy': 0.808349609375, 'eval_report': {'NOR': {'precision': 0.6753246753246753, 'recall': 0.7086882453151618, 'f1-score': 0.6916043225270159, 'support': 587}, 'IRQ': {'precision': 0.8582554517133957, 'recall': 0.924496644295302, 'f1-score': 0.8901453957996768, 'support': 1788}, 'LEV': {'precision': 0.7905918057663126, 'recall': 0.7186206896551725, 'f1-score': 0.7528901734104047, 'support': 725}, 'EGY': {'precision': 0.806615776081425, 'recall': 0.6788008565310493, 'f1-score': 0.7372093023255814, 'support': 467}, 'GLF': {'precision': 0.8047808764940239, 'recall': 0.7637051039697542, 'f1-score': 0.7837051406401552, 'support': 529}, 'accuracy': 0.808349609375, 'macro avg': {'precision': 0.7871137170759666, 'recall': 0.758862307953288, 'f1-score': 0.7711108669405669, 'support': 4096}, 'weighted avg': {'precision': 0.8072690533093448, 'recall': 0.808349609375, 'f1-score': 0.8062143174610381, 'support': 4096}}, 'eval_runtime': 7.4408, 'eval_samples_per_second': 550.477, 'eval_steps_per_second': 8.601, 'epoch': 0.46}\n"
     ]
    },
    {
     "name": "stderr",
     "output_type": "stream",
     "text": [
      "\n",
      " 12%|█▏        | 10000/86888 [1:23:45<9:21:08,  2.28it/s]"
     ]
    },
    {
     "name": "stdout",
     "output_type": "stream",
     "text": [
      "{'eval_loss': 0.5382239818572998, 'eval_macro_f1': 0.7711108669405669, 'eval_macro_precision': 0.7871137170759666, 'eval_macro_recall': 0.758862307953288, 'eval_accuracy': 0.808349609375, 'eval_report': {'NOR': {'precision': 0.6753246753246753, 'recall': 0.7086882453151618, 'f1-score': 0.6916043225270159, 'support': 587}, 'IRQ': {'precision': 0.8582554517133957, 'recall': 0.924496644295302, 'f1-score': 0.8901453957996768, 'support': 1788}, 'LEV': {'precision': 0.7905918057663126, 'recall': 0.7186206896551725, 'f1-score': 0.7528901734104047, 'support': 725}, 'EGY': {'precision': 0.806615776081425, 'recall': 0.6788008565310493, 'f1-score': 0.7372093023255814, 'support': 467}, 'GLF': {'precision': 0.8047808764940239, 'recall': 0.7637051039697542, 'f1-score': 0.7837051406401552, 'support': 529}, 'accuracy': 0.808349609375, 'macro avg': {'precision': 0.7871137170759666, 'recall': 0.758862307953288, 'f1-score': 0.7711108669405669, 'support': 4096}, 'weighted avg': {'precision': 0.8072690533093448, 'recall': 0.808349609375, 'f1-score': 0.8062143174610381, 'support': 4096}}, 'eval_runtime': 7.4295, 'eval_samples_per_second': 551.317, 'eval_steps_per_second': 8.614, 'epoch': 0.46}\n"
     ]
    },
    {
     "name": "stderr",
     "output_type": "stream",
     "text": [
      "\n",
      " 12%|█▏        | 10000/86888 [1:23:53<9:21:08,  2.28it/s]"
     ]
    },
    {
     "name": "stdout",
     "output_type": "stream",
     "text": [
      "{'eval_loss': 0.5382239818572998, 'eval_macro_f1': 0.7711108669405669, 'eval_macro_precision': 0.7871137170759666, 'eval_macro_recall': 0.758862307953288, 'eval_accuracy': 0.808349609375, 'eval_report': {'NOR': {'precision': 0.6753246753246753, 'recall': 0.7086882453151618, 'f1-score': 0.6916043225270159, 'support': 587}, 'IRQ': {'precision': 0.8582554517133957, 'recall': 0.924496644295302, 'f1-score': 0.8901453957996768, 'support': 1788}, 'LEV': {'precision': 0.7905918057663126, 'recall': 0.7186206896551725, 'f1-score': 0.7528901734104047, 'support': 725}, 'EGY': {'precision': 0.806615776081425, 'recall': 0.6788008565310493, 'f1-score': 0.7372093023255814, 'support': 467}, 'GLF': {'precision': 0.8047808764940239, 'recall': 0.7637051039697542, 'f1-score': 0.7837051406401552, 'support': 529}, 'accuracy': 0.808349609375, 'macro avg': {'precision': 0.7871137170759666, 'recall': 0.758862307953288, 'f1-score': 0.7711108669405669, 'support': 4096}, 'weighted avg': {'precision': 0.8072690533093448, 'recall': 0.808349609375, 'f1-score': 0.8062143174610381, 'support': 4096}}, 'eval_runtime': 7.457, 'eval_samples_per_second': 549.282, 'eval_steps_per_second': 8.583, 'epoch': 0.46}\n"
     ]
    },
    {
     "name": "stderr",
     "output_type": "stream",
     "text": [
      "\n",
      " 12%|█▏        | 10000/86888 [1:24:00<9:21:08,  2.28it/s]"
     ]
    },
    {
     "name": "stdout",
     "output_type": "stream",
     "text": [
      "{'eval_loss': 0.5382239818572998, 'eval_macro_f1': 0.7711108669405669, 'eval_macro_precision': 0.7871137170759666, 'eval_macro_recall': 0.758862307953288, 'eval_accuracy': 0.808349609375, 'eval_report': {'NOR': {'precision': 0.6753246753246753, 'recall': 0.7086882453151618, 'f1-score': 0.6916043225270159, 'support': 587}, 'IRQ': {'precision': 0.8582554517133957, 'recall': 0.924496644295302, 'f1-score': 0.8901453957996768, 'support': 1788}, 'LEV': {'precision': 0.7905918057663126, 'recall': 0.7186206896551725, 'f1-score': 0.7528901734104047, 'support': 725}, 'EGY': {'precision': 0.806615776081425, 'recall': 0.6788008565310493, 'f1-score': 0.7372093023255814, 'support': 467}, 'GLF': {'precision': 0.8047808764940239, 'recall': 0.7637051039697542, 'f1-score': 0.7837051406401552, 'support': 529}, 'accuracy': 0.808349609375, 'macro avg': {'precision': 0.7871137170759666, 'recall': 0.758862307953288, 'f1-score': 0.7711108669405669, 'support': 4096}, 'weighted avg': {'precision': 0.8072690533093448, 'recall': 0.808349609375, 'f1-score': 0.8062143174610381, 'support': 4096}}, 'eval_runtime': 7.4429, 'eval_samples_per_second': 550.319, 'eval_steps_per_second': 8.599, 'epoch': 0.46}\n"
     ]
    },
    {
     "name": "stderr",
     "output_type": "stream",
     "text": [
      "\n",
      " 12%|█▏        | 10000/86888 [1:24:07<9:21:08,  2.28it/s]"
     ]
    },
    {
     "name": "stdout",
     "output_type": "stream",
     "text": [
      "{'eval_loss': 0.5382239818572998, 'eval_macro_f1': 0.7711108669405669, 'eval_macro_precision': 0.7871137170759666, 'eval_macro_recall': 0.758862307953288, 'eval_accuracy': 0.808349609375, 'eval_report': {'NOR': {'precision': 0.6753246753246753, 'recall': 0.7086882453151618, 'f1-score': 0.6916043225270159, 'support': 587}, 'IRQ': {'precision': 0.8582554517133957, 'recall': 0.924496644295302, 'f1-score': 0.8901453957996768, 'support': 1788}, 'LEV': {'precision': 0.7905918057663126, 'recall': 0.7186206896551725, 'f1-score': 0.7528901734104047, 'support': 725}, 'EGY': {'precision': 0.806615776081425, 'recall': 0.6788008565310493, 'f1-score': 0.7372093023255814, 'support': 467}, 'GLF': {'precision': 0.8047808764940239, 'recall': 0.7637051039697542, 'f1-score': 0.7837051406401552, 'support': 529}, 'accuracy': 0.808349609375, 'macro avg': {'precision': 0.7871137170759666, 'recall': 0.758862307953288, 'f1-score': 0.7711108669405669, 'support': 4096}, 'weighted avg': {'precision': 0.8072690533093448, 'recall': 0.808349609375, 'f1-score': 0.8062143174610381, 'support': 4096}}, 'eval_runtime': 7.4131, 'eval_samples_per_second': 552.533, 'eval_steps_per_second': 8.633, 'epoch': 0.46}\n"
     ]
    },
    {
     "name": "stderr",
     "output_type": "stream",
     "text": [
      "\n",
      " 12%|█▏        | 10000/86888 [1:24:15<9:21:08,  2.28it/s]"
     ]
    },
    {
     "name": "stdout",
     "output_type": "stream",
     "text": [
      "{'eval_loss': 0.5382239818572998, 'eval_macro_f1': 0.7711108669405669, 'eval_macro_precision': 0.7871137170759666, 'eval_macro_recall': 0.758862307953288, 'eval_accuracy': 0.808349609375, 'eval_report': {'NOR': {'precision': 0.6753246753246753, 'recall': 0.7086882453151618, 'f1-score': 0.6916043225270159, 'support': 587}, 'IRQ': {'precision': 0.8582554517133957, 'recall': 0.924496644295302, 'f1-score': 0.8901453957996768, 'support': 1788}, 'LEV': {'precision': 0.7905918057663126, 'recall': 0.7186206896551725, 'f1-score': 0.7528901734104047, 'support': 725}, 'EGY': {'precision': 0.806615776081425, 'recall': 0.6788008565310493, 'f1-score': 0.7372093023255814, 'support': 467}, 'GLF': {'precision': 0.8047808764940239, 'recall': 0.7637051039697542, 'f1-score': 0.7837051406401552, 'support': 529}, 'accuracy': 0.808349609375, 'macro avg': {'precision': 0.7871137170759666, 'recall': 0.758862307953288, 'f1-score': 0.7711108669405669, 'support': 4096}, 'weighted avg': {'precision': 0.8072690533093448, 'recall': 0.808349609375, 'f1-score': 0.8062143174610381, 'support': 4096}}, 'eval_runtime': 7.4286, 'eval_samples_per_second': 551.382, 'eval_steps_per_second': 8.615, 'epoch': 0.46}\n"
     ]
    },
    {
     "name": "stderr",
     "output_type": "stream",
     "text": [
      "\n",
      " 12%|█▏        | 10000/86888 [1:24:22<9:21:08,  2.28it/s]"
     ]
    },
    {
     "name": "stdout",
     "output_type": "stream",
     "text": [
      "{'eval_loss': 0.5382239818572998, 'eval_macro_f1': 0.7711108669405669, 'eval_macro_precision': 0.7871137170759666, 'eval_macro_recall': 0.758862307953288, 'eval_accuracy': 0.808349609375, 'eval_report': {'NOR': {'precision': 0.6753246753246753, 'recall': 0.7086882453151618, 'f1-score': 0.6916043225270159, 'support': 587}, 'IRQ': {'precision': 0.8582554517133957, 'recall': 0.924496644295302, 'f1-score': 0.8901453957996768, 'support': 1788}, 'LEV': {'precision': 0.7905918057663126, 'recall': 0.7186206896551725, 'f1-score': 0.7528901734104047, 'support': 725}, 'EGY': {'precision': 0.806615776081425, 'recall': 0.6788008565310493, 'f1-score': 0.7372093023255814, 'support': 467}, 'GLF': {'precision': 0.8047808764940239, 'recall': 0.7637051039697542, 'f1-score': 0.7837051406401552, 'support': 529}, 'accuracy': 0.808349609375, 'macro avg': {'precision': 0.7871137170759666, 'recall': 0.758862307953288, 'f1-score': 0.7711108669405669, 'support': 4096}, 'weighted avg': {'precision': 0.8072690533093448, 'recall': 0.808349609375, 'f1-score': 0.8062143174610381, 'support': 4096}}, 'eval_runtime': 7.4139, 'eval_samples_per_second': 552.476, 'eval_steps_per_second': 8.632, 'epoch': 0.46}\n"
     ]
    },
    {
     "name": "stderr",
     "output_type": "stream",
     "text": [
      "\n",
      " 12%|█▏        | 10000/86888 [1:24:30<9:21:08,  2.28it/s]"
     ]
    },
    {
     "name": "stdout",
     "output_type": "stream",
     "text": [
      "{'eval_loss': 0.5382239818572998, 'eval_macro_f1': 0.7711108669405669, 'eval_macro_precision': 0.7871137170759666, 'eval_macro_recall': 0.758862307953288, 'eval_accuracy': 0.808349609375, 'eval_report': {'NOR': {'precision': 0.6753246753246753, 'recall': 0.7086882453151618, 'f1-score': 0.6916043225270159, 'support': 587}, 'IRQ': {'precision': 0.8582554517133957, 'recall': 0.924496644295302, 'f1-score': 0.8901453957996768, 'support': 1788}, 'LEV': {'precision': 0.7905918057663126, 'recall': 0.7186206896551725, 'f1-score': 0.7528901734104047, 'support': 725}, 'EGY': {'precision': 0.806615776081425, 'recall': 0.6788008565310493, 'f1-score': 0.7372093023255814, 'support': 467}, 'GLF': {'precision': 0.8047808764940239, 'recall': 0.7637051039697542, 'f1-score': 0.7837051406401552, 'support': 529}, 'accuracy': 0.808349609375, 'macro avg': {'precision': 0.7871137170759666, 'recall': 0.758862307953288, 'f1-score': 0.7711108669405669, 'support': 4096}, 'weighted avg': {'precision': 0.8072690533093448, 'recall': 0.808349609375, 'f1-score': 0.8062143174610381, 'support': 4096}}, 'eval_runtime': 7.4163, 'eval_samples_per_second': 552.294, 'eval_steps_per_second': 8.63, 'epoch': 0.46}\n"
     ]
    },
    {
     "name": "stderr",
     "output_type": "stream",
     "text": [
      "\n",
      " 12%|█▏        | 10000/86888 [1:24:37<9:21:08,  2.28it/s]"
     ]
    },
    {
     "name": "stdout",
     "output_type": "stream",
     "text": [
      "{'eval_loss': 0.5382239818572998, 'eval_macro_f1': 0.7711108669405669, 'eval_macro_precision': 0.7871137170759666, 'eval_macro_recall': 0.758862307953288, 'eval_accuracy': 0.808349609375, 'eval_report': {'NOR': {'precision': 0.6753246753246753, 'recall': 0.7086882453151618, 'f1-score': 0.6916043225270159, 'support': 587}, 'IRQ': {'precision': 0.8582554517133957, 'recall': 0.924496644295302, 'f1-score': 0.8901453957996768, 'support': 1788}, 'LEV': {'precision': 0.7905918057663126, 'recall': 0.7186206896551725, 'f1-score': 0.7528901734104047, 'support': 725}, 'EGY': {'precision': 0.806615776081425, 'recall': 0.6788008565310493, 'f1-score': 0.7372093023255814, 'support': 467}, 'GLF': {'precision': 0.8047808764940239, 'recall': 0.7637051039697542, 'f1-score': 0.7837051406401552, 'support': 529}, 'accuracy': 0.808349609375, 'macro avg': {'precision': 0.7871137170759666, 'recall': 0.758862307953288, 'f1-score': 0.7711108669405669, 'support': 4096}, 'weighted avg': {'precision': 0.8072690533093448, 'recall': 0.808349609375, 'f1-score': 0.8062143174610381, 'support': 4096}}, 'eval_runtime': 7.4351, 'eval_samples_per_second': 550.902, 'eval_steps_per_second': 8.608, 'epoch': 0.46}\n"
     ]
    },
    {
     "name": "stderr",
     "output_type": "stream",
     "text": [
      "\n",
      " 12%|█▏        | 10000/86888 [1:24:45<9:21:08,  2.28it/s]"
     ]
    },
    {
     "name": "stdout",
     "output_type": "stream",
     "text": [
      "{'eval_loss': 0.5382239818572998, 'eval_macro_f1': 0.7711108669405669, 'eval_macro_precision': 0.7871137170759666, 'eval_macro_recall': 0.758862307953288, 'eval_accuracy': 0.808349609375, 'eval_report': {'NOR': {'precision': 0.6753246753246753, 'recall': 0.7086882453151618, 'f1-score': 0.6916043225270159, 'support': 587}, 'IRQ': {'precision': 0.8582554517133957, 'recall': 0.924496644295302, 'f1-score': 0.8901453957996768, 'support': 1788}, 'LEV': {'precision': 0.7905918057663126, 'recall': 0.7186206896551725, 'f1-score': 0.7528901734104047, 'support': 725}, 'EGY': {'precision': 0.806615776081425, 'recall': 0.6788008565310493, 'f1-score': 0.7372093023255814, 'support': 467}, 'GLF': {'precision': 0.8047808764940239, 'recall': 0.7637051039697542, 'f1-score': 0.7837051406401552, 'support': 529}, 'accuracy': 0.808349609375, 'macro avg': {'precision': 0.7871137170759666, 'recall': 0.758862307953288, 'f1-score': 0.7711108669405669, 'support': 4096}, 'weighted avg': {'precision': 0.8072690533093448, 'recall': 0.808349609375, 'f1-score': 0.8062143174610381, 'support': 4096}}, 'eval_runtime': 7.4295, 'eval_samples_per_second': 551.312, 'eval_steps_per_second': 8.614, 'epoch': 0.46}\n"
     ]
    },
    {
     "name": "stderr",
     "output_type": "stream",
     "text": [
      "\n",
      " 12%|█▏        | 10000/86888 [1:24:52<9:21:08,  2.28it/s]"
     ]
    },
    {
     "name": "stdout",
     "output_type": "stream",
     "text": [
      "{'eval_loss': 0.5382239818572998, 'eval_macro_f1': 0.7711108669405669, 'eval_macro_precision': 0.7871137170759666, 'eval_macro_recall': 0.758862307953288, 'eval_accuracy': 0.808349609375, 'eval_report': {'NOR': {'precision': 0.6753246753246753, 'recall': 0.7086882453151618, 'f1-score': 0.6916043225270159, 'support': 587}, 'IRQ': {'precision': 0.8582554517133957, 'recall': 0.924496644295302, 'f1-score': 0.8901453957996768, 'support': 1788}, 'LEV': {'precision': 0.7905918057663126, 'recall': 0.7186206896551725, 'f1-score': 0.7528901734104047, 'support': 725}, 'EGY': {'precision': 0.806615776081425, 'recall': 0.6788008565310493, 'f1-score': 0.7372093023255814, 'support': 467}, 'GLF': {'precision': 0.8047808764940239, 'recall': 0.7637051039697542, 'f1-score': 0.7837051406401552, 'support': 529}, 'accuracy': 0.808349609375, 'macro avg': {'precision': 0.7871137170759666, 'recall': 0.758862307953288, 'f1-score': 0.7711108669405669, 'support': 4096}, 'weighted avg': {'precision': 0.8072690533093448, 'recall': 0.808349609375, 'f1-score': 0.8062143174610381, 'support': 4096}}, 'eval_runtime': 7.4532, 'eval_samples_per_second': 549.562, 'eval_steps_per_second': 8.587, 'epoch': 0.46}\n"
     ]
    },
    {
     "name": "stderr",
     "output_type": "stream",
     "text": [
      "\n",
      " 12%|█▏        | 10000/86888 [1:25:00<9:21:08,  2.28it/s]"
     ]
    },
    {
     "name": "stdout",
     "output_type": "stream",
     "text": [
      "{'eval_loss': 0.5382239818572998, 'eval_macro_f1': 0.7711108669405669, 'eval_macro_precision': 0.7871137170759666, 'eval_macro_recall': 0.758862307953288, 'eval_accuracy': 0.808349609375, 'eval_report': {'NOR': {'precision': 0.6753246753246753, 'recall': 0.7086882453151618, 'f1-score': 0.6916043225270159, 'support': 587}, 'IRQ': {'precision': 0.8582554517133957, 'recall': 0.924496644295302, 'f1-score': 0.8901453957996768, 'support': 1788}, 'LEV': {'precision': 0.7905918057663126, 'recall': 0.7186206896551725, 'f1-score': 0.7528901734104047, 'support': 725}, 'EGY': {'precision': 0.806615776081425, 'recall': 0.6788008565310493, 'f1-score': 0.7372093023255814, 'support': 467}, 'GLF': {'precision': 0.8047808764940239, 'recall': 0.7637051039697542, 'f1-score': 0.7837051406401552, 'support': 529}, 'accuracy': 0.808349609375, 'macro avg': {'precision': 0.7871137170759666, 'recall': 0.758862307953288, 'f1-score': 0.7711108669405669, 'support': 4096}, 'weighted avg': {'precision': 0.8072690533093448, 'recall': 0.808349609375, 'f1-score': 0.8062143174610381, 'support': 4096}}, 'eval_runtime': 7.4353, 'eval_samples_per_second': 550.883, 'eval_steps_per_second': 8.608, 'epoch': 0.46}\n"
     ]
    },
    {
     "name": "stderr",
     "output_type": "stream",
     "text": [
      "\n",
      " 12%|█▏        | 10000/86888 [1:25:07<9:21:08,  2.28it/s]"
     ]
    },
    {
     "name": "stdout",
     "output_type": "stream",
     "text": [
      "{'eval_loss': 0.5382239818572998, 'eval_macro_f1': 0.7711108669405669, 'eval_macro_precision': 0.7871137170759666, 'eval_macro_recall': 0.758862307953288, 'eval_accuracy': 0.808349609375, 'eval_report': {'NOR': {'precision': 0.6753246753246753, 'recall': 0.7086882453151618, 'f1-score': 0.6916043225270159, 'support': 587}, 'IRQ': {'precision': 0.8582554517133957, 'recall': 0.924496644295302, 'f1-score': 0.8901453957996768, 'support': 1788}, 'LEV': {'precision': 0.7905918057663126, 'recall': 0.7186206896551725, 'f1-score': 0.7528901734104047, 'support': 725}, 'EGY': {'precision': 0.806615776081425, 'recall': 0.6788008565310493, 'f1-score': 0.7372093023255814, 'support': 467}, 'GLF': {'precision': 0.8047808764940239, 'recall': 0.7637051039697542, 'f1-score': 0.7837051406401552, 'support': 529}, 'accuracy': 0.808349609375, 'macro avg': {'precision': 0.7871137170759666, 'recall': 0.758862307953288, 'f1-score': 0.7711108669405669, 'support': 4096}, 'weighted avg': {'precision': 0.8072690533093448, 'recall': 0.808349609375, 'f1-score': 0.8062143174610381, 'support': 4096}}, 'eval_runtime': 7.42, 'eval_samples_per_second': 552.019, 'eval_steps_per_second': 8.625, 'epoch': 0.46}\n"
     ]
    },
    {
     "name": "stderr",
     "output_type": "stream",
     "text": [
      "\n",
      " 12%|█▏        | 10000/86888 [1:25:14<9:21:08,  2.28it/s]"
     ]
    },
    {
     "name": "stdout",
     "output_type": "stream",
     "text": [
      "{'eval_loss': 0.5382239818572998, 'eval_macro_f1': 0.7711108669405669, 'eval_macro_precision': 0.7871137170759666, 'eval_macro_recall': 0.758862307953288, 'eval_accuracy': 0.808349609375, 'eval_report': {'NOR': {'precision': 0.6753246753246753, 'recall': 0.7086882453151618, 'f1-score': 0.6916043225270159, 'support': 587}, 'IRQ': {'precision': 0.8582554517133957, 'recall': 0.924496644295302, 'f1-score': 0.8901453957996768, 'support': 1788}, 'LEV': {'precision': 0.7905918057663126, 'recall': 0.7186206896551725, 'f1-score': 0.7528901734104047, 'support': 725}, 'EGY': {'precision': 0.806615776081425, 'recall': 0.6788008565310493, 'f1-score': 0.7372093023255814, 'support': 467}, 'GLF': {'precision': 0.8047808764940239, 'recall': 0.7637051039697542, 'f1-score': 0.7837051406401552, 'support': 529}, 'accuracy': 0.808349609375, 'macro avg': {'precision': 0.7871137170759666, 'recall': 0.758862307953288, 'f1-score': 0.7711108669405669, 'support': 4096}, 'weighted avg': {'precision': 0.8072690533093448, 'recall': 0.808349609375, 'f1-score': 0.8062143174610381, 'support': 4096}}, 'eval_runtime': 7.4148, 'eval_samples_per_second': 552.409, 'eval_steps_per_second': 8.631, 'epoch': 0.46}\n"
     ]
    },
    {
     "name": "stderr",
     "output_type": "stream",
     "text": [
      "\n",
      " 12%|█▏        | 10000/86888 [1:25:22<9:21:08,  2.28it/s]"
     ]
    },
    {
     "name": "stdout",
     "output_type": "stream",
     "text": [
      "{'eval_loss': 0.5382239818572998, 'eval_macro_f1': 0.7711108669405669, 'eval_macro_precision': 0.7871137170759666, 'eval_macro_recall': 0.758862307953288, 'eval_accuracy': 0.808349609375, 'eval_report': {'NOR': {'precision': 0.6753246753246753, 'recall': 0.7086882453151618, 'f1-score': 0.6916043225270159, 'support': 587}, 'IRQ': {'precision': 0.8582554517133957, 'recall': 0.924496644295302, 'f1-score': 0.8901453957996768, 'support': 1788}, 'LEV': {'precision': 0.7905918057663126, 'recall': 0.7186206896551725, 'f1-score': 0.7528901734104047, 'support': 725}, 'EGY': {'precision': 0.806615776081425, 'recall': 0.6788008565310493, 'f1-score': 0.7372093023255814, 'support': 467}, 'GLF': {'precision': 0.8047808764940239, 'recall': 0.7637051039697542, 'f1-score': 0.7837051406401552, 'support': 529}, 'accuracy': 0.808349609375, 'macro avg': {'precision': 0.7871137170759666, 'recall': 0.758862307953288, 'f1-score': 0.7711108669405669, 'support': 4096}, 'weighted avg': {'precision': 0.8072690533093448, 'recall': 0.808349609375, 'f1-score': 0.8062143174610381, 'support': 4096}}, 'eval_runtime': 7.4271, 'eval_samples_per_second': 551.492, 'eval_steps_per_second': 8.617, 'epoch': 0.46}\n"
     ]
    },
    {
     "name": "stderr",
     "output_type": "stream",
     "text": [
      "\n",
      " 12%|█▏        | 10000/86888 [1:25:29<9:21:08,  2.28it/s]"
     ]
    },
    {
     "name": "stdout",
     "output_type": "stream",
     "text": [
      "{'eval_loss': 0.5382239818572998, 'eval_macro_f1': 0.7711108669405669, 'eval_macro_precision': 0.7871137170759666, 'eval_macro_recall': 0.758862307953288, 'eval_accuracy': 0.808349609375, 'eval_report': {'NOR': {'precision': 0.6753246753246753, 'recall': 0.7086882453151618, 'f1-score': 0.6916043225270159, 'support': 587}, 'IRQ': {'precision': 0.8582554517133957, 'recall': 0.924496644295302, 'f1-score': 0.8901453957996768, 'support': 1788}, 'LEV': {'precision': 0.7905918057663126, 'recall': 0.7186206896551725, 'f1-score': 0.7528901734104047, 'support': 725}, 'EGY': {'precision': 0.806615776081425, 'recall': 0.6788008565310493, 'f1-score': 0.7372093023255814, 'support': 467}, 'GLF': {'precision': 0.8047808764940239, 'recall': 0.7637051039697542, 'f1-score': 0.7837051406401552, 'support': 529}, 'accuracy': 0.808349609375, 'macro avg': {'precision': 0.7871137170759666, 'recall': 0.758862307953288, 'f1-score': 0.7711108669405669, 'support': 4096}, 'weighted avg': {'precision': 0.8072690533093448, 'recall': 0.808349609375, 'f1-score': 0.8062143174610381, 'support': 4096}}, 'eval_runtime': 7.4227, 'eval_samples_per_second': 551.821, 'eval_steps_per_second': 8.622, 'epoch': 0.46}\n"
     ]
    },
    {
     "name": "stderr",
     "output_type": "stream",
     "text": [
      "\n",
      " 12%|█▏        | 10000/86888 [1:25:37<9:21:08,  2.28it/s]"
     ]
    },
    {
     "name": "stdout",
     "output_type": "stream",
     "text": [
      "{'eval_loss': 0.5382239818572998, 'eval_macro_f1': 0.7711108669405669, 'eval_macro_precision': 0.7871137170759666, 'eval_macro_recall': 0.758862307953288, 'eval_accuracy': 0.808349609375, 'eval_report': {'NOR': {'precision': 0.6753246753246753, 'recall': 0.7086882453151618, 'f1-score': 0.6916043225270159, 'support': 587}, 'IRQ': {'precision': 0.8582554517133957, 'recall': 0.924496644295302, 'f1-score': 0.8901453957996768, 'support': 1788}, 'LEV': {'precision': 0.7905918057663126, 'recall': 0.7186206896551725, 'f1-score': 0.7528901734104047, 'support': 725}, 'EGY': {'precision': 0.806615776081425, 'recall': 0.6788008565310493, 'f1-score': 0.7372093023255814, 'support': 467}, 'GLF': {'precision': 0.8047808764940239, 'recall': 0.7637051039697542, 'f1-score': 0.7837051406401552, 'support': 529}, 'accuracy': 0.808349609375, 'macro avg': {'precision': 0.7871137170759666, 'recall': 0.758862307953288, 'f1-score': 0.7711108669405669, 'support': 4096}, 'weighted avg': {'precision': 0.8072690533093448, 'recall': 0.808349609375, 'f1-score': 0.8062143174610381, 'support': 4096}}, 'eval_runtime': 7.4069, 'eval_samples_per_second': 553.0, 'eval_steps_per_second': 8.641, 'epoch': 0.46}\n"
     ]
    },
    {
     "name": "stderr",
     "output_type": "stream",
     "text": [
      "\n",
      " 12%|█▏        | 10000/86888 [1:25:44<9:21:08,  2.28it/s]"
     ]
    },
    {
     "name": "stdout",
     "output_type": "stream",
     "text": [
      "{'eval_loss': 0.5382239818572998, 'eval_macro_f1': 0.7711108669405669, 'eval_macro_precision': 0.7871137170759666, 'eval_macro_recall': 0.758862307953288, 'eval_accuracy': 0.808349609375, 'eval_report': {'NOR': {'precision': 0.6753246753246753, 'recall': 0.7086882453151618, 'f1-score': 0.6916043225270159, 'support': 587}, 'IRQ': {'precision': 0.8582554517133957, 'recall': 0.924496644295302, 'f1-score': 0.8901453957996768, 'support': 1788}, 'LEV': {'precision': 0.7905918057663126, 'recall': 0.7186206896551725, 'f1-score': 0.7528901734104047, 'support': 725}, 'EGY': {'precision': 0.806615776081425, 'recall': 0.6788008565310493, 'f1-score': 0.7372093023255814, 'support': 467}, 'GLF': {'precision': 0.8047808764940239, 'recall': 0.7637051039697542, 'f1-score': 0.7837051406401552, 'support': 529}, 'accuracy': 0.808349609375, 'macro avg': {'precision': 0.7871137170759666, 'recall': 0.758862307953288, 'f1-score': 0.7711108669405669, 'support': 4096}, 'weighted avg': {'precision': 0.8072690533093448, 'recall': 0.808349609375, 'f1-score': 0.8062143174610381, 'support': 4096}}, 'eval_runtime': 7.4263, 'eval_samples_per_second': 551.55, 'eval_steps_per_second': 8.618, 'epoch': 0.46}\n"
     ]
    },
    {
     "name": "stderr",
     "output_type": "stream",
     "text": [
      "\n",
      " 12%|█▏        | 10000/86888 [1:25:52<9:21:08,  2.28it/s]"
     ]
    },
    {
     "name": "stdout",
     "output_type": "stream",
     "text": [
      "{'eval_loss': 0.5382239818572998, 'eval_macro_f1': 0.7711108669405669, 'eval_macro_precision': 0.7871137170759666, 'eval_macro_recall': 0.758862307953288, 'eval_accuracy': 0.808349609375, 'eval_report': {'NOR': {'precision': 0.6753246753246753, 'recall': 0.7086882453151618, 'f1-score': 0.6916043225270159, 'support': 587}, 'IRQ': {'precision': 0.8582554517133957, 'recall': 0.924496644295302, 'f1-score': 0.8901453957996768, 'support': 1788}, 'LEV': {'precision': 0.7905918057663126, 'recall': 0.7186206896551725, 'f1-score': 0.7528901734104047, 'support': 725}, 'EGY': {'precision': 0.806615776081425, 'recall': 0.6788008565310493, 'f1-score': 0.7372093023255814, 'support': 467}, 'GLF': {'precision': 0.8047808764940239, 'recall': 0.7637051039697542, 'f1-score': 0.7837051406401552, 'support': 529}, 'accuracy': 0.808349609375, 'macro avg': {'precision': 0.7871137170759666, 'recall': 0.758862307953288, 'f1-score': 0.7711108669405669, 'support': 4096}, 'weighted avg': {'precision': 0.8072690533093448, 'recall': 0.808349609375, 'f1-score': 0.8062143174610381, 'support': 4096}}, 'eval_runtime': 7.4583, 'eval_samples_per_second': 549.185, 'eval_steps_per_second': 8.581, 'epoch': 0.46}\n"
     ]
    },
    {
     "name": "stderr",
     "output_type": "stream",
     "text": [
      "\n",
      " 12%|█▏        | 10000/86888 [1:25:59<9:21:08,  2.28it/s]"
     ]
    },
    {
     "name": "stdout",
     "output_type": "stream",
     "text": [
      "{'eval_loss': 0.5382239818572998, 'eval_macro_f1': 0.7711108669405669, 'eval_macro_precision': 0.7871137170759666, 'eval_macro_recall': 0.758862307953288, 'eval_accuracy': 0.808349609375, 'eval_report': {'NOR': {'precision': 0.6753246753246753, 'recall': 0.7086882453151618, 'f1-score': 0.6916043225270159, 'support': 587}, 'IRQ': {'precision': 0.8582554517133957, 'recall': 0.924496644295302, 'f1-score': 0.8901453957996768, 'support': 1788}, 'LEV': {'precision': 0.7905918057663126, 'recall': 0.7186206896551725, 'f1-score': 0.7528901734104047, 'support': 725}, 'EGY': {'precision': 0.806615776081425, 'recall': 0.6788008565310493, 'f1-score': 0.7372093023255814, 'support': 467}, 'GLF': {'precision': 0.8047808764940239, 'recall': 0.7637051039697542, 'f1-score': 0.7837051406401552, 'support': 529}, 'accuracy': 0.808349609375, 'macro avg': {'precision': 0.7871137170759666, 'recall': 0.758862307953288, 'f1-score': 0.7711108669405669, 'support': 4096}, 'weighted avg': {'precision': 0.8072690533093448, 'recall': 0.808349609375, 'f1-score': 0.8062143174610381, 'support': 4096}}, 'eval_runtime': 7.4309, 'eval_samples_per_second': 551.214, 'eval_steps_per_second': 8.613, 'epoch': 0.46}\n"
     ]
    },
    {
     "name": "stderr",
     "output_type": "stream",
     "text": [
      "\n",
      " 12%|█▏        | 10000/86888 [1:26:06<9:21:08,  2.28it/s]"
     ]
    },
    {
     "name": "stdout",
     "output_type": "stream",
     "text": [
      "{'eval_loss': 0.5382239818572998, 'eval_macro_f1': 0.7711108669405669, 'eval_macro_precision': 0.7871137170759666, 'eval_macro_recall': 0.758862307953288, 'eval_accuracy': 0.808349609375, 'eval_report': {'NOR': {'precision': 0.6753246753246753, 'recall': 0.7086882453151618, 'f1-score': 0.6916043225270159, 'support': 587}, 'IRQ': {'precision': 0.8582554517133957, 'recall': 0.924496644295302, 'f1-score': 0.8901453957996768, 'support': 1788}, 'LEV': {'precision': 0.7905918057663126, 'recall': 0.7186206896551725, 'f1-score': 0.7528901734104047, 'support': 725}, 'EGY': {'precision': 0.806615776081425, 'recall': 0.6788008565310493, 'f1-score': 0.7372093023255814, 'support': 467}, 'GLF': {'precision': 0.8047808764940239, 'recall': 0.7637051039697542, 'f1-score': 0.7837051406401552, 'support': 529}, 'accuracy': 0.808349609375, 'macro avg': {'precision': 0.7871137170759666, 'recall': 0.758862307953288, 'f1-score': 0.7711108669405669, 'support': 4096}, 'weighted avg': {'precision': 0.8072690533093448, 'recall': 0.808349609375, 'f1-score': 0.8062143174610381, 'support': 4096}}, 'eval_runtime': 7.4273, 'eval_samples_per_second': 551.48, 'eval_steps_per_second': 8.617, 'epoch': 0.46}\n"
     ]
    },
    {
     "name": "stderr",
     "output_type": "stream",
     "text": [
      "\n",
      " 12%|█▏        | 10000/86888 [1:26:14<9:21:08,  2.28it/s]"
     ]
    },
    {
     "name": "stdout",
     "output_type": "stream",
     "text": [
      "{'eval_loss': 0.5382239818572998, 'eval_macro_f1': 0.7711108669405669, 'eval_macro_precision': 0.7871137170759666, 'eval_macro_recall': 0.758862307953288, 'eval_accuracy': 0.808349609375, 'eval_report': {'NOR': {'precision': 0.6753246753246753, 'recall': 0.7086882453151618, 'f1-score': 0.6916043225270159, 'support': 587}, 'IRQ': {'precision': 0.8582554517133957, 'recall': 0.924496644295302, 'f1-score': 0.8901453957996768, 'support': 1788}, 'LEV': {'precision': 0.7905918057663126, 'recall': 0.7186206896551725, 'f1-score': 0.7528901734104047, 'support': 725}, 'EGY': {'precision': 0.806615776081425, 'recall': 0.6788008565310493, 'f1-score': 0.7372093023255814, 'support': 467}, 'GLF': {'precision': 0.8047808764940239, 'recall': 0.7637051039697542, 'f1-score': 0.7837051406401552, 'support': 529}, 'accuracy': 0.808349609375, 'macro avg': {'precision': 0.7871137170759666, 'recall': 0.758862307953288, 'f1-score': 0.7711108669405669, 'support': 4096}, 'weighted avg': {'precision': 0.8072690533093448, 'recall': 0.808349609375, 'f1-score': 0.8062143174610381, 'support': 4096}}, 'eval_runtime': 7.4068, 'eval_samples_per_second': 553.002, 'eval_steps_per_second': 8.641, 'epoch': 0.46}\n"
     ]
    },
    {
     "name": "stderr",
     "output_type": "stream",
     "text": [
      "\n",
      " 12%|█▏        | 10000/86888 [1:26:21<9:21:08,  2.28it/s]"
     ]
    },
    {
     "name": "stdout",
     "output_type": "stream",
     "text": [
      "{'eval_loss': 0.5382239818572998, 'eval_macro_f1': 0.7711108669405669, 'eval_macro_precision': 0.7871137170759666, 'eval_macro_recall': 0.758862307953288, 'eval_accuracy': 0.808349609375, 'eval_report': {'NOR': {'precision': 0.6753246753246753, 'recall': 0.7086882453151618, 'f1-score': 0.6916043225270159, 'support': 587}, 'IRQ': {'precision': 0.8582554517133957, 'recall': 0.924496644295302, 'f1-score': 0.8901453957996768, 'support': 1788}, 'LEV': {'precision': 0.7905918057663126, 'recall': 0.7186206896551725, 'f1-score': 0.7528901734104047, 'support': 725}, 'EGY': {'precision': 0.806615776081425, 'recall': 0.6788008565310493, 'f1-score': 0.7372093023255814, 'support': 467}, 'GLF': {'precision': 0.8047808764940239, 'recall': 0.7637051039697542, 'f1-score': 0.7837051406401552, 'support': 529}, 'accuracy': 0.808349609375, 'macro avg': {'precision': 0.7871137170759666, 'recall': 0.758862307953288, 'f1-score': 0.7711108669405669, 'support': 4096}, 'weighted avg': {'precision': 0.8072690533093448, 'recall': 0.808349609375, 'f1-score': 0.8062143174610381, 'support': 4096}}, 'eval_runtime': 7.4166, 'eval_samples_per_second': 552.276, 'eval_steps_per_second': 8.629, 'epoch': 0.46}\n"
     ]
    },
    {
     "name": "stderr",
     "output_type": "stream",
     "text": [
      "\n",
      " 12%|█▏        | 10000/86888 [1:26:29<9:21:08,  2.28it/s]"
     ]
    },
    {
     "name": "stdout",
     "output_type": "stream",
     "text": [
      "{'eval_loss': 0.5382239818572998, 'eval_macro_f1': 0.7711108669405669, 'eval_macro_precision': 0.7871137170759666, 'eval_macro_recall': 0.758862307953288, 'eval_accuracy': 0.808349609375, 'eval_report': {'NOR': {'precision': 0.6753246753246753, 'recall': 0.7086882453151618, 'f1-score': 0.6916043225270159, 'support': 587}, 'IRQ': {'precision': 0.8582554517133957, 'recall': 0.924496644295302, 'f1-score': 0.8901453957996768, 'support': 1788}, 'LEV': {'precision': 0.7905918057663126, 'recall': 0.7186206896551725, 'f1-score': 0.7528901734104047, 'support': 725}, 'EGY': {'precision': 0.806615776081425, 'recall': 0.6788008565310493, 'f1-score': 0.7372093023255814, 'support': 467}, 'GLF': {'precision': 0.8047808764940239, 'recall': 0.7637051039697542, 'f1-score': 0.7837051406401552, 'support': 529}, 'accuracy': 0.808349609375, 'macro avg': {'precision': 0.7871137170759666, 'recall': 0.758862307953288, 'f1-score': 0.7711108669405669, 'support': 4096}, 'weighted avg': {'precision': 0.8072690533093448, 'recall': 0.808349609375, 'f1-score': 0.8062143174610381, 'support': 4096}}, 'eval_runtime': 7.4146, 'eval_samples_per_second': 552.425, 'eval_steps_per_second': 8.632, 'epoch': 0.46}\n"
     ]
    },
    {
     "name": "stderr",
     "output_type": "stream",
     "text": [
      "\n",
      " 12%|█▏        | 10000/86888 [1:26:36<9:21:08,  2.28it/s]"
     ]
    },
    {
     "name": "stdout",
     "output_type": "stream",
     "text": [
      "{'eval_loss': 0.5382239818572998, 'eval_macro_f1': 0.7711108669405669, 'eval_macro_precision': 0.7871137170759666, 'eval_macro_recall': 0.758862307953288, 'eval_accuracy': 0.808349609375, 'eval_report': {'NOR': {'precision': 0.6753246753246753, 'recall': 0.7086882453151618, 'f1-score': 0.6916043225270159, 'support': 587}, 'IRQ': {'precision': 0.8582554517133957, 'recall': 0.924496644295302, 'f1-score': 0.8901453957996768, 'support': 1788}, 'LEV': {'precision': 0.7905918057663126, 'recall': 0.7186206896551725, 'f1-score': 0.7528901734104047, 'support': 725}, 'EGY': {'precision': 0.806615776081425, 'recall': 0.6788008565310493, 'f1-score': 0.7372093023255814, 'support': 467}, 'GLF': {'precision': 0.8047808764940239, 'recall': 0.7637051039697542, 'f1-score': 0.7837051406401552, 'support': 529}, 'accuracy': 0.808349609375, 'macro avg': {'precision': 0.7871137170759666, 'recall': 0.758862307953288, 'f1-score': 0.7711108669405669, 'support': 4096}, 'weighted avg': {'precision': 0.8072690533093448, 'recall': 0.808349609375, 'f1-score': 0.8062143174610381, 'support': 4096}}, 'eval_runtime': 7.4192, 'eval_samples_per_second': 552.083, 'eval_steps_per_second': 8.626, 'epoch': 0.46}\n"
     ]
    },
    {
     "name": "stderr",
     "output_type": "stream",
     "text": [
      "\n",
      " 12%|█▏        | 10000/86888 [1:26:44<9:21:08,  2.28it/s]"
     ]
    },
    {
     "name": "stdout",
     "output_type": "stream",
     "text": [
      "{'eval_loss': 0.5382239818572998, 'eval_macro_f1': 0.7711108669405669, 'eval_macro_precision': 0.7871137170759666, 'eval_macro_recall': 0.758862307953288, 'eval_accuracy': 0.808349609375, 'eval_report': {'NOR': {'precision': 0.6753246753246753, 'recall': 0.7086882453151618, 'f1-score': 0.6916043225270159, 'support': 587}, 'IRQ': {'precision': 0.8582554517133957, 'recall': 0.924496644295302, 'f1-score': 0.8901453957996768, 'support': 1788}, 'LEV': {'precision': 0.7905918057663126, 'recall': 0.7186206896551725, 'f1-score': 0.7528901734104047, 'support': 725}, 'EGY': {'precision': 0.806615776081425, 'recall': 0.6788008565310493, 'f1-score': 0.7372093023255814, 'support': 467}, 'GLF': {'precision': 0.8047808764940239, 'recall': 0.7637051039697542, 'f1-score': 0.7837051406401552, 'support': 529}, 'accuracy': 0.808349609375, 'macro avg': {'precision': 0.7871137170759666, 'recall': 0.758862307953288, 'f1-score': 0.7711108669405669, 'support': 4096}, 'weighted avg': {'precision': 0.8072690533093448, 'recall': 0.808349609375, 'f1-score': 0.8062143174610381, 'support': 4096}}, 'eval_runtime': 7.4317, 'eval_samples_per_second': 551.15, 'eval_steps_per_second': 8.612, 'epoch': 0.46}\n"
     ]
    },
    {
     "name": "stderr",
     "output_type": "stream",
     "text": [
      "\n",
      " 12%|█▏        | 10000/86888 [1:26:51<9:21:08,  2.28it/s]"
     ]
    },
    {
     "name": "stdout",
     "output_type": "stream",
     "text": [
      "{'eval_loss': 0.5382239818572998, 'eval_macro_f1': 0.7711108669405669, 'eval_macro_precision': 0.7871137170759666, 'eval_macro_recall': 0.758862307953288, 'eval_accuracy': 0.808349609375, 'eval_report': {'NOR': {'precision': 0.6753246753246753, 'recall': 0.7086882453151618, 'f1-score': 0.6916043225270159, 'support': 587}, 'IRQ': {'precision': 0.8582554517133957, 'recall': 0.924496644295302, 'f1-score': 0.8901453957996768, 'support': 1788}, 'LEV': {'precision': 0.7905918057663126, 'recall': 0.7186206896551725, 'f1-score': 0.7528901734104047, 'support': 725}, 'EGY': {'precision': 0.806615776081425, 'recall': 0.6788008565310493, 'f1-score': 0.7372093023255814, 'support': 467}, 'GLF': {'precision': 0.8047808764940239, 'recall': 0.7637051039697542, 'f1-score': 0.7837051406401552, 'support': 529}, 'accuracy': 0.808349609375, 'macro avg': {'precision': 0.7871137170759666, 'recall': 0.758862307953288, 'f1-score': 0.7711108669405669, 'support': 4096}, 'weighted avg': {'precision': 0.8072690533093448, 'recall': 0.808349609375, 'f1-score': 0.8062143174610381, 'support': 4096}}, 'eval_runtime': 7.4354, 'eval_samples_per_second': 550.879, 'eval_steps_per_second': 8.607, 'epoch': 0.46}\n"
     ]
    },
    {
     "name": "stderr",
     "output_type": "stream",
     "text": [
      "\n",
      " 12%|█▏        | 10000/86888 [1:26:59<9:21:08,  2.28it/s]"
     ]
    },
    {
     "name": "stdout",
     "output_type": "stream",
     "text": [
      "{'eval_loss': 0.5382239818572998, 'eval_macro_f1': 0.7711108669405669, 'eval_macro_precision': 0.7871137170759666, 'eval_macro_recall': 0.758862307953288, 'eval_accuracy': 0.808349609375, 'eval_report': {'NOR': {'precision': 0.6753246753246753, 'recall': 0.7086882453151618, 'f1-score': 0.6916043225270159, 'support': 587}, 'IRQ': {'precision': 0.8582554517133957, 'recall': 0.924496644295302, 'f1-score': 0.8901453957996768, 'support': 1788}, 'LEV': {'precision': 0.7905918057663126, 'recall': 0.7186206896551725, 'f1-score': 0.7528901734104047, 'support': 725}, 'EGY': {'precision': 0.806615776081425, 'recall': 0.6788008565310493, 'f1-score': 0.7372093023255814, 'support': 467}, 'GLF': {'precision': 0.8047808764940239, 'recall': 0.7637051039697542, 'f1-score': 0.7837051406401552, 'support': 529}, 'accuracy': 0.808349609375, 'macro avg': {'precision': 0.7871137170759666, 'recall': 0.758862307953288, 'f1-score': 0.7711108669405669, 'support': 4096}, 'weighted avg': {'precision': 0.8072690533093448, 'recall': 0.808349609375, 'f1-score': 0.8062143174610381, 'support': 4096}}, 'eval_runtime': 7.44, 'eval_samples_per_second': 550.537, 'eval_steps_per_second': 8.602, 'epoch': 0.46}\n"
     ]
    },
    {
     "name": "stderr",
     "output_type": "stream",
     "text": [
      "\n",
      " 12%|█▏        | 10000/86888 [1:27:06<9:21:08,  2.28it/s]"
     ]
    },
    {
     "name": "stdout",
     "output_type": "stream",
     "text": [
      "{'eval_loss': 0.5382239818572998, 'eval_macro_f1': 0.7711108669405669, 'eval_macro_precision': 0.7871137170759666, 'eval_macro_recall': 0.758862307953288, 'eval_accuracy': 0.808349609375, 'eval_report': {'NOR': {'precision': 0.6753246753246753, 'recall': 0.7086882453151618, 'f1-score': 0.6916043225270159, 'support': 587}, 'IRQ': {'precision': 0.8582554517133957, 'recall': 0.924496644295302, 'f1-score': 0.8901453957996768, 'support': 1788}, 'LEV': {'precision': 0.7905918057663126, 'recall': 0.7186206896551725, 'f1-score': 0.7528901734104047, 'support': 725}, 'EGY': {'precision': 0.806615776081425, 'recall': 0.6788008565310493, 'f1-score': 0.7372093023255814, 'support': 467}, 'GLF': {'precision': 0.8047808764940239, 'recall': 0.7637051039697542, 'f1-score': 0.7837051406401552, 'support': 529}, 'accuracy': 0.808349609375, 'macro avg': {'precision': 0.7871137170759666, 'recall': 0.758862307953288, 'f1-score': 0.7711108669405669, 'support': 4096}, 'weighted avg': {'precision': 0.8072690533093448, 'recall': 0.808349609375, 'f1-score': 0.8062143174610381, 'support': 4096}}, 'eval_runtime': 7.4374, 'eval_samples_per_second': 550.729, 'eval_steps_per_second': 8.605, 'epoch': 0.46}\n"
     ]
    },
    {
     "name": "stderr",
     "output_type": "stream",
     "text": [
      "\n",
      " 12%|█▏        | 10000/86888 [1:27:13<9:21:08,  2.28it/s]"
     ]
    },
    {
     "name": "stdout",
     "output_type": "stream",
     "text": [
      "{'eval_loss': 0.5382239818572998, 'eval_macro_f1': 0.7711108669405669, 'eval_macro_precision': 0.7871137170759666, 'eval_macro_recall': 0.758862307953288, 'eval_accuracy': 0.808349609375, 'eval_report': {'NOR': {'precision': 0.6753246753246753, 'recall': 0.7086882453151618, 'f1-score': 0.6916043225270159, 'support': 587}, 'IRQ': {'precision': 0.8582554517133957, 'recall': 0.924496644295302, 'f1-score': 0.8901453957996768, 'support': 1788}, 'LEV': {'precision': 0.7905918057663126, 'recall': 0.7186206896551725, 'f1-score': 0.7528901734104047, 'support': 725}, 'EGY': {'precision': 0.806615776081425, 'recall': 0.6788008565310493, 'f1-score': 0.7372093023255814, 'support': 467}, 'GLF': {'precision': 0.8047808764940239, 'recall': 0.7637051039697542, 'f1-score': 0.7837051406401552, 'support': 529}, 'accuracy': 0.808349609375, 'macro avg': {'precision': 0.7871137170759666, 'recall': 0.758862307953288, 'f1-score': 0.7711108669405669, 'support': 4096}, 'weighted avg': {'precision': 0.8072690533093448, 'recall': 0.808349609375, 'f1-score': 0.8062143174610381, 'support': 4096}}, 'eval_runtime': 7.4255, 'eval_samples_per_second': 551.616, 'eval_steps_per_second': 8.619, 'epoch': 0.46}\n"
     ]
    },
    {
     "name": "stderr",
     "output_type": "stream",
     "text": [
      "\n",
      " 12%|█▏        | 10000/86888 [1:27:21<9:21:08,  2.28it/s]"
     ]
    },
    {
     "name": "stdout",
     "output_type": "stream",
     "text": [
      "{'eval_loss': 0.5382239818572998, 'eval_macro_f1': 0.7711108669405669, 'eval_macro_precision': 0.7871137170759666, 'eval_macro_recall': 0.758862307953288, 'eval_accuracy': 0.808349609375, 'eval_report': {'NOR': {'precision': 0.6753246753246753, 'recall': 0.7086882453151618, 'f1-score': 0.6916043225270159, 'support': 587}, 'IRQ': {'precision': 0.8582554517133957, 'recall': 0.924496644295302, 'f1-score': 0.8901453957996768, 'support': 1788}, 'LEV': {'precision': 0.7905918057663126, 'recall': 0.7186206896551725, 'f1-score': 0.7528901734104047, 'support': 725}, 'EGY': {'precision': 0.806615776081425, 'recall': 0.6788008565310493, 'f1-score': 0.7372093023255814, 'support': 467}, 'GLF': {'precision': 0.8047808764940239, 'recall': 0.7637051039697542, 'f1-score': 0.7837051406401552, 'support': 529}, 'accuracy': 0.808349609375, 'macro avg': {'precision': 0.7871137170759666, 'recall': 0.758862307953288, 'f1-score': 0.7711108669405669, 'support': 4096}, 'weighted avg': {'precision': 0.8072690533093448, 'recall': 0.808349609375, 'f1-score': 0.8062143174610381, 'support': 4096}}, 'eval_runtime': 7.4301, 'eval_samples_per_second': 551.274, 'eval_steps_per_second': 8.614, 'epoch': 0.46}\n"
     ]
    },
    {
     "name": "stderr",
     "output_type": "stream",
     "text": [
      "\n",
      " 12%|█▏        | 10000/86888 [1:27:28<9:21:08,  2.28it/s]"
     ]
    },
    {
     "name": "stdout",
     "output_type": "stream",
     "text": [
      "{'eval_loss': 0.5382239818572998, 'eval_macro_f1': 0.7711108669405669, 'eval_macro_precision': 0.7871137170759666, 'eval_macro_recall': 0.758862307953288, 'eval_accuracy': 0.808349609375, 'eval_report': {'NOR': {'precision': 0.6753246753246753, 'recall': 0.7086882453151618, 'f1-score': 0.6916043225270159, 'support': 587}, 'IRQ': {'precision': 0.8582554517133957, 'recall': 0.924496644295302, 'f1-score': 0.8901453957996768, 'support': 1788}, 'LEV': {'precision': 0.7905918057663126, 'recall': 0.7186206896551725, 'f1-score': 0.7528901734104047, 'support': 725}, 'EGY': {'precision': 0.806615776081425, 'recall': 0.6788008565310493, 'f1-score': 0.7372093023255814, 'support': 467}, 'GLF': {'precision': 0.8047808764940239, 'recall': 0.7637051039697542, 'f1-score': 0.7837051406401552, 'support': 529}, 'accuracy': 0.808349609375, 'macro avg': {'precision': 0.7871137170759666, 'recall': 0.758862307953288, 'f1-score': 0.7711108669405669, 'support': 4096}, 'weighted avg': {'precision': 0.8072690533093448, 'recall': 0.808349609375, 'f1-score': 0.8062143174610381, 'support': 4096}}, 'eval_runtime': 7.4289, 'eval_samples_per_second': 551.362, 'eval_steps_per_second': 8.615, 'epoch': 0.46}\n"
     ]
    },
    {
     "name": "stderr",
     "output_type": "stream",
     "text": [
      "\n",
      " 12%|█▏        | 10000/86888 [1:27:36<9:21:08,  2.28it/s]"
     ]
    },
    {
     "name": "stdout",
     "output_type": "stream",
     "text": [
      "{'eval_loss': 0.5382239818572998, 'eval_macro_f1': 0.7711108669405669, 'eval_macro_precision': 0.7871137170759666, 'eval_macro_recall': 0.758862307953288, 'eval_accuracy': 0.808349609375, 'eval_report': {'NOR': {'precision': 0.6753246753246753, 'recall': 0.7086882453151618, 'f1-score': 0.6916043225270159, 'support': 587}, 'IRQ': {'precision': 0.8582554517133957, 'recall': 0.924496644295302, 'f1-score': 0.8901453957996768, 'support': 1788}, 'LEV': {'precision': 0.7905918057663126, 'recall': 0.7186206896551725, 'f1-score': 0.7528901734104047, 'support': 725}, 'EGY': {'precision': 0.806615776081425, 'recall': 0.6788008565310493, 'f1-score': 0.7372093023255814, 'support': 467}, 'GLF': {'precision': 0.8047808764940239, 'recall': 0.7637051039697542, 'f1-score': 0.7837051406401552, 'support': 529}, 'accuracy': 0.808349609375, 'macro avg': {'precision': 0.7871137170759666, 'recall': 0.758862307953288, 'f1-score': 0.7711108669405669, 'support': 4096}, 'weighted avg': {'precision': 0.8072690533093448, 'recall': 0.808349609375, 'f1-score': 0.8062143174610381, 'support': 4096}}, 'eval_runtime': 7.4352, 'eval_samples_per_second': 550.894, 'eval_steps_per_second': 8.608, 'epoch': 0.46}\n"
     ]
    },
    {
     "name": "stderr",
     "output_type": "stream",
     "text": [
      "\n",
      " 12%|█▏        | 10000/86888 [1:27:43<9:21:08,  2.28it/s]"
     ]
    },
    {
     "name": "stdout",
     "output_type": "stream",
     "text": [
      "{'eval_loss': 0.5382239818572998, 'eval_macro_f1': 0.7711108669405669, 'eval_macro_precision': 0.7871137170759666, 'eval_macro_recall': 0.758862307953288, 'eval_accuracy': 0.808349609375, 'eval_report': {'NOR': {'precision': 0.6753246753246753, 'recall': 0.7086882453151618, 'f1-score': 0.6916043225270159, 'support': 587}, 'IRQ': {'precision': 0.8582554517133957, 'recall': 0.924496644295302, 'f1-score': 0.8901453957996768, 'support': 1788}, 'LEV': {'precision': 0.7905918057663126, 'recall': 0.7186206896551725, 'f1-score': 0.7528901734104047, 'support': 725}, 'EGY': {'precision': 0.806615776081425, 'recall': 0.6788008565310493, 'f1-score': 0.7372093023255814, 'support': 467}, 'GLF': {'precision': 0.8047808764940239, 'recall': 0.7637051039697542, 'f1-score': 0.7837051406401552, 'support': 529}, 'accuracy': 0.808349609375, 'macro avg': {'precision': 0.7871137170759666, 'recall': 0.758862307953288, 'f1-score': 0.7711108669405669, 'support': 4096}, 'weighted avg': {'precision': 0.8072690533093448, 'recall': 0.808349609375, 'f1-score': 0.8062143174610381, 'support': 4096}}, 'eval_runtime': 7.4282, 'eval_samples_per_second': 551.415, 'eval_steps_per_second': 8.616, 'epoch': 0.46}\n"
     ]
    },
    {
     "name": "stderr",
     "output_type": "stream",
     "text": [
      "\n",
      " 12%|█▏        | 10000/86888 [1:27:51<9:21:08,  2.28it/s]"
     ]
    },
    {
     "name": "stdout",
     "output_type": "stream",
     "text": [
      "{'eval_loss': 0.5382239818572998, 'eval_macro_f1': 0.7711108669405669, 'eval_macro_precision': 0.7871137170759666, 'eval_macro_recall': 0.758862307953288, 'eval_accuracy': 0.808349609375, 'eval_report': {'NOR': {'precision': 0.6753246753246753, 'recall': 0.7086882453151618, 'f1-score': 0.6916043225270159, 'support': 587}, 'IRQ': {'precision': 0.8582554517133957, 'recall': 0.924496644295302, 'f1-score': 0.8901453957996768, 'support': 1788}, 'LEV': {'precision': 0.7905918057663126, 'recall': 0.7186206896551725, 'f1-score': 0.7528901734104047, 'support': 725}, 'EGY': {'precision': 0.806615776081425, 'recall': 0.6788008565310493, 'f1-score': 0.7372093023255814, 'support': 467}, 'GLF': {'precision': 0.8047808764940239, 'recall': 0.7637051039697542, 'f1-score': 0.7837051406401552, 'support': 529}, 'accuracy': 0.808349609375, 'macro avg': {'precision': 0.7871137170759666, 'recall': 0.758862307953288, 'f1-score': 0.7711108669405669, 'support': 4096}, 'weighted avg': {'precision': 0.8072690533093448, 'recall': 0.808349609375, 'f1-score': 0.8062143174610381, 'support': 4096}}, 'eval_runtime': 7.4759, 'eval_samples_per_second': 547.895, 'eval_steps_per_second': 8.561, 'epoch': 0.46}\n"
     ]
    },
    {
     "name": "stderr",
     "output_type": "stream",
     "text": [
      "\n",
      " 12%|█▏        | 10000/86888 [1:27:58<9:21:08,  2.28it/s]"
     ]
    },
    {
     "name": "stdout",
     "output_type": "stream",
     "text": [
      "{'eval_loss': 0.5382239818572998, 'eval_macro_f1': 0.7711108669405669, 'eval_macro_precision': 0.7871137170759666, 'eval_macro_recall': 0.758862307953288, 'eval_accuracy': 0.808349609375, 'eval_report': {'NOR': {'precision': 0.6753246753246753, 'recall': 0.7086882453151618, 'f1-score': 0.6916043225270159, 'support': 587}, 'IRQ': {'precision': 0.8582554517133957, 'recall': 0.924496644295302, 'f1-score': 0.8901453957996768, 'support': 1788}, 'LEV': {'precision': 0.7905918057663126, 'recall': 0.7186206896551725, 'f1-score': 0.7528901734104047, 'support': 725}, 'EGY': {'precision': 0.806615776081425, 'recall': 0.6788008565310493, 'f1-score': 0.7372093023255814, 'support': 467}, 'GLF': {'precision': 0.8047808764940239, 'recall': 0.7637051039697542, 'f1-score': 0.7837051406401552, 'support': 529}, 'accuracy': 0.808349609375, 'macro avg': {'precision': 0.7871137170759666, 'recall': 0.758862307953288, 'f1-score': 0.7711108669405669, 'support': 4096}, 'weighted avg': {'precision': 0.8072690533093448, 'recall': 0.808349609375, 'f1-score': 0.8062143174610381, 'support': 4096}}, 'eval_runtime': 7.4241, 'eval_samples_per_second': 551.717, 'eval_steps_per_second': 8.621, 'epoch': 0.46}\n"
     ]
    },
    {
     "name": "stderr",
     "output_type": "stream",
     "text": [
      "\n",
      " 12%|█▏        | 10000/86888 [1:28:06<9:21:08,  2.28it/s]"
     ]
    },
    {
     "name": "stdout",
     "output_type": "stream",
     "text": [
      "{'eval_loss': 0.5382239818572998, 'eval_macro_f1': 0.7711108669405669, 'eval_macro_precision': 0.7871137170759666, 'eval_macro_recall': 0.758862307953288, 'eval_accuracy': 0.808349609375, 'eval_report': {'NOR': {'precision': 0.6753246753246753, 'recall': 0.7086882453151618, 'f1-score': 0.6916043225270159, 'support': 587}, 'IRQ': {'precision': 0.8582554517133957, 'recall': 0.924496644295302, 'f1-score': 0.8901453957996768, 'support': 1788}, 'LEV': {'precision': 0.7905918057663126, 'recall': 0.7186206896551725, 'f1-score': 0.7528901734104047, 'support': 725}, 'EGY': {'precision': 0.806615776081425, 'recall': 0.6788008565310493, 'f1-score': 0.7372093023255814, 'support': 467}, 'GLF': {'precision': 0.8047808764940239, 'recall': 0.7637051039697542, 'f1-score': 0.7837051406401552, 'support': 529}, 'accuracy': 0.808349609375, 'macro avg': {'precision': 0.7871137170759666, 'recall': 0.758862307953288, 'f1-score': 0.7711108669405669, 'support': 4096}, 'weighted avg': {'precision': 0.8072690533093448, 'recall': 0.808349609375, 'f1-score': 0.8062143174610381, 'support': 4096}}, 'eval_runtime': 7.4303, 'eval_samples_per_second': 551.26, 'eval_steps_per_second': 8.613, 'epoch': 0.46}\n"
     ]
    },
    {
     "name": "stderr",
     "output_type": "stream",
     "text": [
      "\n",
      " 12%|█▏        | 10000/86888 [1:28:13<9:21:08,  2.28it/s]"
     ]
    },
    {
     "name": "stdout",
     "output_type": "stream",
     "text": [
      "{'eval_loss': 0.5382239818572998, 'eval_macro_f1': 0.7711108669405669, 'eval_macro_precision': 0.7871137170759666, 'eval_macro_recall': 0.758862307953288, 'eval_accuracy': 0.808349609375, 'eval_report': {'NOR': {'precision': 0.6753246753246753, 'recall': 0.7086882453151618, 'f1-score': 0.6916043225270159, 'support': 587}, 'IRQ': {'precision': 0.8582554517133957, 'recall': 0.924496644295302, 'f1-score': 0.8901453957996768, 'support': 1788}, 'LEV': {'precision': 0.7905918057663126, 'recall': 0.7186206896551725, 'f1-score': 0.7528901734104047, 'support': 725}, 'EGY': {'precision': 0.806615776081425, 'recall': 0.6788008565310493, 'f1-score': 0.7372093023255814, 'support': 467}, 'GLF': {'precision': 0.8047808764940239, 'recall': 0.7637051039697542, 'f1-score': 0.7837051406401552, 'support': 529}, 'accuracy': 0.808349609375, 'macro avg': {'precision': 0.7871137170759666, 'recall': 0.758862307953288, 'f1-score': 0.7711108669405669, 'support': 4096}, 'weighted avg': {'precision': 0.8072690533093448, 'recall': 0.808349609375, 'f1-score': 0.8062143174610381, 'support': 4096}}, 'eval_runtime': 7.4428, 'eval_samples_per_second': 550.333, 'eval_steps_per_second': 8.599, 'epoch': 0.46}\n"
     ]
    },
    {
     "name": "stderr",
     "output_type": "stream",
     "text": [
      "\n",
      " 12%|█▏        | 10000/86888 [1:28:20<9:21:08,  2.28it/s]"
     ]
    },
    {
     "name": "stdout",
     "output_type": "stream",
     "text": [
      "{'eval_loss': 0.5382239818572998, 'eval_macro_f1': 0.7711108669405669, 'eval_macro_precision': 0.7871137170759666, 'eval_macro_recall': 0.758862307953288, 'eval_accuracy': 0.808349609375, 'eval_report': {'NOR': {'precision': 0.6753246753246753, 'recall': 0.7086882453151618, 'f1-score': 0.6916043225270159, 'support': 587}, 'IRQ': {'precision': 0.8582554517133957, 'recall': 0.924496644295302, 'f1-score': 0.8901453957996768, 'support': 1788}, 'LEV': {'precision': 0.7905918057663126, 'recall': 0.7186206896551725, 'f1-score': 0.7528901734104047, 'support': 725}, 'EGY': {'precision': 0.806615776081425, 'recall': 0.6788008565310493, 'f1-score': 0.7372093023255814, 'support': 467}, 'GLF': {'precision': 0.8047808764940239, 'recall': 0.7637051039697542, 'f1-score': 0.7837051406401552, 'support': 529}, 'accuracy': 0.808349609375, 'macro avg': {'precision': 0.7871137170759666, 'recall': 0.758862307953288, 'f1-score': 0.7711108669405669, 'support': 4096}, 'weighted avg': {'precision': 0.8072690533093448, 'recall': 0.808349609375, 'f1-score': 0.8062143174610381, 'support': 4096}}, 'eval_runtime': 7.4417, 'eval_samples_per_second': 550.413, 'eval_steps_per_second': 8.6, 'epoch': 0.46}\n"
     ]
    },
    {
     "name": "stderr",
     "output_type": "stream",
     "text": [
      "\n",
      " 12%|█▏        | 10000/86888 [1:28:28<9:21:08,  2.28it/s]"
     ]
    },
    {
     "name": "stdout",
     "output_type": "stream",
     "text": [
      "{'eval_loss': 0.5382239818572998, 'eval_macro_f1': 0.7711108669405669, 'eval_macro_precision': 0.7871137170759666, 'eval_macro_recall': 0.758862307953288, 'eval_accuracy': 0.808349609375, 'eval_report': {'NOR': {'precision': 0.6753246753246753, 'recall': 0.7086882453151618, 'f1-score': 0.6916043225270159, 'support': 587}, 'IRQ': {'precision': 0.8582554517133957, 'recall': 0.924496644295302, 'f1-score': 0.8901453957996768, 'support': 1788}, 'LEV': {'precision': 0.7905918057663126, 'recall': 0.7186206896551725, 'f1-score': 0.7528901734104047, 'support': 725}, 'EGY': {'precision': 0.806615776081425, 'recall': 0.6788008565310493, 'f1-score': 0.7372093023255814, 'support': 467}, 'GLF': {'precision': 0.8047808764940239, 'recall': 0.7637051039697542, 'f1-score': 0.7837051406401552, 'support': 529}, 'accuracy': 0.808349609375, 'macro avg': {'precision': 0.7871137170759666, 'recall': 0.758862307953288, 'f1-score': 0.7711108669405669, 'support': 4096}, 'weighted avg': {'precision': 0.8072690533093448, 'recall': 0.808349609375, 'f1-score': 0.8062143174610381, 'support': 4096}}, 'eval_runtime': 7.4263, 'eval_samples_per_second': 551.553, 'eval_steps_per_second': 8.618, 'epoch': 0.46}\n"
     ]
    },
    {
     "name": "stderr",
     "output_type": "stream",
     "text": [
      "\n",
      " 12%|█▏        | 10000/86888 [1:28:35<9:21:08,  2.28it/s]"
     ]
    },
    {
     "name": "stdout",
     "output_type": "stream",
     "text": [
      "{'eval_loss': 0.5382239818572998, 'eval_macro_f1': 0.7711108669405669, 'eval_macro_precision': 0.7871137170759666, 'eval_macro_recall': 0.758862307953288, 'eval_accuracy': 0.808349609375, 'eval_report': {'NOR': {'precision': 0.6753246753246753, 'recall': 0.7086882453151618, 'f1-score': 0.6916043225270159, 'support': 587}, 'IRQ': {'precision': 0.8582554517133957, 'recall': 0.924496644295302, 'f1-score': 0.8901453957996768, 'support': 1788}, 'LEV': {'precision': 0.7905918057663126, 'recall': 0.7186206896551725, 'f1-score': 0.7528901734104047, 'support': 725}, 'EGY': {'precision': 0.806615776081425, 'recall': 0.6788008565310493, 'f1-score': 0.7372093023255814, 'support': 467}, 'GLF': {'precision': 0.8047808764940239, 'recall': 0.7637051039697542, 'f1-score': 0.7837051406401552, 'support': 529}, 'accuracy': 0.808349609375, 'macro avg': {'precision': 0.7871137170759666, 'recall': 0.758862307953288, 'f1-score': 0.7711108669405669, 'support': 4096}, 'weighted avg': {'precision': 0.8072690533093448, 'recall': 0.808349609375, 'f1-score': 0.8062143174610381, 'support': 4096}}, 'eval_runtime': 7.4166, 'eval_samples_per_second': 552.274, 'eval_steps_per_second': 8.629, 'epoch': 0.46}\n"
     ]
    },
    {
     "name": "stderr",
     "output_type": "stream",
     "text": [
      "\n",
      " 12%|█▏        | 10000/86888 [1:28:43<9:21:08,  2.28it/s]"
     ]
    },
    {
     "name": "stdout",
     "output_type": "stream",
     "text": [
      "{'eval_loss': 0.5382239818572998, 'eval_macro_f1': 0.7711108669405669, 'eval_macro_precision': 0.7871137170759666, 'eval_macro_recall': 0.758862307953288, 'eval_accuracy': 0.808349609375, 'eval_report': {'NOR': {'precision': 0.6753246753246753, 'recall': 0.7086882453151618, 'f1-score': 0.6916043225270159, 'support': 587}, 'IRQ': {'precision': 0.8582554517133957, 'recall': 0.924496644295302, 'f1-score': 0.8901453957996768, 'support': 1788}, 'LEV': {'precision': 0.7905918057663126, 'recall': 0.7186206896551725, 'f1-score': 0.7528901734104047, 'support': 725}, 'EGY': {'precision': 0.806615776081425, 'recall': 0.6788008565310493, 'f1-score': 0.7372093023255814, 'support': 467}, 'GLF': {'precision': 0.8047808764940239, 'recall': 0.7637051039697542, 'f1-score': 0.7837051406401552, 'support': 529}, 'accuracy': 0.808349609375, 'macro avg': {'precision': 0.7871137170759666, 'recall': 0.758862307953288, 'f1-score': 0.7711108669405669, 'support': 4096}, 'weighted avg': {'precision': 0.8072690533093448, 'recall': 0.808349609375, 'f1-score': 0.8062143174610381, 'support': 4096}}, 'eval_runtime': 7.4271, 'eval_samples_per_second': 551.498, 'eval_steps_per_second': 8.617, 'epoch': 0.46}\n"
     ]
    },
    {
     "name": "stderr",
     "output_type": "stream",
     "text": [
      "\n",
      " 12%|█▏        | 10000/86888 [1:28:50<9:21:08,  2.28it/s]"
     ]
    },
    {
     "name": "stdout",
     "output_type": "stream",
     "text": [
      "{'eval_loss': 0.5382239818572998, 'eval_macro_f1': 0.7711108669405669, 'eval_macro_precision': 0.7871137170759666, 'eval_macro_recall': 0.758862307953288, 'eval_accuracy': 0.808349609375, 'eval_report': {'NOR': {'precision': 0.6753246753246753, 'recall': 0.7086882453151618, 'f1-score': 0.6916043225270159, 'support': 587}, 'IRQ': {'precision': 0.8582554517133957, 'recall': 0.924496644295302, 'f1-score': 0.8901453957996768, 'support': 1788}, 'LEV': {'precision': 0.7905918057663126, 'recall': 0.7186206896551725, 'f1-score': 0.7528901734104047, 'support': 725}, 'EGY': {'precision': 0.806615776081425, 'recall': 0.6788008565310493, 'f1-score': 0.7372093023255814, 'support': 467}, 'GLF': {'precision': 0.8047808764940239, 'recall': 0.7637051039697542, 'f1-score': 0.7837051406401552, 'support': 529}, 'accuracy': 0.808349609375, 'macro avg': {'precision': 0.7871137170759666, 'recall': 0.758862307953288, 'f1-score': 0.7711108669405669, 'support': 4096}, 'weighted avg': {'precision': 0.8072690533093448, 'recall': 0.808349609375, 'f1-score': 0.8062143174610381, 'support': 4096}}, 'eval_runtime': 7.4474, 'eval_samples_per_second': 549.989, 'eval_steps_per_second': 8.594, 'epoch': 0.46}\n"
     ]
    },
    {
     "name": "stderr",
     "output_type": "stream",
     "text": [
      "\n",
      " 12%|█▏        | 10000/86888 [1:28:58<9:21:08,  2.28it/s]"
     ]
    },
    {
     "name": "stdout",
     "output_type": "stream",
     "text": [
      "{'eval_loss': 0.5382239818572998, 'eval_macro_f1': 0.7711108669405669, 'eval_macro_precision': 0.7871137170759666, 'eval_macro_recall': 0.758862307953288, 'eval_accuracy': 0.808349609375, 'eval_report': {'NOR': {'precision': 0.6753246753246753, 'recall': 0.7086882453151618, 'f1-score': 0.6916043225270159, 'support': 587}, 'IRQ': {'precision': 0.8582554517133957, 'recall': 0.924496644295302, 'f1-score': 0.8901453957996768, 'support': 1788}, 'LEV': {'precision': 0.7905918057663126, 'recall': 0.7186206896551725, 'f1-score': 0.7528901734104047, 'support': 725}, 'EGY': {'precision': 0.806615776081425, 'recall': 0.6788008565310493, 'f1-score': 0.7372093023255814, 'support': 467}, 'GLF': {'precision': 0.8047808764940239, 'recall': 0.7637051039697542, 'f1-score': 0.7837051406401552, 'support': 529}, 'accuracy': 0.808349609375, 'macro avg': {'precision': 0.7871137170759666, 'recall': 0.758862307953288, 'f1-score': 0.7711108669405669, 'support': 4096}, 'weighted avg': {'precision': 0.8072690533093448, 'recall': 0.808349609375, 'f1-score': 0.8062143174610381, 'support': 4096}}, 'eval_runtime': 7.4236, 'eval_samples_per_second': 551.755, 'eval_steps_per_second': 8.621, 'epoch': 0.46}\n"
     ]
    },
    {
     "name": "stderr",
     "output_type": "stream",
     "text": [
      "\n",
      " 12%|█▏        | 10000/86888 [1:29:05<9:21:08,  2.28it/s]"
     ]
    },
    {
     "name": "stdout",
     "output_type": "stream",
     "text": [
      "{'eval_loss': 0.5382239818572998, 'eval_macro_f1': 0.7711108669405669, 'eval_macro_precision': 0.7871137170759666, 'eval_macro_recall': 0.758862307953288, 'eval_accuracy': 0.808349609375, 'eval_report': {'NOR': {'precision': 0.6753246753246753, 'recall': 0.7086882453151618, 'f1-score': 0.6916043225270159, 'support': 587}, 'IRQ': {'precision': 0.8582554517133957, 'recall': 0.924496644295302, 'f1-score': 0.8901453957996768, 'support': 1788}, 'LEV': {'precision': 0.7905918057663126, 'recall': 0.7186206896551725, 'f1-score': 0.7528901734104047, 'support': 725}, 'EGY': {'precision': 0.806615776081425, 'recall': 0.6788008565310493, 'f1-score': 0.7372093023255814, 'support': 467}, 'GLF': {'precision': 0.8047808764940239, 'recall': 0.7637051039697542, 'f1-score': 0.7837051406401552, 'support': 529}, 'accuracy': 0.808349609375, 'macro avg': {'precision': 0.7871137170759666, 'recall': 0.758862307953288, 'f1-score': 0.7711108669405669, 'support': 4096}, 'weighted avg': {'precision': 0.8072690533093448, 'recall': 0.808349609375, 'f1-score': 0.8062143174610381, 'support': 4096}}, 'eval_runtime': 7.4232, 'eval_samples_per_second': 551.784, 'eval_steps_per_second': 8.622, 'epoch': 0.46}\n"
     ]
    },
    {
     "name": "stderr",
     "output_type": "stream",
     "text": [
      "\n",
      " 12%|█▏        | 10000/86888 [1:29:12<9:21:08,  2.28it/s]"
     ]
    },
    {
     "name": "stdout",
     "output_type": "stream",
     "text": [
      "{'eval_loss': 0.5382239818572998, 'eval_macro_f1': 0.7711108669405669, 'eval_macro_precision': 0.7871137170759666, 'eval_macro_recall': 0.758862307953288, 'eval_accuracy': 0.808349609375, 'eval_report': {'NOR': {'precision': 0.6753246753246753, 'recall': 0.7086882453151618, 'f1-score': 0.6916043225270159, 'support': 587}, 'IRQ': {'precision': 0.8582554517133957, 'recall': 0.924496644295302, 'f1-score': 0.8901453957996768, 'support': 1788}, 'LEV': {'precision': 0.7905918057663126, 'recall': 0.7186206896551725, 'f1-score': 0.7528901734104047, 'support': 725}, 'EGY': {'precision': 0.806615776081425, 'recall': 0.6788008565310493, 'f1-score': 0.7372093023255814, 'support': 467}, 'GLF': {'precision': 0.8047808764940239, 'recall': 0.7637051039697542, 'f1-score': 0.7837051406401552, 'support': 529}, 'accuracy': 0.808349609375, 'macro avg': {'precision': 0.7871137170759666, 'recall': 0.758862307953288, 'f1-score': 0.7711108669405669, 'support': 4096}, 'weighted avg': {'precision': 0.8072690533093448, 'recall': 0.808349609375, 'f1-score': 0.8062143174610381, 'support': 4096}}, 'eval_runtime': 7.4054, 'eval_samples_per_second': 553.111, 'eval_steps_per_second': 8.642, 'epoch': 0.46}\n"
     ]
    },
    {
     "name": "stderr",
     "output_type": "stream",
     "text": [
      "\n",
      " 12%|█▏        | 10000/86888 [1:29:20<9:21:08,  2.28it/s]"
     ]
    },
    {
     "name": "stdout",
     "output_type": "stream",
     "text": [
      "{'eval_loss': 0.5382239818572998, 'eval_macro_f1': 0.7711108669405669, 'eval_macro_precision': 0.7871137170759666, 'eval_macro_recall': 0.758862307953288, 'eval_accuracy': 0.808349609375, 'eval_report': {'NOR': {'precision': 0.6753246753246753, 'recall': 0.7086882453151618, 'f1-score': 0.6916043225270159, 'support': 587}, 'IRQ': {'precision': 0.8582554517133957, 'recall': 0.924496644295302, 'f1-score': 0.8901453957996768, 'support': 1788}, 'LEV': {'precision': 0.7905918057663126, 'recall': 0.7186206896551725, 'f1-score': 0.7528901734104047, 'support': 725}, 'EGY': {'precision': 0.806615776081425, 'recall': 0.6788008565310493, 'f1-score': 0.7372093023255814, 'support': 467}, 'GLF': {'precision': 0.8047808764940239, 'recall': 0.7637051039697542, 'f1-score': 0.7837051406401552, 'support': 529}, 'accuracy': 0.808349609375, 'macro avg': {'precision': 0.7871137170759666, 'recall': 0.758862307953288, 'f1-score': 0.7711108669405669, 'support': 4096}, 'weighted avg': {'precision': 0.8072690533093448, 'recall': 0.808349609375, 'f1-score': 0.8062143174610381, 'support': 4096}}, 'eval_runtime': 7.4133, 'eval_samples_per_second': 552.518, 'eval_steps_per_second': 8.633, 'epoch': 0.46}\n"
     ]
    },
    {
     "name": "stderr",
     "output_type": "stream",
     "text": [
      "\n",
      " 12%|█▏        | 10000/86888 [1:29:27<9:21:08,  2.28it/s]"
     ]
    },
    {
     "name": "stdout",
     "output_type": "stream",
     "text": [
      "{'eval_loss': 0.5382239818572998, 'eval_macro_f1': 0.7711108669405669, 'eval_macro_precision': 0.7871137170759666, 'eval_macro_recall': 0.758862307953288, 'eval_accuracy': 0.808349609375, 'eval_report': {'NOR': {'precision': 0.6753246753246753, 'recall': 0.7086882453151618, 'f1-score': 0.6916043225270159, 'support': 587}, 'IRQ': {'precision': 0.8582554517133957, 'recall': 0.924496644295302, 'f1-score': 0.8901453957996768, 'support': 1788}, 'LEV': {'precision': 0.7905918057663126, 'recall': 0.7186206896551725, 'f1-score': 0.7528901734104047, 'support': 725}, 'EGY': {'precision': 0.806615776081425, 'recall': 0.6788008565310493, 'f1-score': 0.7372093023255814, 'support': 467}, 'GLF': {'precision': 0.8047808764940239, 'recall': 0.7637051039697542, 'f1-score': 0.7837051406401552, 'support': 529}, 'accuracy': 0.808349609375, 'macro avg': {'precision': 0.7871137170759666, 'recall': 0.758862307953288, 'f1-score': 0.7711108669405669, 'support': 4096}, 'weighted avg': {'precision': 0.8072690533093448, 'recall': 0.808349609375, 'f1-score': 0.8062143174610381, 'support': 4096}}, 'eval_runtime': 7.4388, 'eval_samples_per_second': 550.626, 'eval_steps_per_second': 8.604, 'epoch': 0.46}\n"
     ]
    },
    {
     "name": "stderr",
     "output_type": "stream",
     "text": [
      "\n",
      " 12%|█▏        | 10000/86888 [1:29:35<9:21:08,  2.28it/s]"
     ]
    },
    {
     "name": "stdout",
     "output_type": "stream",
     "text": [
      "{'eval_loss': 0.5382239818572998, 'eval_macro_f1': 0.7711108669405669, 'eval_macro_precision': 0.7871137170759666, 'eval_macro_recall': 0.758862307953288, 'eval_accuracy': 0.808349609375, 'eval_report': {'NOR': {'precision': 0.6753246753246753, 'recall': 0.7086882453151618, 'f1-score': 0.6916043225270159, 'support': 587}, 'IRQ': {'precision': 0.8582554517133957, 'recall': 0.924496644295302, 'f1-score': 0.8901453957996768, 'support': 1788}, 'LEV': {'precision': 0.7905918057663126, 'recall': 0.7186206896551725, 'f1-score': 0.7528901734104047, 'support': 725}, 'EGY': {'precision': 0.806615776081425, 'recall': 0.6788008565310493, 'f1-score': 0.7372093023255814, 'support': 467}, 'GLF': {'precision': 0.8047808764940239, 'recall': 0.7637051039697542, 'f1-score': 0.7837051406401552, 'support': 529}, 'accuracy': 0.808349609375, 'macro avg': {'precision': 0.7871137170759666, 'recall': 0.758862307953288, 'f1-score': 0.7711108669405669, 'support': 4096}, 'weighted avg': {'precision': 0.8072690533093448, 'recall': 0.808349609375, 'f1-score': 0.8062143174610381, 'support': 4096}}, 'eval_runtime': 7.4337, 'eval_samples_per_second': 551.003, 'eval_steps_per_second': 8.609, 'epoch': 0.46}\n"
     ]
    },
    {
     "name": "stderr",
     "output_type": "stream",
     "text": [
      "\n",
      " 12%|█▏        | 10000/86888 [1:29:42<9:21:08,  2.28it/s]"
     ]
    },
    {
     "name": "stdout",
     "output_type": "stream",
     "text": [
      "{'eval_loss': 0.5382239818572998, 'eval_macro_f1': 0.7711108669405669, 'eval_macro_precision': 0.7871137170759666, 'eval_macro_recall': 0.758862307953288, 'eval_accuracy': 0.808349609375, 'eval_report': {'NOR': {'precision': 0.6753246753246753, 'recall': 0.7086882453151618, 'f1-score': 0.6916043225270159, 'support': 587}, 'IRQ': {'precision': 0.8582554517133957, 'recall': 0.924496644295302, 'f1-score': 0.8901453957996768, 'support': 1788}, 'LEV': {'precision': 0.7905918057663126, 'recall': 0.7186206896551725, 'f1-score': 0.7528901734104047, 'support': 725}, 'EGY': {'precision': 0.806615776081425, 'recall': 0.6788008565310493, 'f1-score': 0.7372093023255814, 'support': 467}, 'GLF': {'precision': 0.8047808764940239, 'recall': 0.7637051039697542, 'f1-score': 0.7837051406401552, 'support': 529}, 'accuracy': 0.808349609375, 'macro avg': {'precision': 0.7871137170759666, 'recall': 0.758862307953288, 'f1-score': 0.7711108669405669, 'support': 4096}, 'weighted avg': {'precision': 0.8072690533093448, 'recall': 0.808349609375, 'f1-score': 0.8062143174610381, 'support': 4096}}, 'eval_runtime': 7.4352, 'eval_samples_per_second': 550.896, 'eval_steps_per_second': 8.608, 'epoch': 0.46}\n"
     ]
    },
    {
     "name": "stderr",
     "output_type": "stream",
     "text": [
      "\n",
      " 12%|█▏        | 10000/86888 [1:29:50<9:21:08,  2.28it/s]"
     ]
    },
    {
     "name": "stdout",
     "output_type": "stream",
     "text": [
      "{'eval_loss': 0.5382239818572998, 'eval_macro_f1': 0.7711108669405669, 'eval_macro_precision': 0.7871137170759666, 'eval_macro_recall': 0.758862307953288, 'eval_accuracy': 0.808349609375, 'eval_report': {'NOR': {'precision': 0.6753246753246753, 'recall': 0.7086882453151618, 'f1-score': 0.6916043225270159, 'support': 587}, 'IRQ': {'precision': 0.8582554517133957, 'recall': 0.924496644295302, 'f1-score': 0.8901453957996768, 'support': 1788}, 'LEV': {'precision': 0.7905918057663126, 'recall': 0.7186206896551725, 'f1-score': 0.7528901734104047, 'support': 725}, 'EGY': {'precision': 0.806615776081425, 'recall': 0.6788008565310493, 'f1-score': 0.7372093023255814, 'support': 467}, 'GLF': {'precision': 0.8047808764940239, 'recall': 0.7637051039697542, 'f1-score': 0.7837051406401552, 'support': 529}, 'accuracy': 0.808349609375, 'macro avg': {'precision': 0.7871137170759666, 'recall': 0.758862307953288, 'f1-score': 0.7711108669405669, 'support': 4096}, 'weighted avg': {'precision': 0.8072690533093448, 'recall': 0.808349609375, 'f1-score': 0.8062143174610381, 'support': 4096}}, 'eval_runtime': 7.4447, 'eval_samples_per_second': 550.193, 'eval_steps_per_second': 8.597, 'epoch': 0.46}\n"
     ]
    },
    {
     "name": "stderr",
     "output_type": "stream",
     "text": [
      "\n",
      " 12%|█▏        | 10000/86888 [1:29:57<9:21:08,  2.28it/s]"
     ]
    },
    {
     "name": "stdout",
     "output_type": "stream",
     "text": [
      "{'eval_loss': 0.5382239818572998, 'eval_macro_f1': 0.7711108669405669, 'eval_macro_precision': 0.7871137170759666, 'eval_macro_recall': 0.758862307953288, 'eval_accuracy': 0.808349609375, 'eval_report': {'NOR': {'precision': 0.6753246753246753, 'recall': 0.7086882453151618, 'f1-score': 0.6916043225270159, 'support': 587}, 'IRQ': {'precision': 0.8582554517133957, 'recall': 0.924496644295302, 'f1-score': 0.8901453957996768, 'support': 1788}, 'LEV': {'precision': 0.7905918057663126, 'recall': 0.7186206896551725, 'f1-score': 0.7528901734104047, 'support': 725}, 'EGY': {'precision': 0.806615776081425, 'recall': 0.6788008565310493, 'f1-score': 0.7372093023255814, 'support': 467}, 'GLF': {'precision': 0.8047808764940239, 'recall': 0.7637051039697542, 'f1-score': 0.7837051406401552, 'support': 529}, 'accuracy': 0.808349609375, 'macro avg': {'precision': 0.7871137170759666, 'recall': 0.758862307953288, 'f1-score': 0.7711108669405669, 'support': 4096}, 'weighted avg': {'precision': 0.8072690533093448, 'recall': 0.808349609375, 'f1-score': 0.8062143174610381, 'support': 4096}}, 'eval_runtime': 7.428, 'eval_samples_per_second': 551.43, 'eval_steps_per_second': 8.616, 'epoch': 0.46}\n"
     ]
    },
    {
     "name": "stderr",
     "output_type": "stream",
     "text": [
      "\n",
      " 12%|█▏        | 10000/86888 [1:30:05<9:21:08,  2.28it/s]"
     ]
    },
    {
     "name": "stdout",
     "output_type": "stream",
     "text": [
      "{'eval_loss': 0.5382239818572998, 'eval_macro_f1': 0.7711108669405669, 'eval_macro_precision': 0.7871137170759666, 'eval_macro_recall': 0.758862307953288, 'eval_accuracy': 0.808349609375, 'eval_report': {'NOR': {'precision': 0.6753246753246753, 'recall': 0.7086882453151618, 'f1-score': 0.6916043225270159, 'support': 587}, 'IRQ': {'precision': 0.8582554517133957, 'recall': 0.924496644295302, 'f1-score': 0.8901453957996768, 'support': 1788}, 'LEV': {'precision': 0.7905918057663126, 'recall': 0.7186206896551725, 'f1-score': 0.7528901734104047, 'support': 725}, 'EGY': {'precision': 0.806615776081425, 'recall': 0.6788008565310493, 'f1-score': 0.7372093023255814, 'support': 467}, 'GLF': {'precision': 0.8047808764940239, 'recall': 0.7637051039697542, 'f1-score': 0.7837051406401552, 'support': 529}, 'accuracy': 0.808349609375, 'macro avg': {'precision': 0.7871137170759666, 'recall': 0.758862307953288, 'f1-score': 0.7711108669405669, 'support': 4096}, 'weighted avg': {'precision': 0.8072690533093448, 'recall': 0.808349609375, 'f1-score': 0.8062143174610381, 'support': 4096}}, 'eval_runtime': 7.4446, 'eval_samples_per_second': 550.197, 'eval_steps_per_second': 8.597, 'epoch': 0.46}\n"
     ]
    },
    {
     "name": "stderr",
     "output_type": "stream",
     "text": [
      "\n",
      " 12%|█▏        | 10000/86888 [1:30:12<9:21:08,  2.28it/s]"
     ]
    },
    {
     "name": "stdout",
     "output_type": "stream",
     "text": [
      "{'eval_loss': 0.5382239818572998, 'eval_macro_f1': 0.7711108669405669, 'eval_macro_precision': 0.7871137170759666, 'eval_macro_recall': 0.758862307953288, 'eval_accuracy': 0.808349609375, 'eval_report': {'NOR': {'precision': 0.6753246753246753, 'recall': 0.7086882453151618, 'f1-score': 0.6916043225270159, 'support': 587}, 'IRQ': {'precision': 0.8582554517133957, 'recall': 0.924496644295302, 'f1-score': 0.8901453957996768, 'support': 1788}, 'LEV': {'precision': 0.7905918057663126, 'recall': 0.7186206896551725, 'f1-score': 0.7528901734104047, 'support': 725}, 'EGY': {'precision': 0.806615776081425, 'recall': 0.6788008565310493, 'f1-score': 0.7372093023255814, 'support': 467}, 'GLF': {'precision': 0.8047808764940239, 'recall': 0.7637051039697542, 'f1-score': 0.7837051406401552, 'support': 529}, 'accuracy': 0.808349609375, 'macro avg': {'precision': 0.7871137170759666, 'recall': 0.758862307953288, 'f1-score': 0.7711108669405669, 'support': 4096}, 'weighted avg': {'precision': 0.8072690533093448, 'recall': 0.808349609375, 'f1-score': 0.8062143174610381, 'support': 4096}}, 'eval_runtime': 7.4352, 'eval_samples_per_second': 550.896, 'eval_steps_per_second': 8.608, 'epoch': 0.46}\n"
     ]
    },
    {
     "name": "stderr",
     "output_type": "stream",
     "text": [
      "\n",
      " 12%|█▏        | 10000/86888 [1:30:20<9:21:08,  2.28it/s]"
     ]
    },
    {
     "name": "stdout",
     "output_type": "stream",
     "text": [
      "{'eval_loss': 0.5382239818572998, 'eval_macro_f1': 0.7711108669405669, 'eval_macro_precision': 0.7871137170759666, 'eval_macro_recall': 0.758862307953288, 'eval_accuracy': 0.808349609375, 'eval_report': {'NOR': {'precision': 0.6753246753246753, 'recall': 0.7086882453151618, 'f1-score': 0.6916043225270159, 'support': 587}, 'IRQ': {'precision': 0.8582554517133957, 'recall': 0.924496644295302, 'f1-score': 0.8901453957996768, 'support': 1788}, 'LEV': {'precision': 0.7905918057663126, 'recall': 0.7186206896551725, 'f1-score': 0.7528901734104047, 'support': 725}, 'EGY': {'precision': 0.806615776081425, 'recall': 0.6788008565310493, 'f1-score': 0.7372093023255814, 'support': 467}, 'GLF': {'precision': 0.8047808764940239, 'recall': 0.7637051039697542, 'f1-score': 0.7837051406401552, 'support': 529}, 'accuracy': 0.808349609375, 'macro avg': {'precision': 0.7871137170759666, 'recall': 0.758862307953288, 'f1-score': 0.7711108669405669, 'support': 4096}, 'weighted avg': {'precision': 0.8072690533093448, 'recall': 0.808349609375, 'f1-score': 0.8062143174610381, 'support': 4096}}, 'eval_runtime': 7.4379, 'eval_samples_per_second': 550.697, 'eval_steps_per_second': 8.605, 'epoch': 0.46}\n"
     ]
    },
    {
     "name": "stderr",
     "output_type": "stream",
     "text": [
      "\n",
      " 12%|█▏        | 10000/86888 [1:30:27<9:21:08,  2.28it/s]"
     ]
    },
    {
     "name": "stdout",
     "output_type": "stream",
     "text": [
      "{'eval_loss': 0.5382239818572998, 'eval_macro_f1': 0.7711108669405669, 'eval_macro_precision': 0.7871137170759666, 'eval_macro_recall': 0.758862307953288, 'eval_accuracy': 0.808349609375, 'eval_report': {'NOR': {'precision': 0.6753246753246753, 'recall': 0.7086882453151618, 'f1-score': 0.6916043225270159, 'support': 587}, 'IRQ': {'precision': 0.8582554517133957, 'recall': 0.924496644295302, 'f1-score': 0.8901453957996768, 'support': 1788}, 'LEV': {'precision': 0.7905918057663126, 'recall': 0.7186206896551725, 'f1-score': 0.7528901734104047, 'support': 725}, 'EGY': {'precision': 0.806615776081425, 'recall': 0.6788008565310493, 'f1-score': 0.7372093023255814, 'support': 467}, 'GLF': {'precision': 0.8047808764940239, 'recall': 0.7637051039697542, 'f1-score': 0.7837051406401552, 'support': 529}, 'accuracy': 0.808349609375, 'macro avg': {'precision': 0.7871137170759666, 'recall': 0.758862307953288, 'f1-score': 0.7711108669405669, 'support': 4096}, 'weighted avg': {'precision': 0.8072690533093448, 'recall': 0.808349609375, 'f1-score': 0.8062143174610381, 'support': 4096}}, 'eval_runtime': 7.4378, 'eval_samples_per_second': 550.702, 'eval_steps_per_second': 8.605, 'epoch': 0.46}\n"
     ]
    },
    {
     "name": "stderr",
     "output_type": "stream",
     "text": [
      "\n",
      " 12%|█▏        | 10000/86888 [1:30:34<9:21:08,  2.28it/s]"
     ]
    },
    {
     "name": "stdout",
     "output_type": "stream",
     "text": [
      "{'eval_loss': 0.5382239818572998, 'eval_macro_f1': 0.7711108669405669, 'eval_macro_precision': 0.7871137170759666, 'eval_macro_recall': 0.758862307953288, 'eval_accuracy': 0.808349609375, 'eval_report': {'NOR': {'precision': 0.6753246753246753, 'recall': 0.7086882453151618, 'f1-score': 0.6916043225270159, 'support': 587}, 'IRQ': {'precision': 0.8582554517133957, 'recall': 0.924496644295302, 'f1-score': 0.8901453957996768, 'support': 1788}, 'LEV': {'precision': 0.7905918057663126, 'recall': 0.7186206896551725, 'f1-score': 0.7528901734104047, 'support': 725}, 'EGY': {'precision': 0.806615776081425, 'recall': 0.6788008565310493, 'f1-score': 0.7372093023255814, 'support': 467}, 'GLF': {'precision': 0.8047808764940239, 'recall': 0.7637051039697542, 'f1-score': 0.7837051406401552, 'support': 529}, 'accuracy': 0.808349609375, 'macro avg': {'precision': 0.7871137170759666, 'recall': 0.758862307953288, 'f1-score': 0.7711108669405669, 'support': 4096}, 'weighted avg': {'precision': 0.8072690533093448, 'recall': 0.808349609375, 'f1-score': 0.8062143174610381, 'support': 4096}}, 'eval_runtime': 7.4259, 'eval_samples_per_second': 551.582, 'eval_steps_per_second': 8.618, 'epoch': 0.46}\n"
     ]
    },
    {
     "name": "stderr",
     "output_type": "stream",
     "text": [
      "\n",
      " 12%|█▏        | 10000/86888 [1:30:42<9:21:08,  2.28it/s]"
     ]
    },
    {
     "name": "stdout",
     "output_type": "stream",
     "text": [
      "{'eval_loss': 0.5382239818572998, 'eval_macro_f1': 0.7711108669405669, 'eval_macro_precision': 0.7871137170759666, 'eval_macro_recall': 0.758862307953288, 'eval_accuracy': 0.808349609375, 'eval_report': {'NOR': {'precision': 0.6753246753246753, 'recall': 0.7086882453151618, 'f1-score': 0.6916043225270159, 'support': 587}, 'IRQ': {'precision': 0.8582554517133957, 'recall': 0.924496644295302, 'f1-score': 0.8901453957996768, 'support': 1788}, 'LEV': {'precision': 0.7905918057663126, 'recall': 0.7186206896551725, 'f1-score': 0.7528901734104047, 'support': 725}, 'EGY': {'precision': 0.806615776081425, 'recall': 0.6788008565310493, 'f1-score': 0.7372093023255814, 'support': 467}, 'GLF': {'precision': 0.8047808764940239, 'recall': 0.7637051039697542, 'f1-score': 0.7837051406401552, 'support': 529}, 'accuracy': 0.808349609375, 'macro avg': {'precision': 0.7871137170759666, 'recall': 0.758862307953288, 'f1-score': 0.7711108669405669, 'support': 4096}, 'weighted avg': {'precision': 0.8072690533093448, 'recall': 0.808349609375, 'f1-score': 0.8062143174610381, 'support': 4096}}, 'eval_runtime': 7.4484, 'eval_samples_per_second': 549.917, 'eval_steps_per_second': 8.592, 'epoch': 0.46}\n"
     ]
    },
    {
     "name": "stderr",
     "output_type": "stream",
     "text": [
      "\n",
      " 12%|█▏        | 10000/86888 [1:30:49<9:21:08,  2.28it/s]"
     ]
    },
    {
     "name": "stdout",
     "output_type": "stream",
     "text": [
      "{'eval_loss': 0.5382239818572998, 'eval_macro_f1': 0.7711108669405669, 'eval_macro_precision': 0.7871137170759666, 'eval_macro_recall': 0.758862307953288, 'eval_accuracy': 0.808349609375, 'eval_report': {'NOR': {'precision': 0.6753246753246753, 'recall': 0.7086882453151618, 'f1-score': 0.6916043225270159, 'support': 587}, 'IRQ': {'precision': 0.8582554517133957, 'recall': 0.924496644295302, 'f1-score': 0.8901453957996768, 'support': 1788}, 'LEV': {'precision': 0.7905918057663126, 'recall': 0.7186206896551725, 'f1-score': 0.7528901734104047, 'support': 725}, 'EGY': {'precision': 0.806615776081425, 'recall': 0.6788008565310493, 'f1-score': 0.7372093023255814, 'support': 467}, 'GLF': {'precision': 0.8047808764940239, 'recall': 0.7637051039697542, 'f1-score': 0.7837051406401552, 'support': 529}, 'accuracy': 0.808349609375, 'macro avg': {'precision': 0.7871137170759666, 'recall': 0.758862307953288, 'f1-score': 0.7711108669405669, 'support': 4096}, 'weighted avg': {'precision': 0.8072690533093448, 'recall': 0.808349609375, 'f1-score': 0.8062143174610381, 'support': 4096}}, 'eval_runtime': 7.4654, 'eval_samples_per_second': 548.666, 'eval_steps_per_second': 8.573, 'epoch': 0.46}\n"
     ]
    },
    {
     "name": "stderr",
     "output_type": "stream",
     "text": [
      "\n",
      " 12%|█▏        | 10000/86888 [1:30:57<9:21:08,  2.28it/s]"
     ]
    },
    {
     "name": "stdout",
     "output_type": "stream",
     "text": [
      "{'eval_loss': 0.5382239818572998, 'eval_macro_f1': 0.7711108669405669, 'eval_macro_precision': 0.7871137170759666, 'eval_macro_recall': 0.758862307953288, 'eval_accuracy': 0.808349609375, 'eval_report': {'NOR': {'precision': 0.6753246753246753, 'recall': 0.7086882453151618, 'f1-score': 0.6916043225270159, 'support': 587}, 'IRQ': {'precision': 0.8582554517133957, 'recall': 0.924496644295302, 'f1-score': 0.8901453957996768, 'support': 1788}, 'LEV': {'precision': 0.7905918057663126, 'recall': 0.7186206896551725, 'f1-score': 0.7528901734104047, 'support': 725}, 'EGY': {'precision': 0.806615776081425, 'recall': 0.6788008565310493, 'f1-score': 0.7372093023255814, 'support': 467}, 'GLF': {'precision': 0.8047808764940239, 'recall': 0.7637051039697542, 'f1-score': 0.7837051406401552, 'support': 529}, 'accuracy': 0.808349609375, 'macro avg': {'precision': 0.7871137170759666, 'recall': 0.758862307953288, 'f1-score': 0.7711108669405669, 'support': 4096}, 'weighted avg': {'precision': 0.8072690533093448, 'recall': 0.808349609375, 'f1-score': 0.8062143174610381, 'support': 4096}}, 'eval_runtime': 7.4264, 'eval_samples_per_second': 551.547, 'eval_steps_per_second': 8.618, 'epoch': 0.46}\n"
     ]
    },
    {
     "name": "stderr",
     "output_type": "stream",
     "text": [
      "\n",
      " 12%|█▏        | 10000/86888 [1:31:04<9:21:08,  2.28it/s]"
     ]
    },
    {
     "name": "stdout",
     "output_type": "stream",
     "text": [
      "{'eval_loss': 0.5382239818572998, 'eval_macro_f1': 0.7711108669405669, 'eval_macro_precision': 0.7871137170759666, 'eval_macro_recall': 0.758862307953288, 'eval_accuracy': 0.808349609375, 'eval_report': {'NOR': {'precision': 0.6753246753246753, 'recall': 0.7086882453151618, 'f1-score': 0.6916043225270159, 'support': 587}, 'IRQ': {'precision': 0.8582554517133957, 'recall': 0.924496644295302, 'f1-score': 0.8901453957996768, 'support': 1788}, 'LEV': {'precision': 0.7905918057663126, 'recall': 0.7186206896551725, 'f1-score': 0.7528901734104047, 'support': 725}, 'EGY': {'precision': 0.806615776081425, 'recall': 0.6788008565310493, 'f1-score': 0.7372093023255814, 'support': 467}, 'GLF': {'precision': 0.8047808764940239, 'recall': 0.7637051039697542, 'f1-score': 0.7837051406401552, 'support': 529}, 'accuracy': 0.808349609375, 'macro avg': {'precision': 0.7871137170759666, 'recall': 0.758862307953288, 'f1-score': 0.7711108669405669, 'support': 4096}, 'weighted avg': {'precision': 0.8072690533093448, 'recall': 0.808349609375, 'f1-score': 0.8062143174610381, 'support': 4096}}, 'eval_runtime': 7.4149, 'eval_samples_per_second': 552.399, 'eval_steps_per_second': 8.631, 'epoch': 0.46}\n"
     ]
    },
    {
     "name": "stderr",
     "output_type": "stream",
     "text": [
      "\n",
      " 12%|█▏        | 10000/86888 [1:31:12<9:21:08,  2.28it/s]"
     ]
    },
    {
     "name": "stdout",
     "output_type": "stream",
     "text": [
      "{'eval_loss': 0.5382239818572998, 'eval_macro_f1': 0.7711108669405669, 'eval_macro_precision': 0.7871137170759666, 'eval_macro_recall': 0.758862307953288, 'eval_accuracy': 0.808349609375, 'eval_report': {'NOR': {'precision': 0.6753246753246753, 'recall': 0.7086882453151618, 'f1-score': 0.6916043225270159, 'support': 587}, 'IRQ': {'precision': 0.8582554517133957, 'recall': 0.924496644295302, 'f1-score': 0.8901453957996768, 'support': 1788}, 'LEV': {'precision': 0.7905918057663126, 'recall': 0.7186206896551725, 'f1-score': 0.7528901734104047, 'support': 725}, 'EGY': {'precision': 0.806615776081425, 'recall': 0.6788008565310493, 'f1-score': 0.7372093023255814, 'support': 467}, 'GLF': {'precision': 0.8047808764940239, 'recall': 0.7637051039697542, 'f1-score': 0.7837051406401552, 'support': 529}, 'accuracy': 0.808349609375, 'macro avg': {'precision': 0.7871137170759666, 'recall': 0.758862307953288, 'f1-score': 0.7711108669405669, 'support': 4096}, 'weighted avg': {'precision': 0.8072690533093448, 'recall': 0.808349609375, 'f1-score': 0.8062143174610381, 'support': 4096}}, 'eval_runtime': 7.427, 'eval_samples_per_second': 551.499, 'eval_steps_per_second': 8.617, 'epoch': 0.46}\n"
     ]
    },
    {
     "name": "stderr",
     "output_type": "stream",
     "text": [
      "\n",
      " 12%|█▏        | 10000/86888 [1:31:19<9:21:08,  2.28it/s]"
     ]
    },
    {
     "name": "stdout",
     "output_type": "stream",
     "text": [
      "{'eval_loss': 0.5382239818572998, 'eval_macro_f1': 0.7711108669405669, 'eval_macro_precision': 0.7871137170759666, 'eval_macro_recall': 0.758862307953288, 'eval_accuracy': 0.808349609375, 'eval_report': {'NOR': {'precision': 0.6753246753246753, 'recall': 0.7086882453151618, 'f1-score': 0.6916043225270159, 'support': 587}, 'IRQ': {'precision': 0.8582554517133957, 'recall': 0.924496644295302, 'f1-score': 0.8901453957996768, 'support': 1788}, 'LEV': {'precision': 0.7905918057663126, 'recall': 0.7186206896551725, 'f1-score': 0.7528901734104047, 'support': 725}, 'EGY': {'precision': 0.806615776081425, 'recall': 0.6788008565310493, 'f1-score': 0.7372093023255814, 'support': 467}, 'GLF': {'precision': 0.8047808764940239, 'recall': 0.7637051039697542, 'f1-score': 0.7837051406401552, 'support': 529}, 'accuracy': 0.808349609375, 'macro avg': {'precision': 0.7871137170759666, 'recall': 0.758862307953288, 'f1-score': 0.7711108669405669, 'support': 4096}, 'weighted avg': {'precision': 0.8072690533093448, 'recall': 0.808349609375, 'f1-score': 0.8062143174610381, 'support': 4096}}, 'eval_runtime': 7.4206, 'eval_samples_per_second': 551.974, 'eval_steps_per_second': 8.625, 'epoch': 0.46}\n"
     ]
    },
    {
     "name": "stderr",
     "output_type": "stream",
     "text": [
      "\n",
      " 12%|█▏        | 10000/86888 [1:31:26<9:21:08,  2.28it/s]"
     ]
    },
    {
     "name": "stdout",
     "output_type": "stream",
     "text": [
      "{'eval_loss': 0.5382239818572998, 'eval_macro_f1': 0.7711108669405669, 'eval_macro_precision': 0.7871137170759666, 'eval_macro_recall': 0.758862307953288, 'eval_accuracy': 0.808349609375, 'eval_report': {'NOR': {'precision': 0.6753246753246753, 'recall': 0.7086882453151618, 'f1-score': 0.6916043225270159, 'support': 587}, 'IRQ': {'precision': 0.8582554517133957, 'recall': 0.924496644295302, 'f1-score': 0.8901453957996768, 'support': 1788}, 'LEV': {'precision': 0.7905918057663126, 'recall': 0.7186206896551725, 'f1-score': 0.7528901734104047, 'support': 725}, 'EGY': {'precision': 0.806615776081425, 'recall': 0.6788008565310493, 'f1-score': 0.7372093023255814, 'support': 467}, 'GLF': {'precision': 0.8047808764940239, 'recall': 0.7637051039697542, 'f1-score': 0.7837051406401552, 'support': 529}, 'accuracy': 0.808349609375, 'macro avg': {'precision': 0.7871137170759666, 'recall': 0.758862307953288, 'f1-score': 0.7711108669405669, 'support': 4096}, 'weighted avg': {'precision': 0.8072690533093448, 'recall': 0.808349609375, 'f1-score': 0.8062143174610381, 'support': 4096}}, 'eval_runtime': 7.4167, 'eval_samples_per_second': 552.265, 'eval_steps_per_second': 8.629, 'epoch': 0.46}\n"
     ]
    },
    {
     "name": "stderr",
     "output_type": "stream",
     "text": [
      "\n",
      " 12%|█▏        | 10000/86888 [1:31:34<9:21:08,  2.28it/s]"
     ]
    },
    {
     "name": "stdout",
     "output_type": "stream",
     "text": [
      "{'eval_loss': 0.5382239818572998, 'eval_macro_f1': 0.7711108669405669, 'eval_macro_precision': 0.7871137170759666, 'eval_macro_recall': 0.758862307953288, 'eval_accuracy': 0.808349609375, 'eval_report': {'NOR': {'precision': 0.6753246753246753, 'recall': 0.7086882453151618, 'f1-score': 0.6916043225270159, 'support': 587}, 'IRQ': {'precision': 0.8582554517133957, 'recall': 0.924496644295302, 'f1-score': 0.8901453957996768, 'support': 1788}, 'LEV': {'precision': 0.7905918057663126, 'recall': 0.7186206896551725, 'f1-score': 0.7528901734104047, 'support': 725}, 'EGY': {'precision': 0.806615776081425, 'recall': 0.6788008565310493, 'f1-score': 0.7372093023255814, 'support': 467}, 'GLF': {'precision': 0.8047808764940239, 'recall': 0.7637051039697542, 'f1-score': 0.7837051406401552, 'support': 529}, 'accuracy': 0.808349609375, 'macro avg': {'precision': 0.7871137170759666, 'recall': 0.758862307953288, 'f1-score': 0.7711108669405669, 'support': 4096}, 'weighted avg': {'precision': 0.8072690533093448, 'recall': 0.808349609375, 'f1-score': 0.8062143174610381, 'support': 4096}}, 'eval_runtime': 7.4902, 'eval_samples_per_second': 546.849, 'eval_steps_per_second': 8.545, 'epoch': 0.46}\n"
     ]
    },
    {
     "name": "stderr",
     "output_type": "stream",
     "text": [
      "\n",
      " 12%|█▏        | 10000/86888 [1:31:41<9:21:08,  2.28it/s]"
     ]
    },
    {
     "name": "stdout",
     "output_type": "stream",
     "text": [
      "{'eval_loss': 0.5382239818572998, 'eval_macro_f1': 0.7711108669405669, 'eval_macro_precision': 0.7871137170759666, 'eval_macro_recall': 0.758862307953288, 'eval_accuracy': 0.808349609375, 'eval_report': {'NOR': {'precision': 0.6753246753246753, 'recall': 0.7086882453151618, 'f1-score': 0.6916043225270159, 'support': 587}, 'IRQ': {'precision': 0.8582554517133957, 'recall': 0.924496644295302, 'f1-score': 0.8901453957996768, 'support': 1788}, 'LEV': {'precision': 0.7905918057663126, 'recall': 0.7186206896551725, 'f1-score': 0.7528901734104047, 'support': 725}, 'EGY': {'precision': 0.806615776081425, 'recall': 0.6788008565310493, 'f1-score': 0.7372093023255814, 'support': 467}, 'GLF': {'precision': 0.8047808764940239, 'recall': 0.7637051039697542, 'f1-score': 0.7837051406401552, 'support': 529}, 'accuracy': 0.808349609375, 'macro avg': {'precision': 0.7871137170759666, 'recall': 0.758862307953288, 'f1-score': 0.7711108669405669, 'support': 4096}, 'weighted avg': {'precision': 0.8072690533093448, 'recall': 0.808349609375, 'f1-score': 0.8062143174610381, 'support': 4096}}, 'eval_runtime': 7.4888, 'eval_samples_per_second': 546.953, 'eval_steps_per_second': 8.546, 'epoch': 0.46}\n"
     ]
    },
    {
     "name": "stderr",
     "output_type": "stream",
     "text": [
      "\n",
      " 12%|█▏        | 10000/86888 [1:31:49<9:21:08,  2.28it/s]"
     ]
    },
    {
     "name": "stdout",
     "output_type": "stream",
     "text": [
      "{'eval_loss': 0.5382239818572998, 'eval_macro_f1': 0.7711108669405669, 'eval_macro_precision': 0.7871137170759666, 'eval_macro_recall': 0.758862307953288, 'eval_accuracy': 0.808349609375, 'eval_report': {'NOR': {'precision': 0.6753246753246753, 'recall': 0.7086882453151618, 'f1-score': 0.6916043225270159, 'support': 587}, 'IRQ': {'precision': 0.8582554517133957, 'recall': 0.924496644295302, 'f1-score': 0.8901453957996768, 'support': 1788}, 'LEV': {'precision': 0.7905918057663126, 'recall': 0.7186206896551725, 'f1-score': 0.7528901734104047, 'support': 725}, 'EGY': {'precision': 0.806615776081425, 'recall': 0.6788008565310493, 'f1-score': 0.7372093023255814, 'support': 467}, 'GLF': {'precision': 0.8047808764940239, 'recall': 0.7637051039697542, 'f1-score': 0.7837051406401552, 'support': 529}, 'accuracy': 0.808349609375, 'macro avg': {'precision': 0.7871137170759666, 'recall': 0.758862307953288, 'f1-score': 0.7711108669405669, 'support': 4096}, 'weighted avg': {'precision': 0.8072690533093448, 'recall': 0.808349609375, 'f1-score': 0.8062143174610381, 'support': 4096}}, 'eval_runtime': 7.4972, 'eval_samples_per_second': 546.339, 'eval_steps_per_second': 8.537, 'epoch': 0.46}\n"
     ]
    },
    {
     "name": "stderr",
     "output_type": "stream",
     "text": [
      "\n",
      " 12%|█▏        | 10000/86888 [1:31:56<9:21:08,  2.28it/s]"
     ]
    },
    {
     "name": "stdout",
     "output_type": "stream",
     "text": [
      "{'eval_loss': 0.5382239818572998, 'eval_macro_f1': 0.7711108669405669, 'eval_macro_precision': 0.7871137170759666, 'eval_macro_recall': 0.758862307953288, 'eval_accuracy': 0.808349609375, 'eval_report': {'NOR': {'precision': 0.6753246753246753, 'recall': 0.7086882453151618, 'f1-score': 0.6916043225270159, 'support': 587}, 'IRQ': {'precision': 0.8582554517133957, 'recall': 0.924496644295302, 'f1-score': 0.8901453957996768, 'support': 1788}, 'LEV': {'precision': 0.7905918057663126, 'recall': 0.7186206896551725, 'f1-score': 0.7528901734104047, 'support': 725}, 'EGY': {'precision': 0.806615776081425, 'recall': 0.6788008565310493, 'f1-score': 0.7372093023255814, 'support': 467}, 'GLF': {'precision': 0.8047808764940239, 'recall': 0.7637051039697542, 'f1-score': 0.7837051406401552, 'support': 529}, 'accuracy': 0.808349609375, 'macro avg': {'precision': 0.7871137170759666, 'recall': 0.758862307953288, 'f1-score': 0.7711108669405669, 'support': 4096}, 'weighted avg': {'precision': 0.8072690533093448, 'recall': 0.808349609375, 'f1-score': 0.8062143174610381, 'support': 4096}}, 'eval_runtime': 7.4755, 'eval_samples_per_second': 547.921, 'eval_steps_per_second': 8.561, 'epoch': 0.46}\n"
     ]
    },
    {
     "name": "stderr",
     "output_type": "stream",
     "text": [
      "\n",
      " 12%|█▏        | 10000/86888 [1:32:04<9:21:08,  2.28it/s]"
     ]
    },
    {
     "name": "stdout",
     "output_type": "stream",
     "text": [
      "{'eval_loss': 0.5382239818572998, 'eval_macro_f1': 0.7711108669405669, 'eval_macro_precision': 0.7871137170759666, 'eval_macro_recall': 0.758862307953288, 'eval_accuracy': 0.808349609375, 'eval_report': {'NOR': {'precision': 0.6753246753246753, 'recall': 0.7086882453151618, 'f1-score': 0.6916043225270159, 'support': 587}, 'IRQ': {'precision': 0.8582554517133957, 'recall': 0.924496644295302, 'f1-score': 0.8901453957996768, 'support': 1788}, 'LEV': {'precision': 0.7905918057663126, 'recall': 0.7186206896551725, 'f1-score': 0.7528901734104047, 'support': 725}, 'EGY': {'precision': 0.806615776081425, 'recall': 0.6788008565310493, 'f1-score': 0.7372093023255814, 'support': 467}, 'GLF': {'precision': 0.8047808764940239, 'recall': 0.7637051039697542, 'f1-score': 0.7837051406401552, 'support': 529}, 'accuracy': 0.808349609375, 'macro avg': {'precision': 0.7871137170759666, 'recall': 0.758862307953288, 'f1-score': 0.7711108669405669, 'support': 4096}, 'weighted avg': {'precision': 0.8072690533093448, 'recall': 0.808349609375, 'f1-score': 0.8062143174610381, 'support': 4096}}, 'eval_runtime': 7.4717, 'eval_samples_per_second': 548.199, 'eval_steps_per_second': 8.566, 'epoch': 0.46}\n"
     ]
    },
    {
     "name": "stderr",
     "output_type": "stream",
     "text": [
      "\n",
      " 12%|█▏        | 10000/86888 [1:32:11<9:21:08,  2.28it/s]"
     ]
    },
    {
     "name": "stdout",
     "output_type": "stream",
     "text": [
      "{'eval_loss': 0.5382239818572998, 'eval_macro_f1': 0.7711108669405669, 'eval_macro_precision': 0.7871137170759666, 'eval_macro_recall': 0.758862307953288, 'eval_accuracy': 0.808349609375, 'eval_report': {'NOR': {'precision': 0.6753246753246753, 'recall': 0.7086882453151618, 'f1-score': 0.6916043225270159, 'support': 587}, 'IRQ': {'precision': 0.8582554517133957, 'recall': 0.924496644295302, 'f1-score': 0.8901453957996768, 'support': 1788}, 'LEV': {'precision': 0.7905918057663126, 'recall': 0.7186206896551725, 'f1-score': 0.7528901734104047, 'support': 725}, 'EGY': {'precision': 0.806615776081425, 'recall': 0.6788008565310493, 'f1-score': 0.7372093023255814, 'support': 467}, 'GLF': {'precision': 0.8047808764940239, 'recall': 0.7637051039697542, 'f1-score': 0.7837051406401552, 'support': 529}, 'accuracy': 0.808349609375, 'macro avg': {'precision': 0.7871137170759666, 'recall': 0.758862307953288, 'f1-score': 0.7711108669405669, 'support': 4096}, 'weighted avg': {'precision': 0.8072690533093448, 'recall': 0.808349609375, 'f1-score': 0.8062143174610381, 'support': 4096}}, 'eval_runtime': 7.4925, 'eval_samples_per_second': 546.681, 'eval_steps_per_second': 8.542, 'epoch': 0.46}\n"
     ]
    },
    {
     "name": "stderr",
     "output_type": "stream",
     "text": [
      "\n",
      " 12%|█▏        | 10000/86888 [1:32:19<9:21:08,  2.28it/s]"
     ]
    },
    {
     "name": "stdout",
     "output_type": "stream",
     "text": [
      "{'eval_loss': 0.5382239818572998, 'eval_macro_f1': 0.7711108669405669, 'eval_macro_precision': 0.7871137170759666, 'eval_macro_recall': 0.758862307953288, 'eval_accuracy': 0.808349609375, 'eval_report': {'NOR': {'precision': 0.6753246753246753, 'recall': 0.7086882453151618, 'f1-score': 0.6916043225270159, 'support': 587}, 'IRQ': {'precision': 0.8582554517133957, 'recall': 0.924496644295302, 'f1-score': 0.8901453957996768, 'support': 1788}, 'LEV': {'precision': 0.7905918057663126, 'recall': 0.7186206896551725, 'f1-score': 0.7528901734104047, 'support': 725}, 'EGY': {'precision': 0.806615776081425, 'recall': 0.6788008565310493, 'f1-score': 0.7372093023255814, 'support': 467}, 'GLF': {'precision': 0.8047808764940239, 'recall': 0.7637051039697542, 'f1-score': 0.7837051406401552, 'support': 529}, 'accuracy': 0.808349609375, 'macro avg': {'precision': 0.7871137170759666, 'recall': 0.758862307953288, 'f1-score': 0.7711108669405669, 'support': 4096}, 'weighted avg': {'precision': 0.8072690533093448, 'recall': 0.808349609375, 'f1-score': 0.8062143174610381, 'support': 4096}}, 'eval_runtime': 7.4851, 'eval_samples_per_second': 547.218, 'eval_steps_per_second': 8.55, 'epoch': 0.46}\n"
     ]
    },
    {
     "name": "stderr",
     "output_type": "stream",
     "text": [
      "\n",
      " 12%|█▏        | 10000/86888 [1:32:26<9:21:08,  2.28it/s]"
     ]
    },
    {
     "name": "stdout",
     "output_type": "stream",
     "text": [
      "{'eval_loss': 0.5382239818572998, 'eval_macro_f1': 0.7711108669405669, 'eval_macro_precision': 0.7871137170759666, 'eval_macro_recall': 0.758862307953288, 'eval_accuracy': 0.808349609375, 'eval_report': {'NOR': {'precision': 0.6753246753246753, 'recall': 0.7086882453151618, 'f1-score': 0.6916043225270159, 'support': 587}, 'IRQ': {'precision': 0.8582554517133957, 'recall': 0.924496644295302, 'f1-score': 0.8901453957996768, 'support': 1788}, 'LEV': {'precision': 0.7905918057663126, 'recall': 0.7186206896551725, 'f1-score': 0.7528901734104047, 'support': 725}, 'EGY': {'precision': 0.806615776081425, 'recall': 0.6788008565310493, 'f1-score': 0.7372093023255814, 'support': 467}, 'GLF': {'precision': 0.8047808764940239, 'recall': 0.7637051039697542, 'f1-score': 0.7837051406401552, 'support': 529}, 'accuracy': 0.808349609375, 'macro avg': {'precision': 0.7871137170759666, 'recall': 0.758862307953288, 'f1-score': 0.7711108669405669, 'support': 4096}, 'weighted avg': {'precision': 0.8072690533093448, 'recall': 0.808349609375, 'f1-score': 0.8062143174610381, 'support': 4096}}, 'eval_runtime': 7.4923, 'eval_samples_per_second': 546.695, 'eval_steps_per_second': 8.542, 'epoch': 0.46}\n"
     ]
    },
    {
     "name": "stderr",
     "output_type": "stream",
     "text": [
      "\n",
      " 12%|█▏        | 10000/86888 [1:32:34<9:21:08,  2.28it/s]"
     ]
    },
    {
     "name": "stdout",
     "output_type": "stream",
     "text": [
      "{'eval_loss': 0.5382239818572998, 'eval_macro_f1': 0.7711108669405669, 'eval_macro_precision': 0.7871137170759666, 'eval_macro_recall': 0.758862307953288, 'eval_accuracy': 0.808349609375, 'eval_report': {'NOR': {'precision': 0.6753246753246753, 'recall': 0.7086882453151618, 'f1-score': 0.6916043225270159, 'support': 587}, 'IRQ': {'precision': 0.8582554517133957, 'recall': 0.924496644295302, 'f1-score': 0.8901453957996768, 'support': 1788}, 'LEV': {'precision': 0.7905918057663126, 'recall': 0.7186206896551725, 'f1-score': 0.7528901734104047, 'support': 725}, 'EGY': {'precision': 0.806615776081425, 'recall': 0.6788008565310493, 'f1-score': 0.7372093023255814, 'support': 467}, 'GLF': {'precision': 0.8047808764940239, 'recall': 0.7637051039697542, 'f1-score': 0.7837051406401552, 'support': 529}, 'accuracy': 0.808349609375, 'macro avg': {'precision': 0.7871137170759666, 'recall': 0.758862307953288, 'f1-score': 0.7711108669405669, 'support': 4096}, 'weighted avg': {'precision': 0.8072690533093448, 'recall': 0.808349609375, 'f1-score': 0.8062143174610381, 'support': 4096}}, 'eval_runtime': 7.489, 'eval_samples_per_second': 546.938, 'eval_steps_per_second': 8.546, 'epoch': 0.46}\n"
     ]
    },
    {
     "name": "stderr",
     "output_type": "stream",
     "text": [
      "\n",
      " 12%|█▏        | 10000/86888 [1:32:41<9:21:08,  2.28it/s]"
     ]
    },
    {
     "name": "stdout",
     "output_type": "stream",
     "text": [
      "{'eval_loss': 0.5382239818572998, 'eval_macro_f1': 0.7711108669405669, 'eval_macro_precision': 0.7871137170759666, 'eval_macro_recall': 0.758862307953288, 'eval_accuracy': 0.808349609375, 'eval_report': {'NOR': {'precision': 0.6753246753246753, 'recall': 0.7086882453151618, 'f1-score': 0.6916043225270159, 'support': 587}, 'IRQ': {'precision': 0.8582554517133957, 'recall': 0.924496644295302, 'f1-score': 0.8901453957996768, 'support': 1788}, 'LEV': {'precision': 0.7905918057663126, 'recall': 0.7186206896551725, 'f1-score': 0.7528901734104047, 'support': 725}, 'EGY': {'precision': 0.806615776081425, 'recall': 0.6788008565310493, 'f1-score': 0.7372093023255814, 'support': 467}, 'GLF': {'precision': 0.8047808764940239, 'recall': 0.7637051039697542, 'f1-score': 0.7837051406401552, 'support': 529}, 'accuracy': 0.808349609375, 'macro avg': {'precision': 0.7871137170759666, 'recall': 0.758862307953288, 'f1-score': 0.7711108669405669, 'support': 4096}, 'weighted avg': {'precision': 0.8072690533093448, 'recall': 0.808349609375, 'f1-score': 0.8062143174610381, 'support': 4096}}, 'eval_runtime': 7.4904, 'eval_samples_per_second': 546.834, 'eval_steps_per_second': 8.544, 'epoch': 0.46}\n"
     ]
    },
    {
     "name": "stderr",
     "output_type": "stream",
     "text": [
      "\n",
      " 12%|█▏        | 10000/86888 [1:32:49<9:21:08,  2.28it/s]"
     ]
    },
    {
     "name": "stdout",
     "output_type": "stream",
     "text": [
      "{'eval_loss': 0.5382239818572998, 'eval_macro_f1': 0.7711108669405669, 'eval_macro_precision': 0.7871137170759666, 'eval_macro_recall': 0.758862307953288, 'eval_accuracy': 0.808349609375, 'eval_report': {'NOR': {'precision': 0.6753246753246753, 'recall': 0.7086882453151618, 'f1-score': 0.6916043225270159, 'support': 587}, 'IRQ': {'precision': 0.8582554517133957, 'recall': 0.924496644295302, 'f1-score': 0.8901453957996768, 'support': 1788}, 'LEV': {'precision': 0.7905918057663126, 'recall': 0.7186206896551725, 'f1-score': 0.7528901734104047, 'support': 725}, 'EGY': {'precision': 0.806615776081425, 'recall': 0.6788008565310493, 'f1-score': 0.7372093023255814, 'support': 467}, 'GLF': {'precision': 0.8047808764940239, 'recall': 0.7637051039697542, 'f1-score': 0.7837051406401552, 'support': 529}, 'accuracy': 0.808349609375, 'macro avg': {'precision': 0.7871137170759666, 'recall': 0.758862307953288, 'f1-score': 0.7711108669405669, 'support': 4096}, 'weighted avg': {'precision': 0.8072690533093448, 'recall': 0.808349609375, 'f1-score': 0.8062143174610381, 'support': 4096}}, 'eval_runtime': 7.4993, 'eval_samples_per_second': 546.184, 'eval_steps_per_second': 8.534, 'epoch': 0.46}\n"
     ]
    },
    {
     "name": "stderr",
     "output_type": "stream",
     "text": [
      "\n",
      " 12%|█▏        | 10000/86888 [1:32:56<9:21:08,  2.28it/s]"
     ]
    },
    {
     "name": "stdout",
     "output_type": "stream",
     "text": [
      "{'eval_loss': 0.5382239818572998, 'eval_macro_f1': 0.7711108669405669, 'eval_macro_precision': 0.7871137170759666, 'eval_macro_recall': 0.758862307953288, 'eval_accuracy': 0.808349609375, 'eval_report': {'NOR': {'precision': 0.6753246753246753, 'recall': 0.7086882453151618, 'f1-score': 0.6916043225270159, 'support': 587}, 'IRQ': {'precision': 0.8582554517133957, 'recall': 0.924496644295302, 'f1-score': 0.8901453957996768, 'support': 1788}, 'LEV': {'precision': 0.7905918057663126, 'recall': 0.7186206896551725, 'f1-score': 0.7528901734104047, 'support': 725}, 'EGY': {'precision': 0.806615776081425, 'recall': 0.6788008565310493, 'f1-score': 0.7372093023255814, 'support': 467}, 'GLF': {'precision': 0.8047808764940239, 'recall': 0.7637051039697542, 'f1-score': 0.7837051406401552, 'support': 529}, 'accuracy': 0.808349609375, 'macro avg': {'precision': 0.7871137170759666, 'recall': 0.758862307953288, 'f1-score': 0.7711108669405669, 'support': 4096}, 'weighted avg': {'precision': 0.8072690533093448, 'recall': 0.808349609375, 'f1-score': 0.8062143174610381, 'support': 4096}}, 'eval_runtime': 7.4741, 'eval_samples_per_second': 548.027, 'eval_steps_per_second': 8.563, 'epoch': 0.46}\n"
     ]
    },
    {
     "name": "stderr",
     "output_type": "stream",
     "text": [
      "\n",
      " 12%|█▏        | 10000/86888 [1:33:04<9:21:08,  2.28it/s]"
     ]
    },
    {
     "name": "stdout",
     "output_type": "stream",
     "text": [
      "{'eval_loss': 0.5382239818572998, 'eval_macro_f1': 0.7711108669405669, 'eval_macro_precision': 0.7871137170759666, 'eval_macro_recall': 0.758862307953288, 'eval_accuracy': 0.808349609375, 'eval_report': {'NOR': {'precision': 0.6753246753246753, 'recall': 0.7086882453151618, 'f1-score': 0.6916043225270159, 'support': 587}, 'IRQ': {'precision': 0.8582554517133957, 'recall': 0.924496644295302, 'f1-score': 0.8901453957996768, 'support': 1788}, 'LEV': {'precision': 0.7905918057663126, 'recall': 0.7186206896551725, 'f1-score': 0.7528901734104047, 'support': 725}, 'EGY': {'precision': 0.806615776081425, 'recall': 0.6788008565310493, 'f1-score': 0.7372093023255814, 'support': 467}, 'GLF': {'precision': 0.8047808764940239, 'recall': 0.7637051039697542, 'f1-score': 0.7837051406401552, 'support': 529}, 'accuracy': 0.808349609375, 'macro avg': {'precision': 0.7871137170759666, 'recall': 0.758862307953288, 'f1-score': 0.7711108669405669, 'support': 4096}, 'weighted avg': {'precision': 0.8072690533093448, 'recall': 0.808349609375, 'f1-score': 0.8062143174610381, 'support': 4096}}, 'eval_runtime': 7.4942, 'eval_samples_per_second': 546.553, 'eval_steps_per_second': 8.54, 'epoch': 0.46}\n"
     ]
    },
    {
     "name": "stderr",
     "output_type": "stream",
     "text": [
      "\n",
      " 12%|█▏        | 10000/86888 [1:33:11<9:21:08,  2.28it/s]"
     ]
    },
    {
     "name": "stdout",
     "output_type": "stream",
     "text": [
      "{'eval_loss': 0.5382239818572998, 'eval_macro_f1': 0.7711108669405669, 'eval_macro_precision': 0.7871137170759666, 'eval_macro_recall': 0.758862307953288, 'eval_accuracy': 0.808349609375, 'eval_report': {'NOR': {'precision': 0.6753246753246753, 'recall': 0.7086882453151618, 'f1-score': 0.6916043225270159, 'support': 587}, 'IRQ': {'precision': 0.8582554517133957, 'recall': 0.924496644295302, 'f1-score': 0.8901453957996768, 'support': 1788}, 'LEV': {'precision': 0.7905918057663126, 'recall': 0.7186206896551725, 'f1-score': 0.7528901734104047, 'support': 725}, 'EGY': {'precision': 0.806615776081425, 'recall': 0.6788008565310493, 'f1-score': 0.7372093023255814, 'support': 467}, 'GLF': {'precision': 0.8047808764940239, 'recall': 0.7637051039697542, 'f1-score': 0.7837051406401552, 'support': 529}, 'accuracy': 0.808349609375, 'macro avg': {'precision': 0.7871137170759666, 'recall': 0.758862307953288, 'f1-score': 0.7711108669405669, 'support': 4096}, 'weighted avg': {'precision': 0.8072690533093448, 'recall': 0.808349609375, 'f1-score': 0.8062143174610381, 'support': 4096}}, 'eval_runtime': 7.4817, 'eval_samples_per_second': 547.47, 'eval_steps_per_second': 8.554, 'epoch': 0.46}\n"
     ]
    },
    {
     "name": "stderr",
     "output_type": "stream",
     "text": [
      "\n",
      " 12%|█▏        | 10000/86888 [1:33:19<9:21:08,  2.28it/s]"
     ]
    },
    {
     "name": "stdout",
     "output_type": "stream",
     "text": [
      "{'eval_loss': 0.5382239818572998, 'eval_macro_f1': 0.7711108669405669, 'eval_macro_precision': 0.7871137170759666, 'eval_macro_recall': 0.758862307953288, 'eval_accuracy': 0.808349609375, 'eval_report': {'NOR': {'precision': 0.6753246753246753, 'recall': 0.7086882453151618, 'f1-score': 0.6916043225270159, 'support': 587}, 'IRQ': {'precision': 0.8582554517133957, 'recall': 0.924496644295302, 'f1-score': 0.8901453957996768, 'support': 1788}, 'LEV': {'precision': 0.7905918057663126, 'recall': 0.7186206896551725, 'f1-score': 0.7528901734104047, 'support': 725}, 'EGY': {'precision': 0.806615776081425, 'recall': 0.6788008565310493, 'f1-score': 0.7372093023255814, 'support': 467}, 'GLF': {'precision': 0.8047808764940239, 'recall': 0.7637051039697542, 'f1-score': 0.7837051406401552, 'support': 529}, 'accuracy': 0.808349609375, 'macro avg': {'precision': 0.7871137170759666, 'recall': 0.758862307953288, 'f1-score': 0.7711108669405669, 'support': 4096}, 'weighted avg': {'precision': 0.8072690533093448, 'recall': 0.808349609375, 'f1-score': 0.8062143174610381, 'support': 4096}}, 'eval_runtime': 7.495, 'eval_samples_per_second': 546.495, 'eval_steps_per_second': 8.539, 'epoch': 0.46}\n"
     ]
    },
    {
     "name": "stderr",
     "output_type": "stream",
     "text": [
      "\n",
      " 12%|█▏        | 10000/86888 [1:33:26<9:21:08,  2.28it/s]"
     ]
    },
    {
     "name": "stdout",
     "output_type": "stream",
     "text": [
      "{'eval_loss': 0.5382239818572998, 'eval_macro_f1': 0.7711108669405669, 'eval_macro_precision': 0.7871137170759666, 'eval_macro_recall': 0.758862307953288, 'eval_accuracy': 0.808349609375, 'eval_report': {'NOR': {'precision': 0.6753246753246753, 'recall': 0.7086882453151618, 'f1-score': 0.6916043225270159, 'support': 587}, 'IRQ': {'precision': 0.8582554517133957, 'recall': 0.924496644295302, 'f1-score': 0.8901453957996768, 'support': 1788}, 'LEV': {'precision': 0.7905918057663126, 'recall': 0.7186206896551725, 'f1-score': 0.7528901734104047, 'support': 725}, 'EGY': {'precision': 0.806615776081425, 'recall': 0.6788008565310493, 'f1-score': 0.7372093023255814, 'support': 467}, 'GLF': {'precision': 0.8047808764940239, 'recall': 0.7637051039697542, 'f1-score': 0.7837051406401552, 'support': 529}, 'accuracy': 0.808349609375, 'macro avg': {'precision': 0.7871137170759666, 'recall': 0.758862307953288, 'f1-score': 0.7711108669405669, 'support': 4096}, 'weighted avg': {'precision': 0.8072690533093448, 'recall': 0.808349609375, 'f1-score': 0.8062143174610381, 'support': 4096}}, 'eval_runtime': 7.4859, 'eval_samples_per_second': 547.161, 'eval_steps_per_second': 8.549, 'epoch': 0.46}\n"
     ]
    },
    {
     "name": "stderr",
     "output_type": "stream",
     "text": [
      "\n",
      " 12%|█▏        | 10000/86888 [1:33:34<9:21:08,  2.28it/s]"
     ]
    },
    {
     "name": "stdout",
     "output_type": "stream",
     "text": [
      "{'eval_loss': 0.5382239818572998, 'eval_macro_f1': 0.7711108669405669, 'eval_macro_precision': 0.7871137170759666, 'eval_macro_recall': 0.758862307953288, 'eval_accuracy': 0.808349609375, 'eval_report': {'NOR': {'precision': 0.6753246753246753, 'recall': 0.7086882453151618, 'f1-score': 0.6916043225270159, 'support': 587}, 'IRQ': {'precision': 0.8582554517133957, 'recall': 0.924496644295302, 'f1-score': 0.8901453957996768, 'support': 1788}, 'LEV': {'precision': 0.7905918057663126, 'recall': 0.7186206896551725, 'f1-score': 0.7528901734104047, 'support': 725}, 'EGY': {'precision': 0.806615776081425, 'recall': 0.6788008565310493, 'f1-score': 0.7372093023255814, 'support': 467}, 'GLF': {'precision': 0.8047808764940239, 'recall': 0.7637051039697542, 'f1-score': 0.7837051406401552, 'support': 529}, 'accuracy': 0.808349609375, 'macro avg': {'precision': 0.7871137170759666, 'recall': 0.758862307953288, 'f1-score': 0.7711108669405669, 'support': 4096}, 'weighted avg': {'precision': 0.8072690533093448, 'recall': 0.808349609375, 'f1-score': 0.8062143174610381, 'support': 4096}}, 'eval_runtime': 7.4856, 'eval_samples_per_second': 547.186, 'eval_steps_per_second': 8.55, 'epoch': 0.46}\n"
     ]
    },
    {
     "name": "stderr",
     "output_type": "stream",
     "text": [
      "\n",
      " 12%|█▏        | 10000/86888 [1:33:41<9:21:08,  2.28it/s]"
     ]
    },
    {
     "name": "stdout",
     "output_type": "stream",
     "text": [
      "{'eval_loss': 0.5382239818572998, 'eval_macro_f1': 0.7711108669405669, 'eval_macro_precision': 0.7871137170759666, 'eval_macro_recall': 0.758862307953288, 'eval_accuracy': 0.808349609375, 'eval_report': {'NOR': {'precision': 0.6753246753246753, 'recall': 0.7086882453151618, 'f1-score': 0.6916043225270159, 'support': 587}, 'IRQ': {'precision': 0.8582554517133957, 'recall': 0.924496644295302, 'f1-score': 0.8901453957996768, 'support': 1788}, 'LEV': {'precision': 0.7905918057663126, 'recall': 0.7186206896551725, 'f1-score': 0.7528901734104047, 'support': 725}, 'EGY': {'precision': 0.806615776081425, 'recall': 0.6788008565310493, 'f1-score': 0.7372093023255814, 'support': 467}, 'GLF': {'precision': 0.8047808764940239, 'recall': 0.7637051039697542, 'f1-score': 0.7837051406401552, 'support': 529}, 'accuracy': 0.808349609375, 'macro avg': {'precision': 0.7871137170759666, 'recall': 0.758862307953288, 'f1-score': 0.7711108669405669, 'support': 4096}, 'weighted avg': {'precision': 0.8072690533093448, 'recall': 0.808349609375, 'f1-score': 0.8062143174610381, 'support': 4096}}, 'eval_runtime': 7.4971, 'eval_samples_per_second': 546.346, 'eval_steps_per_second': 8.537, 'epoch': 0.46}\n"
     ]
    },
    {
     "name": "stderr",
     "output_type": "stream",
     "text": [
      "\n",
      " 12%|█▏        | 10000/86888 [1:33:49<9:21:08,  2.28it/s]"
     ]
    },
    {
     "name": "stdout",
     "output_type": "stream",
     "text": [
      "{'eval_loss': 0.5382239818572998, 'eval_macro_f1': 0.7711108669405669, 'eval_macro_precision': 0.7871137170759666, 'eval_macro_recall': 0.758862307953288, 'eval_accuracy': 0.808349609375, 'eval_report': {'NOR': {'precision': 0.6753246753246753, 'recall': 0.7086882453151618, 'f1-score': 0.6916043225270159, 'support': 587}, 'IRQ': {'precision': 0.8582554517133957, 'recall': 0.924496644295302, 'f1-score': 0.8901453957996768, 'support': 1788}, 'LEV': {'precision': 0.7905918057663126, 'recall': 0.7186206896551725, 'f1-score': 0.7528901734104047, 'support': 725}, 'EGY': {'precision': 0.806615776081425, 'recall': 0.6788008565310493, 'f1-score': 0.7372093023255814, 'support': 467}, 'GLF': {'precision': 0.8047808764940239, 'recall': 0.7637051039697542, 'f1-score': 0.7837051406401552, 'support': 529}, 'accuracy': 0.808349609375, 'macro avg': {'precision': 0.7871137170759666, 'recall': 0.758862307953288, 'f1-score': 0.7711108669405669, 'support': 4096}, 'weighted avg': {'precision': 0.8072690533093448, 'recall': 0.808349609375, 'f1-score': 0.8062143174610381, 'support': 4096}}, 'eval_runtime': 7.4968, 'eval_samples_per_second': 546.367, 'eval_steps_per_second': 8.537, 'epoch': 0.46}\n"
     ]
    },
    {
     "name": "stderr",
     "output_type": "stream",
     "text": [
      "\n",
      " 12%|█▏        | 10000/86888 [1:33:56<9:21:08,  2.28it/s]"
     ]
    },
    {
     "name": "stdout",
     "output_type": "stream",
     "text": [
      "{'eval_loss': 0.5382239818572998, 'eval_macro_f1': 0.7711108669405669, 'eval_macro_precision': 0.7871137170759666, 'eval_macro_recall': 0.758862307953288, 'eval_accuracy': 0.808349609375, 'eval_report': {'NOR': {'precision': 0.6753246753246753, 'recall': 0.7086882453151618, 'f1-score': 0.6916043225270159, 'support': 587}, 'IRQ': {'precision': 0.8582554517133957, 'recall': 0.924496644295302, 'f1-score': 0.8901453957996768, 'support': 1788}, 'LEV': {'precision': 0.7905918057663126, 'recall': 0.7186206896551725, 'f1-score': 0.7528901734104047, 'support': 725}, 'EGY': {'precision': 0.806615776081425, 'recall': 0.6788008565310493, 'f1-score': 0.7372093023255814, 'support': 467}, 'GLF': {'precision': 0.8047808764940239, 'recall': 0.7637051039697542, 'f1-score': 0.7837051406401552, 'support': 529}, 'accuracy': 0.808349609375, 'macro avg': {'precision': 0.7871137170759666, 'recall': 0.758862307953288, 'f1-score': 0.7711108669405669, 'support': 4096}, 'weighted avg': {'precision': 0.8072690533093448, 'recall': 0.808349609375, 'f1-score': 0.8062143174610381, 'support': 4096}}, 'eval_runtime': 7.4893, 'eval_samples_per_second': 546.914, 'eval_steps_per_second': 8.546, 'epoch': 0.46}\n"
     ]
    },
    {
     "name": "stderr",
     "output_type": "stream",
     "text": [
      "\n",
      " 12%|█▏        | 10000/86888 [1:34:04<9:21:08,  2.28it/s]"
     ]
    },
    {
     "name": "stdout",
     "output_type": "stream",
     "text": [
      "{'eval_loss': 0.5382239818572998, 'eval_macro_f1': 0.7711108669405669, 'eval_macro_precision': 0.7871137170759666, 'eval_macro_recall': 0.758862307953288, 'eval_accuracy': 0.808349609375, 'eval_report': {'NOR': {'precision': 0.6753246753246753, 'recall': 0.7086882453151618, 'f1-score': 0.6916043225270159, 'support': 587}, 'IRQ': {'precision': 0.8582554517133957, 'recall': 0.924496644295302, 'f1-score': 0.8901453957996768, 'support': 1788}, 'LEV': {'precision': 0.7905918057663126, 'recall': 0.7186206896551725, 'f1-score': 0.7528901734104047, 'support': 725}, 'EGY': {'precision': 0.806615776081425, 'recall': 0.6788008565310493, 'f1-score': 0.7372093023255814, 'support': 467}, 'GLF': {'precision': 0.8047808764940239, 'recall': 0.7637051039697542, 'f1-score': 0.7837051406401552, 'support': 529}, 'accuracy': 0.808349609375, 'macro avg': {'precision': 0.7871137170759666, 'recall': 0.758862307953288, 'f1-score': 0.7711108669405669, 'support': 4096}, 'weighted avg': {'precision': 0.8072690533093448, 'recall': 0.808349609375, 'f1-score': 0.8062143174610381, 'support': 4096}}, 'eval_runtime': 7.4883, 'eval_samples_per_second': 546.988, 'eval_steps_per_second': 8.547, 'epoch': 0.46}\n"
     ]
    },
    {
     "name": "stderr",
     "output_type": "stream",
     "text": [
      "\n",
      " 12%|█▏        | 10000/86888 [1:34:12<9:21:08,  2.28it/s]"
     ]
    },
    {
     "name": "stdout",
     "output_type": "stream",
     "text": [
      "{'eval_loss': 0.5382239818572998, 'eval_macro_f1': 0.7711108669405669, 'eval_macro_precision': 0.7871137170759666, 'eval_macro_recall': 0.758862307953288, 'eval_accuracy': 0.808349609375, 'eval_report': {'NOR': {'precision': 0.6753246753246753, 'recall': 0.7086882453151618, 'f1-score': 0.6916043225270159, 'support': 587}, 'IRQ': {'precision': 0.8582554517133957, 'recall': 0.924496644295302, 'f1-score': 0.8901453957996768, 'support': 1788}, 'LEV': {'precision': 0.7905918057663126, 'recall': 0.7186206896551725, 'f1-score': 0.7528901734104047, 'support': 725}, 'EGY': {'precision': 0.806615776081425, 'recall': 0.6788008565310493, 'f1-score': 0.7372093023255814, 'support': 467}, 'GLF': {'precision': 0.8047808764940239, 'recall': 0.7637051039697542, 'f1-score': 0.7837051406401552, 'support': 529}, 'accuracy': 0.808349609375, 'macro avg': {'precision': 0.7871137170759666, 'recall': 0.758862307953288, 'f1-score': 0.7711108669405669, 'support': 4096}, 'weighted avg': {'precision': 0.8072690533093448, 'recall': 0.808349609375, 'f1-score': 0.8062143174610381, 'support': 4096}}, 'eval_runtime': 7.4963, 'eval_samples_per_second': 546.403, 'eval_steps_per_second': 8.538, 'epoch': 0.46}\n"
     ]
    },
    {
     "name": "stderr",
     "output_type": "stream",
     "text": [
      "\n",
      " 12%|█▏        | 10000/86888 [1:34:19<9:21:08,  2.28it/s]"
     ]
    },
    {
     "name": "stdout",
     "output_type": "stream",
     "text": [
      "{'eval_loss': 0.5382239818572998, 'eval_macro_f1': 0.7711108669405669, 'eval_macro_precision': 0.7871137170759666, 'eval_macro_recall': 0.758862307953288, 'eval_accuracy': 0.808349609375, 'eval_report': {'NOR': {'precision': 0.6753246753246753, 'recall': 0.7086882453151618, 'f1-score': 0.6916043225270159, 'support': 587}, 'IRQ': {'precision': 0.8582554517133957, 'recall': 0.924496644295302, 'f1-score': 0.8901453957996768, 'support': 1788}, 'LEV': {'precision': 0.7905918057663126, 'recall': 0.7186206896551725, 'f1-score': 0.7528901734104047, 'support': 725}, 'EGY': {'precision': 0.806615776081425, 'recall': 0.6788008565310493, 'f1-score': 0.7372093023255814, 'support': 467}, 'GLF': {'precision': 0.8047808764940239, 'recall': 0.7637051039697542, 'f1-score': 0.7837051406401552, 'support': 529}, 'accuracy': 0.808349609375, 'macro avg': {'precision': 0.7871137170759666, 'recall': 0.758862307953288, 'f1-score': 0.7711108669405669, 'support': 4096}, 'weighted avg': {'precision': 0.8072690533093448, 'recall': 0.808349609375, 'f1-score': 0.8062143174610381, 'support': 4096}}, 'eval_runtime': 7.4975, 'eval_samples_per_second': 546.318, 'eval_steps_per_second': 8.536, 'epoch': 0.46}\n"
     ]
    },
    {
     "name": "stderr",
     "output_type": "stream",
     "text": [
      "\n",
      " 12%|█▏        | 10000/86888 [1:34:27<9:21:08,  2.28it/s]"
     ]
    },
    {
     "name": "stdout",
     "output_type": "stream",
     "text": [
      "{'eval_loss': 0.5382239818572998, 'eval_macro_f1': 0.7711108669405669, 'eval_macro_precision': 0.7871137170759666, 'eval_macro_recall': 0.758862307953288, 'eval_accuracy': 0.808349609375, 'eval_report': {'NOR': {'precision': 0.6753246753246753, 'recall': 0.7086882453151618, 'f1-score': 0.6916043225270159, 'support': 587}, 'IRQ': {'precision': 0.8582554517133957, 'recall': 0.924496644295302, 'f1-score': 0.8901453957996768, 'support': 1788}, 'LEV': {'precision': 0.7905918057663126, 'recall': 0.7186206896551725, 'f1-score': 0.7528901734104047, 'support': 725}, 'EGY': {'precision': 0.806615776081425, 'recall': 0.6788008565310493, 'f1-score': 0.7372093023255814, 'support': 467}, 'GLF': {'precision': 0.8047808764940239, 'recall': 0.7637051039697542, 'f1-score': 0.7837051406401552, 'support': 529}, 'accuracy': 0.808349609375, 'macro avg': {'precision': 0.7871137170759666, 'recall': 0.758862307953288, 'f1-score': 0.7711108669405669, 'support': 4096}, 'weighted avg': {'precision': 0.8072690533093448, 'recall': 0.808349609375, 'f1-score': 0.8062143174610381, 'support': 4096}}, 'eval_runtime': 7.4879, 'eval_samples_per_second': 547.018, 'eval_steps_per_second': 8.547, 'epoch': 0.46}\n"
     ]
    },
    {
     "name": "stderr",
     "output_type": "stream",
     "text": [
      "\n",
      " 12%|█▏        | 10000/86888 [1:34:34<9:21:08,  2.28it/s]"
     ]
    },
    {
     "name": "stdout",
     "output_type": "stream",
     "text": [
      "{'eval_loss': 0.5382239818572998, 'eval_macro_f1': 0.7711108669405669, 'eval_macro_precision': 0.7871137170759666, 'eval_macro_recall': 0.758862307953288, 'eval_accuracy': 0.808349609375, 'eval_report': {'NOR': {'precision': 0.6753246753246753, 'recall': 0.7086882453151618, 'f1-score': 0.6916043225270159, 'support': 587}, 'IRQ': {'precision': 0.8582554517133957, 'recall': 0.924496644295302, 'f1-score': 0.8901453957996768, 'support': 1788}, 'LEV': {'precision': 0.7905918057663126, 'recall': 0.7186206896551725, 'f1-score': 0.7528901734104047, 'support': 725}, 'EGY': {'precision': 0.806615776081425, 'recall': 0.6788008565310493, 'f1-score': 0.7372093023255814, 'support': 467}, 'GLF': {'precision': 0.8047808764940239, 'recall': 0.7637051039697542, 'f1-score': 0.7837051406401552, 'support': 529}, 'accuracy': 0.808349609375, 'macro avg': {'precision': 0.7871137170759666, 'recall': 0.758862307953288, 'f1-score': 0.7711108669405669, 'support': 4096}, 'weighted avg': {'precision': 0.8072690533093448, 'recall': 0.808349609375, 'f1-score': 0.8062143174610381, 'support': 4096}}, 'eval_runtime': 7.499, 'eval_samples_per_second': 546.207, 'eval_steps_per_second': 8.534, 'epoch': 0.46}\n"
     ]
    },
    {
     "name": "stderr",
     "output_type": "stream",
     "text": [
      "\n",
      " 12%|█▏        | 10000/86888 [1:34:42<9:21:08,  2.28it/s]"
     ]
    },
    {
     "name": "stdout",
     "output_type": "stream",
     "text": [
      "{'eval_loss': 0.5382239818572998, 'eval_macro_f1': 0.7711108669405669, 'eval_macro_precision': 0.7871137170759666, 'eval_macro_recall': 0.758862307953288, 'eval_accuracy': 0.808349609375, 'eval_report': {'NOR': {'precision': 0.6753246753246753, 'recall': 0.7086882453151618, 'f1-score': 0.6916043225270159, 'support': 587}, 'IRQ': {'precision': 0.8582554517133957, 'recall': 0.924496644295302, 'f1-score': 0.8901453957996768, 'support': 1788}, 'LEV': {'precision': 0.7905918057663126, 'recall': 0.7186206896551725, 'f1-score': 0.7528901734104047, 'support': 725}, 'EGY': {'precision': 0.806615776081425, 'recall': 0.6788008565310493, 'f1-score': 0.7372093023255814, 'support': 467}, 'GLF': {'precision': 0.8047808764940239, 'recall': 0.7637051039697542, 'f1-score': 0.7837051406401552, 'support': 529}, 'accuracy': 0.808349609375, 'macro avg': {'precision': 0.7871137170759666, 'recall': 0.758862307953288, 'f1-score': 0.7711108669405669, 'support': 4096}, 'weighted avg': {'precision': 0.8072690533093448, 'recall': 0.808349609375, 'f1-score': 0.8062143174610381, 'support': 4096}}, 'eval_runtime': 7.4877, 'eval_samples_per_second': 547.03, 'eval_steps_per_second': 8.547, 'epoch': 0.46}\n"
     ]
    },
    {
     "name": "stderr",
     "output_type": "stream",
     "text": [
      "\n",
      " 12%|█▏        | 10000/86888 [1:34:49<9:21:08,  2.28it/s]"
     ]
    },
    {
     "name": "stdout",
     "output_type": "stream",
     "text": [
      "{'eval_loss': 0.5382239818572998, 'eval_macro_f1': 0.7711108669405669, 'eval_macro_precision': 0.7871137170759666, 'eval_macro_recall': 0.758862307953288, 'eval_accuracy': 0.808349609375, 'eval_report': {'NOR': {'precision': 0.6753246753246753, 'recall': 0.7086882453151618, 'f1-score': 0.6916043225270159, 'support': 587}, 'IRQ': {'precision': 0.8582554517133957, 'recall': 0.924496644295302, 'f1-score': 0.8901453957996768, 'support': 1788}, 'LEV': {'precision': 0.7905918057663126, 'recall': 0.7186206896551725, 'f1-score': 0.7528901734104047, 'support': 725}, 'EGY': {'precision': 0.806615776081425, 'recall': 0.6788008565310493, 'f1-score': 0.7372093023255814, 'support': 467}, 'GLF': {'precision': 0.8047808764940239, 'recall': 0.7637051039697542, 'f1-score': 0.7837051406401552, 'support': 529}, 'accuracy': 0.808349609375, 'macro avg': {'precision': 0.7871137170759666, 'recall': 0.758862307953288, 'f1-score': 0.7711108669405669, 'support': 4096}, 'weighted avg': {'precision': 0.8072690533093448, 'recall': 0.808349609375, 'f1-score': 0.8062143174610381, 'support': 4096}}, 'eval_runtime': 7.4975, 'eval_samples_per_second': 546.316, 'eval_steps_per_second': 8.536, 'epoch': 0.46}\n"
     ]
    },
    {
     "name": "stderr",
     "output_type": "stream",
     "text": [
      "\n",
      " 12%|█▏        | 10000/86888 [1:34:57<9:21:08,  2.28it/s]"
     ]
    },
    {
     "name": "stdout",
     "output_type": "stream",
     "text": [
      "{'eval_loss': 0.5382239818572998, 'eval_macro_f1': 0.7711108669405669, 'eval_macro_precision': 0.7871137170759666, 'eval_macro_recall': 0.758862307953288, 'eval_accuracy': 0.808349609375, 'eval_report': {'NOR': {'precision': 0.6753246753246753, 'recall': 0.7086882453151618, 'f1-score': 0.6916043225270159, 'support': 587}, 'IRQ': {'precision': 0.8582554517133957, 'recall': 0.924496644295302, 'f1-score': 0.8901453957996768, 'support': 1788}, 'LEV': {'precision': 0.7905918057663126, 'recall': 0.7186206896551725, 'f1-score': 0.7528901734104047, 'support': 725}, 'EGY': {'precision': 0.806615776081425, 'recall': 0.6788008565310493, 'f1-score': 0.7372093023255814, 'support': 467}, 'GLF': {'precision': 0.8047808764940239, 'recall': 0.7637051039697542, 'f1-score': 0.7837051406401552, 'support': 529}, 'accuracy': 0.808349609375, 'macro avg': {'precision': 0.7871137170759666, 'recall': 0.758862307953288, 'f1-score': 0.7711108669405669, 'support': 4096}, 'weighted avg': {'precision': 0.8072690533093448, 'recall': 0.808349609375, 'f1-score': 0.8062143174610381, 'support': 4096}}, 'eval_runtime': 7.4831, 'eval_samples_per_second': 547.366, 'eval_steps_per_second': 8.553, 'epoch': 0.46}\n"
     ]
    },
    {
     "name": "stderr",
     "output_type": "stream",
     "text": [
      "\n",
      " 12%|█▏        | 10000/86888 [1:35:04<9:21:08,  2.28it/s]"
     ]
    },
    {
     "name": "stdout",
     "output_type": "stream",
     "text": [
      "{'eval_loss': 0.5382239818572998, 'eval_macro_f1': 0.7711108669405669, 'eval_macro_precision': 0.7871137170759666, 'eval_macro_recall': 0.758862307953288, 'eval_accuracy': 0.808349609375, 'eval_report': {'NOR': {'precision': 0.6753246753246753, 'recall': 0.7086882453151618, 'f1-score': 0.6916043225270159, 'support': 587}, 'IRQ': {'precision': 0.8582554517133957, 'recall': 0.924496644295302, 'f1-score': 0.8901453957996768, 'support': 1788}, 'LEV': {'precision': 0.7905918057663126, 'recall': 0.7186206896551725, 'f1-score': 0.7528901734104047, 'support': 725}, 'EGY': {'precision': 0.806615776081425, 'recall': 0.6788008565310493, 'f1-score': 0.7372093023255814, 'support': 467}, 'GLF': {'precision': 0.8047808764940239, 'recall': 0.7637051039697542, 'f1-score': 0.7837051406401552, 'support': 529}, 'accuracy': 0.808349609375, 'macro avg': {'precision': 0.7871137170759666, 'recall': 0.758862307953288, 'f1-score': 0.7711108669405669, 'support': 4096}, 'weighted avg': {'precision': 0.8072690533093448, 'recall': 0.808349609375, 'f1-score': 0.8062143174610381, 'support': 4096}}, 'eval_runtime': 7.4852, 'eval_samples_per_second': 547.213, 'eval_steps_per_second': 8.55, 'epoch': 0.46}\n"
     ]
    },
    {
     "name": "stderr",
     "output_type": "stream",
     "text": [
      "\n",
      " 12%|█▏        | 10000/86888 [1:35:12<9:21:08,  2.28it/s]"
     ]
    },
    {
     "name": "stdout",
     "output_type": "stream",
     "text": [
      "{'eval_loss': 0.5382239818572998, 'eval_macro_f1': 0.7711108669405669, 'eval_macro_precision': 0.7871137170759666, 'eval_macro_recall': 0.758862307953288, 'eval_accuracy': 0.808349609375, 'eval_report': {'NOR': {'precision': 0.6753246753246753, 'recall': 0.7086882453151618, 'f1-score': 0.6916043225270159, 'support': 587}, 'IRQ': {'precision': 0.8582554517133957, 'recall': 0.924496644295302, 'f1-score': 0.8901453957996768, 'support': 1788}, 'LEV': {'precision': 0.7905918057663126, 'recall': 0.7186206896551725, 'f1-score': 0.7528901734104047, 'support': 725}, 'EGY': {'precision': 0.806615776081425, 'recall': 0.6788008565310493, 'f1-score': 0.7372093023255814, 'support': 467}, 'GLF': {'precision': 0.8047808764940239, 'recall': 0.7637051039697542, 'f1-score': 0.7837051406401552, 'support': 529}, 'accuracy': 0.808349609375, 'macro avg': {'precision': 0.7871137170759666, 'recall': 0.758862307953288, 'f1-score': 0.7711108669405669, 'support': 4096}, 'weighted avg': {'precision': 0.8072690533093448, 'recall': 0.808349609375, 'f1-score': 0.8062143174610381, 'support': 4096}}, 'eval_runtime': 7.491, 'eval_samples_per_second': 546.788, 'eval_steps_per_second': 8.544, 'epoch': 0.46}\n"
     ]
    },
    {
     "name": "stderr",
     "output_type": "stream",
     "text": [
      "\n",
      " 12%|█▏        | 10000/86888 [1:35:19<9:21:08,  2.28it/s]"
     ]
    },
    {
     "name": "stdout",
     "output_type": "stream",
     "text": [
      "{'eval_loss': 0.5382239818572998, 'eval_macro_f1': 0.7711108669405669, 'eval_macro_precision': 0.7871137170759666, 'eval_macro_recall': 0.758862307953288, 'eval_accuracy': 0.808349609375, 'eval_report': {'NOR': {'precision': 0.6753246753246753, 'recall': 0.7086882453151618, 'f1-score': 0.6916043225270159, 'support': 587}, 'IRQ': {'precision': 0.8582554517133957, 'recall': 0.924496644295302, 'f1-score': 0.8901453957996768, 'support': 1788}, 'LEV': {'precision': 0.7905918057663126, 'recall': 0.7186206896551725, 'f1-score': 0.7528901734104047, 'support': 725}, 'EGY': {'precision': 0.806615776081425, 'recall': 0.6788008565310493, 'f1-score': 0.7372093023255814, 'support': 467}, 'GLF': {'precision': 0.8047808764940239, 'recall': 0.7637051039697542, 'f1-score': 0.7837051406401552, 'support': 529}, 'accuracy': 0.808349609375, 'macro avg': {'precision': 0.7871137170759666, 'recall': 0.758862307953288, 'f1-score': 0.7711108669405669, 'support': 4096}, 'weighted avg': {'precision': 0.8072690533093448, 'recall': 0.808349609375, 'f1-score': 0.8062143174610381, 'support': 4096}}, 'eval_runtime': 7.488, 'eval_samples_per_second': 547.008, 'eval_steps_per_second': 8.547, 'epoch': 0.46}\n"
     ]
    },
    {
     "name": "stderr",
     "output_type": "stream",
     "text": [
      "\n",
      " 12%|█▏        | 10000/86888 [1:35:27<9:21:08,  2.28it/s]"
     ]
    },
    {
     "name": "stdout",
     "output_type": "stream",
     "text": [
      "{'eval_loss': 0.5382239818572998, 'eval_macro_f1': 0.7711108669405669, 'eval_macro_precision': 0.7871137170759666, 'eval_macro_recall': 0.758862307953288, 'eval_accuracy': 0.808349609375, 'eval_report': {'NOR': {'precision': 0.6753246753246753, 'recall': 0.7086882453151618, 'f1-score': 0.6916043225270159, 'support': 587}, 'IRQ': {'precision': 0.8582554517133957, 'recall': 0.924496644295302, 'f1-score': 0.8901453957996768, 'support': 1788}, 'LEV': {'precision': 0.7905918057663126, 'recall': 0.7186206896551725, 'f1-score': 0.7528901734104047, 'support': 725}, 'EGY': {'precision': 0.806615776081425, 'recall': 0.6788008565310493, 'f1-score': 0.7372093023255814, 'support': 467}, 'GLF': {'precision': 0.8047808764940239, 'recall': 0.7637051039697542, 'f1-score': 0.7837051406401552, 'support': 529}, 'accuracy': 0.808349609375, 'macro avg': {'precision': 0.7871137170759666, 'recall': 0.758862307953288, 'f1-score': 0.7711108669405669, 'support': 4096}, 'weighted avg': {'precision': 0.8072690533093448, 'recall': 0.808349609375, 'f1-score': 0.8062143174610381, 'support': 4096}}, 'eval_runtime': 7.5018, 'eval_samples_per_second': 546.006, 'eval_steps_per_second': 8.531, 'epoch': 0.46}\n"
     ]
    },
    {
     "name": "stderr",
     "output_type": "stream",
     "text": [
      "\n",
      " 12%|█▏        | 10000/86888 [1:35:34<9:21:08,  2.28it/s]"
     ]
    },
    {
     "name": "stdout",
     "output_type": "stream",
     "text": [
      "{'eval_loss': 0.5382239818572998, 'eval_macro_f1': 0.7711108669405669, 'eval_macro_precision': 0.7871137170759666, 'eval_macro_recall': 0.758862307953288, 'eval_accuracy': 0.808349609375, 'eval_report': {'NOR': {'precision': 0.6753246753246753, 'recall': 0.7086882453151618, 'f1-score': 0.6916043225270159, 'support': 587}, 'IRQ': {'precision': 0.8582554517133957, 'recall': 0.924496644295302, 'f1-score': 0.8901453957996768, 'support': 1788}, 'LEV': {'precision': 0.7905918057663126, 'recall': 0.7186206896551725, 'f1-score': 0.7528901734104047, 'support': 725}, 'EGY': {'precision': 0.806615776081425, 'recall': 0.6788008565310493, 'f1-score': 0.7372093023255814, 'support': 467}, 'GLF': {'precision': 0.8047808764940239, 'recall': 0.7637051039697542, 'f1-score': 0.7837051406401552, 'support': 529}, 'accuracy': 0.808349609375, 'macro avg': {'precision': 0.7871137170759666, 'recall': 0.758862307953288, 'f1-score': 0.7711108669405669, 'support': 4096}, 'weighted avg': {'precision': 0.8072690533093448, 'recall': 0.808349609375, 'f1-score': 0.8062143174610381, 'support': 4096}}, 'eval_runtime': 7.5056, 'eval_samples_per_second': 545.728, 'eval_steps_per_second': 8.527, 'epoch': 0.46}\n"
     ]
    },
    {
     "name": "stderr",
     "output_type": "stream",
     "text": [
      "\n",
      " 12%|█▏        | 10000/86888 [1:35:42<9:21:08,  2.28it/s]"
     ]
    },
    {
     "name": "stdout",
     "output_type": "stream",
     "text": [
      "{'eval_loss': 0.5382239818572998, 'eval_macro_f1': 0.7711108669405669, 'eval_macro_precision': 0.7871137170759666, 'eval_macro_recall': 0.758862307953288, 'eval_accuracy': 0.808349609375, 'eval_report': {'NOR': {'precision': 0.6753246753246753, 'recall': 0.7086882453151618, 'f1-score': 0.6916043225270159, 'support': 587}, 'IRQ': {'precision': 0.8582554517133957, 'recall': 0.924496644295302, 'f1-score': 0.8901453957996768, 'support': 1788}, 'LEV': {'precision': 0.7905918057663126, 'recall': 0.7186206896551725, 'f1-score': 0.7528901734104047, 'support': 725}, 'EGY': {'precision': 0.806615776081425, 'recall': 0.6788008565310493, 'f1-score': 0.7372093023255814, 'support': 467}, 'GLF': {'precision': 0.8047808764940239, 'recall': 0.7637051039697542, 'f1-score': 0.7837051406401552, 'support': 529}, 'accuracy': 0.808349609375, 'macro avg': {'precision': 0.7871137170759666, 'recall': 0.758862307953288, 'f1-score': 0.7711108669405669, 'support': 4096}, 'weighted avg': {'precision': 0.8072690533093448, 'recall': 0.808349609375, 'f1-score': 0.8062143174610381, 'support': 4096}}, 'eval_runtime': 7.5087, 'eval_samples_per_second': 545.504, 'eval_steps_per_second': 8.523, 'epoch': 0.46}\n"
     ]
    },
    {
     "name": "stderr",
     "output_type": "stream",
     "text": [
      "\n",
      " 12%|█▏        | 10000/86888 [1:35:49<9:21:08,  2.28it/s]"
     ]
    },
    {
     "name": "stdout",
     "output_type": "stream",
     "text": [
      "{'eval_loss': 0.5382239818572998, 'eval_macro_f1': 0.7711108669405669, 'eval_macro_precision': 0.7871137170759666, 'eval_macro_recall': 0.758862307953288, 'eval_accuracy': 0.808349609375, 'eval_report': {'NOR': {'precision': 0.6753246753246753, 'recall': 0.7086882453151618, 'f1-score': 0.6916043225270159, 'support': 587}, 'IRQ': {'precision': 0.8582554517133957, 'recall': 0.924496644295302, 'f1-score': 0.8901453957996768, 'support': 1788}, 'LEV': {'precision': 0.7905918057663126, 'recall': 0.7186206896551725, 'f1-score': 0.7528901734104047, 'support': 725}, 'EGY': {'precision': 0.806615776081425, 'recall': 0.6788008565310493, 'f1-score': 0.7372093023255814, 'support': 467}, 'GLF': {'precision': 0.8047808764940239, 'recall': 0.7637051039697542, 'f1-score': 0.7837051406401552, 'support': 529}, 'accuracy': 0.808349609375, 'macro avg': {'precision': 0.7871137170759666, 'recall': 0.758862307953288, 'f1-score': 0.7711108669405669, 'support': 4096}, 'weighted avg': {'precision': 0.8072690533093448, 'recall': 0.808349609375, 'f1-score': 0.8062143174610381, 'support': 4096}}, 'eval_runtime': 7.4821, 'eval_samples_per_second': 547.44, 'eval_steps_per_second': 8.554, 'epoch': 0.46}\n"
     ]
    },
    {
     "name": "stderr",
     "output_type": "stream",
     "text": [
      "\n",
      " 12%|█▏        | 10000/86888 [1:35:57<9:21:08,  2.28it/s]"
     ]
    },
    {
     "name": "stdout",
     "output_type": "stream",
     "text": [
      "{'eval_loss': 0.5382239818572998, 'eval_macro_f1': 0.7711108669405669, 'eval_macro_precision': 0.7871137170759666, 'eval_macro_recall': 0.758862307953288, 'eval_accuracy': 0.808349609375, 'eval_report': {'NOR': {'precision': 0.6753246753246753, 'recall': 0.7086882453151618, 'f1-score': 0.6916043225270159, 'support': 587}, 'IRQ': {'precision': 0.8582554517133957, 'recall': 0.924496644295302, 'f1-score': 0.8901453957996768, 'support': 1788}, 'LEV': {'precision': 0.7905918057663126, 'recall': 0.7186206896551725, 'f1-score': 0.7528901734104047, 'support': 725}, 'EGY': {'precision': 0.806615776081425, 'recall': 0.6788008565310493, 'f1-score': 0.7372093023255814, 'support': 467}, 'GLF': {'precision': 0.8047808764940239, 'recall': 0.7637051039697542, 'f1-score': 0.7837051406401552, 'support': 529}, 'accuracy': 0.808349609375, 'macro avg': {'precision': 0.7871137170759666, 'recall': 0.758862307953288, 'f1-score': 0.7711108669405669, 'support': 4096}, 'weighted avg': {'precision': 0.8072690533093448, 'recall': 0.808349609375, 'f1-score': 0.8062143174610381, 'support': 4096}}, 'eval_runtime': 7.486, 'eval_samples_per_second': 547.152, 'eval_steps_per_second': 8.549, 'epoch': 0.46}\n"
     ]
    },
    {
     "name": "stderr",
     "output_type": "stream",
     "text": [
      "\n",
      " 12%|█▏        | 10000/86888 [1:36:04<9:21:08,  2.28it/s]"
     ]
    },
    {
     "name": "stdout",
     "output_type": "stream",
     "text": [
      "{'eval_loss': 0.5382239818572998, 'eval_macro_f1': 0.7711108669405669, 'eval_macro_precision': 0.7871137170759666, 'eval_macro_recall': 0.758862307953288, 'eval_accuracy': 0.808349609375, 'eval_report': {'NOR': {'precision': 0.6753246753246753, 'recall': 0.7086882453151618, 'f1-score': 0.6916043225270159, 'support': 587}, 'IRQ': {'precision': 0.8582554517133957, 'recall': 0.924496644295302, 'f1-score': 0.8901453957996768, 'support': 1788}, 'LEV': {'precision': 0.7905918057663126, 'recall': 0.7186206896551725, 'f1-score': 0.7528901734104047, 'support': 725}, 'EGY': {'precision': 0.806615776081425, 'recall': 0.6788008565310493, 'f1-score': 0.7372093023255814, 'support': 467}, 'GLF': {'precision': 0.8047808764940239, 'recall': 0.7637051039697542, 'f1-score': 0.7837051406401552, 'support': 529}, 'accuracy': 0.808349609375, 'macro avg': {'precision': 0.7871137170759666, 'recall': 0.758862307953288, 'f1-score': 0.7711108669405669, 'support': 4096}, 'weighted avg': {'precision': 0.8072690533093448, 'recall': 0.808349609375, 'f1-score': 0.8062143174610381, 'support': 4096}}, 'eval_runtime': 7.4921, 'eval_samples_per_second': 546.707, 'eval_steps_per_second': 8.542, 'epoch': 0.46}\n"
     ]
    },
    {
     "name": "stderr",
     "output_type": "stream",
     "text": [
      "\n",
      " 12%|█▏        | 10000/86888 [1:36:12<9:21:08,  2.28it/s]"
     ]
    },
    {
     "name": "stdout",
     "output_type": "stream",
     "text": [
      "{'eval_loss': 0.5382239818572998, 'eval_macro_f1': 0.7711108669405669, 'eval_macro_precision': 0.7871137170759666, 'eval_macro_recall': 0.758862307953288, 'eval_accuracy': 0.808349609375, 'eval_report': {'NOR': {'precision': 0.6753246753246753, 'recall': 0.7086882453151618, 'f1-score': 0.6916043225270159, 'support': 587}, 'IRQ': {'precision': 0.8582554517133957, 'recall': 0.924496644295302, 'f1-score': 0.8901453957996768, 'support': 1788}, 'LEV': {'precision': 0.7905918057663126, 'recall': 0.7186206896551725, 'f1-score': 0.7528901734104047, 'support': 725}, 'EGY': {'precision': 0.806615776081425, 'recall': 0.6788008565310493, 'f1-score': 0.7372093023255814, 'support': 467}, 'GLF': {'precision': 0.8047808764940239, 'recall': 0.7637051039697542, 'f1-score': 0.7837051406401552, 'support': 529}, 'accuracy': 0.808349609375, 'macro avg': {'precision': 0.7871137170759666, 'recall': 0.758862307953288, 'f1-score': 0.7711108669405669, 'support': 4096}, 'weighted avg': {'precision': 0.8072690533093448, 'recall': 0.808349609375, 'f1-score': 0.8062143174610381, 'support': 4096}}, 'eval_runtime': 7.4894, 'eval_samples_per_second': 546.905, 'eval_steps_per_second': 8.545, 'epoch': 0.46}\n"
     ]
    },
    {
     "name": "stderr",
     "output_type": "stream",
     "text": [
      "\n",
      " 12%|█▏        | 10000/86888 [1:36:19<9:21:08,  2.28it/s]"
     ]
    },
    {
     "name": "stdout",
     "output_type": "stream",
     "text": [
      "{'eval_loss': 0.5382239818572998, 'eval_macro_f1': 0.7711108669405669, 'eval_macro_precision': 0.7871137170759666, 'eval_macro_recall': 0.758862307953288, 'eval_accuracy': 0.808349609375, 'eval_report': {'NOR': {'precision': 0.6753246753246753, 'recall': 0.7086882453151618, 'f1-score': 0.6916043225270159, 'support': 587}, 'IRQ': {'precision': 0.8582554517133957, 'recall': 0.924496644295302, 'f1-score': 0.8901453957996768, 'support': 1788}, 'LEV': {'precision': 0.7905918057663126, 'recall': 0.7186206896551725, 'f1-score': 0.7528901734104047, 'support': 725}, 'EGY': {'precision': 0.806615776081425, 'recall': 0.6788008565310493, 'f1-score': 0.7372093023255814, 'support': 467}, 'GLF': {'precision': 0.8047808764940239, 'recall': 0.7637051039697542, 'f1-score': 0.7837051406401552, 'support': 529}, 'accuracy': 0.808349609375, 'macro avg': {'precision': 0.7871137170759666, 'recall': 0.758862307953288, 'f1-score': 0.7711108669405669, 'support': 4096}, 'weighted avg': {'precision': 0.8072690533093448, 'recall': 0.808349609375, 'f1-score': 0.8062143174610381, 'support': 4096}}, 'eval_runtime': 7.4934, 'eval_samples_per_second': 546.615, 'eval_steps_per_second': 8.541, 'epoch': 0.46}\n"
     ]
    },
    {
     "name": "stderr",
     "output_type": "stream",
     "text": [
      "\n",
      " 12%|█▏        | 10000/86888 [1:36:27<9:21:08,  2.28it/s]"
     ]
    },
    {
     "name": "stdout",
     "output_type": "stream",
     "text": [
      "{'eval_loss': 0.5382239818572998, 'eval_macro_f1': 0.7711108669405669, 'eval_macro_precision': 0.7871137170759666, 'eval_macro_recall': 0.758862307953288, 'eval_accuracy': 0.808349609375, 'eval_report': {'NOR': {'precision': 0.6753246753246753, 'recall': 0.7086882453151618, 'f1-score': 0.6916043225270159, 'support': 587}, 'IRQ': {'precision': 0.8582554517133957, 'recall': 0.924496644295302, 'f1-score': 0.8901453957996768, 'support': 1788}, 'LEV': {'precision': 0.7905918057663126, 'recall': 0.7186206896551725, 'f1-score': 0.7528901734104047, 'support': 725}, 'EGY': {'precision': 0.806615776081425, 'recall': 0.6788008565310493, 'f1-score': 0.7372093023255814, 'support': 467}, 'GLF': {'precision': 0.8047808764940239, 'recall': 0.7637051039697542, 'f1-score': 0.7837051406401552, 'support': 529}, 'accuracy': 0.808349609375, 'macro avg': {'precision': 0.7871137170759666, 'recall': 0.758862307953288, 'f1-score': 0.7711108669405669, 'support': 4096}, 'weighted avg': {'precision': 0.8072690533093448, 'recall': 0.808349609375, 'f1-score': 0.8062143174610381, 'support': 4096}}, 'eval_runtime': 7.4828, 'eval_samples_per_second': 547.391, 'eval_steps_per_second': 8.553, 'epoch': 0.46}\n"
     ]
    },
    {
     "name": "stderr",
     "output_type": "stream",
     "text": [
      "\n",
      " 12%|█▏        | 10000/86888 [1:36:34<9:21:08,  2.28it/s]"
     ]
    },
    {
     "name": "stdout",
     "output_type": "stream",
     "text": [
      "{'eval_loss': 0.5382239818572998, 'eval_macro_f1': 0.7711108669405669, 'eval_macro_precision': 0.7871137170759666, 'eval_macro_recall': 0.758862307953288, 'eval_accuracy': 0.808349609375, 'eval_report': {'NOR': {'precision': 0.6753246753246753, 'recall': 0.7086882453151618, 'f1-score': 0.6916043225270159, 'support': 587}, 'IRQ': {'precision': 0.8582554517133957, 'recall': 0.924496644295302, 'f1-score': 0.8901453957996768, 'support': 1788}, 'LEV': {'precision': 0.7905918057663126, 'recall': 0.7186206896551725, 'f1-score': 0.7528901734104047, 'support': 725}, 'EGY': {'precision': 0.806615776081425, 'recall': 0.6788008565310493, 'f1-score': 0.7372093023255814, 'support': 467}, 'GLF': {'precision': 0.8047808764940239, 'recall': 0.7637051039697542, 'f1-score': 0.7837051406401552, 'support': 529}, 'accuracy': 0.808349609375, 'macro avg': {'precision': 0.7871137170759666, 'recall': 0.758862307953288, 'f1-score': 0.7711108669405669, 'support': 4096}, 'weighted avg': {'precision': 0.8072690533093448, 'recall': 0.808349609375, 'f1-score': 0.8062143174610381, 'support': 4096}}, 'eval_runtime': 7.4864, 'eval_samples_per_second': 547.123, 'eval_steps_per_second': 8.549, 'epoch': 0.46}\n"
     ]
    },
    {
     "name": "stderr",
     "output_type": "stream",
     "text": [
      "\n",
      " 12%|█▏        | 10000/86888 [1:36:42<9:21:08,  2.28it/s]"
     ]
    },
    {
     "name": "stdout",
     "output_type": "stream",
     "text": [
      "{'eval_loss': 0.5382239818572998, 'eval_macro_f1': 0.7711108669405669, 'eval_macro_precision': 0.7871137170759666, 'eval_macro_recall': 0.758862307953288, 'eval_accuracy': 0.808349609375, 'eval_report': {'NOR': {'precision': 0.6753246753246753, 'recall': 0.7086882453151618, 'f1-score': 0.6916043225270159, 'support': 587}, 'IRQ': {'precision': 0.8582554517133957, 'recall': 0.924496644295302, 'f1-score': 0.8901453957996768, 'support': 1788}, 'LEV': {'precision': 0.7905918057663126, 'recall': 0.7186206896551725, 'f1-score': 0.7528901734104047, 'support': 725}, 'EGY': {'precision': 0.806615776081425, 'recall': 0.6788008565310493, 'f1-score': 0.7372093023255814, 'support': 467}, 'GLF': {'precision': 0.8047808764940239, 'recall': 0.7637051039697542, 'f1-score': 0.7837051406401552, 'support': 529}, 'accuracy': 0.808349609375, 'macro avg': {'precision': 0.7871137170759666, 'recall': 0.758862307953288, 'f1-score': 0.7711108669405669, 'support': 4096}, 'weighted avg': {'precision': 0.8072690533093448, 'recall': 0.808349609375, 'f1-score': 0.8062143174610381, 'support': 4096}}, 'eval_runtime': 7.5005, 'eval_samples_per_second': 546.098, 'eval_steps_per_second': 8.533, 'epoch': 0.46}\n"
     ]
    },
    {
     "name": "stderr",
     "output_type": "stream",
     "text": [
      "\n",
      " 12%|█▏        | 10000/86888 [1:36:49<9:21:08,  2.28it/s]"
     ]
    },
    {
     "name": "stdout",
     "output_type": "stream",
     "text": [
      "{'eval_loss': 0.5382239818572998, 'eval_macro_f1': 0.7711108669405669, 'eval_macro_precision': 0.7871137170759666, 'eval_macro_recall': 0.758862307953288, 'eval_accuracy': 0.808349609375, 'eval_report': {'NOR': {'precision': 0.6753246753246753, 'recall': 0.7086882453151618, 'f1-score': 0.6916043225270159, 'support': 587}, 'IRQ': {'precision': 0.8582554517133957, 'recall': 0.924496644295302, 'f1-score': 0.8901453957996768, 'support': 1788}, 'LEV': {'precision': 0.7905918057663126, 'recall': 0.7186206896551725, 'f1-score': 0.7528901734104047, 'support': 725}, 'EGY': {'precision': 0.806615776081425, 'recall': 0.6788008565310493, 'f1-score': 0.7372093023255814, 'support': 467}, 'GLF': {'precision': 0.8047808764940239, 'recall': 0.7637051039697542, 'f1-score': 0.7837051406401552, 'support': 529}, 'accuracy': 0.808349609375, 'macro avg': {'precision': 0.7871137170759666, 'recall': 0.758862307953288, 'f1-score': 0.7711108669405669, 'support': 4096}, 'weighted avg': {'precision': 0.8072690533093448, 'recall': 0.808349609375, 'f1-score': 0.8062143174610381, 'support': 4096}}, 'eval_runtime': 7.4743, 'eval_samples_per_second': 548.009, 'eval_steps_per_second': 8.563, 'epoch': 0.46}\n"
     ]
    },
    {
     "name": "stderr",
     "output_type": "stream",
     "text": [
      "\n",
      " 12%|█▏        | 10000/86888 [1:36:57<9:21:08,  2.28it/s]"
     ]
    },
    {
     "name": "stdout",
     "output_type": "stream",
     "text": [
      "{'eval_loss': 0.5382239818572998, 'eval_macro_f1': 0.7711108669405669, 'eval_macro_precision': 0.7871137170759666, 'eval_macro_recall': 0.758862307953288, 'eval_accuracy': 0.808349609375, 'eval_report': {'NOR': {'precision': 0.6753246753246753, 'recall': 0.7086882453151618, 'f1-score': 0.6916043225270159, 'support': 587}, 'IRQ': {'precision': 0.8582554517133957, 'recall': 0.924496644295302, 'f1-score': 0.8901453957996768, 'support': 1788}, 'LEV': {'precision': 0.7905918057663126, 'recall': 0.7186206896551725, 'f1-score': 0.7528901734104047, 'support': 725}, 'EGY': {'precision': 0.806615776081425, 'recall': 0.6788008565310493, 'f1-score': 0.7372093023255814, 'support': 467}, 'GLF': {'precision': 0.8047808764940239, 'recall': 0.7637051039697542, 'f1-score': 0.7837051406401552, 'support': 529}, 'accuracy': 0.808349609375, 'macro avg': {'precision': 0.7871137170759666, 'recall': 0.758862307953288, 'f1-score': 0.7711108669405669, 'support': 4096}, 'weighted avg': {'precision': 0.8072690533093448, 'recall': 0.808349609375, 'f1-score': 0.8062143174610381, 'support': 4096}}, 'eval_runtime': 7.4938, 'eval_samples_per_second': 546.588, 'eval_steps_per_second': 8.54, 'epoch': 0.46}\n"
     ]
    },
    {
     "name": "stderr",
     "output_type": "stream",
     "text": [
      "\n",
      " 12%|█▏        | 10000/86888 [1:37:04<9:21:08,  2.28it/s]"
     ]
    },
    {
     "name": "stdout",
     "output_type": "stream",
     "text": [
      "{'eval_loss': 0.5382239818572998, 'eval_macro_f1': 0.7711108669405669, 'eval_macro_precision': 0.7871137170759666, 'eval_macro_recall': 0.758862307953288, 'eval_accuracy': 0.808349609375, 'eval_report': {'NOR': {'precision': 0.6753246753246753, 'recall': 0.7086882453151618, 'f1-score': 0.6916043225270159, 'support': 587}, 'IRQ': {'precision': 0.8582554517133957, 'recall': 0.924496644295302, 'f1-score': 0.8901453957996768, 'support': 1788}, 'LEV': {'precision': 0.7905918057663126, 'recall': 0.7186206896551725, 'f1-score': 0.7528901734104047, 'support': 725}, 'EGY': {'precision': 0.806615776081425, 'recall': 0.6788008565310493, 'f1-score': 0.7372093023255814, 'support': 467}, 'GLF': {'precision': 0.8047808764940239, 'recall': 0.7637051039697542, 'f1-score': 0.7837051406401552, 'support': 529}, 'accuracy': 0.808349609375, 'macro avg': {'precision': 0.7871137170759666, 'recall': 0.758862307953288, 'f1-score': 0.7711108669405669, 'support': 4096}, 'weighted avg': {'precision': 0.8072690533093448, 'recall': 0.808349609375, 'f1-score': 0.8062143174610381, 'support': 4096}}, 'eval_runtime': 7.4878, 'eval_samples_per_second': 547.021, 'eval_steps_per_second': 8.547, 'epoch': 0.46}\n"
     ]
    },
    {
     "name": "stderr",
     "output_type": "stream",
     "text": [
      "\n",
      " 12%|█▏        | 10000/86888 [1:37:12<9:21:08,  2.28it/s]"
     ]
    },
    {
     "name": "stdout",
     "output_type": "stream",
     "text": [
      "{'eval_loss': 0.5382239818572998, 'eval_macro_f1': 0.7711108669405669, 'eval_macro_precision': 0.7871137170759666, 'eval_macro_recall': 0.758862307953288, 'eval_accuracy': 0.808349609375, 'eval_report': {'NOR': {'precision': 0.6753246753246753, 'recall': 0.7086882453151618, 'f1-score': 0.6916043225270159, 'support': 587}, 'IRQ': {'precision': 0.8582554517133957, 'recall': 0.924496644295302, 'f1-score': 0.8901453957996768, 'support': 1788}, 'LEV': {'precision': 0.7905918057663126, 'recall': 0.7186206896551725, 'f1-score': 0.7528901734104047, 'support': 725}, 'EGY': {'precision': 0.806615776081425, 'recall': 0.6788008565310493, 'f1-score': 0.7372093023255814, 'support': 467}, 'GLF': {'precision': 0.8047808764940239, 'recall': 0.7637051039697542, 'f1-score': 0.7837051406401552, 'support': 529}, 'accuracy': 0.808349609375, 'macro avg': {'precision': 0.7871137170759666, 'recall': 0.758862307953288, 'f1-score': 0.7711108669405669, 'support': 4096}, 'weighted avg': {'precision': 0.8072690533093448, 'recall': 0.808349609375, 'f1-score': 0.8062143174610381, 'support': 4096}}, 'eval_runtime': 7.4998, 'eval_samples_per_second': 546.145, 'eval_steps_per_second': 8.534, 'epoch': 0.46}\n"
     ]
    },
    {
     "name": "stderr",
     "output_type": "stream",
     "text": [
      "\n",
      " 12%|█▏        | 10000/86888 [1:37:19<9:21:08,  2.28it/s]"
     ]
    },
    {
     "name": "stdout",
     "output_type": "stream",
     "text": [
      "{'eval_loss': 0.5382239818572998, 'eval_macro_f1': 0.7711108669405669, 'eval_macro_precision': 0.7871137170759666, 'eval_macro_recall': 0.758862307953288, 'eval_accuracy': 0.808349609375, 'eval_report': {'NOR': {'precision': 0.6753246753246753, 'recall': 0.7086882453151618, 'f1-score': 0.6916043225270159, 'support': 587}, 'IRQ': {'precision': 0.8582554517133957, 'recall': 0.924496644295302, 'f1-score': 0.8901453957996768, 'support': 1788}, 'LEV': {'precision': 0.7905918057663126, 'recall': 0.7186206896551725, 'f1-score': 0.7528901734104047, 'support': 725}, 'EGY': {'precision': 0.806615776081425, 'recall': 0.6788008565310493, 'f1-score': 0.7372093023255814, 'support': 467}, 'GLF': {'precision': 0.8047808764940239, 'recall': 0.7637051039697542, 'f1-score': 0.7837051406401552, 'support': 529}, 'accuracy': 0.808349609375, 'macro avg': {'precision': 0.7871137170759666, 'recall': 0.758862307953288, 'f1-score': 0.7711108669405669, 'support': 4096}, 'weighted avg': {'precision': 0.8072690533093448, 'recall': 0.808349609375, 'f1-score': 0.8062143174610381, 'support': 4096}}, 'eval_runtime': 7.4953, 'eval_samples_per_second': 546.477, 'eval_steps_per_second': 8.539, 'epoch': 0.46}\n"
     ]
    },
    {
     "name": "stderr",
     "output_type": "stream",
     "text": [
      "\n",
      " 12%|█▏        | 10000/86888 [1:37:27<9:21:08,  2.28it/s]"
     ]
    },
    {
     "name": "stdout",
     "output_type": "stream",
     "text": [
      "{'eval_loss': 0.5382239818572998, 'eval_macro_f1': 0.7711108669405669, 'eval_macro_precision': 0.7871137170759666, 'eval_macro_recall': 0.758862307953288, 'eval_accuracy': 0.808349609375, 'eval_report': {'NOR': {'precision': 0.6753246753246753, 'recall': 0.7086882453151618, 'f1-score': 0.6916043225270159, 'support': 587}, 'IRQ': {'precision': 0.8582554517133957, 'recall': 0.924496644295302, 'f1-score': 0.8901453957996768, 'support': 1788}, 'LEV': {'precision': 0.7905918057663126, 'recall': 0.7186206896551725, 'f1-score': 0.7528901734104047, 'support': 725}, 'EGY': {'precision': 0.806615776081425, 'recall': 0.6788008565310493, 'f1-score': 0.7372093023255814, 'support': 467}, 'GLF': {'precision': 0.8047808764940239, 'recall': 0.7637051039697542, 'f1-score': 0.7837051406401552, 'support': 529}, 'accuracy': 0.808349609375, 'macro avg': {'precision': 0.7871137170759666, 'recall': 0.758862307953288, 'f1-score': 0.7711108669405669, 'support': 4096}, 'weighted avg': {'precision': 0.8072690533093448, 'recall': 0.808349609375, 'f1-score': 0.8062143174610381, 'support': 4096}}, 'eval_runtime': 7.4862, 'eval_samples_per_second': 547.139, 'eval_steps_per_second': 8.549, 'epoch': 0.46}\n"
     ]
    },
    {
     "name": "stderr",
     "output_type": "stream",
     "text": [
      "\n",
      " 12%|█▏        | 10000/86888 [1:37:34<9:21:08,  2.28it/s]"
     ]
    },
    {
     "name": "stdout",
     "output_type": "stream",
     "text": [
      "{'eval_loss': 0.5382239818572998, 'eval_macro_f1': 0.7711108669405669, 'eval_macro_precision': 0.7871137170759666, 'eval_macro_recall': 0.758862307953288, 'eval_accuracy': 0.808349609375, 'eval_report': {'NOR': {'precision': 0.6753246753246753, 'recall': 0.7086882453151618, 'f1-score': 0.6916043225270159, 'support': 587}, 'IRQ': {'precision': 0.8582554517133957, 'recall': 0.924496644295302, 'f1-score': 0.8901453957996768, 'support': 1788}, 'LEV': {'precision': 0.7905918057663126, 'recall': 0.7186206896551725, 'f1-score': 0.7528901734104047, 'support': 725}, 'EGY': {'precision': 0.806615776081425, 'recall': 0.6788008565310493, 'f1-score': 0.7372093023255814, 'support': 467}, 'GLF': {'precision': 0.8047808764940239, 'recall': 0.7637051039697542, 'f1-score': 0.7837051406401552, 'support': 529}, 'accuracy': 0.808349609375, 'macro avg': {'precision': 0.7871137170759666, 'recall': 0.758862307953288, 'f1-score': 0.7711108669405669, 'support': 4096}, 'weighted avg': {'precision': 0.8072690533093448, 'recall': 0.808349609375, 'f1-score': 0.8062143174610381, 'support': 4096}}, 'eval_runtime': 7.4951, 'eval_samples_per_second': 546.491, 'eval_steps_per_second': 8.539, 'epoch': 0.46}\n"
     ]
    },
    {
     "name": "stderr",
     "output_type": "stream",
     "text": [
      "\n",
      " 12%|█▏        | 10000/86888 [1:37:42<9:21:08,  2.28it/s]"
     ]
    },
    {
     "name": "stdout",
     "output_type": "stream",
     "text": [
      "{'eval_loss': 0.5382239818572998, 'eval_macro_f1': 0.7711108669405669, 'eval_macro_precision': 0.7871137170759666, 'eval_macro_recall': 0.758862307953288, 'eval_accuracy': 0.808349609375, 'eval_report': {'NOR': {'precision': 0.6753246753246753, 'recall': 0.7086882453151618, 'f1-score': 0.6916043225270159, 'support': 587}, 'IRQ': {'precision': 0.8582554517133957, 'recall': 0.924496644295302, 'f1-score': 0.8901453957996768, 'support': 1788}, 'LEV': {'precision': 0.7905918057663126, 'recall': 0.7186206896551725, 'f1-score': 0.7528901734104047, 'support': 725}, 'EGY': {'precision': 0.806615776081425, 'recall': 0.6788008565310493, 'f1-score': 0.7372093023255814, 'support': 467}, 'GLF': {'precision': 0.8047808764940239, 'recall': 0.7637051039697542, 'f1-score': 0.7837051406401552, 'support': 529}, 'accuracy': 0.808349609375, 'macro avg': {'precision': 0.7871137170759666, 'recall': 0.758862307953288, 'f1-score': 0.7711108669405669, 'support': 4096}, 'weighted avg': {'precision': 0.8072690533093448, 'recall': 0.808349609375, 'f1-score': 0.8062143174610381, 'support': 4096}}, 'eval_runtime': 7.4941, 'eval_samples_per_second': 546.566, 'eval_steps_per_second': 8.54, 'epoch': 0.46}\n"
     ]
    },
    {
     "name": "stderr",
     "output_type": "stream",
     "text": [
      "\n",
      " 12%|█▏        | 10000/86888 [1:37:49<9:21:08,  2.28it/s]"
     ]
    },
    {
     "name": "stdout",
     "output_type": "stream",
     "text": [
      "{'eval_loss': 0.5382239818572998, 'eval_macro_f1': 0.7711108669405669, 'eval_macro_precision': 0.7871137170759666, 'eval_macro_recall': 0.758862307953288, 'eval_accuracy': 0.808349609375, 'eval_report': {'NOR': {'precision': 0.6753246753246753, 'recall': 0.7086882453151618, 'f1-score': 0.6916043225270159, 'support': 587}, 'IRQ': {'precision': 0.8582554517133957, 'recall': 0.924496644295302, 'f1-score': 0.8901453957996768, 'support': 1788}, 'LEV': {'precision': 0.7905918057663126, 'recall': 0.7186206896551725, 'f1-score': 0.7528901734104047, 'support': 725}, 'EGY': {'precision': 0.806615776081425, 'recall': 0.6788008565310493, 'f1-score': 0.7372093023255814, 'support': 467}, 'GLF': {'precision': 0.8047808764940239, 'recall': 0.7637051039697542, 'f1-score': 0.7837051406401552, 'support': 529}, 'accuracy': 0.808349609375, 'macro avg': {'precision': 0.7871137170759666, 'recall': 0.758862307953288, 'f1-score': 0.7711108669405669, 'support': 4096}, 'weighted avg': {'precision': 0.8072690533093448, 'recall': 0.808349609375, 'f1-score': 0.8062143174610381, 'support': 4096}}, 'eval_runtime': 7.4947, 'eval_samples_per_second': 546.518, 'eval_steps_per_second': 8.539, 'epoch': 0.46}\n"
     ]
    },
    {
     "name": "stderr",
     "output_type": "stream",
     "text": [
      "\n",
      " 12%|█▏        | 10000/86888 [1:37:57<9:21:08,  2.28it/s]"
     ]
    },
    {
     "name": "stdout",
     "output_type": "stream",
     "text": [
      "{'eval_loss': 0.5382239818572998, 'eval_macro_f1': 0.7711108669405669, 'eval_macro_precision': 0.7871137170759666, 'eval_macro_recall': 0.758862307953288, 'eval_accuracy': 0.808349609375, 'eval_report': {'NOR': {'precision': 0.6753246753246753, 'recall': 0.7086882453151618, 'f1-score': 0.6916043225270159, 'support': 587}, 'IRQ': {'precision': 0.8582554517133957, 'recall': 0.924496644295302, 'f1-score': 0.8901453957996768, 'support': 1788}, 'LEV': {'precision': 0.7905918057663126, 'recall': 0.7186206896551725, 'f1-score': 0.7528901734104047, 'support': 725}, 'EGY': {'precision': 0.806615776081425, 'recall': 0.6788008565310493, 'f1-score': 0.7372093023255814, 'support': 467}, 'GLF': {'precision': 0.8047808764940239, 'recall': 0.7637051039697542, 'f1-score': 0.7837051406401552, 'support': 529}, 'accuracy': 0.808349609375, 'macro avg': {'precision': 0.7871137170759666, 'recall': 0.758862307953288, 'f1-score': 0.7711108669405669, 'support': 4096}, 'weighted avg': {'precision': 0.8072690533093448, 'recall': 0.808349609375, 'f1-score': 0.8062143174610381, 'support': 4096}}, 'eval_runtime': 7.4856, 'eval_samples_per_second': 547.186, 'eval_steps_per_second': 8.55, 'epoch': 0.46}\n"
     ]
    },
    {
     "name": "stderr",
     "output_type": "stream",
     "text": [
      "\n",
      " 12%|█▏        | 10000/86888 [1:38:04<9:21:08,  2.28it/s]"
     ]
    },
    {
     "name": "stdout",
     "output_type": "stream",
     "text": [
      "{'eval_loss': 0.5382239818572998, 'eval_macro_f1': 0.7711108669405669, 'eval_macro_precision': 0.7871137170759666, 'eval_macro_recall': 0.758862307953288, 'eval_accuracy': 0.808349609375, 'eval_report': {'NOR': {'precision': 0.6753246753246753, 'recall': 0.7086882453151618, 'f1-score': 0.6916043225270159, 'support': 587}, 'IRQ': {'precision': 0.8582554517133957, 'recall': 0.924496644295302, 'f1-score': 0.8901453957996768, 'support': 1788}, 'LEV': {'precision': 0.7905918057663126, 'recall': 0.7186206896551725, 'f1-score': 0.7528901734104047, 'support': 725}, 'EGY': {'precision': 0.806615776081425, 'recall': 0.6788008565310493, 'f1-score': 0.7372093023255814, 'support': 467}, 'GLF': {'precision': 0.8047808764940239, 'recall': 0.7637051039697542, 'f1-score': 0.7837051406401552, 'support': 529}, 'accuracy': 0.808349609375, 'macro avg': {'precision': 0.7871137170759666, 'recall': 0.758862307953288, 'f1-score': 0.7711108669405669, 'support': 4096}, 'weighted avg': {'precision': 0.8072690533093448, 'recall': 0.808349609375, 'f1-score': 0.8062143174610381, 'support': 4096}}, 'eval_runtime': 7.4897, 'eval_samples_per_second': 546.882, 'eval_steps_per_second': 8.545, 'epoch': 0.46}\n"
     ]
    },
    {
     "name": "stderr",
     "output_type": "stream",
     "text": [
      "\n",
      " 12%|█▏        | 10000/86888 [1:38:12<9:21:08,  2.28it/s]"
     ]
    },
    {
     "name": "stdout",
     "output_type": "stream",
     "text": [
      "{'eval_loss': 0.5382239818572998, 'eval_macro_f1': 0.7711108669405669, 'eval_macro_precision': 0.7871137170759666, 'eval_macro_recall': 0.758862307953288, 'eval_accuracy': 0.808349609375, 'eval_report': {'NOR': {'precision': 0.6753246753246753, 'recall': 0.7086882453151618, 'f1-score': 0.6916043225270159, 'support': 587}, 'IRQ': {'precision': 0.8582554517133957, 'recall': 0.924496644295302, 'f1-score': 0.8901453957996768, 'support': 1788}, 'LEV': {'precision': 0.7905918057663126, 'recall': 0.7186206896551725, 'f1-score': 0.7528901734104047, 'support': 725}, 'EGY': {'precision': 0.806615776081425, 'recall': 0.6788008565310493, 'f1-score': 0.7372093023255814, 'support': 467}, 'GLF': {'precision': 0.8047808764940239, 'recall': 0.7637051039697542, 'f1-score': 0.7837051406401552, 'support': 529}, 'accuracy': 0.808349609375, 'macro avg': {'precision': 0.7871137170759666, 'recall': 0.758862307953288, 'f1-score': 0.7711108669405669, 'support': 4096}, 'weighted avg': {'precision': 0.8072690533093448, 'recall': 0.808349609375, 'f1-score': 0.8062143174610381, 'support': 4096}}, 'eval_runtime': 7.4899, 'eval_samples_per_second': 546.866, 'eval_steps_per_second': 8.545, 'epoch': 0.46}\n"
     ]
    },
    {
     "name": "stderr",
     "output_type": "stream",
     "text": [
      "\n",
      " 12%|█▏        | 10000/86888 [1:38:19<9:21:08,  2.28it/s]"
     ]
    },
    {
     "name": "stdout",
     "output_type": "stream",
     "text": [
      "{'eval_loss': 0.5382239818572998, 'eval_macro_f1': 0.7711108669405669, 'eval_macro_precision': 0.7871137170759666, 'eval_macro_recall': 0.758862307953288, 'eval_accuracy': 0.808349609375, 'eval_report': {'NOR': {'precision': 0.6753246753246753, 'recall': 0.7086882453151618, 'f1-score': 0.6916043225270159, 'support': 587}, 'IRQ': {'precision': 0.8582554517133957, 'recall': 0.924496644295302, 'f1-score': 0.8901453957996768, 'support': 1788}, 'LEV': {'precision': 0.7905918057663126, 'recall': 0.7186206896551725, 'f1-score': 0.7528901734104047, 'support': 725}, 'EGY': {'precision': 0.806615776081425, 'recall': 0.6788008565310493, 'f1-score': 0.7372093023255814, 'support': 467}, 'GLF': {'precision': 0.8047808764940239, 'recall': 0.7637051039697542, 'f1-score': 0.7837051406401552, 'support': 529}, 'accuracy': 0.808349609375, 'macro avg': {'precision': 0.7871137170759666, 'recall': 0.758862307953288, 'f1-score': 0.7711108669405669, 'support': 4096}, 'weighted avg': {'precision': 0.8072690533093448, 'recall': 0.808349609375, 'f1-score': 0.8062143174610381, 'support': 4096}}, 'eval_runtime': 7.4882, 'eval_samples_per_second': 546.995, 'eval_steps_per_second': 8.547, 'epoch': 0.46}\n"
     ]
    },
    {
     "name": "stderr",
     "output_type": "stream",
     "text": [
      "\n",
      " 12%|█▏        | 10000/86888 [1:38:27<9:21:08,  2.28it/s]"
     ]
    },
    {
     "name": "stdout",
     "output_type": "stream",
     "text": [
      "{'eval_loss': 0.5382239818572998, 'eval_macro_f1': 0.7711108669405669, 'eval_macro_precision': 0.7871137170759666, 'eval_macro_recall': 0.758862307953288, 'eval_accuracy': 0.808349609375, 'eval_report': {'NOR': {'precision': 0.6753246753246753, 'recall': 0.7086882453151618, 'f1-score': 0.6916043225270159, 'support': 587}, 'IRQ': {'precision': 0.8582554517133957, 'recall': 0.924496644295302, 'f1-score': 0.8901453957996768, 'support': 1788}, 'LEV': {'precision': 0.7905918057663126, 'recall': 0.7186206896551725, 'f1-score': 0.7528901734104047, 'support': 725}, 'EGY': {'precision': 0.806615776081425, 'recall': 0.6788008565310493, 'f1-score': 0.7372093023255814, 'support': 467}, 'GLF': {'precision': 0.8047808764940239, 'recall': 0.7637051039697542, 'f1-score': 0.7837051406401552, 'support': 529}, 'accuracy': 0.808349609375, 'macro avg': {'precision': 0.7871137170759666, 'recall': 0.758862307953288, 'f1-score': 0.7711108669405669, 'support': 4096}, 'weighted avg': {'precision': 0.8072690533093448, 'recall': 0.808349609375, 'f1-score': 0.8062143174610381, 'support': 4096}}, 'eval_runtime': 7.499, 'eval_samples_per_second': 546.206, 'eval_steps_per_second': 8.534, 'epoch': 0.46}\n"
     ]
    },
    {
     "name": "stderr",
     "output_type": "stream",
     "text": [
      "\n",
      " 12%|█▏        | 10000/86888 [1:38:34<9:21:08,  2.28it/s]"
     ]
    },
    {
     "name": "stdout",
     "output_type": "stream",
     "text": [
      "{'eval_loss': 0.5382239818572998, 'eval_macro_f1': 0.7711108669405669, 'eval_macro_precision': 0.7871137170759666, 'eval_macro_recall': 0.758862307953288, 'eval_accuracy': 0.808349609375, 'eval_report': {'NOR': {'precision': 0.6753246753246753, 'recall': 0.7086882453151618, 'f1-score': 0.6916043225270159, 'support': 587}, 'IRQ': {'precision': 0.8582554517133957, 'recall': 0.924496644295302, 'f1-score': 0.8901453957996768, 'support': 1788}, 'LEV': {'precision': 0.7905918057663126, 'recall': 0.7186206896551725, 'f1-score': 0.7528901734104047, 'support': 725}, 'EGY': {'precision': 0.806615776081425, 'recall': 0.6788008565310493, 'f1-score': 0.7372093023255814, 'support': 467}, 'GLF': {'precision': 0.8047808764940239, 'recall': 0.7637051039697542, 'f1-score': 0.7837051406401552, 'support': 529}, 'accuracy': 0.808349609375, 'macro avg': {'precision': 0.7871137170759666, 'recall': 0.758862307953288, 'f1-score': 0.7711108669405669, 'support': 4096}, 'weighted avg': {'precision': 0.8072690533093448, 'recall': 0.808349609375, 'f1-score': 0.8062143174610381, 'support': 4096}}, 'eval_runtime': 7.488, 'eval_samples_per_second': 547.011, 'eval_steps_per_second': 8.547, 'epoch': 0.46}\n"
     ]
    },
    {
     "name": "stderr",
     "output_type": "stream",
     "text": [
      "\n",
      " 12%|█▏        | 10000/86888 [1:38:42<9:21:08,  2.28it/s]"
     ]
    },
    {
     "name": "stdout",
     "output_type": "stream",
     "text": [
      "{'eval_loss': 0.5382239818572998, 'eval_macro_f1': 0.7711108669405669, 'eval_macro_precision': 0.7871137170759666, 'eval_macro_recall': 0.758862307953288, 'eval_accuracy': 0.808349609375, 'eval_report': {'NOR': {'precision': 0.6753246753246753, 'recall': 0.7086882453151618, 'f1-score': 0.6916043225270159, 'support': 587}, 'IRQ': {'precision': 0.8582554517133957, 'recall': 0.924496644295302, 'f1-score': 0.8901453957996768, 'support': 1788}, 'LEV': {'precision': 0.7905918057663126, 'recall': 0.7186206896551725, 'f1-score': 0.7528901734104047, 'support': 725}, 'EGY': {'precision': 0.806615776081425, 'recall': 0.6788008565310493, 'f1-score': 0.7372093023255814, 'support': 467}, 'GLF': {'precision': 0.8047808764940239, 'recall': 0.7637051039697542, 'f1-score': 0.7837051406401552, 'support': 529}, 'accuracy': 0.808349609375, 'macro avg': {'precision': 0.7871137170759666, 'recall': 0.758862307953288, 'f1-score': 0.7711108669405669, 'support': 4096}, 'weighted avg': {'precision': 0.8072690533093448, 'recall': 0.808349609375, 'f1-score': 0.8062143174610381, 'support': 4096}}, 'eval_runtime': 7.499, 'eval_samples_per_second': 546.206, 'eval_steps_per_second': 8.534, 'epoch': 0.46}\n"
     ]
    },
    {
     "name": "stderr",
     "output_type": "stream",
     "text": [
      "\n",
      " 12%|█▏        | 10000/86888 [1:38:49<9:21:08,  2.28it/s]"
     ]
    },
    {
     "name": "stdout",
     "output_type": "stream",
     "text": [
      "{'eval_loss': 0.5382239818572998, 'eval_macro_f1': 0.7711108669405669, 'eval_macro_precision': 0.7871137170759666, 'eval_macro_recall': 0.758862307953288, 'eval_accuracy': 0.808349609375, 'eval_report': {'NOR': {'precision': 0.6753246753246753, 'recall': 0.7086882453151618, 'f1-score': 0.6916043225270159, 'support': 587}, 'IRQ': {'precision': 0.8582554517133957, 'recall': 0.924496644295302, 'f1-score': 0.8901453957996768, 'support': 1788}, 'LEV': {'precision': 0.7905918057663126, 'recall': 0.7186206896551725, 'f1-score': 0.7528901734104047, 'support': 725}, 'EGY': {'precision': 0.806615776081425, 'recall': 0.6788008565310493, 'f1-score': 0.7372093023255814, 'support': 467}, 'GLF': {'precision': 0.8047808764940239, 'recall': 0.7637051039697542, 'f1-score': 0.7837051406401552, 'support': 529}, 'accuracy': 0.808349609375, 'macro avg': {'precision': 0.7871137170759666, 'recall': 0.758862307953288, 'f1-score': 0.7711108669405669, 'support': 4096}, 'weighted avg': {'precision': 0.8072690533093448, 'recall': 0.808349609375, 'f1-score': 0.8062143174610381, 'support': 4096}}, 'eval_runtime': 7.4818, 'eval_samples_per_second': 547.465, 'eval_steps_per_second': 8.554, 'epoch': 0.46}\n"
     ]
    },
    {
     "name": "stderr",
     "output_type": "stream",
     "text": [
      "\n",
      " 12%|█▏        | 10000/86888 [1:38:57<9:21:08,  2.28it/s]"
     ]
    },
    {
     "name": "stdout",
     "output_type": "stream",
     "text": [
      "{'eval_loss': 0.5382239818572998, 'eval_macro_f1': 0.7711108669405669, 'eval_macro_precision': 0.7871137170759666, 'eval_macro_recall': 0.758862307953288, 'eval_accuracy': 0.808349609375, 'eval_report': {'NOR': {'precision': 0.6753246753246753, 'recall': 0.7086882453151618, 'f1-score': 0.6916043225270159, 'support': 587}, 'IRQ': {'precision': 0.8582554517133957, 'recall': 0.924496644295302, 'f1-score': 0.8901453957996768, 'support': 1788}, 'LEV': {'precision': 0.7905918057663126, 'recall': 0.7186206896551725, 'f1-score': 0.7528901734104047, 'support': 725}, 'EGY': {'precision': 0.806615776081425, 'recall': 0.6788008565310493, 'f1-score': 0.7372093023255814, 'support': 467}, 'GLF': {'precision': 0.8047808764940239, 'recall': 0.7637051039697542, 'f1-score': 0.7837051406401552, 'support': 529}, 'accuracy': 0.808349609375, 'macro avg': {'precision': 0.7871137170759666, 'recall': 0.758862307953288, 'f1-score': 0.7711108669405669, 'support': 4096}, 'weighted avg': {'precision': 0.8072690533093448, 'recall': 0.808349609375, 'f1-score': 0.8062143174610381, 'support': 4096}}, 'eval_runtime': 7.4859, 'eval_samples_per_second': 547.16, 'eval_steps_per_second': 8.549, 'epoch': 0.46}\n"
     ]
    },
    {
     "name": "stderr",
     "output_type": "stream",
     "text": [
      "\n",
      " 12%|█▏        | 10000/86888 [1:39:04<9:21:08,  2.28it/s]"
     ]
    },
    {
     "name": "stdout",
     "output_type": "stream",
     "text": [
      "{'eval_loss': 0.5382239818572998, 'eval_macro_f1': 0.7711108669405669, 'eval_macro_precision': 0.7871137170759666, 'eval_macro_recall': 0.758862307953288, 'eval_accuracy': 0.808349609375, 'eval_report': {'NOR': {'precision': 0.6753246753246753, 'recall': 0.7086882453151618, 'f1-score': 0.6916043225270159, 'support': 587}, 'IRQ': {'precision': 0.8582554517133957, 'recall': 0.924496644295302, 'f1-score': 0.8901453957996768, 'support': 1788}, 'LEV': {'precision': 0.7905918057663126, 'recall': 0.7186206896551725, 'f1-score': 0.7528901734104047, 'support': 725}, 'EGY': {'precision': 0.806615776081425, 'recall': 0.6788008565310493, 'f1-score': 0.7372093023255814, 'support': 467}, 'GLF': {'precision': 0.8047808764940239, 'recall': 0.7637051039697542, 'f1-score': 0.7837051406401552, 'support': 529}, 'accuracy': 0.808349609375, 'macro avg': {'precision': 0.7871137170759666, 'recall': 0.758862307953288, 'f1-score': 0.7711108669405669, 'support': 4096}, 'weighted avg': {'precision': 0.8072690533093448, 'recall': 0.808349609375, 'f1-score': 0.8062143174610381, 'support': 4096}}, 'eval_runtime': 7.4927, 'eval_samples_per_second': 546.666, 'eval_steps_per_second': 8.542, 'epoch': 0.46}\n"
     ]
    },
    {
     "name": "stderr",
     "output_type": "stream",
     "text": [
      "\n",
      " 12%|█▏        | 10000/86888 [1:39:12<9:21:08,  2.28it/s]"
     ]
    },
    {
     "name": "stdout",
     "output_type": "stream",
     "text": [
      "{'eval_loss': 0.5382239818572998, 'eval_macro_f1': 0.7711108669405669, 'eval_macro_precision': 0.7871137170759666, 'eval_macro_recall': 0.758862307953288, 'eval_accuracy': 0.808349609375, 'eval_report': {'NOR': {'precision': 0.6753246753246753, 'recall': 0.7086882453151618, 'f1-score': 0.6916043225270159, 'support': 587}, 'IRQ': {'precision': 0.8582554517133957, 'recall': 0.924496644295302, 'f1-score': 0.8901453957996768, 'support': 1788}, 'LEV': {'precision': 0.7905918057663126, 'recall': 0.7186206896551725, 'f1-score': 0.7528901734104047, 'support': 725}, 'EGY': {'precision': 0.806615776081425, 'recall': 0.6788008565310493, 'f1-score': 0.7372093023255814, 'support': 467}, 'GLF': {'precision': 0.8047808764940239, 'recall': 0.7637051039697542, 'f1-score': 0.7837051406401552, 'support': 529}, 'accuracy': 0.808349609375, 'macro avg': {'precision': 0.7871137170759666, 'recall': 0.758862307953288, 'f1-score': 0.7711108669405669, 'support': 4096}, 'weighted avg': {'precision': 0.8072690533093448, 'recall': 0.808349609375, 'f1-score': 0.8062143174610381, 'support': 4096}}, 'eval_runtime': 7.4892, 'eval_samples_per_second': 546.923, 'eval_steps_per_second': 8.546, 'epoch': 0.46}\n"
     ]
    },
    {
     "name": "stderr",
     "output_type": "stream",
     "text": [
      "\n",
      " 12%|█▏        | 10000/86888 [1:39:19<9:21:08,  2.28it/s]"
     ]
    },
    {
     "name": "stdout",
     "output_type": "stream",
     "text": [
      "{'eval_loss': 0.5382239818572998, 'eval_macro_f1': 0.7711108669405669, 'eval_macro_precision': 0.7871137170759666, 'eval_macro_recall': 0.758862307953288, 'eval_accuracy': 0.808349609375, 'eval_report': {'NOR': {'precision': 0.6753246753246753, 'recall': 0.7086882453151618, 'f1-score': 0.6916043225270159, 'support': 587}, 'IRQ': {'precision': 0.8582554517133957, 'recall': 0.924496644295302, 'f1-score': 0.8901453957996768, 'support': 1788}, 'LEV': {'precision': 0.7905918057663126, 'recall': 0.7186206896551725, 'f1-score': 0.7528901734104047, 'support': 725}, 'EGY': {'precision': 0.806615776081425, 'recall': 0.6788008565310493, 'f1-score': 0.7372093023255814, 'support': 467}, 'GLF': {'precision': 0.8047808764940239, 'recall': 0.7637051039697542, 'f1-score': 0.7837051406401552, 'support': 529}, 'accuracy': 0.808349609375, 'macro avg': {'precision': 0.7871137170759666, 'recall': 0.758862307953288, 'f1-score': 0.7711108669405669, 'support': 4096}, 'weighted avg': {'precision': 0.8072690533093448, 'recall': 0.808349609375, 'f1-score': 0.8062143174610381, 'support': 4096}}, 'eval_runtime': 7.491, 'eval_samples_per_second': 546.792, 'eval_steps_per_second': 8.544, 'epoch': 0.46}\n"
     ]
    },
    {
     "name": "stderr",
     "output_type": "stream",
     "text": [
      "\n",
      " 12%|█▏        | 10000/86888 [1:39:27<9:21:08,  2.28it/s]"
     ]
    },
    {
     "name": "stdout",
     "output_type": "stream",
     "text": [
      "{'eval_loss': 0.5382239818572998, 'eval_macro_f1': 0.7711108669405669, 'eval_macro_precision': 0.7871137170759666, 'eval_macro_recall': 0.758862307953288, 'eval_accuracy': 0.808349609375, 'eval_report': {'NOR': {'precision': 0.6753246753246753, 'recall': 0.7086882453151618, 'f1-score': 0.6916043225270159, 'support': 587}, 'IRQ': {'precision': 0.8582554517133957, 'recall': 0.924496644295302, 'f1-score': 0.8901453957996768, 'support': 1788}, 'LEV': {'precision': 0.7905918057663126, 'recall': 0.7186206896551725, 'f1-score': 0.7528901734104047, 'support': 725}, 'EGY': {'precision': 0.806615776081425, 'recall': 0.6788008565310493, 'f1-score': 0.7372093023255814, 'support': 467}, 'GLF': {'precision': 0.8047808764940239, 'recall': 0.7637051039697542, 'f1-score': 0.7837051406401552, 'support': 529}, 'accuracy': 0.808349609375, 'macro avg': {'precision': 0.7871137170759666, 'recall': 0.758862307953288, 'f1-score': 0.7711108669405669, 'support': 4096}, 'weighted avg': {'precision': 0.8072690533093448, 'recall': 0.808349609375, 'f1-score': 0.8062143174610381, 'support': 4096}}, 'eval_runtime': 7.4878, 'eval_samples_per_second': 547.026, 'eval_steps_per_second': 8.547, 'epoch': 0.46}\n"
     ]
    },
    {
     "name": "stderr",
     "output_type": "stream",
     "text": [
      "\n",
      " 12%|█▏        | 10000/86888 [1:39:34<9:21:08,  2.28it/s]"
     ]
    },
    {
     "name": "stdout",
     "output_type": "stream",
     "text": [
      "{'eval_loss': 0.5382239818572998, 'eval_macro_f1': 0.7711108669405669, 'eval_macro_precision': 0.7871137170759666, 'eval_macro_recall': 0.758862307953288, 'eval_accuracy': 0.808349609375, 'eval_report': {'NOR': {'precision': 0.6753246753246753, 'recall': 0.7086882453151618, 'f1-score': 0.6916043225270159, 'support': 587}, 'IRQ': {'precision': 0.8582554517133957, 'recall': 0.924496644295302, 'f1-score': 0.8901453957996768, 'support': 1788}, 'LEV': {'precision': 0.7905918057663126, 'recall': 0.7186206896551725, 'f1-score': 0.7528901734104047, 'support': 725}, 'EGY': {'precision': 0.806615776081425, 'recall': 0.6788008565310493, 'f1-score': 0.7372093023255814, 'support': 467}, 'GLF': {'precision': 0.8047808764940239, 'recall': 0.7637051039697542, 'f1-score': 0.7837051406401552, 'support': 529}, 'accuracy': 0.808349609375, 'macro avg': {'precision': 0.7871137170759666, 'recall': 0.758862307953288, 'f1-score': 0.7711108669405669, 'support': 4096}, 'weighted avg': {'precision': 0.8072690533093448, 'recall': 0.808349609375, 'f1-score': 0.8062143174610381, 'support': 4096}}, 'eval_runtime': 7.5004, 'eval_samples_per_second': 546.106, 'eval_steps_per_second': 8.533, 'epoch': 0.46}\n"
     ]
    },
    {
     "name": "stderr",
     "output_type": "stream",
     "text": [
      "\n",
      " 12%|█▏        | 10000/86888 [1:39:42<9:21:08,  2.28it/s]"
     ]
    },
    {
     "name": "stdout",
     "output_type": "stream",
     "text": [
      "{'eval_loss': 0.5382239818572998, 'eval_macro_f1': 0.7711108669405669, 'eval_macro_precision': 0.7871137170759666, 'eval_macro_recall': 0.758862307953288, 'eval_accuracy': 0.808349609375, 'eval_report': {'NOR': {'precision': 0.6753246753246753, 'recall': 0.7086882453151618, 'f1-score': 0.6916043225270159, 'support': 587}, 'IRQ': {'precision': 0.8582554517133957, 'recall': 0.924496644295302, 'f1-score': 0.8901453957996768, 'support': 1788}, 'LEV': {'precision': 0.7905918057663126, 'recall': 0.7186206896551725, 'f1-score': 0.7528901734104047, 'support': 725}, 'EGY': {'precision': 0.806615776081425, 'recall': 0.6788008565310493, 'f1-score': 0.7372093023255814, 'support': 467}, 'GLF': {'precision': 0.8047808764940239, 'recall': 0.7637051039697542, 'f1-score': 0.7837051406401552, 'support': 529}, 'accuracy': 0.808349609375, 'macro avg': {'precision': 0.7871137170759666, 'recall': 0.758862307953288, 'f1-score': 0.7711108669405669, 'support': 4096}, 'weighted avg': {'precision': 0.8072690533093448, 'recall': 0.808349609375, 'f1-score': 0.8062143174610381, 'support': 4096}}, 'eval_runtime': 7.4832, 'eval_samples_per_second': 547.362, 'eval_steps_per_second': 8.553, 'epoch': 0.46}\n"
     ]
    },
    {
     "name": "stderr",
     "output_type": "stream",
     "text": [
      "\n",
      " 12%|█▏        | 10000/86888 [1:39:49<9:21:08,  2.28it/s]"
     ]
    },
    {
     "name": "stdout",
     "output_type": "stream",
     "text": [
      "{'eval_loss': 0.5382239818572998, 'eval_macro_f1': 0.7711108669405669, 'eval_macro_precision': 0.7871137170759666, 'eval_macro_recall': 0.758862307953288, 'eval_accuracy': 0.808349609375, 'eval_report': {'NOR': {'precision': 0.6753246753246753, 'recall': 0.7086882453151618, 'f1-score': 0.6916043225270159, 'support': 587}, 'IRQ': {'precision': 0.8582554517133957, 'recall': 0.924496644295302, 'f1-score': 0.8901453957996768, 'support': 1788}, 'LEV': {'precision': 0.7905918057663126, 'recall': 0.7186206896551725, 'f1-score': 0.7528901734104047, 'support': 725}, 'EGY': {'precision': 0.806615776081425, 'recall': 0.6788008565310493, 'f1-score': 0.7372093023255814, 'support': 467}, 'GLF': {'precision': 0.8047808764940239, 'recall': 0.7637051039697542, 'f1-score': 0.7837051406401552, 'support': 529}, 'accuracy': 0.808349609375, 'macro avg': {'precision': 0.7871137170759666, 'recall': 0.758862307953288, 'f1-score': 0.7711108669405669, 'support': 4096}, 'weighted avg': {'precision': 0.8072690533093448, 'recall': 0.808349609375, 'f1-score': 0.8062143174610381, 'support': 4096}}, 'eval_runtime': 7.4886, 'eval_samples_per_second': 546.963, 'eval_steps_per_second': 8.546, 'epoch': 0.46}\n"
     ]
    },
    {
     "name": "stderr",
     "output_type": "stream",
     "text": [
      "\n",
      " 12%|█▏        | 10000/86888 [1:39:57<9:21:08,  2.28it/s]"
     ]
    },
    {
     "name": "stdout",
     "output_type": "stream",
     "text": [
      "{'eval_loss': 0.5382239818572998, 'eval_macro_f1': 0.7711108669405669, 'eval_macro_precision': 0.7871137170759666, 'eval_macro_recall': 0.758862307953288, 'eval_accuracy': 0.808349609375, 'eval_report': {'NOR': {'precision': 0.6753246753246753, 'recall': 0.7086882453151618, 'f1-score': 0.6916043225270159, 'support': 587}, 'IRQ': {'precision': 0.8582554517133957, 'recall': 0.924496644295302, 'f1-score': 0.8901453957996768, 'support': 1788}, 'LEV': {'precision': 0.7905918057663126, 'recall': 0.7186206896551725, 'f1-score': 0.7528901734104047, 'support': 725}, 'EGY': {'precision': 0.806615776081425, 'recall': 0.6788008565310493, 'f1-score': 0.7372093023255814, 'support': 467}, 'GLF': {'precision': 0.8047808764940239, 'recall': 0.7637051039697542, 'f1-score': 0.7837051406401552, 'support': 529}, 'accuracy': 0.808349609375, 'macro avg': {'precision': 0.7871137170759666, 'recall': 0.758862307953288, 'f1-score': 0.7711108669405669, 'support': 4096}, 'weighted avg': {'precision': 0.8072690533093448, 'recall': 0.808349609375, 'f1-score': 0.8062143174610381, 'support': 4096}}, 'eval_runtime': 7.4931, 'eval_samples_per_second': 546.634, 'eval_steps_per_second': 8.541, 'epoch': 0.46}\n"
     ]
    },
    {
     "name": "stderr",
     "output_type": "stream",
     "text": [
      "\n",
      " 12%|█▏        | 10000/86888 [1:40:04<9:21:08,  2.28it/s]"
     ]
    },
    {
     "name": "stdout",
     "output_type": "stream",
     "text": [
      "{'eval_loss': 0.5382239818572998, 'eval_macro_f1': 0.7711108669405669, 'eval_macro_precision': 0.7871137170759666, 'eval_macro_recall': 0.758862307953288, 'eval_accuracy': 0.808349609375, 'eval_report': {'NOR': {'precision': 0.6753246753246753, 'recall': 0.7086882453151618, 'f1-score': 0.6916043225270159, 'support': 587}, 'IRQ': {'precision': 0.8582554517133957, 'recall': 0.924496644295302, 'f1-score': 0.8901453957996768, 'support': 1788}, 'LEV': {'precision': 0.7905918057663126, 'recall': 0.7186206896551725, 'f1-score': 0.7528901734104047, 'support': 725}, 'EGY': {'precision': 0.806615776081425, 'recall': 0.6788008565310493, 'f1-score': 0.7372093023255814, 'support': 467}, 'GLF': {'precision': 0.8047808764940239, 'recall': 0.7637051039697542, 'f1-score': 0.7837051406401552, 'support': 529}, 'accuracy': 0.808349609375, 'macro avg': {'precision': 0.7871137170759666, 'recall': 0.758862307953288, 'f1-score': 0.7711108669405669, 'support': 4096}, 'weighted avg': {'precision': 0.8072690533093448, 'recall': 0.808349609375, 'f1-score': 0.8062143174610381, 'support': 4096}}, 'eval_runtime': 7.4889, 'eval_samples_per_second': 546.939, 'eval_steps_per_second': 8.546, 'epoch': 0.46}\n"
     ]
    },
    {
     "name": "stderr",
     "output_type": "stream",
     "text": [
      "\n",
      " 12%|█▏        | 10000/86888 [1:40:12<9:21:08,  2.28it/s]"
     ]
    },
    {
     "name": "stdout",
     "output_type": "stream",
     "text": [
      "{'eval_loss': 0.5382239818572998, 'eval_macro_f1': 0.7711108669405669, 'eval_macro_precision': 0.7871137170759666, 'eval_macro_recall': 0.758862307953288, 'eval_accuracy': 0.808349609375, 'eval_report': {'NOR': {'precision': 0.6753246753246753, 'recall': 0.7086882453151618, 'f1-score': 0.6916043225270159, 'support': 587}, 'IRQ': {'precision': 0.8582554517133957, 'recall': 0.924496644295302, 'f1-score': 0.8901453957996768, 'support': 1788}, 'LEV': {'precision': 0.7905918057663126, 'recall': 0.7186206896551725, 'f1-score': 0.7528901734104047, 'support': 725}, 'EGY': {'precision': 0.806615776081425, 'recall': 0.6788008565310493, 'f1-score': 0.7372093023255814, 'support': 467}, 'GLF': {'precision': 0.8047808764940239, 'recall': 0.7637051039697542, 'f1-score': 0.7837051406401552, 'support': 529}, 'accuracy': 0.808349609375, 'macro avg': {'precision': 0.7871137170759666, 'recall': 0.758862307953288, 'f1-score': 0.7711108669405669, 'support': 4096}, 'weighted avg': {'precision': 0.8072690533093448, 'recall': 0.808349609375, 'f1-score': 0.8062143174610381, 'support': 4096}}, 'eval_runtime': 7.4911, 'eval_samples_per_second': 546.782, 'eval_steps_per_second': 8.543, 'epoch': 0.46}\n"
     ]
    },
    {
     "name": "stderr",
     "output_type": "stream",
     "text": [
      "\n",
      " 12%|█▏        | 10000/86888 [1:40:19<9:21:08,  2.28it/s]"
     ]
    },
    {
     "name": "stdout",
     "output_type": "stream",
     "text": [
      "{'eval_loss': 0.5382239818572998, 'eval_macro_f1': 0.7711108669405669, 'eval_macro_precision': 0.7871137170759666, 'eval_macro_recall': 0.758862307953288, 'eval_accuracy': 0.808349609375, 'eval_report': {'NOR': {'precision': 0.6753246753246753, 'recall': 0.7086882453151618, 'f1-score': 0.6916043225270159, 'support': 587}, 'IRQ': {'precision': 0.8582554517133957, 'recall': 0.924496644295302, 'f1-score': 0.8901453957996768, 'support': 1788}, 'LEV': {'precision': 0.7905918057663126, 'recall': 0.7186206896551725, 'f1-score': 0.7528901734104047, 'support': 725}, 'EGY': {'precision': 0.806615776081425, 'recall': 0.6788008565310493, 'f1-score': 0.7372093023255814, 'support': 467}, 'GLF': {'precision': 0.8047808764940239, 'recall': 0.7637051039697542, 'f1-score': 0.7837051406401552, 'support': 529}, 'accuracy': 0.808349609375, 'macro avg': {'precision': 0.7871137170759666, 'recall': 0.758862307953288, 'f1-score': 0.7711108669405669, 'support': 4096}, 'weighted avg': {'precision': 0.8072690533093448, 'recall': 0.808349609375, 'f1-score': 0.8062143174610381, 'support': 4096}}, 'eval_runtime': 7.4879, 'eval_samples_per_second': 547.013, 'eval_steps_per_second': 8.547, 'epoch': 0.46}\n"
     ]
    },
    {
     "name": "stderr",
     "output_type": "stream",
     "text": [
      "\n",
      " 12%|█▏        | 10000/86888 [1:40:27<9:21:08,  2.28it/s]"
     ]
    },
    {
     "name": "stdout",
     "output_type": "stream",
     "text": [
      "{'eval_loss': 0.5382239818572998, 'eval_macro_f1': 0.7711108669405669, 'eval_macro_precision': 0.7871137170759666, 'eval_macro_recall': 0.758862307953288, 'eval_accuracy': 0.808349609375, 'eval_report': {'NOR': {'precision': 0.6753246753246753, 'recall': 0.7086882453151618, 'f1-score': 0.6916043225270159, 'support': 587}, 'IRQ': {'precision': 0.8582554517133957, 'recall': 0.924496644295302, 'f1-score': 0.8901453957996768, 'support': 1788}, 'LEV': {'precision': 0.7905918057663126, 'recall': 0.7186206896551725, 'f1-score': 0.7528901734104047, 'support': 725}, 'EGY': {'precision': 0.806615776081425, 'recall': 0.6788008565310493, 'f1-score': 0.7372093023255814, 'support': 467}, 'GLF': {'precision': 0.8047808764940239, 'recall': 0.7637051039697542, 'f1-score': 0.7837051406401552, 'support': 529}, 'accuracy': 0.808349609375, 'macro avg': {'precision': 0.7871137170759666, 'recall': 0.758862307953288, 'f1-score': 0.7711108669405669, 'support': 4096}, 'weighted avg': {'precision': 0.8072690533093448, 'recall': 0.808349609375, 'f1-score': 0.8062143174610381, 'support': 4096}}, 'eval_runtime': 7.4856, 'eval_samples_per_second': 547.186, 'eval_steps_per_second': 8.55, 'epoch': 0.46}\n"
     ]
    },
    {
     "name": "stderr",
     "output_type": "stream",
     "text": [
      "\n",
      " 12%|█▏        | 10000/86888 [1:40:34<9:21:08,  2.28it/s]"
     ]
    },
    {
     "name": "stdout",
     "output_type": "stream",
     "text": [
      "{'eval_loss': 0.5382239818572998, 'eval_macro_f1': 0.7711108669405669, 'eval_macro_precision': 0.7871137170759666, 'eval_macro_recall': 0.758862307953288, 'eval_accuracy': 0.808349609375, 'eval_report': {'NOR': {'precision': 0.6753246753246753, 'recall': 0.7086882453151618, 'f1-score': 0.6916043225270159, 'support': 587}, 'IRQ': {'precision': 0.8582554517133957, 'recall': 0.924496644295302, 'f1-score': 0.8901453957996768, 'support': 1788}, 'LEV': {'precision': 0.7905918057663126, 'recall': 0.7186206896551725, 'f1-score': 0.7528901734104047, 'support': 725}, 'EGY': {'precision': 0.806615776081425, 'recall': 0.6788008565310493, 'f1-score': 0.7372093023255814, 'support': 467}, 'GLF': {'precision': 0.8047808764940239, 'recall': 0.7637051039697542, 'f1-score': 0.7837051406401552, 'support': 529}, 'accuracy': 0.808349609375, 'macro avg': {'precision': 0.7871137170759666, 'recall': 0.758862307953288, 'f1-score': 0.7711108669405669, 'support': 4096}, 'weighted avg': {'precision': 0.8072690533093448, 'recall': 0.808349609375, 'f1-score': 0.8062143174610381, 'support': 4096}}, 'eval_runtime': 7.4948, 'eval_samples_per_second': 546.513, 'eval_steps_per_second': 8.539, 'epoch': 0.46}\n"
     ]
    },
    {
     "name": "stderr",
     "output_type": "stream",
     "text": [
      "\n",
      " 12%|█▏        | 10000/86888 [1:40:42<9:21:08,  2.28it/s]"
     ]
    },
    {
     "name": "stdout",
     "output_type": "stream",
     "text": [
      "{'eval_loss': 0.5382239818572998, 'eval_macro_f1': 0.7711108669405669, 'eval_macro_precision': 0.7871137170759666, 'eval_macro_recall': 0.758862307953288, 'eval_accuracy': 0.808349609375, 'eval_report': {'NOR': {'precision': 0.6753246753246753, 'recall': 0.7086882453151618, 'f1-score': 0.6916043225270159, 'support': 587}, 'IRQ': {'precision': 0.8582554517133957, 'recall': 0.924496644295302, 'f1-score': 0.8901453957996768, 'support': 1788}, 'LEV': {'precision': 0.7905918057663126, 'recall': 0.7186206896551725, 'f1-score': 0.7528901734104047, 'support': 725}, 'EGY': {'precision': 0.806615776081425, 'recall': 0.6788008565310493, 'f1-score': 0.7372093023255814, 'support': 467}, 'GLF': {'precision': 0.8047808764940239, 'recall': 0.7637051039697542, 'f1-score': 0.7837051406401552, 'support': 529}, 'accuracy': 0.808349609375, 'macro avg': {'precision': 0.7871137170759666, 'recall': 0.758862307953288, 'f1-score': 0.7711108669405669, 'support': 4096}, 'weighted avg': {'precision': 0.8072690533093448, 'recall': 0.808349609375, 'f1-score': 0.8062143174610381, 'support': 4096}}, 'eval_runtime': 7.495, 'eval_samples_per_second': 546.499, 'eval_steps_per_second': 8.539, 'epoch': 0.46}\n"
     ]
    },
    {
     "name": "stderr",
     "output_type": "stream",
     "text": [
      "\n",
      " 12%|█▏        | 10000/86888 [1:40:49<9:21:08,  2.28it/s]"
     ]
    },
    {
     "name": "stdout",
     "output_type": "stream",
     "text": [
      "{'eval_loss': 0.5382239818572998, 'eval_macro_f1': 0.7711108669405669, 'eval_macro_precision': 0.7871137170759666, 'eval_macro_recall': 0.758862307953288, 'eval_accuracy': 0.808349609375, 'eval_report': {'NOR': {'precision': 0.6753246753246753, 'recall': 0.7086882453151618, 'f1-score': 0.6916043225270159, 'support': 587}, 'IRQ': {'precision': 0.8582554517133957, 'recall': 0.924496644295302, 'f1-score': 0.8901453957996768, 'support': 1788}, 'LEV': {'precision': 0.7905918057663126, 'recall': 0.7186206896551725, 'f1-score': 0.7528901734104047, 'support': 725}, 'EGY': {'precision': 0.806615776081425, 'recall': 0.6788008565310493, 'f1-score': 0.7372093023255814, 'support': 467}, 'GLF': {'precision': 0.8047808764940239, 'recall': 0.7637051039697542, 'f1-score': 0.7837051406401552, 'support': 529}, 'accuracy': 0.808349609375, 'macro avg': {'precision': 0.7871137170759666, 'recall': 0.758862307953288, 'f1-score': 0.7711108669405669, 'support': 4096}, 'weighted avg': {'precision': 0.8072690533093448, 'recall': 0.808349609375, 'f1-score': 0.8062143174610381, 'support': 4096}}, 'eval_runtime': 7.4975, 'eval_samples_per_second': 546.318, 'eval_steps_per_second': 8.536, 'epoch': 0.46}\n"
     ]
    },
    {
     "name": "stderr",
     "output_type": "stream",
     "text": [
      "\n",
      " 12%|█▏        | 10000/86888 [1:40:57<9:21:08,  2.28it/s]"
     ]
    },
    {
     "name": "stdout",
     "output_type": "stream",
     "text": [
      "{'eval_loss': 0.5382239818572998, 'eval_macro_f1': 0.7711108669405669, 'eval_macro_precision': 0.7871137170759666, 'eval_macro_recall': 0.758862307953288, 'eval_accuracy': 0.808349609375, 'eval_report': {'NOR': {'precision': 0.6753246753246753, 'recall': 0.7086882453151618, 'f1-score': 0.6916043225270159, 'support': 587}, 'IRQ': {'precision': 0.8582554517133957, 'recall': 0.924496644295302, 'f1-score': 0.8901453957996768, 'support': 1788}, 'LEV': {'precision': 0.7905918057663126, 'recall': 0.7186206896551725, 'f1-score': 0.7528901734104047, 'support': 725}, 'EGY': {'precision': 0.806615776081425, 'recall': 0.6788008565310493, 'f1-score': 0.7372093023255814, 'support': 467}, 'GLF': {'precision': 0.8047808764940239, 'recall': 0.7637051039697542, 'f1-score': 0.7837051406401552, 'support': 529}, 'accuracy': 0.808349609375, 'macro avg': {'precision': 0.7871137170759666, 'recall': 0.758862307953288, 'f1-score': 0.7711108669405669, 'support': 4096}, 'weighted avg': {'precision': 0.8072690533093448, 'recall': 0.808349609375, 'f1-score': 0.8062143174610381, 'support': 4096}}, 'eval_runtime': 7.484, 'eval_samples_per_second': 547.3, 'eval_steps_per_second': 8.552, 'epoch': 0.46}\n"
     ]
    },
    {
     "name": "stderr",
     "output_type": "stream",
     "text": [
      "\n",
      " 12%|█▏        | 10000/86888 [1:41:04<9:21:08,  2.28it/s]"
     ]
    },
    {
     "name": "stdout",
     "output_type": "stream",
     "text": [
      "{'eval_loss': 0.5382239818572998, 'eval_macro_f1': 0.7711108669405669, 'eval_macro_precision': 0.7871137170759666, 'eval_macro_recall': 0.758862307953288, 'eval_accuracy': 0.808349609375, 'eval_report': {'NOR': {'precision': 0.6753246753246753, 'recall': 0.7086882453151618, 'f1-score': 0.6916043225270159, 'support': 587}, 'IRQ': {'precision': 0.8582554517133957, 'recall': 0.924496644295302, 'f1-score': 0.8901453957996768, 'support': 1788}, 'LEV': {'precision': 0.7905918057663126, 'recall': 0.7186206896551725, 'f1-score': 0.7528901734104047, 'support': 725}, 'EGY': {'precision': 0.806615776081425, 'recall': 0.6788008565310493, 'f1-score': 0.7372093023255814, 'support': 467}, 'GLF': {'precision': 0.8047808764940239, 'recall': 0.7637051039697542, 'f1-score': 0.7837051406401552, 'support': 529}, 'accuracy': 0.808349609375, 'macro avg': {'precision': 0.7871137170759666, 'recall': 0.758862307953288, 'f1-score': 0.7711108669405669, 'support': 4096}, 'weighted avg': {'precision': 0.8072690533093448, 'recall': 0.808349609375, 'f1-score': 0.8062143174610381, 'support': 4096}}, 'eval_runtime': 7.4951, 'eval_samples_per_second': 546.489, 'eval_steps_per_second': 8.539, 'epoch': 0.46}\n"
     ]
    },
    {
     "name": "stderr",
     "output_type": "stream",
     "text": [
      "\n",
      " 12%|█▏        | 10000/86888 [1:41:12<9:21:08,  2.28it/s]"
     ]
    },
    {
     "name": "stdout",
     "output_type": "stream",
     "text": [
      "{'eval_loss': 0.5382239818572998, 'eval_macro_f1': 0.7711108669405669, 'eval_macro_precision': 0.7871137170759666, 'eval_macro_recall': 0.758862307953288, 'eval_accuracy': 0.808349609375, 'eval_report': {'NOR': {'precision': 0.6753246753246753, 'recall': 0.7086882453151618, 'f1-score': 0.6916043225270159, 'support': 587}, 'IRQ': {'precision': 0.8582554517133957, 'recall': 0.924496644295302, 'f1-score': 0.8901453957996768, 'support': 1788}, 'LEV': {'precision': 0.7905918057663126, 'recall': 0.7186206896551725, 'f1-score': 0.7528901734104047, 'support': 725}, 'EGY': {'precision': 0.806615776081425, 'recall': 0.6788008565310493, 'f1-score': 0.7372093023255814, 'support': 467}, 'GLF': {'precision': 0.8047808764940239, 'recall': 0.7637051039697542, 'f1-score': 0.7837051406401552, 'support': 529}, 'accuracy': 0.808349609375, 'macro avg': {'precision': 0.7871137170759666, 'recall': 0.758862307953288, 'f1-score': 0.7711108669405669, 'support': 4096}, 'weighted avg': {'precision': 0.8072690533093448, 'recall': 0.808349609375, 'f1-score': 0.8062143174610381, 'support': 4096}}, 'eval_runtime': 7.482, 'eval_samples_per_second': 547.446, 'eval_steps_per_second': 8.554, 'epoch': 0.46}\n"
     ]
    },
    {
     "name": "stderr",
     "output_type": "stream",
     "text": [
      "\n",
      " 12%|█▏        | 10000/86888 [1:41:19<9:21:08,  2.28it/s]"
     ]
    },
    {
     "name": "stdout",
     "output_type": "stream",
     "text": [
      "{'eval_loss': 0.5382239818572998, 'eval_macro_f1': 0.7711108669405669, 'eval_macro_precision': 0.7871137170759666, 'eval_macro_recall': 0.758862307953288, 'eval_accuracy': 0.808349609375, 'eval_report': {'NOR': {'precision': 0.6753246753246753, 'recall': 0.7086882453151618, 'f1-score': 0.6916043225270159, 'support': 587}, 'IRQ': {'precision': 0.8582554517133957, 'recall': 0.924496644295302, 'f1-score': 0.8901453957996768, 'support': 1788}, 'LEV': {'precision': 0.7905918057663126, 'recall': 0.7186206896551725, 'f1-score': 0.7528901734104047, 'support': 725}, 'EGY': {'precision': 0.806615776081425, 'recall': 0.6788008565310493, 'f1-score': 0.7372093023255814, 'support': 467}, 'GLF': {'precision': 0.8047808764940239, 'recall': 0.7637051039697542, 'f1-score': 0.7837051406401552, 'support': 529}, 'accuracy': 0.808349609375, 'macro avg': {'precision': 0.7871137170759666, 'recall': 0.758862307953288, 'f1-score': 0.7711108669405669, 'support': 4096}, 'weighted avg': {'precision': 0.8072690533093448, 'recall': 0.808349609375, 'f1-score': 0.8062143174610381, 'support': 4096}}, 'eval_runtime': 7.4876, 'eval_samples_per_second': 547.041, 'eval_steps_per_second': 8.548, 'epoch': 0.46}\n"
     ]
    },
    {
     "name": "stderr",
     "output_type": "stream",
     "text": [
      "\n",
      " 12%|█▏        | 10000/86888 [1:41:27<9:21:08,  2.28it/s]"
     ]
    },
    {
     "name": "stdout",
     "output_type": "stream",
     "text": [
      "{'eval_loss': 0.5382239818572998, 'eval_macro_f1': 0.7711108669405669, 'eval_macro_precision': 0.7871137170759666, 'eval_macro_recall': 0.758862307953288, 'eval_accuracy': 0.808349609375, 'eval_report': {'NOR': {'precision': 0.6753246753246753, 'recall': 0.7086882453151618, 'f1-score': 0.6916043225270159, 'support': 587}, 'IRQ': {'precision': 0.8582554517133957, 'recall': 0.924496644295302, 'f1-score': 0.8901453957996768, 'support': 1788}, 'LEV': {'precision': 0.7905918057663126, 'recall': 0.7186206896551725, 'f1-score': 0.7528901734104047, 'support': 725}, 'EGY': {'precision': 0.806615776081425, 'recall': 0.6788008565310493, 'f1-score': 0.7372093023255814, 'support': 467}, 'GLF': {'precision': 0.8047808764940239, 'recall': 0.7637051039697542, 'f1-score': 0.7837051406401552, 'support': 529}, 'accuracy': 0.808349609375, 'macro avg': {'precision': 0.7871137170759666, 'recall': 0.758862307953288, 'f1-score': 0.7711108669405669, 'support': 4096}, 'weighted avg': {'precision': 0.8072690533093448, 'recall': 0.808349609375, 'f1-score': 0.8062143174610381, 'support': 4096}}, 'eval_runtime': 7.4892, 'eval_samples_per_second': 546.92, 'eval_steps_per_second': 8.546, 'epoch': 0.46}\n"
     ]
    },
    {
     "name": "stderr",
     "output_type": "stream",
     "text": [
      "\n",
      " 12%|█▏        | 10000/86888 [1:41:34<9:21:08,  2.28it/s]"
     ]
    },
    {
     "name": "stdout",
     "output_type": "stream",
     "text": [
      "{'eval_loss': 0.5382239818572998, 'eval_macro_f1': 0.7711108669405669, 'eval_macro_precision': 0.7871137170759666, 'eval_macro_recall': 0.758862307953288, 'eval_accuracy': 0.808349609375, 'eval_report': {'NOR': {'precision': 0.6753246753246753, 'recall': 0.7086882453151618, 'f1-score': 0.6916043225270159, 'support': 587}, 'IRQ': {'precision': 0.8582554517133957, 'recall': 0.924496644295302, 'f1-score': 0.8901453957996768, 'support': 1788}, 'LEV': {'precision': 0.7905918057663126, 'recall': 0.7186206896551725, 'f1-score': 0.7528901734104047, 'support': 725}, 'EGY': {'precision': 0.806615776081425, 'recall': 0.6788008565310493, 'f1-score': 0.7372093023255814, 'support': 467}, 'GLF': {'precision': 0.8047808764940239, 'recall': 0.7637051039697542, 'f1-score': 0.7837051406401552, 'support': 529}, 'accuracy': 0.808349609375, 'macro avg': {'precision': 0.7871137170759666, 'recall': 0.758862307953288, 'f1-score': 0.7711108669405669, 'support': 4096}, 'weighted avg': {'precision': 0.8072690533093448, 'recall': 0.808349609375, 'f1-score': 0.8062143174610381, 'support': 4096}}, 'eval_runtime': 7.4965, 'eval_samples_per_second': 546.39, 'eval_steps_per_second': 8.537, 'epoch': 0.46}\n"
     ]
    },
    {
     "name": "stderr",
     "output_type": "stream",
     "text": [
      "\n",
      " 12%|█▏        | 10000/86888 [1:41:42<9:21:08,  2.28it/s]"
     ]
    },
    {
     "name": "stdout",
     "output_type": "stream",
     "text": [
      "{'eval_loss': 0.5382239818572998, 'eval_macro_f1': 0.7711108669405669, 'eval_macro_precision': 0.7871137170759666, 'eval_macro_recall': 0.758862307953288, 'eval_accuracy': 0.808349609375, 'eval_report': {'NOR': {'precision': 0.6753246753246753, 'recall': 0.7086882453151618, 'f1-score': 0.6916043225270159, 'support': 587}, 'IRQ': {'precision': 0.8582554517133957, 'recall': 0.924496644295302, 'f1-score': 0.8901453957996768, 'support': 1788}, 'LEV': {'precision': 0.7905918057663126, 'recall': 0.7186206896551725, 'f1-score': 0.7528901734104047, 'support': 725}, 'EGY': {'precision': 0.806615776081425, 'recall': 0.6788008565310493, 'f1-score': 0.7372093023255814, 'support': 467}, 'GLF': {'precision': 0.8047808764940239, 'recall': 0.7637051039697542, 'f1-score': 0.7837051406401552, 'support': 529}, 'accuracy': 0.808349609375, 'macro avg': {'precision': 0.7871137170759666, 'recall': 0.758862307953288, 'f1-score': 0.7711108669405669, 'support': 4096}, 'weighted avg': {'precision': 0.8072690533093448, 'recall': 0.808349609375, 'f1-score': 0.8062143174610381, 'support': 4096}}, 'eval_runtime': 7.4993, 'eval_samples_per_second': 546.184, 'eval_steps_per_second': 8.534, 'epoch': 0.46}\n"
     ]
    },
    {
     "name": "stderr",
     "output_type": "stream",
     "text": [
      "\n",
      " 12%|█▏        | 10000/86888 [1:41:49<9:21:08,  2.28it/s]"
     ]
    },
    {
     "name": "stdout",
     "output_type": "stream",
     "text": [
      "{'eval_loss': 0.5382239818572998, 'eval_macro_f1': 0.7711108669405669, 'eval_macro_precision': 0.7871137170759666, 'eval_macro_recall': 0.758862307953288, 'eval_accuracy': 0.808349609375, 'eval_report': {'NOR': {'precision': 0.6753246753246753, 'recall': 0.7086882453151618, 'f1-score': 0.6916043225270159, 'support': 587}, 'IRQ': {'precision': 0.8582554517133957, 'recall': 0.924496644295302, 'f1-score': 0.8901453957996768, 'support': 1788}, 'LEV': {'precision': 0.7905918057663126, 'recall': 0.7186206896551725, 'f1-score': 0.7528901734104047, 'support': 725}, 'EGY': {'precision': 0.806615776081425, 'recall': 0.6788008565310493, 'f1-score': 0.7372093023255814, 'support': 467}, 'GLF': {'precision': 0.8047808764940239, 'recall': 0.7637051039697542, 'f1-score': 0.7837051406401552, 'support': 529}, 'accuracy': 0.808349609375, 'macro avg': {'precision': 0.7871137170759666, 'recall': 0.758862307953288, 'f1-score': 0.7711108669405669, 'support': 4096}, 'weighted avg': {'precision': 0.8072690533093448, 'recall': 0.808349609375, 'f1-score': 0.8062143174610381, 'support': 4096}}, 'eval_runtime': 7.486, 'eval_samples_per_second': 547.157, 'eval_steps_per_second': 8.549, 'epoch': 0.46}\n"
     ]
    },
    {
     "name": "stderr",
     "output_type": "stream",
     "text": [
      "\n",
      " 12%|█▏        | 10000/86888 [1:41:57<9:21:08,  2.28it/s]"
     ]
    },
    {
     "name": "stdout",
     "output_type": "stream",
     "text": [
      "{'eval_loss': 0.5382239818572998, 'eval_macro_f1': 0.7711108669405669, 'eval_macro_precision': 0.7871137170759666, 'eval_macro_recall': 0.758862307953288, 'eval_accuracy': 0.808349609375, 'eval_report': {'NOR': {'precision': 0.6753246753246753, 'recall': 0.7086882453151618, 'f1-score': 0.6916043225270159, 'support': 587}, 'IRQ': {'precision': 0.8582554517133957, 'recall': 0.924496644295302, 'f1-score': 0.8901453957996768, 'support': 1788}, 'LEV': {'precision': 0.7905918057663126, 'recall': 0.7186206896551725, 'f1-score': 0.7528901734104047, 'support': 725}, 'EGY': {'precision': 0.806615776081425, 'recall': 0.6788008565310493, 'f1-score': 0.7372093023255814, 'support': 467}, 'GLF': {'precision': 0.8047808764940239, 'recall': 0.7637051039697542, 'f1-score': 0.7837051406401552, 'support': 529}, 'accuracy': 0.808349609375, 'macro avg': {'precision': 0.7871137170759666, 'recall': 0.758862307953288, 'f1-score': 0.7711108669405669, 'support': 4096}, 'weighted avg': {'precision': 0.8072690533093448, 'recall': 0.808349609375, 'f1-score': 0.8062143174610381, 'support': 4096}}, 'eval_runtime': 7.4869, 'eval_samples_per_second': 547.088, 'eval_steps_per_second': 8.548, 'epoch': 0.46}\n"
     ]
    },
    {
     "name": "stderr",
     "output_type": "stream",
     "text": [
      "\n",
      " 12%|█▏        | 10000/86888 [1:42:04<9:21:08,  2.28it/s]"
     ]
    },
    {
     "name": "stdout",
     "output_type": "stream",
     "text": [
      "{'eval_loss': 0.5382239818572998, 'eval_macro_f1': 0.7711108669405669, 'eval_macro_precision': 0.7871137170759666, 'eval_macro_recall': 0.758862307953288, 'eval_accuracy': 0.808349609375, 'eval_report': {'NOR': {'precision': 0.6753246753246753, 'recall': 0.7086882453151618, 'f1-score': 0.6916043225270159, 'support': 587}, 'IRQ': {'precision': 0.8582554517133957, 'recall': 0.924496644295302, 'f1-score': 0.8901453957996768, 'support': 1788}, 'LEV': {'precision': 0.7905918057663126, 'recall': 0.7186206896551725, 'f1-score': 0.7528901734104047, 'support': 725}, 'EGY': {'precision': 0.806615776081425, 'recall': 0.6788008565310493, 'f1-score': 0.7372093023255814, 'support': 467}, 'GLF': {'precision': 0.8047808764940239, 'recall': 0.7637051039697542, 'f1-score': 0.7837051406401552, 'support': 529}, 'accuracy': 0.808349609375, 'macro avg': {'precision': 0.7871137170759666, 'recall': 0.758862307953288, 'f1-score': 0.7711108669405669, 'support': 4096}, 'weighted avg': {'precision': 0.8072690533093448, 'recall': 0.808349609375, 'f1-score': 0.8062143174610381, 'support': 4096}}, 'eval_runtime': 7.4929, 'eval_samples_per_second': 546.652, 'eval_steps_per_second': 8.541, 'epoch': 0.46}\n"
     ]
    },
    {
     "name": "stderr",
     "output_type": "stream",
     "text": [
      "\n",
      " 12%|█▏        | 10000/86888 [1:42:12<9:21:08,  2.28it/s]"
     ]
    },
    {
     "name": "stdout",
     "output_type": "stream",
     "text": [
      "{'eval_loss': 0.5382239818572998, 'eval_macro_f1': 0.7711108669405669, 'eval_macro_precision': 0.7871137170759666, 'eval_macro_recall': 0.758862307953288, 'eval_accuracy': 0.808349609375, 'eval_report': {'NOR': {'precision': 0.6753246753246753, 'recall': 0.7086882453151618, 'f1-score': 0.6916043225270159, 'support': 587}, 'IRQ': {'precision': 0.8582554517133957, 'recall': 0.924496644295302, 'f1-score': 0.8901453957996768, 'support': 1788}, 'LEV': {'precision': 0.7905918057663126, 'recall': 0.7186206896551725, 'f1-score': 0.7528901734104047, 'support': 725}, 'EGY': {'precision': 0.806615776081425, 'recall': 0.6788008565310493, 'f1-score': 0.7372093023255814, 'support': 467}, 'GLF': {'precision': 0.8047808764940239, 'recall': 0.7637051039697542, 'f1-score': 0.7837051406401552, 'support': 529}, 'accuracy': 0.808349609375, 'macro avg': {'precision': 0.7871137170759666, 'recall': 0.758862307953288, 'f1-score': 0.7711108669405669, 'support': 4096}, 'weighted avg': {'precision': 0.8072690533093448, 'recall': 0.808349609375, 'f1-score': 0.8062143174610381, 'support': 4096}}, 'eval_runtime': 7.4795, 'eval_samples_per_second': 547.631, 'eval_steps_per_second': 8.557, 'epoch': 0.46}\n"
     ]
    },
    {
     "name": "stderr",
     "output_type": "stream",
     "text": [
      "\n",
      " 12%|█▏        | 10000/86888 [1:42:19<9:21:08,  2.28it/s]"
     ]
    },
    {
     "name": "stdout",
     "output_type": "stream",
     "text": [
      "{'eval_loss': 0.5382239818572998, 'eval_macro_f1': 0.7711108669405669, 'eval_macro_precision': 0.7871137170759666, 'eval_macro_recall': 0.758862307953288, 'eval_accuracy': 0.808349609375, 'eval_report': {'NOR': {'precision': 0.6753246753246753, 'recall': 0.7086882453151618, 'f1-score': 0.6916043225270159, 'support': 587}, 'IRQ': {'precision': 0.8582554517133957, 'recall': 0.924496644295302, 'f1-score': 0.8901453957996768, 'support': 1788}, 'LEV': {'precision': 0.7905918057663126, 'recall': 0.7186206896551725, 'f1-score': 0.7528901734104047, 'support': 725}, 'EGY': {'precision': 0.806615776081425, 'recall': 0.6788008565310493, 'f1-score': 0.7372093023255814, 'support': 467}, 'GLF': {'precision': 0.8047808764940239, 'recall': 0.7637051039697542, 'f1-score': 0.7837051406401552, 'support': 529}, 'accuracy': 0.808349609375, 'macro avg': {'precision': 0.7871137170759666, 'recall': 0.758862307953288, 'f1-score': 0.7711108669405669, 'support': 4096}, 'weighted avg': {'precision': 0.8072690533093448, 'recall': 0.808349609375, 'f1-score': 0.8062143174610381, 'support': 4096}}, 'eval_runtime': 7.4791, 'eval_samples_per_second': 547.661, 'eval_steps_per_second': 8.557, 'epoch': 0.46}\n"
     ]
    },
    {
     "name": "stderr",
     "output_type": "stream",
     "text": [
      "\n",
      " 12%|█▏        | 10000/86888 [1:42:27<9:21:08,  2.28it/s]"
     ]
    },
    {
     "name": "stdout",
     "output_type": "stream",
     "text": [
      "{'eval_loss': 0.5382239818572998, 'eval_macro_f1': 0.7711108669405669, 'eval_macro_precision': 0.7871137170759666, 'eval_macro_recall': 0.758862307953288, 'eval_accuracy': 0.808349609375, 'eval_report': {'NOR': {'precision': 0.6753246753246753, 'recall': 0.7086882453151618, 'f1-score': 0.6916043225270159, 'support': 587}, 'IRQ': {'precision': 0.8582554517133957, 'recall': 0.924496644295302, 'f1-score': 0.8901453957996768, 'support': 1788}, 'LEV': {'precision': 0.7905918057663126, 'recall': 0.7186206896551725, 'f1-score': 0.7528901734104047, 'support': 725}, 'EGY': {'precision': 0.806615776081425, 'recall': 0.6788008565310493, 'f1-score': 0.7372093023255814, 'support': 467}, 'GLF': {'precision': 0.8047808764940239, 'recall': 0.7637051039697542, 'f1-score': 0.7837051406401552, 'support': 529}, 'accuracy': 0.808349609375, 'macro avg': {'precision': 0.7871137170759666, 'recall': 0.758862307953288, 'f1-score': 0.7711108669405669, 'support': 4096}, 'weighted avg': {'precision': 0.8072690533093448, 'recall': 0.808349609375, 'f1-score': 0.8062143174610381, 'support': 4096}}, 'eval_runtime': 7.4861, 'eval_samples_per_second': 547.145, 'eval_steps_per_second': 8.549, 'epoch': 0.46}\n"
     ]
    },
    {
     "name": "stderr",
     "output_type": "stream",
     "text": [
      "\n",
      " 12%|█▏        | 10000/86888 [1:42:34<9:21:08,  2.28it/s]"
     ]
    },
    {
     "name": "stdout",
     "output_type": "stream",
     "text": [
      "{'eval_loss': 0.5382239818572998, 'eval_macro_f1': 0.7711108669405669, 'eval_macro_precision': 0.7871137170759666, 'eval_macro_recall': 0.758862307953288, 'eval_accuracy': 0.808349609375, 'eval_report': {'NOR': {'precision': 0.6753246753246753, 'recall': 0.7086882453151618, 'f1-score': 0.6916043225270159, 'support': 587}, 'IRQ': {'precision': 0.8582554517133957, 'recall': 0.924496644295302, 'f1-score': 0.8901453957996768, 'support': 1788}, 'LEV': {'precision': 0.7905918057663126, 'recall': 0.7186206896551725, 'f1-score': 0.7528901734104047, 'support': 725}, 'EGY': {'precision': 0.806615776081425, 'recall': 0.6788008565310493, 'f1-score': 0.7372093023255814, 'support': 467}, 'GLF': {'precision': 0.8047808764940239, 'recall': 0.7637051039697542, 'f1-score': 0.7837051406401552, 'support': 529}, 'accuracy': 0.808349609375, 'macro avg': {'precision': 0.7871137170759666, 'recall': 0.758862307953288, 'f1-score': 0.7711108669405669, 'support': 4096}, 'weighted avg': {'precision': 0.8072690533093448, 'recall': 0.808349609375, 'f1-score': 0.8062143174610381, 'support': 4096}}, 'eval_runtime': 7.499, 'eval_samples_per_second': 546.209, 'eval_steps_per_second': 8.535, 'epoch': 0.46}\n"
     ]
    },
    {
     "name": "stderr",
     "output_type": "stream",
     "text": [
      "\n",
      " 12%|█▏        | 10000/86888 [1:42:42<9:21:08,  2.28it/s]"
     ]
    },
    {
     "name": "stdout",
     "output_type": "stream",
     "text": [
      "{'eval_loss': 0.5382239818572998, 'eval_macro_f1': 0.7711108669405669, 'eval_macro_precision': 0.7871137170759666, 'eval_macro_recall': 0.758862307953288, 'eval_accuracy': 0.808349609375, 'eval_report': {'NOR': {'precision': 0.6753246753246753, 'recall': 0.7086882453151618, 'f1-score': 0.6916043225270159, 'support': 587}, 'IRQ': {'precision': 0.8582554517133957, 'recall': 0.924496644295302, 'f1-score': 0.8901453957996768, 'support': 1788}, 'LEV': {'precision': 0.7905918057663126, 'recall': 0.7186206896551725, 'f1-score': 0.7528901734104047, 'support': 725}, 'EGY': {'precision': 0.806615776081425, 'recall': 0.6788008565310493, 'f1-score': 0.7372093023255814, 'support': 467}, 'GLF': {'precision': 0.8047808764940239, 'recall': 0.7637051039697542, 'f1-score': 0.7837051406401552, 'support': 529}, 'accuracy': 0.808349609375, 'macro avg': {'precision': 0.7871137170759666, 'recall': 0.758862307953288, 'f1-score': 0.7711108669405669, 'support': 4096}, 'weighted avg': {'precision': 0.8072690533093448, 'recall': 0.808349609375, 'f1-score': 0.8062143174610381, 'support': 4096}}, 'eval_runtime': 7.4799, 'eval_samples_per_second': 547.604, 'eval_steps_per_second': 8.556, 'epoch': 0.46}\n"
     ]
    },
    {
     "name": "stderr",
     "output_type": "stream",
     "text": [
      "\n",
      " 12%|█▏        | 10000/86888 [1:42:49<9:21:08,  2.28it/s]"
     ]
    },
    {
     "name": "stdout",
     "output_type": "stream",
     "text": [
      "{'eval_loss': 0.5382239818572998, 'eval_macro_f1': 0.7711108669405669, 'eval_macro_precision': 0.7871137170759666, 'eval_macro_recall': 0.758862307953288, 'eval_accuracy': 0.808349609375, 'eval_report': {'NOR': {'precision': 0.6753246753246753, 'recall': 0.7086882453151618, 'f1-score': 0.6916043225270159, 'support': 587}, 'IRQ': {'precision': 0.8582554517133957, 'recall': 0.924496644295302, 'f1-score': 0.8901453957996768, 'support': 1788}, 'LEV': {'precision': 0.7905918057663126, 'recall': 0.7186206896551725, 'f1-score': 0.7528901734104047, 'support': 725}, 'EGY': {'precision': 0.806615776081425, 'recall': 0.6788008565310493, 'f1-score': 0.7372093023255814, 'support': 467}, 'GLF': {'precision': 0.8047808764940239, 'recall': 0.7637051039697542, 'f1-score': 0.7837051406401552, 'support': 529}, 'accuracy': 0.808349609375, 'macro avg': {'precision': 0.7871137170759666, 'recall': 0.758862307953288, 'f1-score': 0.7711108669405669, 'support': 4096}, 'weighted avg': {'precision': 0.8072690533093448, 'recall': 0.808349609375, 'f1-score': 0.8062143174610381, 'support': 4096}}, 'eval_runtime': 7.4978, 'eval_samples_per_second': 546.296, 'eval_steps_per_second': 8.536, 'epoch': 0.46}\n"
     ]
    },
    {
     "name": "stderr",
     "output_type": "stream",
     "text": [
      "\n",
      " 12%|█▏        | 10000/86888 [1:42:57<9:21:08,  2.28it/s]"
     ]
    },
    {
     "name": "stdout",
     "output_type": "stream",
     "text": [
      "{'eval_loss': 0.5382239818572998, 'eval_macro_f1': 0.7711108669405669, 'eval_macro_precision': 0.7871137170759666, 'eval_macro_recall': 0.758862307953288, 'eval_accuracy': 0.808349609375, 'eval_report': {'NOR': {'precision': 0.6753246753246753, 'recall': 0.7086882453151618, 'f1-score': 0.6916043225270159, 'support': 587}, 'IRQ': {'precision': 0.8582554517133957, 'recall': 0.924496644295302, 'f1-score': 0.8901453957996768, 'support': 1788}, 'LEV': {'precision': 0.7905918057663126, 'recall': 0.7186206896551725, 'f1-score': 0.7528901734104047, 'support': 725}, 'EGY': {'precision': 0.806615776081425, 'recall': 0.6788008565310493, 'f1-score': 0.7372093023255814, 'support': 467}, 'GLF': {'precision': 0.8047808764940239, 'recall': 0.7637051039697542, 'f1-score': 0.7837051406401552, 'support': 529}, 'accuracy': 0.808349609375, 'macro avg': {'precision': 0.7871137170759666, 'recall': 0.758862307953288, 'f1-score': 0.7711108669405669, 'support': 4096}, 'weighted avg': {'precision': 0.8072690533093448, 'recall': 0.808349609375, 'f1-score': 0.8062143174610381, 'support': 4096}}, 'eval_runtime': 7.4933, 'eval_samples_per_second': 546.62, 'eval_steps_per_second': 8.541, 'epoch': 0.46}\n"
     ]
    },
    {
     "name": "stderr",
     "output_type": "stream",
     "text": [
      "\n",
      " 12%|█▏        | 10000/86888 [1:43:04<9:21:08,  2.28it/s]"
     ]
    },
    {
     "name": "stdout",
     "output_type": "stream",
     "text": [
      "{'eval_loss': 0.5382239818572998, 'eval_macro_f1': 0.7711108669405669, 'eval_macro_precision': 0.7871137170759666, 'eval_macro_recall': 0.758862307953288, 'eval_accuracy': 0.808349609375, 'eval_report': {'NOR': {'precision': 0.6753246753246753, 'recall': 0.7086882453151618, 'f1-score': 0.6916043225270159, 'support': 587}, 'IRQ': {'precision': 0.8582554517133957, 'recall': 0.924496644295302, 'f1-score': 0.8901453957996768, 'support': 1788}, 'LEV': {'precision': 0.7905918057663126, 'recall': 0.7186206896551725, 'f1-score': 0.7528901734104047, 'support': 725}, 'EGY': {'precision': 0.806615776081425, 'recall': 0.6788008565310493, 'f1-score': 0.7372093023255814, 'support': 467}, 'GLF': {'precision': 0.8047808764940239, 'recall': 0.7637051039697542, 'f1-score': 0.7837051406401552, 'support': 529}, 'accuracy': 0.808349609375, 'macro avg': {'precision': 0.7871137170759666, 'recall': 0.758862307953288, 'f1-score': 0.7711108669405669, 'support': 4096}, 'weighted avg': {'precision': 0.8072690533093448, 'recall': 0.808349609375, 'f1-score': 0.8062143174610381, 'support': 4096}}, 'eval_runtime': 7.4895, 'eval_samples_per_second': 546.898, 'eval_steps_per_second': 8.545, 'epoch': 0.46}\n"
     ]
    },
    {
     "name": "stderr",
     "output_type": "stream",
     "text": [
      "\n",
      " 12%|█▏        | 10000/86888 [1:43:12<9:21:08,  2.28it/s]"
     ]
    },
    {
     "name": "stdout",
     "output_type": "stream",
     "text": [
      "{'eval_loss': 0.5382239818572998, 'eval_macro_f1': 0.7711108669405669, 'eval_macro_precision': 0.7871137170759666, 'eval_macro_recall': 0.758862307953288, 'eval_accuracy': 0.808349609375, 'eval_report': {'NOR': {'precision': 0.6753246753246753, 'recall': 0.7086882453151618, 'f1-score': 0.6916043225270159, 'support': 587}, 'IRQ': {'precision': 0.8582554517133957, 'recall': 0.924496644295302, 'f1-score': 0.8901453957996768, 'support': 1788}, 'LEV': {'precision': 0.7905918057663126, 'recall': 0.7186206896551725, 'f1-score': 0.7528901734104047, 'support': 725}, 'EGY': {'precision': 0.806615776081425, 'recall': 0.6788008565310493, 'f1-score': 0.7372093023255814, 'support': 467}, 'GLF': {'precision': 0.8047808764940239, 'recall': 0.7637051039697542, 'f1-score': 0.7837051406401552, 'support': 529}, 'accuracy': 0.808349609375, 'macro avg': {'precision': 0.7871137170759666, 'recall': 0.758862307953288, 'f1-score': 0.7711108669405669, 'support': 4096}, 'weighted avg': {'precision': 0.8072690533093448, 'recall': 0.808349609375, 'f1-score': 0.8062143174610381, 'support': 4096}}, 'eval_runtime': 7.4908, 'eval_samples_per_second': 546.805, 'eval_steps_per_second': 8.544, 'epoch': 0.46}\n"
     ]
    },
    {
     "name": "stderr",
     "output_type": "stream",
     "text": [
      "\n",
      " 12%|█▏        | 10000/86888 [1:43:19<9:21:08,  2.28it/s]"
     ]
    },
    {
     "name": "stdout",
     "output_type": "stream",
     "text": [
      "{'eval_loss': 0.5382239818572998, 'eval_macro_f1': 0.7711108669405669, 'eval_macro_precision': 0.7871137170759666, 'eval_macro_recall': 0.758862307953288, 'eval_accuracy': 0.808349609375, 'eval_report': {'NOR': {'precision': 0.6753246753246753, 'recall': 0.7086882453151618, 'f1-score': 0.6916043225270159, 'support': 587}, 'IRQ': {'precision': 0.8582554517133957, 'recall': 0.924496644295302, 'f1-score': 0.8901453957996768, 'support': 1788}, 'LEV': {'precision': 0.7905918057663126, 'recall': 0.7186206896551725, 'f1-score': 0.7528901734104047, 'support': 725}, 'EGY': {'precision': 0.806615776081425, 'recall': 0.6788008565310493, 'f1-score': 0.7372093023255814, 'support': 467}, 'GLF': {'precision': 0.8047808764940239, 'recall': 0.7637051039697542, 'f1-score': 0.7837051406401552, 'support': 529}, 'accuracy': 0.808349609375, 'macro avg': {'precision': 0.7871137170759666, 'recall': 0.758862307953288, 'f1-score': 0.7711108669405669, 'support': 4096}, 'weighted avg': {'precision': 0.8072690533093448, 'recall': 0.808349609375, 'f1-score': 0.8062143174610381, 'support': 4096}}, 'eval_runtime': 7.4874, 'eval_samples_per_second': 547.05, 'eval_steps_per_second': 8.548, 'epoch': 0.46}\n"
     ]
    },
    {
     "name": "stderr",
     "output_type": "stream",
     "text": [
      "\n",
      " 12%|█▏        | 10000/86888 [1:43:27<9:21:08,  2.28it/s]"
     ]
    },
    {
     "name": "stdout",
     "output_type": "stream",
     "text": [
      "{'eval_loss': 0.5382239818572998, 'eval_macro_f1': 0.7711108669405669, 'eval_macro_precision': 0.7871137170759666, 'eval_macro_recall': 0.758862307953288, 'eval_accuracy': 0.808349609375, 'eval_report': {'NOR': {'precision': 0.6753246753246753, 'recall': 0.7086882453151618, 'f1-score': 0.6916043225270159, 'support': 587}, 'IRQ': {'precision': 0.8582554517133957, 'recall': 0.924496644295302, 'f1-score': 0.8901453957996768, 'support': 1788}, 'LEV': {'precision': 0.7905918057663126, 'recall': 0.7186206896551725, 'f1-score': 0.7528901734104047, 'support': 725}, 'EGY': {'precision': 0.806615776081425, 'recall': 0.6788008565310493, 'f1-score': 0.7372093023255814, 'support': 467}, 'GLF': {'precision': 0.8047808764940239, 'recall': 0.7637051039697542, 'f1-score': 0.7837051406401552, 'support': 529}, 'accuracy': 0.808349609375, 'macro avg': {'precision': 0.7871137170759666, 'recall': 0.758862307953288, 'f1-score': 0.7711108669405669, 'support': 4096}, 'weighted avg': {'precision': 0.8072690533093448, 'recall': 0.808349609375, 'f1-score': 0.8062143174610381, 'support': 4096}}, 'eval_runtime': 7.4878, 'eval_samples_per_second': 547.024, 'eval_steps_per_second': 8.547, 'epoch': 0.46}\n"
     ]
    },
    {
     "name": "stderr",
     "output_type": "stream",
     "text": [
      "\n",
      " 12%|█▏        | 10000/86888 [1:43:34<9:21:08,  2.28it/s]"
     ]
    },
    {
     "name": "stdout",
     "output_type": "stream",
     "text": [
      "{'eval_loss': 0.5382239818572998, 'eval_macro_f1': 0.7711108669405669, 'eval_macro_precision': 0.7871137170759666, 'eval_macro_recall': 0.758862307953288, 'eval_accuracy': 0.808349609375, 'eval_report': {'NOR': {'precision': 0.6753246753246753, 'recall': 0.7086882453151618, 'f1-score': 0.6916043225270159, 'support': 587}, 'IRQ': {'precision': 0.8582554517133957, 'recall': 0.924496644295302, 'f1-score': 0.8901453957996768, 'support': 1788}, 'LEV': {'precision': 0.7905918057663126, 'recall': 0.7186206896551725, 'f1-score': 0.7528901734104047, 'support': 725}, 'EGY': {'precision': 0.806615776081425, 'recall': 0.6788008565310493, 'f1-score': 0.7372093023255814, 'support': 467}, 'GLF': {'precision': 0.8047808764940239, 'recall': 0.7637051039697542, 'f1-score': 0.7837051406401552, 'support': 529}, 'accuracy': 0.808349609375, 'macro avg': {'precision': 0.7871137170759666, 'recall': 0.758862307953288, 'f1-score': 0.7711108669405669, 'support': 4096}, 'weighted avg': {'precision': 0.8072690533093448, 'recall': 0.808349609375, 'f1-score': 0.8062143174610381, 'support': 4096}}, 'eval_runtime': 7.5171, 'eval_samples_per_second': 544.894, 'eval_steps_per_second': 8.514, 'epoch': 0.46}\n"
     ]
    },
    {
     "name": "stderr",
     "output_type": "stream",
     "text": [
      "\n",
      " 12%|█▏        | 10000/86888 [1:43:42<9:21:08,  2.28it/s]"
     ]
    },
    {
     "name": "stdout",
     "output_type": "stream",
     "text": [
      "{'eval_loss': 0.5382239818572998, 'eval_macro_f1': 0.7711108669405669, 'eval_macro_precision': 0.7871137170759666, 'eval_macro_recall': 0.758862307953288, 'eval_accuracy': 0.808349609375, 'eval_report': {'NOR': {'precision': 0.6753246753246753, 'recall': 0.7086882453151618, 'f1-score': 0.6916043225270159, 'support': 587}, 'IRQ': {'precision': 0.8582554517133957, 'recall': 0.924496644295302, 'f1-score': 0.8901453957996768, 'support': 1788}, 'LEV': {'precision': 0.7905918057663126, 'recall': 0.7186206896551725, 'f1-score': 0.7528901734104047, 'support': 725}, 'EGY': {'precision': 0.806615776081425, 'recall': 0.6788008565310493, 'f1-score': 0.7372093023255814, 'support': 467}, 'GLF': {'precision': 0.8047808764940239, 'recall': 0.7637051039697542, 'f1-score': 0.7837051406401552, 'support': 529}, 'accuracy': 0.808349609375, 'macro avg': {'precision': 0.7871137170759666, 'recall': 0.758862307953288, 'f1-score': 0.7711108669405669, 'support': 4096}, 'weighted avg': {'precision': 0.8072690533093448, 'recall': 0.808349609375, 'f1-score': 0.8062143174610381, 'support': 4096}}, 'eval_runtime': 7.4878, 'eval_samples_per_second': 547.025, 'eval_steps_per_second': 8.547, 'epoch': 0.46}\n"
     ]
    },
    {
     "name": "stderr",
     "output_type": "stream",
     "text": [
      "\n",
      " 12%|█▏        | 10000/86888 [1:43:49<9:21:08,  2.28it/s]"
     ]
    },
    {
     "name": "stdout",
     "output_type": "stream",
     "text": [
      "{'eval_loss': 0.5382239818572998, 'eval_macro_f1': 0.7711108669405669, 'eval_macro_precision': 0.7871137170759666, 'eval_macro_recall': 0.758862307953288, 'eval_accuracy': 0.808349609375, 'eval_report': {'NOR': {'precision': 0.6753246753246753, 'recall': 0.7086882453151618, 'f1-score': 0.6916043225270159, 'support': 587}, 'IRQ': {'precision': 0.8582554517133957, 'recall': 0.924496644295302, 'f1-score': 0.8901453957996768, 'support': 1788}, 'LEV': {'precision': 0.7905918057663126, 'recall': 0.7186206896551725, 'f1-score': 0.7528901734104047, 'support': 725}, 'EGY': {'precision': 0.806615776081425, 'recall': 0.6788008565310493, 'f1-score': 0.7372093023255814, 'support': 467}, 'GLF': {'precision': 0.8047808764940239, 'recall': 0.7637051039697542, 'f1-score': 0.7837051406401552, 'support': 529}, 'accuracy': 0.808349609375, 'macro avg': {'precision': 0.7871137170759666, 'recall': 0.758862307953288, 'f1-score': 0.7711108669405669, 'support': 4096}, 'weighted avg': {'precision': 0.8072690533093448, 'recall': 0.808349609375, 'f1-score': 0.8062143174610381, 'support': 4096}}, 'eval_runtime': 7.4939, 'eval_samples_per_second': 546.577, 'eval_steps_per_second': 8.54, 'epoch': 0.46}\n"
     ]
    },
    {
     "name": "stderr",
     "output_type": "stream",
     "text": [
      "\n",
      " 12%|█▏        | 10000/86888 [1:43:57<9:21:08,  2.28it/s]"
     ]
    },
    {
     "name": "stdout",
     "output_type": "stream",
     "text": [
      "{'eval_loss': 0.5382239818572998, 'eval_macro_f1': 0.7711108669405669, 'eval_macro_precision': 0.7871137170759666, 'eval_macro_recall': 0.758862307953288, 'eval_accuracy': 0.808349609375, 'eval_report': {'NOR': {'precision': 0.6753246753246753, 'recall': 0.7086882453151618, 'f1-score': 0.6916043225270159, 'support': 587}, 'IRQ': {'precision': 0.8582554517133957, 'recall': 0.924496644295302, 'f1-score': 0.8901453957996768, 'support': 1788}, 'LEV': {'precision': 0.7905918057663126, 'recall': 0.7186206896551725, 'f1-score': 0.7528901734104047, 'support': 725}, 'EGY': {'precision': 0.806615776081425, 'recall': 0.6788008565310493, 'f1-score': 0.7372093023255814, 'support': 467}, 'GLF': {'precision': 0.8047808764940239, 'recall': 0.7637051039697542, 'f1-score': 0.7837051406401552, 'support': 529}, 'accuracy': 0.808349609375, 'macro avg': {'precision': 0.7871137170759666, 'recall': 0.758862307953288, 'f1-score': 0.7711108669405669, 'support': 4096}, 'weighted avg': {'precision': 0.8072690533093448, 'recall': 0.808349609375, 'f1-score': 0.8062143174610381, 'support': 4096}}, 'eval_runtime': 7.4851, 'eval_samples_per_second': 547.223, 'eval_steps_per_second': 8.55, 'epoch': 0.46}\n"
     ]
    },
    {
     "name": "stderr",
     "output_type": "stream",
     "text": [
      "\n",
      " 12%|█▏        | 10000/86888 [1:44:04<9:21:08,  2.28it/s]"
     ]
    },
    {
     "name": "stdout",
     "output_type": "stream",
     "text": [
      "{'eval_loss': 0.5382239818572998, 'eval_macro_f1': 0.7711108669405669, 'eval_macro_precision': 0.7871137170759666, 'eval_macro_recall': 0.758862307953288, 'eval_accuracy': 0.808349609375, 'eval_report': {'NOR': {'precision': 0.6753246753246753, 'recall': 0.7086882453151618, 'f1-score': 0.6916043225270159, 'support': 587}, 'IRQ': {'precision': 0.8582554517133957, 'recall': 0.924496644295302, 'f1-score': 0.8901453957996768, 'support': 1788}, 'LEV': {'precision': 0.7905918057663126, 'recall': 0.7186206896551725, 'f1-score': 0.7528901734104047, 'support': 725}, 'EGY': {'precision': 0.806615776081425, 'recall': 0.6788008565310493, 'f1-score': 0.7372093023255814, 'support': 467}, 'GLF': {'precision': 0.8047808764940239, 'recall': 0.7637051039697542, 'f1-score': 0.7837051406401552, 'support': 529}, 'accuracy': 0.808349609375, 'macro avg': {'precision': 0.7871137170759666, 'recall': 0.758862307953288, 'f1-score': 0.7711108669405669, 'support': 4096}, 'weighted avg': {'precision': 0.8072690533093448, 'recall': 0.808349609375, 'f1-score': 0.8062143174610381, 'support': 4096}}, 'eval_runtime': 7.4918, 'eval_samples_per_second': 546.732, 'eval_steps_per_second': 8.543, 'epoch': 0.46}\n"
     ]
    },
    {
     "name": "stderr",
     "output_type": "stream",
     "text": [
      "\n",
      " 12%|█▏        | 10000/86888 [1:44:12<9:21:08,  2.28it/s]"
     ]
    },
    {
     "name": "stdout",
     "output_type": "stream",
     "text": [
      "{'eval_loss': 0.5382239818572998, 'eval_macro_f1': 0.7711108669405669, 'eval_macro_precision': 0.7871137170759666, 'eval_macro_recall': 0.758862307953288, 'eval_accuracy': 0.808349609375, 'eval_report': {'NOR': {'precision': 0.6753246753246753, 'recall': 0.7086882453151618, 'f1-score': 0.6916043225270159, 'support': 587}, 'IRQ': {'precision': 0.8582554517133957, 'recall': 0.924496644295302, 'f1-score': 0.8901453957996768, 'support': 1788}, 'LEV': {'precision': 0.7905918057663126, 'recall': 0.7186206896551725, 'f1-score': 0.7528901734104047, 'support': 725}, 'EGY': {'precision': 0.806615776081425, 'recall': 0.6788008565310493, 'f1-score': 0.7372093023255814, 'support': 467}, 'GLF': {'precision': 0.8047808764940239, 'recall': 0.7637051039697542, 'f1-score': 0.7837051406401552, 'support': 529}, 'accuracy': 0.808349609375, 'macro avg': {'precision': 0.7871137170759666, 'recall': 0.758862307953288, 'f1-score': 0.7711108669405669, 'support': 4096}, 'weighted avg': {'precision': 0.8072690533093448, 'recall': 0.808349609375, 'f1-score': 0.8062143174610381, 'support': 4096}}, 'eval_runtime': 7.4894, 'eval_samples_per_second': 546.905, 'eval_steps_per_second': 8.545, 'epoch': 0.46}\n"
     ]
    },
    {
     "name": "stderr",
     "output_type": "stream",
     "text": [
      "\n",
      " 12%|█▏        | 10000/86888 [1:44:19<9:21:08,  2.28it/s]"
     ]
    },
    {
     "name": "stdout",
     "output_type": "stream",
     "text": [
      "{'eval_loss': 0.5382239818572998, 'eval_macro_f1': 0.7711108669405669, 'eval_macro_precision': 0.7871137170759666, 'eval_macro_recall': 0.758862307953288, 'eval_accuracy': 0.808349609375, 'eval_report': {'NOR': {'precision': 0.6753246753246753, 'recall': 0.7086882453151618, 'f1-score': 0.6916043225270159, 'support': 587}, 'IRQ': {'precision': 0.8582554517133957, 'recall': 0.924496644295302, 'f1-score': 0.8901453957996768, 'support': 1788}, 'LEV': {'precision': 0.7905918057663126, 'recall': 0.7186206896551725, 'f1-score': 0.7528901734104047, 'support': 725}, 'EGY': {'precision': 0.806615776081425, 'recall': 0.6788008565310493, 'f1-score': 0.7372093023255814, 'support': 467}, 'GLF': {'precision': 0.8047808764940239, 'recall': 0.7637051039697542, 'f1-score': 0.7837051406401552, 'support': 529}, 'accuracy': 0.808349609375, 'macro avg': {'precision': 0.7871137170759666, 'recall': 0.758862307953288, 'f1-score': 0.7711108669405669, 'support': 4096}, 'weighted avg': {'precision': 0.8072690533093448, 'recall': 0.808349609375, 'f1-score': 0.8062143174610381, 'support': 4096}}, 'eval_runtime': 7.4843, 'eval_samples_per_second': 547.283, 'eval_steps_per_second': 8.551, 'epoch': 0.46}\n"
     ]
    },
    {
     "name": "stderr",
     "output_type": "stream",
     "text": [
      "\n",
      " 12%|█▏        | 10000/86888 [1:44:27<9:21:08,  2.28it/s]"
     ]
    },
    {
     "name": "stdout",
     "output_type": "stream",
     "text": [
      "{'eval_loss': 0.5382239818572998, 'eval_macro_f1': 0.7711108669405669, 'eval_macro_precision': 0.7871137170759666, 'eval_macro_recall': 0.758862307953288, 'eval_accuracy': 0.808349609375, 'eval_report': {'NOR': {'precision': 0.6753246753246753, 'recall': 0.7086882453151618, 'f1-score': 0.6916043225270159, 'support': 587}, 'IRQ': {'precision': 0.8582554517133957, 'recall': 0.924496644295302, 'f1-score': 0.8901453957996768, 'support': 1788}, 'LEV': {'precision': 0.7905918057663126, 'recall': 0.7186206896551725, 'f1-score': 0.7528901734104047, 'support': 725}, 'EGY': {'precision': 0.806615776081425, 'recall': 0.6788008565310493, 'f1-score': 0.7372093023255814, 'support': 467}, 'GLF': {'precision': 0.8047808764940239, 'recall': 0.7637051039697542, 'f1-score': 0.7837051406401552, 'support': 529}, 'accuracy': 0.808349609375, 'macro avg': {'precision': 0.7871137170759666, 'recall': 0.758862307953288, 'f1-score': 0.7711108669405669, 'support': 4096}, 'weighted avg': {'precision': 0.8072690533093448, 'recall': 0.808349609375, 'f1-score': 0.8062143174610381, 'support': 4096}}, 'eval_runtime': 7.5049, 'eval_samples_per_second': 545.774, 'eval_steps_per_second': 8.528, 'epoch': 0.46}\n"
     ]
    },
    {
     "name": "stderr",
     "output_type": "stream",
     "text": [
      "\n",
      " 12%|█▏        | 10000/86888 [1:44:34<9:21:08,  2.28it/s]"
     ]
    },
    {
     "name": "stdout",
     "output_type": "stream",
     "text": [
      "{'eval_loss': 0.5382239818572998, 'eval_macro_f1': 0.7711108669405669, 'eval_macro_precision': 0.7871137170759666, 'eval_macro_recall': 0.758862307953288, 'eval_accuracy': 0.808349609375, 'eval_report': {'NOR': {'precision': 0.6753246753246753, 'recall': 0.7086882453151618, 'f1-score': 0.6916043225270159, 'support': 587}, 'IRQ': {'precision': 0.8582554517133957, 'recall': 0.924496644295302, 'f1-score': 0.8901453957996768, 'support': 1788}, 'LEV': {'precision': 0.7905918057663126, 'recall': 0.7186206896551725, 'f1-score': 0.7528901734104047, 'support': 725}, 'EGY': {'precision': 0.806615776081425, 'recall': 0.6788008565310493, 'f1-score': 0.7372093023255814, 'support': 467}, 'GLF': {'precision': 0.8047808764940239, 'recall': 0.7637051039697542, 'f1-score': 0.7837051406401552, 'support': 529}, 'accuracy': 0.808349609375, 'macro avg': {'precision': 0.7871137170759666, 'recall': 0.758862307953288, 'f1-score': 0.7711108669405669, 'support': 4096}, 'weighted avg': {'precision': 0.8072690533093448, 'recall': 0.808349609375, 'f1-score': 0.8062143174610381, 'support': 4096}}, 'eval_runtime': 7.4892, 'eval_samples_per_second': 546.924, 'eval_steps_per_second': 8.546, 'epoch': 0.46}\n"
     ]
    },
    {
     "name": "stderr",
     "output_type": "stream",
     "text": [
      "\n",
      " 12%|█▏        | 10000/86888 [1:44:42<9:21:08,  2.28it/s]"
     ]
    },
    {
     "name": "stdout",
     "output_type": "stream",
     "text": [
      "{'eval_loss': 0.5382239818572998, 'eval_macro_f1': 0.7711108669405669, 'eval_macro_precision': 0.7871137170759666, 'eval_macro_recall': 0.758862307953288, 'eval_accuracy': 0.808349609375, 'eval_report': {'NOR': {'precision': 0.6753246753246753, 'recall': 0.7086882453151618, 'f1-score': 0.6916043225270159, 'support': 587}, 'IRQ': {'precision': 0.8582554517133957, 'recall': 0.924496644295302, 'f1-score': 0.8901453957996768, 'support': 1788}, 'LEV': {'precision': 0.7905918057663126, 'recall': 0.7186206896551725, 'f1-score': 0.7528901734104047, 'support': 725}, 'EGY': {'precision': 0.806615776081425, 'recall': 0.6788008565310493, 'f1-score': 0.7372093023255814, 'support': 467}, 'GLF': {'precision': 0.8047808764940239, 'recall': 0.7637051039697542, 'f1-score': 0.7837051406401552, 'support': 529}, 'accuracy': 0.808349609375, 'macro avg': {'precision': 0.7871137170759666, 'recall': 0.758862307953288, 'f1-score': 0.7711108669405669, 'support': 4096}, 'weighted avg': {'precision': 0.8072690533093448, 'recall': 0.808349609375, 'f1-score': 0.8062143174610381, 'support': 4096}}, 'eval_runtime': 7.4928, 'eval_samples_per_second': 546.659, 'eval_steps_per_second': 8.542, 'epoch': 0.46}\n"
     ]
    },
    {
     "name": "stderr",
     "output_type": "stream",
     "text": [
      "\n",
      " 12%|█▏        | 10000/86888 [1:44:49<9:21:08,  2.28it/s]"
     ]
    },
    {
     "name": "stdout",
     "output_type": "stream",
     "text": [
      "{'eval_loss': 0.5382239818572998, 'eval_macro_f1': 0.7711108669405669, 'eval_macro_precision': 0.7871137170759666, 'eval_macro_recall': 0.758862307953288, 'eval_accuracy': 0.808349609375, 'eval_report': {'NOR': {'precision': 0.6753246753246753, 'recall': 0.7086882453151618, 'f1-score': 0.6916043225270159, 'support': 587}, 'IRQ': {'precision': 0.8582554517133957, 'recall': 0.924496644295302, 'f1-score': 0.8901453957996768, 'support': 1788}, 'LEV': {'precision': 0.7905918057663126, 'recall': 0.7186206896551725, 'f1-score': 0.7528901734104047, 'support': 725}, 'EGY': {'precision': 0.806615776081425, 'recall': 0.6788008565310493, 'f1-score': 0.7372093023255814, 'support': 467}, 'GLF': {'precision': 0.8047808764940239, 'recall': 0.7637051039697542, 'f1-score': 0.7837051406401552, 'support': 529}, 'accuracy': 0.808349609375, 'macro avg': {'precision': 0.7871137170759666, 'recall': 0.758862307953288, 'f1-score': 0.7711108669405669, 'support': 4096}, 'weighted avg': {'precision': 0.8072690533093448, 'recall': 0.808349609375, 'f1-score': 0.8062143174610381, 'support': 4096}}, 'eval_runtime': 7.4865, 'eval_samples_per_second': 547.121, 'eval_steps_per_second': 8.549, 'epoch': 0.46}\n"
     ]
    },
    {
     "name": "stderr",
     "output_type": "stream",
     "text": [
      "\n",
      " 12%|█▏        | 10000/86888 [1:44:57<9:21:08,  2.28it/s]"
     ]
    },
    {
     "name": "stdout",
     "output_type": "stream",
     "text": [
      "{'eval_loss': 0.5382239818572998, 'eval_macro_f1': 0.7711108669405669, 'eval_macro_precision': 0.7871137170759666, 'eval_macro_recall': 0.758862307953288, 'eval_accuracy': 0.808349609375, 'eval_report': {'NOR': {'precision': 0.6753246753246753, 'recall': 0.7086882453151618, 'f1-score': 0.6916043225270159, 'support': 587}, 'IRQ': {'precision': 0.8582554517133957, 'recall': 0.924496644295302, 'f1-score': 0.8901453957996768, 'support': 1788}, 'LEV': {'precision': 0.7905918057663126, 'recall': 0.7186206896551725, 'f1-score': 0.7528901734104047, 'support': 725}, 'EGY': {'precision': 0.806615776081425, 'recall': 0.6788008565310493, 'f1-score': 0.7372093023255814, 'support': 467}, 'GLF': {'precision': 0.8047808764940239, 'recall': 0.7637051039697542, 'f1-score': 0.7837051406401552, 'support': 529}, 'accuracy': 0.808349609375, 'macro avg': {'precision': 0.7871137170759666, 'recall': 0.758862307953288, 'f1-score': 0.7711108669405669, 'support': 4096}, 'weighted avg': {'precision': 0.8072690533093448, 'recall': 0.808349609375, 'f1-score': 0.8062143174610381, 'support': 4096}}, 'eval_runtime': 7.4993, 'eval_samples_per_second': 546.181, 'eval_steps_per_second': 8.534, 'epoch': 0.46}\n"
     ]
    },
    {
     "name": "stderr",
     "output_type": "stream",
     "text": [
      "\n",
      " 12%|█▏        | 10000/86888 [1:45:04<9:21:08,  2.28it/s]"
     ]
    },
    {
     "name": "stdout",
     "output_type": "stream",
     "text": [
      "{'eval_loss': 0.5382239818572998, 'eval_macro_f1': 0.7711108669405669, 'eval_macro_precision': 0.7871137170759666, 'eval_macro_recall': 0.758862307953288, 'eval_accuracy': 0.808349609375, 'eval_report': {'NOR': {'precision': 0.6753246753246753, 'recall': 0.7086882453151618, 'f1-score': 0.6916043225270159, 'support': 587}, 'IRQ': {'precision': 0.8582554517133957, 'recall': 0.924496644295302, 'f1-score': 0.8901453957996768, 'support': 1788}, 'LEV': {'precision': 0.7905918057663126, 'recall': 0.7186206896551725, 'f1-score': 0.7528901734104047, 'support': 725}, 'EGY': {'precision': 0.806615776081425, 'recall': 0.6788008565310493, 'f1-score': 0.7372093023255814, 'support': 467}, 'GLF': {'precision': 0.8047808764940239, 'recall': 0.7637051039697542, 'f1-score': 0.7837051406401552, 'support': 529}, 'accuracy': 0.808349609375, 'macro avg': {'precision': 0.7871137170759666, 'recall': 0.758862307953288, 'f1-score': 0.7711108669405669, 'support': 4096}, 'weighted avg': {'precision': 0.8072690533093448, 'recall': 0.808349609375, 'f1-score': 0.8062143174610381, 'support': 4096}}, 'eval_runtime': 7.4926, 'eval_samples_per_second': 546.672, 'eval_steps_per_second': 8.542, 'epoch': 0.46}\n"
     ]
    },
    {
     "name": "stderr",
     "output_type": "stream",
     "text": [
      "\n",
      " 12%|█▏        | 10000/86888 [1:45:12<9:21:08,  2.28it/s]"
     ]
    },
    {
     "name": "stdout",
     "output_type": "stream",
     "text": [
      "{'eval_loss': 0.5382239818572998, 'eval_macro_f1': 0.7711108669405669, 'eval_macro_precision': 0.7871137170759666, 'eval_macro_recall': 0.758862307953288, 'eval_accuracy': 0.808349609375, 'eval_report': {'NOR': {'precision': 0.6753246753246753, 'recall': 0.7086882453151618, 'f1-score': 0.6916043225270159, 'support': 587}, 'IRQ': {'precision': 0.8582554517133957, 'recall': 0.924496644295302, 'f1-score': 0.8901453957996768, 'support': 1788}, 'LEV': {'precision': 0.7905918057663126, 'recall': 0.7186206896551725, 'f1-score': 0.7528901734104047, 'support': 725}, 'EGY': {'precision': 0.806615776081425, 'recall': 0.6788008565310493, 'f1-score': 0.7372093023255814, 'support': 467}, 'GLF': {'precision': 0.8047808764940239, 'recall': 0.7637051039697542, 'f1-score': 0.7837051406401552, 'support': 529}, 'accuracy': 0.808349609375, 'macro avg': {'precision': 0.7871137170759666, 'recall': 0.758862307953288, 'f1-score': 0.7711108669405669, 'support': 4096}, 'weighted avg': {'precision': 0.8072690533093448, 'recall': 0.808349609375, 'f1-score': 0.8062143174610381, 'support': 4096}}, 'eval_runtime': 7.4878, 'eval_samples_per_second': 547.022, 'eval_steps_per_second': 8.547, 'epoch': 0.46}\n"
     ]
    },
    {
     "name": "stderr",
     "output_type": "stream",
     "text": [
      "\n",
      " 12%|█▏        | 10000/86888 [1:45:19<9:21:08,  2.28it/s]"
     ]
    },
    {
     "name": "stdout",
     "output_type": "stream",
     "text": [
      "{'eval_loss': 0.5382239818572998, 'eval_macro_f1': 0.7711108669405669, 'eval_macro_precision': 0.7871137170759666, 'eval_macro_recall': 0.758862307953288, 'eval_accuracy': 0.808349609375, 'eval_report': {'NOR': {'precision': 0.6753246753246753, 'recall': 0.7086882453151618, 'f1-score': 0.6916043225270159, 'support': 587}, 'IRQ': {'precision': 0.8582554517133957, 'recall': 0.924496644295302, 'f1-score': 0.8901453957996768, 'support': 1788}, 'LEV': {'precision': 0.7905918057663126, 'recall': 0.7186206896551725, 'f1-score': 0.7528901734104047, 'support': 725}, 'EGY': {'precision': 0.806615776081425, 'recall': 0.6788008565310493, 'f1-score': 0.7372093023255814, 'support': 467}, 'GLF': {'precision': 0.8047808764940239, 'recall': 0.7637051039697542, 'f1-score': 0.7837051406401552, 'support': 529}, 'accuracy': 0.808349609375, 'macro avg': {'precision': 0.7871137170759666, 'recall': 0.758862307953288, 'f1-score': 0.7711108669405669, 'support': 4096}, 'weighted avg': {'precision': 0.8072690533093448, 'recall': 0.808349609375, 'f1-score': 0.8062143174610381, 'support': 4096}}, 'eval_runtime': 7.4954, 'eval_samples_per_second': 546.467, 'eval_steps_per_second': 8.539, 'epoch': 0.46}\n"
     ]
    },
    {
     "name": "stderr",
     "output_type": "stream",
     "text": [
      "\n",
      " 12%|█▏        | 10000/86888 [1:45:27<9:21:08,  2.28it/s]"
     ]
    },
    {
     "name": "stdout",
     "output_type": "stream",
     "text": [
      "{'eval_loss': 0.5382239818572998, 'eval_macro_f1': 0.7711108669405669, 'eval_macro_precision': 0.7871137170759666, 'eval_macro_recall': 0.758862307953288, 'eval_accuracy': 0.808349609375, 'eval_report': {'NOR': {'precision': 0.6753246753246753, 'recall': 0.7086882453151618, 'f1-score': 0.6916043225270159, 'support': 587}, 'IRQ': {'precision': 0.8582554517133957, 'recall': 0.924496644295302, 'f1-score': 0.8901453957996768, 'support': 1788}, 'LEV': {'precision': 0.7905918057663126, 'recall': 0.7186206896551725, 'f1-score': 0.7528901734104047, 'support': 725}, 'EGY': {'precision': 0.806615776081425, 'recall': 0.6788008565310493, 'f1-score': 0.7372093023255814, 'support': 467}, 'GLF': {'precision': 0.8047808764940239, 'recall': 0.7637051039697542, 'f1-score': 0.7837051406401552, 'support': 529}, 'accuracy': 0.808349609375, 'macro avg': {'precision': 0.7871137170759666, 'recall': 0.758862307953288, 'f1-score': 0.7711108669405669, 'support': 4096}, 'weighted avg': {'precision': 0.8072690533093448, 'recall': 0.808349609375, 'f1-score': 0.8062143174610381, 'support': 4096}}, 'eval_runtime': 7.4895, 'eval_samples_per_second': 546.899, 'eval_steps_per_second': 8.545, 'epoch': 0.46}\n"
     ]
    },
    {
     "name": "stderr",
     "output_type": "stream",
     "text": [
      "\n",
      " 12%|█▏        | 10000/86888 [1:45:34<9:21:08,  2.28it/s]"
     ]
    },
    {
     "name": "stdout",
     "output_type": "stream",
     "text": [
      "{'eval_loss': 0.5382239818572998, 'eval_macro_f1': 0.7711108669405669, 'eval_macro_precision': 0.7871137170759666, 'eval_macro_recall': 0.758862307953288, 'eval_accuracy': 0.808349609375, 'eval_report': {'NOR': {'precision': 0.6753246753246753, 'recall': 0.7086882453151618, 'f1-score': 0.6916043225270159, 'support': 587}, 'IRQ': {'precision': 0.8582554517133957, 'recall': 0.924496644295302, 'f1-score': 0.8901453957996768, 'support': 1788}, 'LEV': {'precision': 0.7905918057663126, 'recall': 0.7186206896551725, 'f1-score': 0.7528901734104047, 'support': 725}, 'EGY': {'precision': 0.806615776081425, 'recall': 0.6788008565310493, 'f1-score': 0.7372093023255814, 'support': 467}, 'GLF': {'precision': 0.8047808764940239, 'recall': 0.7637051039697542, 'f1-score': 0.7837051406401552, 'support': 529}, 'accuracy': 0.808349609375, 'macro avg': {'precision': 0.7871137170759666, 'recall': 0.758862307953288, 'f1-score': 0.7711108669405669, 'support': 4096}, 'weighted avg': {'precision': 0.8072690533093448, 'recall': 0.808349609375, 'f1-score': 0.8062143174610381, 'support': 4096}}, 'eval_runtime': 7.4876, 'eval_samples_per_second': 547.041, 'eval_steps_per_second': 8.548, 'epoch': 0.46}\n"
     ]
    },
    {
     "name": "stderr",
     "output_type": "stream",
     "text": [
      "\n",
      " 12%|█▏        | 10000/86888 [1:45:42<9:21:08,  2.28it/s]"
     ]
    },
    {
     "name": "stdout",
     "output_type": "stream",
     "text": [
      "{'eval_loss': 0.5382239818572998, 'eval_macro_f1': 0.7711108669405669, 'eval_macro_precision': 0.7871137170759666, 'eval_macro_recall': 0.758862307953288, 'eval_accuracy': 0.808349609375, 'eval_report': {'NOR': {'precision': 0.6753246753246753, 'recall': 0.7086882453151618, 'f1-score': 0.6916043225270159, 'support': 587}, 'IRQ': {'precision': 0.8582554517133957, 'recall': 0.924496644295302, 'f1-score': 0.8901453957996768, 'support': 1788}, 'LEV': {'precision': 0.7905918057663126, 'recall': 0.7186206896551725, 'f1-score': 0.7528901734104047, 'support': 725}, 'EGY': {'precision': 0.806615776081425, 'recall': 0.6788008565310493, 'f1-score': 0.7372093023255814, 'support': 467}, 'GLF': {'precision': 0.8047808764940239, 'recall': 0.7637051039697542, 'f1-score': 0.7837051406401552, 'support': 529}, 'accuracy': 0.808349609375, 'macro avg': {'precision': 0.7871137170759666, 'recall': 0.758862307953288, 'f1-score': 0.7711108669405669, 'support': 4096}, 'weighted avg': {'precision': 0.8072690533093448, 'recall': 0.808349609375, 'f1-score': 0.8062143174610381, 'support': 4096}}, 'eval_runtime': 7.4843, 'eval_samples_per_second': 547.282, 'eval_steps_per_second': 8.551, 'epoch': 0.46}\n"
     ]
    },
    {
     "name": "stderr",
     "output_type": "stream",
     "text": [
      "\n",
      " 12%|█▏        | 10000/86888 [1:45:49<9:21:08,  2.28it/s]"
     ]
    },
    {
     "name": "stdout",
     "output_type": "stream",
     "text": [
      "{'eval_loss': 0.5382239818572998, 'eval_macro_f1': 0.7711108669405669, 'eval_macro_precision': 0.7871137170759666, 'eval_macro_recall': 0.758862307953288, 'eval_accuracy': 0.808349609375, 'eval_report': {'NOR': {'precision': 0.6753246753246753, 'recall': 0.7086882453151618, 'f1-score': 0.6916043225270159, 'support': 587}, 'IRQ': {'precision': 0.8582554517133957, 'recall': 0.924496644295302, 'f1-score': 0.8901453957996768, 'support': 1788}, 'LEV': {'precision': 0.7905918057663126, 'recall': 0.7186206896551725, 'f1-score': 0.7528901734104047, 'support': 725}, 'EGY': {'precision': 0.806615776081425, 'recall': 0.6788008565310493, 'f1-score': 0.7372093023255814, 'support': 467}, 'GLF': {'precision': 0.8047808764940239, 'recall': 0.7637051039697542, 'f1-score': 0.7837051406401552, 'support': 529}, 'accuracy': 0.808349609375, 'macro avg': {'precision': 0.7871137170759666, 'recall': 0.758862307953288, 'f1-score': 0.7711108669405669, 'support': 4096}, 'weighted avg': {'precision': 0.8072690533093448, 'recall': 0.808349609375, 'f1-score': 0.8062143174610381, 'support': 4096}}, 'eval_runtime': 7.4859, 'eval_samples_per_second': 547.165, 'eval_steps_per_second': 8.549, 'epoch': 0.46}\n"
     ]
    },
    {
     "name": "stderr",
     "output_type": "stream",
     "text": [
      "\n",
      " 12%|█▏        | 10000/86888 [1:45:57<9:21:08,  2.28it/s]"
     ]
    },
    {
     "name": "stdout",
     "output_type": "stream",
     "text": [
      "{'eval_loss': 0.5382239818572998, 'eval_macro_f1': 0.7711108669405669, 'eval_macro_precision': 0.7871137170759666, 'eval_macro_recall': 0.758862307953288, 'eval_accuracy': 0.808349609375, 'eval_report': {'NOR': {'precision': 0.6753246753246753, 'recall': 0.7086882453151618, 'f1-score': 0.6916043225270159, 'support': 587}, 'IRQ': {'precision': 0.8582554517133957, 'recall': 0.924496644295302, 'f1-score': 0.8901453957996768, 'support': 1788}, 'LEV': {'precision': 0.7905918057663126, 'recall': 0.7186206896551725, 'f1-score': 0.7528901734104047, 'support': 725}, 'EGY': {'precision': 0.806615776081425, 'recall': 0.6788008565310493, 'f1-score': 0.7372093023255814, 'support': 467}, 'GLF': {'precision': 0.8047808764940239, 'recall': 0.7637051039697542, 'f1-score': 0.7837051406401552, 'support': 529}, 'accuracy': 0.808349609375, 'macro avg': {'precision': 0.7871137170759666, 'recall': 0.758862307953288, 'f1-score': 0.7711108669405669, 'support': 4096}, 'weighted avg': {'precision': 0.8072690533093448, 'recall': 0.808349609375, 'f1-score': 0.8062143174610381, 'support': 4096}}, 'eval_runtime': 7.5008, 'eval_samples_per_second': 546.078, 'eval_steps_per_second': 8.532, 'epoch': 0.46}\n"
     ]
    },
    {
     "name": "stderr",
     "output_type": "stream",
     "text": [
      "\n",
      " 12%|█▏        | 10000/86888 [1:46:04<9:21:08,  2.28it/s]"
     ]
    },
    {
     "name": "stdout",
     "output_type": "stream",
     "text": [
      "{'eval_loss': 0.5382239818572998, 'eval_macro_f1': 0.7711108669405669, 'eval_macro_precision': 0.7871137170759666, 'eval_macro_recall': 0.758862307953288, 'eval_accuracy': 0.808349609375, 'eval_report': {'NOR': {'precision': 0.6753246753246753, 'recall': 0.7086882453151618, 'f1-score': 0.6916043225270159, 'support': 587}, 'IRQ': {'precision': 0.8582554517133957, 'recall': 0.924496644295302, 'f1-score': 0.8901453957996768, 'support': 1788}, 'LEV': {'precision': 0.7905918057663126, 'recall': 0.7186206896551725, 'f1-score': 0.7528901734104047, 'support': 725}, 'EGY': {'precision': 0.806615776081425, 'recall': 0.6788008565310493, 'f1-score': 0.7372093023255814, 'support': 467}, 'GLF': {'precision': 0.8047808764940239, 'recall': 0.7637051039697542, 'f1-score': 0.7837051406401552, 'support': 529}, 'accuracy': 0.808349609375, 'macro avg': {'precision': 0.7871137170759666, 'recall': 0.758862307953288, 'f1-score': 0.7711108669405669, 'support': 4096}, 'weighted avg': {'precision': 0.8072690533093448, 'recall': 0.808349609375, 'f1-score': 0.8062143174610381, 'support': 4096}}, 'eval_runtime': 7.4814, 'eval_samples_per_second': 547.49, 'eval_steps_per_second': 8.555, 'epoch': 0.46}\n"
     ]
    },
    {
     "name": "stderr",
     "output_type": "stream",
     "text": [
      "\n",
      " 12%|█▏        | 10000/86888 [1:46:12<9:21:08,  2.28it/s]"
     ]
    },
    {
     "name": "stdout",
     "output_type": "stream",
     "text": [
      "{'eval_loss': 0.5382239818572998, 'eval_macro_f1': 0.7711108669405669, 'eval_macro_precision': 0.7871137170759666, 'eval_macro_recall': 0.758862307953288, 'eval_accuracy': 0.808349609375, 'eval_report': {'NOR': {'precision': 0.6753246753246753, 'recall': 0.7086882453151618, 'f1-score': 0.6916043225270159, 'support': 587}, 'IRQ': {'precision': 0.8582554517133957, 'recall': 0.924496644295302, 'f1-score': 0.8901453957996768, 'support': 1788}, 'LEV': {'precision': 0.7905918057663126, 'recall': 0.7186206896551725, 'f1-score': 0.7528901734104047, 'support': 725}, 'EGY': {'precision': 0.806615776081425, 'recall': 0.6788008565310493, 'f1-score': 0.7372093023255814, 'support': 467}, 'GLF': {'precision': 0.8047808764940239, 'recall': 0.7637051039697542, 'f1-score': 0.7837051406401552, 'support': 529}, 'accuracy': 0.808349609375, 'macro avg': {'precision': 0.7871137170759666, 'recall': 0.758862307953288, 'f1-score': 0.7711108669405669, 'support': 4096}, 'weighted avg': {'precision': 0.8072690533093448, 'recall': 0.808349609375, 'f1-score': 0.8062143174610381, 'support': 4096}}, 'eval_runtime': 7.5043, 'eval_samples_per_second': 545.818, 'eval_steps_per_second': 8.528, 'epoch': 0.46}\n"
     ]
    },
    {
     "name": "stderr",
     "output_type": "stream",
     "text": [
      "\n",
      " 12%|█▏        | 10000/86888 [1:46:19<9:21:08,  2.28it/s]"
     ]
    },
    {
     "name": "stdout",
     "output_type": "stream",
     "text": [
      "{'eval_loss': 0.5382239818572998, 'eval_macro_f1': 0.7711108669405669, 'eval_macro_precision': 0.7871137170759666, 'eval_macro_recall': 0.758862307953288, 'eval_accuracy': 0.808349609375, 'eval_report': {'NOR': {'precision': 0.6753246753246753, 'recall': 0.7086882453151618, 'f1-score': 0.6916043225270159, 'support': 587}, 'IRQ': {'precision': 0.8582554517133957, 'recall': 0.924496644295302, 'f1-score': 0.8901453957996768, 'support': 1788}, 'LEV': {'precision': 0.7905918057663126, 'recall': 0.7186206896551725, 'f1-score': 0.7528901734104047, 'support': 725}, 'EGY': {'precision': 0.806615776081425, 'recall': 0.6788008565310493, 'f1-score': 0.7372093023255814, 'support': 467}, 'GLF': {'precision': 0.8047808764940239, 'recall': 0.7637051039697542, 'f1-score': 0.7837051406401552, 'support': 529}, 'accuracy': 0.808349609375, 'macro avg': {'precision': 0.7871137170759666, 'recall': 0.758862307953288, 'f1-score': 0.7711108669405669, 'support': 4096}, 'weighted avg': {'precision': 0.8072690533093448, 'recall': 0.808349609375, 'f1-score': 0.8062143174610381, 'support': 4096}}, 'eval_runtime': 7.4906, 'eval_samples_per_second': 546.817, 'eval_steps_per_second': 8.544, 'epoch': 0.46}\n"
     ]
    },
    {
     "name": "stderr",
     "output_type": "stream",
     "text": [
      "\n",
      " 12%|█▏        | 10000/86888 [1:46:27<9:21:08,  2.28it/s]"
     ]
    },
    {
     "name": "stdout",
     "output_type": "stream",
     "text": [
      "{'eval_loss': 0.5382239818572998, 'eval_macro_f1': 0.7711108669405669, 'eval_macro_precision': 0.7871137170759666, 'eval_macro_recall': 0.758862307953288, 'eval_accuracy': 0.808349609375, 'eval_report': {'NOR': {'precision': 0.6753246753246753, 'recall': 0.7086882453151618, 'f1-score': 0.6916043225270159, 'support': 587}, 'IRQ': {'precision': 0.8582554517133957, 'recall': 0.924496644295302, 'f1-score': 0.8901453957996768, 'support': 1788}, 'LEV': {'precision': 0.7905918057663126, 'recall': 0.7186206896551725, 'f1-score': 0.7528901734104047, 'support': 725}, 'EGY': {'precision': 0.806615776081425, 'recall': 0.6788008565310493, 'f1-score': 0.7372093023255814, 'support': 467}, 'GLF': {'precision': 0.8047808764940239, 'recall': 0.7637051039697542, 'f1-score': 0.7837051406401552, 'support': 529}, 'accuracy': 0.808349609375, 'macro avg': {'precision': 0.7871137170759666, 'recall': 0.758862307953288, 'f1-score': 0.7711108669405669, 'support': 4096}, 'weighted avg': {'precision': 0.8072690533093448, 'recall': 0.808349609375, 'f1-score': 0.8062143174610381, 'support': 4096}}, 'eval_runtime': 7.5064, 'eval_samples_per_second': 545.67, 'eval_steps_per_second': 8.526, 'epoch': 0.46}\n"
     ]
    },
    {
     "name": "stderr",
     "output_type": "stream",
     "text": [
      "\n",
      " 12%|█▏        | 10000/86888 [1:46:34<9:21:08,  2.28it/s]"
     ]
    },
    {
     "name": "stdout",
     "output_type": "stream",
     "text": [
      "{'eval_loss': 0.5382239818572998, 'eval_macro_f1': 0.7711108669405669, 'eval_macro_precision': 0.7871137170759666, 'eval_macro_recall': 0.758862307953288, 'eval_accuracy': 0.808349609375, 'eval_report': {'NOR': {'precision': 0.6753246753246753, 'recall': 0.7086882453151618, 'f1-score': 0.6916043225270159, 'support': 587}, 'IRQ': {'precision': 0.8582554517133957, 'recall': 0.924496644295302, 'f1-score': 0.8901453957996768, 'support': 1788}, 'LEV': {'precision': 0.7905918057663126, 'recall': 0.7186206896551725, 'f1-score': 0.7528901734104047, 'support': 725}, 'EGY': {'precision': 0.806615776081425, 'recall': 0.6788008565310493, 'f1-score': 0.7372093023255814, 'support': 467}, 'GLF': {'precision': 0.8047808764940239, 'recall': 0.7637051039697542, 'f1-score': 0.7837051406401552, 'support': 529}, 'accuracy': 0.808349609375, 'macro avg': {'precision': 0.7871137170759666, 'recall': 0.758862307953288, 'f1-score': 0.7711108669405669, 'support': 4096}, 'weighted avg': {'precision': 0.8072690533093448, 'recall': 0.808349609375, 'f1-score': 0.8062143174610381, 'support': 4096}}, 'eval_runtime': 7.497, 'eval_samples_per_second': 546.35, 'eval_steps_per_second': 8.537, 'epoch': 0.46}\n"
     ]
    },
    {
     "name": "stderr",
     "output_type": "stream",
     "text": [
      "\n",
      " 12%|█▏        | 10000/86888 [1:46:42<9:21:08,  2.28it/s]"
     ]
    },
    {
     "name": "stdout",
     "output_type": "stream",
     "text": [
      "{'eval_loss': 0.5382239818572998, 'eval_macro_f1': 0.7711108669405669, 'eval_macro_precision': 0.7871137170759666, 'eval_macro_recall': 0.758862307953288, 'eval_accuracy': 0.808349609375, 'eval_report': {'NOR': {'precision': 0.6753246753246753, 'recall': 0.7086882453151618, 'f1-score': 0.6916043225270159, 'support': 587}, 'IRQ': {'precision': 0.8582554517133957, 'recall': 0.924496644295302, 'f1-score': 0.8901453957996768, 'support': 1788}, 'LEV': {'precision': 0.7905918057663126, 'recall': 0.7186206896551725, 'f1-score': 0.7528901734104047, 'support': 725}, 'EGY': {'precision': 0.806615776081425, 'recall': 0.6788008565310493, 'f1-score': 0.7372093023255814, 'support': 467}, 'GLF': {'precision': 0.8047808764940239, 'recall': 0.7637051039697542, 'f1-score': 0.7837051406401552, 'support': 529}, 'accuracy': 0.808349609375, 'macro avg': {'precision': 0.7871137170759666, 'recall': 0.758862307953288, 'f1-score': 0.7711108669405669, 'support': 4096}, 'weighted avg': {'precision': 0.8072690533093448, 'recall': 0.808349609375, 'f1-score': 0.8062143174610381, 'support': 4096}}, 'eval_runtime': 7.485, 'eval_samples_per_second': 547.226, 'eval_steps_per_second': 8.55, 'epoch': 0.46}\n"
     ]
    },
    {
     "name": "stderr",
     "output_type": "stream",
     "text": [
      "\n",
      " 12%|█▏        | 10000/86888 [1:46:49<9:21:08,  2.28it/s]"
     ]
    },
    {
     "name": "stdout",
     "output_type": "stream",
     "text": [
      "{'eval_loss': 0.5382239818572998, 'eval_macro_f1': 0.7711108669405669, 'eval_macro_precision': 0.7871137170759666, 'eval_macro_recall': 0.758862307953288, 'eval_accuracy': 0.808349609375, 'eval_report': {'NOR': {'precision': 0.6753246753246753, 'recall': 0.7086882453151618, 'f1-score': 0.6916043225270159, 'support': 587}, 'IRQ': {'precision': 0.8582554517133957, 'recall': 0.924496644295302, 'f1-score': 0.8901453957996768, 'support': 1788}, 'LEV': {'precision': 0.7905918057663126, 'recall': 0.7186206896551725, 'f1-score': 0.7528901734104047, 'support': 725}, 'EGY': {'precision': 0.806615776081425, 'recall': 0.6788008565310493, 'f1-score': 0.7372093023255814, 'support': 467}, 'GLF': {'precision': 0.8047808764940239, 'recall': 0.7637051039697542, 'f1-score': 0.7837051406401552, 'support': 529}, 'accuracy': 0.808349609375, 'macro avg': {'precision': 0.7871137170759666, 'recall': 0.758862307953288, 'f1-score': 0.7711108669405669, 'support': 4096}, 'weighted avg': {'precision': 0.8072690533093448, 'recall': 0.808349609375, 'f1-score': 0.8062143174610381, 'support': 4096}}, 'eval_runtime': 7.492, 'eval_samples_per_second': 546.716, 'eval_steps_per_second': 8.542, 'epoch': 0.46}\n"
     ]
    },
    {
     "name": "stderr",
     "output_type": "stream",
     "text": [
      "\n",
      " 12%|█▏        | 10000/86888 [1:46:57<9:21:08,  2.28it/s]"
     ]
    },
    {
     "name": "stdout",
     "output_type": "stream",
     "text": [
      "{'eval_loss': 0.5382239818572998, 'eval_macro_f1': 0.7711108669405669, 'eval_macro_precision': 0.7871137170759666, 'eval_macro_recall': 0.758862307953288, 'eval_accuracy': 0.808349609375, 'eval_report': {'NOR': {'precision': 0.6753246753246753, 'recall': 0.7086882453151618, 'f1-score': 0.6916043225270159, 'support': 587}, 'IRQ': {'precision': 0.8582554517133957, 'recall': 0.924496644295302, 'f1-score': 0.8901453957996768, 'support': 1788}, 'LEV': {'precision': 0.7905918057663126, 'recall': 0.7186206896551725, 'f1-score': 0.7528901734104047, 'support': 725}, 'EGY': {'precision': 0.806615776081425, 'recall': 0.6788008565310493, 'f1-score': 0.7372093023255814, 'support': 467}, 'GLF': {'precision': 0.8047808764940239, 'recall': 0.7637051039697542, 'f1-score': 0.7837051406401552, 'support': 529}, 'accuracy': 0.808349609375, 'macro avg': {'precision': 0.7871137170759666, 'recall': 0.758862307953288, 'f1-score': 0.7711108669405669, 'support': 4096}, 'weighted avg': {'precision': 0.8072690533093448, 'recall': 0.808349609375, 'f1-score': 0.8062143174610381, 'support': 4096}}, 'eval_runtime': 7.4871, 'eval_samples_per_second': 547.076, 'eval_steps_per_second': 8.548, 'epoch': 0.46}\n"
     ]
    },
    {
     "name": "stderr",
     "output_type": "stream",
     "text": [
      "\n",
      " 12%|█▏        | 10000/86888 [1:47:04<9:21:08,  2.28it/s]"
     ]
    },
    {
     "name": "stdout",
     "output_type": "stream",
     "text": [
      "{'eval_loss': 0.5382239818572998, 'eval_macro_f1': 0.7711108669405669, 'eval_macro_precision': 0.7871137170759666, 'eval_macro_recall': 0.758862307953288, 'eval_accuracy': 0.808349609375, 'eval_report': {'NOR': {'precision': 0.6753246753246753, 'recall': 0.7086882453151618, 'f1-score': 0.6916043225270159, 'support': 587}, 'IRQ': {'precision': 0.8582554517133957, 'recall': 0.924496644295302, 'f1-score': 0.8901453957996768, 'support': 1788}, 'LEV': {'precision': 0.7905918057663126, 'recall': 0.7186206896551725, 'f1-score': 0.7528901734104047, 'support': 725}, 'EGY': {'precision': 0.806615776081425, 'recall': 0.6788008565310493, 'f1-score': 0.7372093023255814, 'support': 467}, 'GLF': {'precision': 0.8047808764940239, 'recall': 0.7637051039697542, 'f1-score': 0.7837051406401552, 'support': 529}, 'accuracy': 0.808349609375, 'macro avg': {'precision': 0.7871137170759666, 'recall': 0.758862307953288, 'f1-score': 0.7711108669405669, 'support': 4096}, 'weighted avg': {'precision': 0.8072690533093448, 'recall': 0.808349609375, 'f1-score': 0.8062143174610381, 'support': 4096}}, 'eval_runtime': 7.4975, 'eval_samples_per_second': 546.316, 'eval_steps_per_second': 8.536, 'epoch': 0.46}\n"
     ]
    },
    {
     "name": "stderr",
     "output_type": "stream",
     "text": [
      "\n",
      " 12%|█▏        | 10000/86888 [1:47:12<9:21:08,  2.28it/s]"
     ]
    },
    {
     "name": "stdout",
     "output_type": "stream",
     "text": [
      "{'eval_loss': 0.5382239818572998, 'eval_macro_f1': 0.7711108669405669, 'eval_macro_precision': 0.7871137170759666, 'eval_macro_recall': 0.758862307953288, 'eval_accuracy': 0.808349609375, 'eval_report': {'NOR': {'precision': 0.6753246753246753, 'recall': 0.7086882453151618, 'f1-score': 0.6916043225270159, 'support': 587}, 'IRQ': {'precision': 0.8582554517133957, 'recall': 0.924496644295302, 'f1-score': 0.8901453957996768, 'support': 1788}, 'LEV': {'precision': 0.7905918057663126, 'recall': 0.7186206896551725, 'f1-score': 0.7528901734104047, 'support': 725}, 'EGY': {'precision': 0.806615776081425, 'recall': 0.6788008565310493, 'f1-score': 0.7372093023255814, 'support': 467}, 'GLF': {'precision': 0.8047808764940239, 'recall': 0.7637051039697542, 'f1-score': 0.7837051406401552, 'support': 529}, 'accuracy': 0.808349609375, 'macro avg': {'precision': 0.7871137170759666, 'recall': 0.758862307953288, 'f1-score': 0.7711108669405669, 'support': 4096}, 'weighted avg': {'precision': 0.8072690533093448, 'recall': 0.808349609375, 'f1-score': 0.8062143174610381, 'support': 4096}}, 'eval_runtime': 7.4823, 'eval_samples_per_second': 547.423, 'eval_steps_per_second': 8.553, 'epoch': 0.46}\n"
     ]
    },
    {
     "name": "stderr",
     "output_type": "stream",
     "text": [
      "\n",
      " 12%|█▏        | 10000/86888 [1:47:19<9:21:08,  2.28it/s]"
     ]
    },
    {
     "name": "stdout",
     "output_type": "stream",
     "text": [
      "{'eval_loss': 0.5382239818572998, 'eval_macro_f1': 0.7711108669405669, 'eval_macro_precision': 0.7871137170759666, 'eval_macro_recall': 0.758862307953288, 'eval_accuracy': 0.808349609375, 'eval_report': {'NOR': {'precision': 0.6753246753246753, 'recall': 0.7086882453151618, 'f1-score': 0.6916043225270159, 'support': 587}, 'IRQ': {'precision': 0.8582554517133957, 'recall': 0.924496644295302, 'f1-score': 0.8901453957996768, 'support': 1788}, 'LEV': {'precision': 0.7905918057663126, 'recall': 0.7186206896551725, 'f1-score': 0.7528901734104047, 'support': 725}, 'EGY': {'precision': 0.806615776081425, 'recall': 0.6788008565310493, 'f1-score': 0.7372093023255814, 'support': 467}, 'GLF': {'precision': 0.8047808764940239, 'recall': 0.7637051039697542, 'f1-score': 0.7837051406401552, 'support': 529}, 'accuracy': 0.808349609375, 'macro avg': {'precision': 0.7871137170759666, 'recall': 0.758862307953288, 'f1-score': 0.7711108669405669, 'support': 4096}, 'weighted avg': {'precision': 0.8072690533093448, 'recall': 0.808349609375, 'f1-score': 0.8062143174610381, 'support': 4096}}, 'eval_runtime': 7.4885, 'eval_samples_per_second': 546.975, 'eval_steps_per_second': 8.546, 'epoch': 0.46}\n"
     ]
    },
    {
     "name": "stderr",
     "output_type": "stream",
     "text": [
      "\n",
      " 12%|█▏        | 10000/86888 [1:47:27<9:21:08,  2.28it/s]"
     ]
    },
    {
     "name": "stdout",
     "output_type": "stream",
     "text": [
      "{'eval_loss': 0.5382239818572998, 'eval_macro_f1': 0.7711108669405669, 'eval_macro_precision': 0.7871137170759666, 'eval_macro_recall': 0.758862307953288, 'eval_accuracy': 0.808349609375, 'eval_report': {'NOR': {'precision': 0.6753246753246753, 'recall': 0.7086882453151618, 'f1-score': 0.6916043225270159, 'support': 587}, 'IRQ': {'precision': 0.8582554517133957, 'recall': 0.924496644295302, 'f1-score': 0.8901453957996768, 'support': 1788}, 'LEV': {'precision': 0.7905918057663126, 'recall': 0.7186206896551725, 'f1-score': 0.7528901734104047, 'support': 725}, 'EGY': {'precision': 0.806615776081425, 'recall': 0.6788008565310493, 'f1-score': 0.7372093023255814, 'support': 467}, 'GLF': {'precision': 0.8047808764940239, 'recall': 0.7637051039697542, 'f1-score': 0.7837051406401552, 'support': 529}, 'accuracy': 0.808349609375, 'macro avg': {'precision': 0.7871137170759666, 'recall': 0.758862307953288, 'f1-score': 0.7711108669405669, 'support': 4096}, 'weighted avg': {'precision': 0.8072690533093448, 'recall': 0.808349609375, 'f1-score': 0.8062143174610381, 'support': 4096}}, 'eval_runtime': 7.5005, 'eval_samples_per_second': 546.1, 'eval_steps_per_second': 8.533, 'epoch': 0.46}\n"
     ]
    },
    {
     "name": "stderr",
     "output_type": "stream",
     "text": [
      "\n",
      " 12%|█▏        | 10000/86888 [1:47:34<9:21:08,  2.28it/s]"
     ]
    },
    {
     "name": "stdout",
     "output_type": "stream",
     "text": [
      "{'eval_loss': 0.5382239818572998, 'eval_macro_f1': 0.7711108669405669, 'eval_macro_precision': 0.7871137170759666, 'eval_macro_recall': 0.758862307953288, 'eval_accuracy': 0.808349609375, 'eval_report': {'NOR': {'precision': 0.6753246753246753, 'recall': 0.7086882453151618, 'f1-score': 0.6916043225270159, 'support': 587}, 'IRQ': {'precision': 0.8582554517133957, 'recall': 0.924496644295302, 'f1-score': 0.8901453957996768, 'support': 1788}, 'LEV': {'precision': 0.7905918057663126, 'recall': 0.7186206896551725, 'f1-score': 0.7528901734104047, 'support': 725}, 'EGY': {'precision': 0.806615776081425, 'recall': 0.6788008565310493, 'f1-score': 0.7372093023255814, 'support': 467}, 'GLF': {'precision': 0.8047808764940239, 'recall': 0.7637051039697542, 'f1-score': 0.7837051406401552, 'support': 529}, 'accuracy': 0.808349609375, 'macro avg': {'precision': 0.7871137170759666, 'recall': 0.758862307953288, 'f1-score': 0.7711108669405669, 'support': 4096}, 'weighted avg': {'precision': 0.8072690533093448, 'recall': 0.808349609375, 'f1-score': 0.8062143174610381, 'support': 4096}}, 'eval_runtime': 7.4884, 'eval_samples_per_second': 546.976, 'eval_steps_per_second': 8.547, 'epoch': 0.46}\n"
     ]
    },
    {
     "name": "stderr",
     "output_type": "stream",
     "text": [
      "\n",
      " 12%|█▏        | 10000/86888 [1:47:42<9:21:08,  2.28it/s]"
     ]
    },
    {
     "name": "stdout",
     "output_type": "stream",
     "text": [
      "{'eval_loss': 0.5382239818572998, 'eval_macro_f1': 0.7711108669405669, 'eval_macro_precision': 0.7871137170759666, 'eval_macro_recall': 0.758862307953288, 'eval_accuracy': 0.808349609375, 'eval_report': {'NOR': {'precision': 0.6753246753246753, 'recall': 0.7086882453151618, 'f1-score': 0.6916043225270159, 'support': 587}, 'IRQ': {'precision': 0.8582554517133957, 'recall': 0.924496644295302, 'f1-score': 0.8901453957996768, 'support': 1788}, 'LEV': {'precision': 0.7905918057663126, 'recall': 0.7186206896551725, 'f1-score': 0.7528901734104047, 'support': 725}, 'EGY': {'precision': 0.806615776081425, 'recall': 0.6788008565310493, 'f1-score': 0.7372093023255814, 'support': 467}, 'GLF': {'precision': 0.8047808764940239, 'recall': 0.7637051039697542, 'f1-score': 0.7837051406401552, 'support': 529}, 'accuracy': 0.808349609375, 'macro avg': {'precision': 0.7871137170759666, 'recall': 0.758862307953288, 'f1-score': 0.7711108669405669, 'support': 4096}, 'weighted avg': {'precision': 0.8072690533093448, 'recall': 0.808349609375, 'f1-score': 0.8062143174610381, 'support': 4096}}, 'eval_runtime': 7.4937, 'eval_samples_per_second': 546.59, 'eval_steps_per_second': 8.54, 'epoch': 0.46}\n"
     ]
    },
    {
     "name": "stderr",
     "output_type": "stream",
     "text": [
      "\n",
      " 12%|█▏        | 10000/86888 [1:47:49<9:21:08,  2.28it/s]"
     ]
    },
    {
     "name": "stdout",
     "output_type": "stream",
     "text": [
      "{'eval_loss': 0.5382239818572998, 'eval_macro_f1': 0.7711108669405669, 'eval_macro_precision': 0.7871137170759666, 'eval_macro_recall': 0.758862307953288, 'eval_accuracy': 0.808349609375, 'eval_report': {'NOR': {'precision': 0.6753246753246753, 'recall': 0.7086882453151618, 'f1-score': 0.6916043225270159, 'support': 587}, 'IRQ': {'precision': 0.8582554517133957, 'recall': 0.924496644295302, 'f1-score': 0.8901453957996768, 'support': 1788}, 'LEV': {'precision': 0.7905918057663126, 'recall': 0.7186206896551725, 'f1-score': 0.7528901734104047, 'support': 725}, 'EGY': {'precision': 0.806615776081425, 'recall': 0.6788008565310493, 'f1-score': 0.7372093023255814, 'support': 467}, 'GLF': {'precision': 0.8047808764940239, 'recall': 0.7637051039697542, 'f1-score': 0.7837051406401552, 'support': 529}, 'accuracy': 0.808349609375, 'macro avg': {'precision': 0.7871137170759666, 'recall': 0.758862307953288, 'f1-score': 0.7711108669405669, 'support': 4096}, 'weighted avg': {'precision': 0.8072690533093448, 'recall': 0.808349609375, 'f1-score': 0.8062143174610381, 'support': 4096}}, 'eval_runtime': 7.4871, 'eval_samples_per_second': 547.074, 'eval_steps_per_second': 8.548, 'epoch': 0.46}\n"
     ]
    },
    {
     "name": "stderr",
     "output_type": "stream",
     "text": [
      "\n",
      " 12%|█▏        | 10000/86888 [1:47:57<9:21:08,  2.28it/s]"
     ]
    },
    {
     "name": "stdout",
     "output_type": "stream",
     "text": [
      "{'eval_loss': 0.5382239818572998, 'eval_macro_f1': 0.7711108669405669, 'eval_macro_precision': 0.7871137170759666, 'eval_macro_recall': 0.758862307953288, 'eval_accuracy': 0.808349609375, 'eval_report': {'NOR': {'precision': 0.6753246753246753, 'recall': 0.7086882453151618, 'f1-score': 0.6916043225270159, 'support': 587}, 'IRQ': {'precision': 0.8582554517133957, 'recall': 0.924496644295302, 'f1-score': 0.8901453957996768, 'support': 1788}, 'LEV': {'precision': 0.7905918057663126, 'recall': 0.7186206896551725, 'f1-score': 0.7528901734104047, 'support': 725}, 'EGY': {'precision': 0.806615776081425, 'recall': 0.6788008565310493, 'f1-score': 0.7372093023255814, 'support': 467}, 'GLF': {'precision': 0.8047808764940239, 'recall': 0.7637051039697542, 'f1-score': 0.7837051406401552, 'support': 529}, 'accuracy': 0.808349609375, 'macro avg': {'precision': 0.7871137170759666, 'recall': 0.758862307953288, 'f1-score': 0.7711108669405669, 'support': 4096}, 'weighted avg': {'precision': 0.8072690533093448, 'recall': 0.808349609375, 'f1-score': 0.8062143174610381, 'support': 4096}}, 'eval_runtime': 7.4987, 'eval_samples_per_second': 546.225, 'eval_steps_per_second': 8.535, 'epoch': 0.46}\n"
     ]
    },
    {
     "name": "stderr",
     "output_type": "stream",
     "text": [
      "\n",
      " 12%|█▏        | 10000/86888 [1:48:04<9:21:08,  2.28it/s]"
     ]
    },
    {
     "name": "stdout",
     "output_type": "stream",
     "text": [
      "{'eval_loss': 0.5382239818572998, 'eval_macro_f1': 0.7711108669405669, 'eval_macro_precision': 0.7871137170759666, 'eval_macro_recall': 0.758862307953288, 'eval_accuracy': 0.808349609375, 'eval_report': {'NOR': {'precision': 0.6753246753246753, 'recall': 0.7086882453151618, 'f1-score': 0.6916043225270159, 'support': 587}, 'IRQ': {'precision': 0.8582554517133957, 'recall': 0.924496644295302, 'f1-score': 0.8901453957996768, 'support': 1788}, 'LEV': {'precision': 0.7905918057663126, 'recall': 0.7186206896551725, 'f1-score': 0.7528901734104047, 'support': 725}, 'EGY': {'precision': 0.806615776081425, 'recall': 0.6788008565310493, 'f1-score': 0.7372093023255814, 'support': 467}, 'GLF': {'precision': 0.8047808764940239, 'recall': 0.7637051039697542, 'f1-score': 0.7837051406401552, 'support': 529}, 'accuracy': 0.808349609375, 'macro avg': {'precision': 0.7871137170759666, 'recall': 0.758862307953288, 'f1-score': 0.7711108669405669, 'support': 4096}, 'weighted avg': {'precision': 0.8072690533093448, 'recall': 0.808349609375, 'f1-score': 0.8062143174610381, 'support': 4096}}, 'eval_runtime': 7.4927, 'eval_samples_per_second': 546.666, 'eval_steps_per_second': 8.542, 'epoch': 0.46}\n"
     ]
    },
    {
     "name": "stderr",
     "output_type": "stream",
     "text": [
      "\n",
      " 12%|█▏        | 10000/86888 [1:48:12<9:21:08,  2.28it/s]"
     ]
    },
    {
     "name": "stdout",
     "output_type": "stream",
     "text": [
      "{'eval_loss': 0.5382239818572998, 'eval_macro_f1': 0.7711108669405669, 'eval_macro_precision': 0.7871137170759666, 'eval_macro_recall': 0.758862307953288, 'eval_accuracy': 0.808349609375, 'eval_report': {'NOR': {'precision': 0.6753246753246753, 'recall': 0.7086882453151618, 'f1-score': 0.6916043225270159, 'support': 587}, 'IRQ': {'precision': 0.8582554517133957, 'recall': 0.924496644295302, 'f1-score': 0.8901453957996768, 'support': 1788}, 'LEV': {'precision': 0.7905918057663126, 'recall': 0.7186206896551725, 'f1-score': 0.7528901734104047, 'support': 725}, 'EGY': {'precision': 0.806615776081425, 'recall': 0.6788008565310493, 'f1-score': 0.7372093023255814, 'support': 467}, 'GLF': {'precision': 0.8047808764940239, 'recall': 0.7637051039697542, 'f1-score': 0.7837051406401552, 'support': 529}, 'accuracy': 0.808349609375, 'macro avg': {'precision': 0.7871137170759666, 'recall': 0.758862307953288, 'f1-score': 0.7711108669405669, 'support': 4096}, 'weighted avg': {'precision': 0.8072690533093448, 'recall': 0.808349609375, 'f1-score': 0.8062143174610381, 'support': 4096}}, 'eval_runtime': 7.4858, 'eval_samples_per_second': 547.167, 'eval_steps_per_second': 8.549, 'epoch': 0.46}\n"
     ]
    },
    {
     "name": "stderr",
     "output_type": "stream",
     "text": [
      "\n",
      " 12%|█▏        | 10000/86888 [1:48:19<9:21:08,  2.28it/s]"
     ]
    },
    {
     "name": "stdout",
     "output_type": "stream",
     "text": [
      "{'eval_loss': 0.5382239818572998, 'eval_macro_f1': 0.7711108669405669, 'eval_macro_precision': 0.7871137170759666, 'eval_macro_recall': 0.758862307953288, 'eval_accuracy': 0.808349609375, 'eval_report': {'NOR': {'precision': 0.6753246753246753, 'recall': 0.7086882453151618, 'f1-score': 0.6916043225270159, 'support': 587}, 'IRQ': {'precision': 0.8582554517133957, 'recall': 0.924496644295302, 'f1-score': 0.8901453957996768, 'support': 1788}, 'LEV': {'precision': 0.7905918057663126, 'recall': 0.7186206896551725, 'f1-score': 0.7528901734104047, 'support': 725}, 'EGY': {'precision': 0.806615776081425, 'recall': 0.6788008565310493, 'f1-score': 0.7372093023255814, 'support': 467}, 'GLF': {'precision': 0.8047808764940239, 'recall': 0.7637051039697542, 'f1-score': 0.7837051406401552, 'support': 529}, 'accuracy': 0.808349609375, 'macro avg': {'precision': 0.7871137170759666, 'recall': 0.758862307953288, 'f1-score': 0.7711108669405669, 'support': 4096}, 'weighted avg': {'precision': 0.8072690533093448, 'recall': 0.808349609375, 'f1-score': 0.8062143174610381, 'support': 4096}}, 'eval_runtime': 7.4932, 'eval_samples_per_second': 546.629, 'eval_steps_per_second': 8.541, 'epoch': 0.46}\n"
     ]
    },
    {
     "name": "stderr",
     "output_type": "stream",
     "text": [
      "\n",
      " 12%|█▏        | 10000/86888 [1:48:27<9:21:08,  2.28it/s]"
     ]
    },
    {
     "name": "stdout",
     "output_type": "stream",
     "text": [
      "{'eval_loss': 0.5382239818572998, 'eval_macro_f1': 0.7711108669405669, 'eval_macro_precision': 0.7871137170759666, 'eval_macro_recall': 0.758862307953288, 'eval_accuracy': 0.808349609375, 'eval_report': {'NOR': {'precision': 0.6753246753246753, 'recall': 0.7086882453151618, 'f1-score': 0.6916043225270159, 'support': 587}, 'IRQ': {'precision': 0.8582554517133957, 'recall': 0.924496644295302, 'f1-score': 0.8901453957996768, 'support': 1788}, 'LEV': {'precision': 0.7905918057663126, 'recall': 0.7186206896551725, 'f1-score': 0.7528901734104047, 'support': 725}, 'EGY': {'precision': 0.806615776081425, 'recall': 0.6788008565310493, 'f1-score': 0.7372093023255814, 'support': 467}, 'GLF': {'precision': 0.8047808764940239, 'recall': 0.7637051039697542, 'f1-score': 0.7837051406401552, 'support': 529}, 'accuracy': 0.808349609375, 'macro avg': {'precision': 0.7871137170759666, 'recall': 0.758862307953288, 'f1-score': 0.7711108669405669, 'support': 4096}, 'weighted avg': {'precision': 0.8072690533093448, 'recall': 0.808349609375, 'f1-score': 0.8062143174610381, 'support': 4096}}, 'eval_runtime': 7.4986, 'eval_samples_per_second': 546.234, 'eval_steps_per_second': 8.535, 'epoch': 0.46}\n"
     ]
    },
    {
     "name": "stderr",
     "output_type": "stream",
     "text": [
      "\n",
      " 12%|█▏        | 10000/86888 [1:48:34<9:21:08,  2.28it/s]"
     ]
    },
    {
     "name": "stdout",
     "output_type": "stream",
     "text": [
      "{'eval_loss': 0.5382239818572998, 'eval_macro_f1': 0.7711108669405669, 'eval_macro_precision': 0.7871137170759666, 'eval_macro_recall': 0.758862307953288, 'eval_accuracy': 0.808349609375, 'eval_report': {'NOR': {'precision': 0.6753246753246753, 'recall': 0.7086882453151618, 'f1-score': 0.6916043225270159, 'support': 587}, 'IRQ': {'precision': 0.8582554517133957, 'recall': 0.924496644295302, 'f1-score': 0.8901453957996768, 'support': 1788}, 'LEV': {'precision': 0.7905918057663126, 'recall': 0.7186206896551725, 'f1-score': 0.7528901734104047, 'support': 725}, 'EGY': {'precision': 0.806615776081425, 'recall': 0.6788008565310493, 'f1-score': 0.7372093023255814, 'support': 467}, 'GLF': {'precision': 0.8047808764940239, 'recall': 0.7637051039697542, 'f1-score': 0.7837051406401552, 'support': 529}, 'accuracy': 0.808349609375, 'macro avg': {'precision': 0.7871137170759666, 'recall': 0.758862307953288, 'f1-score': 0.7711108669405669, 'support': 4096}, 'weighted avg': {'precision': 0.8072690533093448, 'recall': 0.808349609375, 'f1-score': 0.8062143174610381, 'support': 4096}}, 'eval_runtime': 7.4934, 'eval_samples_per_second': 546.614, 'eval_steps_per_second': 8.541, 'epoch': 0.46}\n"
     ]
    },
    {
     "name": "stderr",
     "output_type": "stream",
     "text": [
      "\n",
      " 12%|█▏        | 10000/86888 [1:48:42<9:21:08,  2.28it/s]"
     ]
    },
    {
     "name": "stdout",
     "output_type": "stream",
     "text": [
      "{'eval_loss': 0.5382239818572998, 'eval_macro_f1': 0.7711108669405669, 'eval_macro_precision': 0.7871137170759666, 'eval_macro_recall': 0.758862307953288, 'eval_accuracy': 0.808349609375, 'eval_report': {'NOR': {'precision': 0.6753246753246753, 'recall': 0.7086882453151618, 'f1-score': 0.6916043225270159, 'support': 587}, 'IRQ': {'precision': 0.8582554517133957, 'recall': 0.924496644295302, 'f1-score': 0.8901453957996768, 'support': 1788}, 'LEV': {'precision': 0.7905918057663126, 'recall': 0.7186206896551725, 'f1-score': 0.7528901734104047, 'support': 725}, 'EGY': {'precision': 0.806615776081425, 'recall': 0.6788008565310493, 'f1-score': 0.7372093023255814, 'support': 467}, 'GLF': {'precision': 0.8047808764940239, 'recall': 0.7637051039697542, 'f1-score': 0.7837051406401552, 'support': 529}, 'accuracy': 0.808349609375, 'macro avg': {'precision': 0.7871137170759666, 'recall': 0.758862307953288, 'f1-score': 0.7711108669405669, 'support': 4096}, 'weighted avg': {'precision': 0.8072690533093448, 'recall': 0.808349609375, 'f1-score': 0.8062143174610381, 'support': 4096}}, 'eval_runtime': 7.4873, 'eval_samples_per_second': 547.061, 'eval_steps_per_second': 8.548, 'epoch': 0.46}\n"
     ]
    },
    {
     "name": "stderr",
     "output_type": "stream",
     "text": [
      "\n",
      " 12%|█▏        | 10000/86888 [1:48:49<9:21:08,  2.28it/s]"
     ]
    },
    {
     "name": "stdout",
     "output_type": "stream",
     "text": [
      "{'eval_loss': 0.5382239818572998, 'eval_macro_f1': 0.7711108669405669, 'eval_macro_precision': 0.7871137170759666, 'eval_macro_recall': 0.758862307953288, 'eval_accuracy': 0.808349609375, 'eval_report': {'NOR': {'precision': 0.6753246753246753, 'recall': 0.7086882453151618, 'f1-score': 0.6916043225270159, 'support': 587}, 'IRQ': {'precision': 0.8582554517133957, 'recall': 0.924496644295302, 'f1-score': 0.8901453957996768, 'support': 1788}, 'LEV': {'precision': 0.7905918057663126, 'recall': 0.7186206896551725, 'f1-score': 0.7528901734104047, 'support': 725}, 'EGY': {'precision': 0.806615776081425, 'recall': 0.6788008565310493, 'f1-score': 0.7372093023255814, 'support': 467}, 'GLF': {'precision': 0.8047808764940239, 'recall': 0.7637051039697542, 'f1-score': 0.7837051406401552, 'support': 529}, 'accuracy': 0.808349609375, 'macro avg': {'precision': 0.7871137170759666, 'recall': 0.758862307953288, 'f1-score': 0.7711108669405669, 'support': 4096}, 'weighted avg': {'precision': 0.8072690533093448, 'recall': 0.808349609375, 'f1-score': 0.8062143174610381, 'support': 4096}}, 'eval_runtime': 7.4868, 'eval_samples_per_second': 547.095, 'eval_steps_per_second': 8.548, 'epoch': 0.46}\n"
     ]
    },
    {
     "name": "stderr",
     "output_type": "stream",
     "text": [
      "\n",
      " 12%|█▏        | 10000/86888 [1:48:57<9:21:08,  2.28it/s]"
     ]
    },
    {
     "name": "stdout",
     "output_type": "stream",
     "text": [
      "{'eval_loss': 0.5382239818572998, 'eval_macro_f1': 0.7711108669405669, 'eval_macro_precision': 0.7871137170759666, 'eval_macro_recall': 0.758862307953288, 'eval_accuracy': 0.808349609375, 'eval_report': {'NOR': {'precision': 0.6753246753246753, 'recall': 0.7086882453151618, 'f1-score': 0.6916043225270159, 'support': 587}, 'IRQ': {'precision': 0.8582554517133957, 'recall': 0.924496644295302, 'f1-score': 0.8901453957996768, 'support': 1788}, 'LEV': {'precision': 0.7905918057663126, 'recall': 0.7186206896551725, 'f1-score': 0.7528901734104047, 'support': 725}, 'EGY': {'precision': 0.806615776081425, 'recall': 0.6788008565310493, 'f1-score': 0.7372093023255814, 'support': 467}, 'GLF': {'precision': 0.8047808764940239, 'recall': 0.7637051039697542, 'f1-score': 0.7837051406401552, 'support': 529}, 'accuracy': 0.808349609375, 'macro avg': {'precision': 0.7871137170759666, 'recall': 0.758862307953288, 'f1-score': 0.7711108669405669, 'support': 4096}, 'weighted avg': {'precision': 0.8072690533093448, 'recall': 0.808349609375, 'f1-score': 0.8062143174610381, 'support': 4096}}, 'eval_runtime': 7.4928, 'eval_samples_per_second': 546.659, 'eval_steps_per_second': 8.542, 'epoch': 0.46}\n"
     ]
    },
    {
     "name": "stderr",
     "output_type": "stream",
     "text": [
      "\n",
      " 12%|█▏        | 10000/86888 [1:49:04<9:21:08,  2.28it/s]"
     ]
    },
    {
     "name": "stdout",
     "output_type": "stream",
     "text": [
      "{'eval_loss': 0.5382239818572998, 'eval_macro_f1': 0.7711108669405669, 'eval_macro_precision': 0.7871137170759666, 'eval_macro_recall': 0.758862307953288, 'eval_accuracy': 0.808349609375, 'eval_report': {'NOR': {'precision': 0.6753246753246753, 'recall': 0.7086882453151618, 'f1-score': 0.6916043225270159, 'support': 587}, 'IRQ': {'precision': 0.8582554517133957, 'recall': 0.924496644295302, 'f1-score': 0.8901453957996768, 'support': 1788}, 'LEV': {'precision': 0.7905918057663126, 'recall': 0.7186206896551725, 'f1-score': 0.7528901734104047, 'support': 725}, 'EGY': {'precision': 0.806615776081425, 'recall': 0.6788008565310493, 'f1-score': 0.7372093023255814, 'support': 467}, 'GLF': {'precision': 0.8047808764940239, 'recall': 0.7637051039697542, 'f1-score': 0.7837051406401552, 'support': 529}, 'accuracy': 0.808349609375, 'macro avg': {'precision': 0.7871137170759666, 'recall': 0.758862307953288, 'f1-score': 0.7711108669405669, 'support': 4096}, 'weighted avg': {'precision': 0.8072690533093448, 'recall': 0.808349609375, 'f1-score': 0.8062143174610381, 'support': 4096}}, 'eval_runtime': 7.487, 'eval_samples_per_second': 547.079, 'eval_steps_per_second': 8.548, 'epoch': 0.46}\n"
     ]
    },
    {
     "name": "stderr",
     "output_type": "stream",
     "text": [
      "\n",
      " 12%|█▏        | 10000/86888 [1:49:12<9:21:08,  2.28it/s]"
     ]
    },
    {
     "name": "stdout",
     "output_type": "stream",
     "text": [
      "{'eval_loss': 0.5382239818572998, 'eval_macro_f1': 0.7711108669405669, 'eval_macro_precision': 0.7871137170759666, 'eval_macro_recall': 0.758862307953288, 'eval_accuracy': 0.808349609375, 'eval_report': {'NOR': {'precision': 0.6753246753246753, 'recall': 0.7086882453151618, 'f1-score': 0.6916043225270159, 'support': 587}, 'IRQ': {'precision': 0.8582554517133957, 'recall': 0.924496644295302, 'f1-score': 0.8901453957996768, 'support': 1788}, 'LEV': {'precision': 0.7905918057663126, 'recall': 0.7186206896551725, 'f1-score': 0.7528901734104047, 'support': 725}, 'EGY': {'precision': 0.806615776081425, 'recall': 0.6788008565310493, 'f1-score': 0.7372093023255814, 'support': 467}, 'GLF': {'precision': 0.8047808764940239, 'recall': 0.7637051039697542, 'f1-score': 0.7837051406401552, 'support': 529}, 'accuracy': 0.808349609375, 'macro avg': {'precision': 0.7871137170759666, 'recall': 0.758862307953288, 'f1-score': 0.7711108669405669, 'support': 4096}, 'weighted avg': {'precision': 0.8072690533093448, 'recall': 0.808349609375, 'f1-score': 0.8062143174610381, 'support': 4096}}, 'eval_runtime': 7.4924, 'eval_samples_per_second': 546.686, 'eval_steps_per_second': 8.542, 'epoch': 0.46}\n"
     ]
    },
    {
     "name": "stderr",
     "output_type": "stream",
     "text": [
      "\n",
      " 12%|█▏        | 10000/86888 [1:49:19<9:21:08,  2.28it/s]"
     ]
    },
    {
     "name": "stdout",
     "output_type": "stream",
     "text": [
      "{'eval_loss': 0.5382239818572998, 'eval_macro_f1': 0.7711108669405669, 'eval_macro_precision': 0.7871137170759666, 'eval_macro_recall': 0.758862307953288, 'eval_accuracy': 0.808349609375, 'eval_report': {'NOR': {'precision': 0.6753246753246753, 'recall': 0.7086882453151618, 'f1-score': 0.6916043225270159, 'support': 587}, 'IRQ': {'precision': 0.8582554517133957, 'recall': 0.924496644295302, 'f1-score': 0.8901453957996768, 'support': 1788}, 'LEV': {'precision': 0.7905918057663126, 'recall': 0.7186206896551725, 'f1-score': 0.7528901734104047, 'support': 725}, 'EGY': {'precision': 0.806615776081425, 'recall': 0.6788008565310493, 'f1-score': 0.7372093023255814, 'support': 467}, 'GLF': {'precision': 0.8047808764940239, 'recall': 0.7637051039697542, 'f1-score': 0.7837051406401552, 'support': 529}, 'accuracy': 0.808349609375, 'macro avg': {'precision': 0.7871137170759666, 'recall': 0.758862307953288, 'f1-score': 0.7711108669405669, 'support': 4096}, 'weighted avg': {'precision': 0.8072690533093448, 'recall': 0.808349609375, 'f1-score': 0.8062143174610381, 'support': 4096}}, 'eval_runtime': 7.4898, 'eval_samples_per_second': 546.874, 'eval_steps_per_second': 8.545, 'epoch': 0.46}\n"
     ]
    },
    {
     "name": "stderr",
     "output_type": "stream",
     "text": [
      "\n",
      " 12%|█▏        | 10000/86888 [1:49:27<9:21:08,  2.28it/s]"
     ]
    },
    {
     "name": "stdout",
     "output_type": "stream",
     "text": [
      "{'eval_loss': 0.5382239818572998, 'eval_macro_f1': 0.7711108669405669, 'eval_macro_precision': 0.7871137170759666, 'eval_macro_recall': 0.758862307953288, 'eval_accuracy': 0.808349609375, 'eval_report': {'NOR': {'precision': 0.6753246753246753, 'recall': 0.7086882453151618, 'f1-score': 0.6916043225270159, 'support': 587}, 'IRQ': {'precision': 0.8582554517133957, 'recall': 0.924496644295302, 'f1-score': 0.8901453957996768, 'support': 1788}, 'LEV': {'precision': 0.7905918057663126, 'recall': 0.7186206896551725, 'f1-score': 0.7528901734104047, 'support': 725}, 'EGY': {'precision': 0.806615776081425, 'recall': 0.6788008565310493, 'f1-score': 0.7372093023255814, 'support': 467}, 'GLF': {'precision': 0.8047808764940239, 'recall': 0.7637051039697542, 'f1-score': 0.7837051406401552, 'support': 529}, 'accuracy': 0.808349609375, 'macro avg': {'precision': 0.7871137170759666, 'recall': 0.758862307953288, 'f1-score': 0.7711108669405669, 'support': 4096}, 'weighted avg': {'precision': 0.8072690533093448, 'recall': 0.808349609375, 'f1-score': 0.8062143174610381, 'support': 4096}}, 'eval_runtime': 7.5049, 'eval_samples_per_second': 545.78, 'eval_steps_per_second': 8.528, 'epoch': 0.46}\n"
     ]
    },
    {
     "name": "stderr",
     "output_type": "stream",
     "text": [
      "\n",
      " 12%|█▏        | 10000/86888 [1:49:34<9:21:08,  2.28it/s]"
     ]
    },
    {
     "name": "stdout",
     "output_type": "stream",
     "text": [
      "{'eval_loss': 0.5382239818572998, 'eval_macro_f1': 0.7711108669405669, 'eval_macro_precision': 0.7871137170759666, 'eval_macro_recall': 0.758862307953288, 'eval_accuracy': 0.808349609375, 'eval_report': {'NOR': {'precision': 0.6753246753246753, 'recall': 0.7086882453151618, 'f1-score': 0.6916043225270159, 'support': 587}, 'IRQ': {'precision': 0.8582554517133957, 'recall': 0.924496644295302, 'f1-score': 0.8901453957996768, 'support': 1788}, 'LEV': {'precision': 0.7905918057663126, 'recall': 0.7186206896551725, 'f1-score': 0.7528901734104047, 'support': 725}, 'EGY': {'precision': 0.806615776081425, 'recall': 0.6788008565310493, 'f1-score': 0.7372093023255814, 'support': 467}, 'GLF': {'precision': 0.8047808764940239, 'recall': 0.7637051039697542, 'f1-score': 0.7837051406401552, 'support': 529}, 'accuracy': 0.808349609375, 'macro avg': {'precision': 0.7871137170759666, 'recall': 0.758862307953288, 'f1-score': 0.7711108669405669, 'support': 4096}, 'weighted avg': {'precision': 0.8072690533093448, 'recall': 0.808349609375, 'f1-score': 0.8062143174610381, 'support': 4096}}, 'eval_runtime': 7.4846, 'eval_samples_per_second': 547.256, 'eval_steps_per_second': 8.551, 'epoch': 0.46}\n"
     ]
    },
    {
     "name": "stderr",
     "output_type": "stream",
     "text": [
      "\n",
      " 12%|█▏        | 10000/86888 [1:49:42<9:21:08,  2.28it/s]"
     ]
    },
    {
     "name": "stdout",
     "output_type": "stream",
     "text": [
      "{'eval_loss': 0.5382239818572998, 'eval_macro_f1': 0.7711108669405669, 'eval_macro_precision': 0.7871137170759666, 'eval_macro_recall': 0.758862307953288, 'eval_accuracy': 0.808349609375, 'eval_report': {'NOR': {'precision': 0.6753246753246753, 'recall': 0.7086882453151618, 'f1-score': 0.6916043225270159, 'support': 587}, 'IRQ': {'precision': 0.8582554517133957, 'recall': 0.924496644295302, 'f1-score': 0.8901453957996768, 'support': 1788}, 'LEV': {'precision': 0.7905918057663126, 'recall': 0.7186206896551725, 'f1-score': 0.7528901734104047, 'support': 725}, 'EGY': {'precision': 0.806615776081425, 'recall': 0.6788008565310493, 'f1-score': 0.7372093023255814, 'support': 467}, 'GLF': {'precision': 0.8047808764940239, 'recall': 0.7637051039697542, 'f1-score': 0.7837051406401552, 'support': 529}, 'accuracy': 0.808349609375, 'macro avg': {'precision': 0.7871137170759666, 'recall': 0.758862307953288, 'f1-score': 0.7711108669405669, 'support': 4096}, 'weighted avg': {'precision': 0.8072690533093448, 'recall': 0.808349609375, 'f1-score': 0.8062143174610381, 'support': 4096}}, 'eval_runtime': 7.4865, 'eval_samples_per_second': 547.116, 'eval_steps_per_second': 8.549, 'epoch': 0.46}\n"
     ]
    },
    {
     "name": "stderr",
     "output_type": "stream",
     "text": [
      "\n",
      " 12%|█▏        | 10000/86888 [1:49:49<9:21:08,  2.28it/s]"
     ]
    },
    {
     "name": "stdout",
     "output_type": "stream",
     "text": [
      "{'eval_loss': 0.5382239818572998, 'eval_macro_f1': 0.7711108669405669, 'eval_macro_precision': 0.7871137170759666, 'eval_macro_recall': 0.758862307953288, 'eval_accuracy': 0.808349609375, 'eval_report': {'NOR': {'precision': 0.6753246753246753, 'recall': 0.7086882453151618, 'f1-score': 0.6916043225270159, 'support': 587}, 'IRQ': {'precision': 0.8582554517133957, 'recall': 0.924496644295302, 'f1-score': 0.8901453957996768, 'support': 1788}, 'LEV': {'precision': 0.7905918057663126, 'recall': 0.7186206896551725, 'f1-score': 0.7528901734104047, 'support': 725}, 'EGY': {'precision': 0.806615776081425, 'recall': 0.6788008565310493, 'f1-score': 0.7372093023255814, 'support': 467}, 'GLF': {'precision': 0.8047808764940239, 'recall': 0.7637051039697542, 'f1-score': 0.7837051406401552, 'support': 529}, 'accuracy': 0.808349609375, 'macro avg': {'precision': 0.7871137170759666, 'recall': 0.758862307953288, 'f1-score': 0.7711108669405669, 'support': 4096}, 'weighted avg': {'precision': 0.8072690533093448, 'recall': 0.808349609375, 'f1-score': 0.8062143174610381, 'support': 4096}}, 'eval_runtime': 7.4907, 'eval_samples_per_second': 546.81, 'eval_steps_per_second': 8.544, 'epoch': 0.46}\n"
     ]
    },
    {
     "name": "stderr",
     "output_type": "stream",
     "text": [
      "\n",
      " 12%|█▏        | 10000/86888 [1:49:57<9:21:08,  2.28it/s]"
     ]
    },
    {
     "name": "stdout",
     "output_type": "stream",
     "text": [
      "{'eval_loss': 0.5382239818572998, 'eval_macro_f1': 0.7711108669405669, 'eval_macro_precision': 0.7871137170759666, 'eval_macro_recall': 0.758862307953288, 'eval_accuracy': 0.808349609375, 'eval_report': {'NOR': {'precision': 0.6753246753246753, 'recall': 0.7086882453151618, 'f1-score': 0.6916043225270159, 'support': 587}, 'IRQ': {'precision': 0.8582554517133957, 'recall': 0.924496644295302, 'f1-score': 0.8901453957996768, 'support': 1788}, 'LEV': {'precision': 0.7905918057663126, 'recall': 0.7186206896551725, 'f1-score': 0.7528901734104047, 'support': 725}, 'EGY': {'precision': 0.806615776081425, 'recall': 0.6788008565310493, 'f1-score': 0.7372093023255814, 'support': 467}, 'GLF': {'precision': 0.8047808764940239, 'recall': 0.7637051039697542, 'f1-score': 0.7837051406401552, 'support': 529}, 'accuracy': 0.808349609375, 'macro avg': {'precision': 0.7871137170759666, 'recall': 0.758862307953288, 'f1-score': 0.7711108669405669, 'support': 4096}, 'weighted avg': {'precision': 0.8072690533093448, 'recall': 0.808349609375, 'f1-score': 0.8062143174610381, 'support': 4096}}, 'eval_runtime': 7.4882, 'eval_samples_per_second': 546.994, 'eval_steps_per_second': 8.547, 'epoch': 0.46}\n"
     ]
    },
    {
     "name": "stderr",
     "output_type": "stream",
     "text": [
      "\n",
      " 12%|█▏        | 10000/86888 [1:50:04<9:21:08,  2.28it/s]"
     ]
    },
    {
     "name": "stdout",
     "output_type": "stream",
     "text": [
      "{'eval_loss': 0.5382239818572998, 'eval_macro_f1': 0.7711108669405669, 'eval_macro_precision': 0.7871137170759666, 'eval_macro_recall': 0.758862307953288, 'eval_accuracy': 0.808349609375, 'eval_report': {'NOR': {'precision': 0.6753246753246753, 'recall': 0.7086882453151618, 'f1-score': 0.6916043225270159, 'support': 587}, 'IRQ': {'precision': 0.8582554517133957, 'recall': 0.924496644295302, 'f1-score': 0.8901453957996768, 'support': 1788}, 'LEV': {'precision': 0.7905918057663126, 'recall': 0.7186206896551725, 'f1-score': 0.7528901734104047, 'support': 725}, 'EGY': {'precision': 0.806615776081425, 'recall': 0.6788008565310493, 'f1-score': 0.7372093023255814, 'support': 467}, 'GLF': {'precision': 0.8047808764940239, 'recall': 0.7637051039697542, 'f1-score': 0.7837051406401552, 'support': 529}, 'accuracy': 0.808349609375, 'macro avg': {'precision': 0.7871137170759666, 'recall': 0.758862307953288, 'f1-score': 0.7711108669405669, 'support': 4096}, 'weighted avg': {'precision': 0.8072690533093448, 'recall': 0.808349609375, 'f1-score': 0.8062143174610381, 'support': 4096}}, 'eval_runtime': 7.4906, 'eval_samples_per_second': 546.817, 'eval_steps_per_second': 8.544, 'epoch': 0.46}\n"
     ]
    },
    {
     "name": "stderr",
     "output_type": "stream",
     "text": [
      "\n",
      " 12%|█▏        | 10000/86888 [1:50:12<9:21:08,  2.28it/s]"
     ]
    },
    {
     "name": "stdout",
     "output_type": "stream",
     "text": [
      "{'eval_loss': 0.5382239818572998, 'eval_macro_f1': 0.7711108669405669, 'eval_macro_precision': 0.7871137170759666, 'eval_macro_recall': 0.758862307953288, 'eval_accuracy': 0.808349609375, 'eval_report': {'NOR': {'precision': 0.6753246753246753, 'recall': 0.7086882453151618, 'f1-score': 0.6916043225270159, 'support': 587}, 'IRQ': {'precision': 0.8582554517133957, 'recall': 0.924496644295302, 'f1-score': 0.8901453957996768, 'support': 1788}, 'LEV': {'precision': 0.7905918057663126, 'recall': 0.7186206896551725, 'f1-score': 0.7528901734104047, 'support': 725}, 'EGY': {'precision': 0.806615776081425, 'recall': 0.6788008565310493, 'f1-score': 0.7372093023255814, 'support': 467}, 'GLF': {'precision': 0.8047808764940239, 'recall': 0.7637051039697542, 'f1-score': 0.7837051406401552, 'support': 529}, 'accuracy': 0.808349609375, 'macro avg': {'precision': 0.7871137170759666, 'recall': 0.758862307953288, 'f1-score': 0.7711108669405669, 'support': 4096}, 'weighted avg': {'precision': 0.8072690533093448, 'recall': 0.808349609375, 'f1-score': 0.8062143174610381, 'support': 4096}}, 'eval_runtime': 7.49, 'eval_samples_per_second': 546.863, 'eval_steps_per_second': 8.545, 'epoch': 0.46}\n"
     ]
    },
    {
     "name": "stderr",
     "output_type": "stream",
     "text": [
      "\n",
      " 12%|█▏        | 10000/86888 [1:50:19<9:21:08,  2.28it/s]"
     ]
    },
    {
     "name": "stdout",
     "output_type": "stream",
     "text": [
      "{'eval_loss': 0.5382239818572998, 'eval_macro_f1': 0.7711108669405669, 'eval_macro_precision': 0.7871137170759666, 'eval_macro_recall': 0.758862307953288, 'eval_accuracy': 0.808349609375, 'eval_report': {'NOR': {'precision': 0.6753246753246753, 'recall': 0.7086882453151618, 'f1-score': 0.6916043225270159, 'support': 587}, 'IRQ': {'precision': 0.8582554517133957, 'recall': 0.924496644295302, 'f1-score': 0.8901453957996768, 'support': 1788}, 'LEV': {'precision': 0.7905918057663126, 'recall': 0.7186206896551725, 'f1-score': 0.7528901734104047, 'support': 725}, 'EGY': {'precision': 0.806615776081425, 'recall': 0.6788008565310493, 'f1-score': 0.7372093023255814, 'support': 467}, 'GLF': {'precision': 0.8047808764940239, 'recall': 0.7637051039697542, 'f1-score': 0.7837051406401552, 'support': 529}, 'accuracy': 0.808349609375, 'macro avg': {'precision': 0.7871137170759666, 'recall': 0.758862307953288, 'f1-score': 0.7711108669405669, 'support': 4096}, 'weighted avg': {'precision': 0.8072690533093448, 'recall': 0.808349609375, 'f1-score': 0.8062143174610381, 'support': 4096}}, 'eval_runtime': 7.4993, 'eval_samples_per_second': 546.181, 'eval_steps_per_second': 8.534, 'epoch': 0.46}\n"
     ]
    },
    {
     "name": "stderr",
     "output_type": "stream",
     "text": [
      "\n",
      " 12%|█▏        | 10000/86888 [1:50:27<9:21:08,  2.28it/s]"
     ]
    },
    {
     "name": "stdout",
     "output_type": "stream",
     "text": [
      "{'eval_loss': 0.5382239818572998, 'eval_macro_f1': 0.7711108669405669, 'eval_macro_precision': 0.7871137170759666, 'eval_macro_recall': 0.758862307953288, 'eval_accuracy': 0.808349609375, 'eval_report': {'NOR': {'precision': 0.6753246753246753, 'recall': 0.7086882453151618, 'f1-score': 0.6916043225270159, 'support': 587}, 'IRQ': {'precision': 0.8582554517133957, 'recall': 0.924496644295302, 'f1-score': 0.8901453957996768, 'support': 1788}, 'LEV': {'precision': 0.7905918057663126, 'recall': 0.7186206896551725, 'f1-score': 0.7528901734104047, 'support': 725}, 'EGY': {'precision': 0.806615776081425, 'recall': 0.6788008565310493, 'f1-score': 0.7372093023255814, 'support': 467}, 'GLF': {'precision': 0.8047808764940239, 'recall': 0.7637051039697542, 'f1-score': 0.7837051406401552, 'support': 529}, 'accuracy': 0.808349609375, 'macro avg': {'precision': 0.7871137170759666, 'recall': 0.758862307953288, 'f1-score': 0.7711108669405669, 'support': 4096}, 'weighted avg': {'precision': 0.8072690533093448, 'recall': 0.808349609375, 'f1-score': 0.8062143174610381, 'support': 4096}}, 'eval_runtime': 7.49, 'eval_samples_per_second': 546.861, 'eval_steps_per_second': 8.545, 'epoch': 0.46}\n"
     ]
    },
    {
     "name": "stderr",
     "output_type": "stream",
     "text": [
      "\n",
      " 12%|█▏        | 10000/86888 [1:50:34<9:21:08,  2.28it/s]"
     ]
    },
    {
     "name": "stdout",
     "output_type": "stream",
     "text": [
      "{'eval_loss': 0.5382239818572998, 'eval_macro_f1': 0.7711108669405669, 'eval_macro_precision': 0.7871137170759666, 'eval_macro_recall': 0.758862307953288, 'eval_accuracy': 0.808349609375, 'eval_report': {'NOR': {'precision': 0.6753246753246753, 'recall': 0.7086882453151618, 'f1-score': 0.6916043225270159, 'support': 587}, 'IRQ': {'precision': 0.8582554517133957, 'recall': 0.924496644295302, 'f1-score': 0.8901453957996768, 'support': 1788}, 'LEV': {'precision': 0.7905918057663126, 'recall': 0.7186206896551725, 'f1-score': 0.7528901734104047, 'support': 725}, 'EGY': {'precision': 0.806615776081425, 'recall': 0.6788008565310493, 'f1-score': 0.7372093023255814, 'support': 467}, 'GLF': {'precision': 0.8047808764940239, 'recall': 0.7637051039697542, 'f1-score': 0.7837051406401552, 'support': 529}, 'accuracy': 0.808349609375, 'macro avg': {'precision': 0.7871137170759666, 'recall': 0.758862307953288, 'f1-score': 0.7711108669405669, 'support': 4096}, 'weighted avg': {'precision': 0.8072690533093448, 'recall': 0.808349609375, 'f1-score': 0.8062143174610381, 'support': 4096}}, 'eval_runtime': 7.4842, 'eval_samples_per_second': 547.287, 'eval_steps_per_second': 8.551, 'epoch': 0.46}\n"
     ]
    },
    {
     "name": "stderr",
     "output_type": "stream",
     "text": [
      "\n",
      " 12%|█▏        | 10000/86888 [1:50:42<9:21:08,  2.28it/s]"
     ]
    },
    {
     "name": "stdout",
     "output_type": "stream",
     "text": [
      "{'eval_loss': 0.5382239818572998, 'eval_macro_f1': 0.7711108669405669, 'eval_macro_precision': 0.7871137170759666, 'eval_macro_recall': 0.758862307953288, 'eval_accuracy': 0.808349609375, 'eval_report': {'NOR': {'precision': 0.6753246753246753, 'recall': 0.7086882453151618, 'f1-score': 0.6916043225270159, 'support': 587}, 'IRQ': {'precision': 0.8582554517133957, 'recall': 0.924496644295302, 'f1-score': 0.8901453957996768, 'support': 1788}, 'LEV': {'precision': 0.7905918057663126, 'recall': 0.7186206896551725, 'f1-score': 0.7528901734104047, 'support': 725}, 'EGY': {'precision': 0.806615776081425, 'recall': 0.6788008565310493, 'f1-score': 0.7372093023255814, 'support': 467}, 'GLF': {'precision': 0.8047808764940239, 'recall': 0.7637051039697542, 'f1-score': 0.7837051406401552, 'support': 529}, 'accuracy': 0.808349609375, 'macro avg': {'precision': 0.7871137170759666, 'recall': 0.758862307953288, 'f1-score': 0.7711108669405669, 'support': 4096}, 'weighted avg': {'precision': 0.8072690533093448, 'recall': 0.808349609375, 'f1-score': 0.8062143174610381, 'support': 4096}}, 'eval_runtime': 7.4938, 'eval_samples_per_second': 546.584, 'eval_steps_per_second': 8.54, 'epoch': 0.46}\n"
     ]
    },
    {
     "name": "stderr",
     "output_type": "stream",
     "text": [
      "\n",
      " 12%|█▏        | 10000/86888 [1:50:49<9:21:08,  2.28it/s]"
     ]
    },
    {
     "name": "stdout",
     "output_type": "stream",
     "text": [
      "{'eval_loss': 0.5382239818572998, 'eval_macro_f1': 0.7711108669405669, 'eval_macro_precision': 0.7871137170759666, 'eval_macro_recall': 0.758862307953288, 'eval_accuracy': 0.808349609375, 'eval_report': {'NOR': {'precision': 0.6753246753246753, 'recall': 0.7086882453151618, 'f1-score': 0.6916043225270159, 'support': 587}, 'IRQ': {'precision': 0.8582554517133957, 'recall': 0.924496644295302, 'f1-score': 0.8901453957996768, 'support': 1788}, 'LEV': {'precision': 0.7905918057663126, 'recall': 0.7186206896551725, 'f1-score': 0.7528901734104047, 'support': 725}, 'EGY': {'precision': 0.806615776081425, 'recall': 0.6788008565310493, 'f1-score': 0.7372093023255814, 'support': 467}, 'GLF': {'precision': 0.8047808764940239, 'recall': 0.7637051039697542, 'f1-score': 0.7837051406401552, 'support': 529}, 'accuracy': 0.808349609375, 'macro avg': {'precision': 0.7871137170759666, 'recall': 0.758862307953288, 'f1-score': 0.7711108669405669, 'support': 4096}, 'weighted avg': {'precision': 0.8072690533093448, 'recall': 0.808349609375, 'f1-score': 0.8062143174610381, 'support': 4096}}, 'eval_runtime': 7.4876, 'eval_samples_per_second': 547.04, 'eval_steps_per_second': 8.548, 'epoch': 0.46}\n"
     ]
    },
    {
     "name": "stderr",
     "output_type": "stream",
     "text": [
      "\n",
      " 12%|█▏        | 10000/86888 [1:50:57<9:21:08,  2.28it/s]"
     ]
    },
    {
     "name": "stdout",
     "output_type": "stream",
     "text": [
      "{'eval_loss': 0.5382239818572998, 'eval_macro_f1': 0.7711108669405669, 'eval_macro_precision': 0.7871137170759666, 'eval_macro_recall': 0.758862307953288, 'eval_accuracy': 0.808349609375, 'eval_report': {'NOR': {'precision': 0.6753246753246753, 'recall': 0.7086882453151618, 'f1-score': 0.6916043225270159, 'support': 587}, 'IRQ': {'precision': 0.8582554517133957, 'recall': 0.924496644295302, 'f1-score': 0.8901453957996768, 'support': 1788}, 'LEV': {'precision': 0.7905918057663126, 'recall': 0.7186206896551725, 'f1-score': 0.7528901734104047, 'support': 725}, 'EGY': {'precision': 0.806615776081425, 'recall': 0.6788008565310493, 'f1-score': 0.7372093023255814, 'support': 467}, 'GLF': {'precision': 0.8047808764940239, 'recall': 0.7637051039697542, 'f1-score': 0.7837051406401552, 'support': 529}, 'accuracy': 0.808349609375, 'macro avg': {'precision': 0.7871137170759666, 'recall': 0.758862307953288, 'f1-score': 0.7711108669405669, 'support': 4096}, 'weighted avg': {'precision': 0.8072690533093448, 'recall': 0.808349609375, 'f1-score': 0.8062143174610381, 'support': 4096}}, 'eval_runtime': 7.4921, 'eval_samples_per_second': 546.71, 'eval_steps_per_second': 8.542, 'epoch': 0.46}\n"
     ]
    },
    {
     "name": "stderr",
     "output_type": "stream",
     "text": [
      "\n",
      " 12%|█▏        | 10000/86888 [1:51:04<9:21:08,  2.28it/s]"
     ]
    },
    {
     "name": "stdout",
     "output_type": "stream",
     "text": [
      "{'eval_loss': 0.5382239818572998, 'eval_macro_f1': 0.7711108669405669, 'eval_macro_precision': 0.7871137170759666, 'eval_macro_recall': 0.758862307953288, 'eval_accuracy': 0.808349609375, 'eval_report': {'NOR': {'precision': 0.6753246753246753, 'recall': 0.7086882453151618, 'f1-score': 0.6916043225270159, 'support': 587}, 'IRQ': {'precision': 0.8582554517133957, 'recall': 0.924496644295302, 'f1-score': 0.8901453957996768, 'support': 1788}, 'LEV': {'precision': 0.7905918057663126, 'recall': 0.7186206896551725, 'f1-score': 0.7528901734104047, 'support': 725}, 'EGY': {'precision': 0.806615776081425, 'recall': 0.6788008565310493, 'f1-score': 0.7372093023255814, 'support': 467}, 'GLF': {'precision': 0.8047808764940239, 'recall': 0.7637051039697542, 'f1-score': 0.7837051406401552, 'support': 529}, 'accuracy': 0.808349609375, 'macro avg': {'precision': 0.7871137170759666, 'recall': 0.758862307953288, 'f1-score': 0.7711108669405669, 'support': 4096}, 'weighted avg': {'precision': 0.8072690533093448, 'recall': 0.808349609375, 'f1-score': 0.8062143174610381, 'support': 4096}}, 'eval_runtime': 7.4848, 'eval_samples_per_second': 547.241, 'eval_steps_per_second': 8.551, 'epoch': 0.46}\n"
     ]
    },
    {
     "name": "stderr",
     "output_type": "stream",
     "text": [
      "\n",
      " 12%|█▏        | 10000/86888 [1:51:12<9:21:08,  2.28it/s]"
     ]
    },
    {
     "name": "stdout",
     "output_type": "stream",
     "text": [
      "{'eval_loss': 0.5382239818572998, 'eval_macro_f1': 0.7711108669405669, 'eval_macro_precision': 0.7871137170759666, 'eval_macro_recall': 0.758862307953288, 'eval_accuracy': 0.808349609375, 'eval_report': {'NOR': {'precision': 0.6753246753246753, 'recall': 0.7086882453151618, 'f1-score': 0.6916043225270159, 'support': 587}, 'IRQ': {'precision': 0.8582554517133957, 'recall': 0.924496644295302, 'f1-score': 0.8901453957996768, 'support': 1788}, 'LEV': {'precision': 0.7905918057663126, 'recall': 0.7186206896551725, 'f1-score': 0.7528901734104047, 'support': 725}, 'EGY': {'precision': 0.806615776081425, 'recall': 0.6788008565310493, 'f1-score': 0.7372093023255814, 'support': 467}, 'GLF': {'precision': 0.8047808764940239, 'recall': 0.7637051039697542, 'f1-score': 0.7837051406401552, 'support': 529}, 'accuracy': 0.808349609375, 'macro avg': {'precision': 0.7871137170759666, 'recall': 0.758862307953288, 'f1-score': 0.7711108669405669, 'support': 4096}, 'weighted avg': {'precision': 0.8072690533093448, 'recall': 0.808349609375, 'f1-score': 0.8062143174610381, 'support': 4096}}, 'eval_runtime': 7.4892, 'eval_samples_per_second': 546.924, 'eval_steps_per_second': 8.546, 'epoch': 0.46}\n"
     ]
    },
    {
     "name": "stderr",
     "output_type": "stream",
     "text": [
      "\n",
      " 12%|█▏        | 10000/86888 [1:51:19<9:21:08,  2.28it/s]"
     ]
    },
    {
     "name": "stdout",
     "output_type": "stream",
     "text": [
      "{'eval_loss': 0.5382239818572998, 'eval_macro_f1': 0.7711108669405669, 'eval_macro_precision': 0.7871137170759666, 'eval_macro_recall': 0.758862307953288, 'eval_accuracy': 0.808349609375, 'eval_report': {'NOR': {'precision': 0.6753246753246753, 'recall': 0.7086882453151618, 'f1-score': 0.6916043225270159, 'support': 587}, 'IRQ': {'precision': 0.8582554517133957, 'recall': 0.924496644295302, 'f1-score': 0.8901453957996768, 'support': 1788}, 'LEV': {'precision': 0.7905918057663126, 'recall': 0.7186206896551725, 'f1-score': 0.7528901734104047, 'support': 725}, 'EGY': {'precision': 0.806615776081425, 'recall': 0.6788008565310493, 'f1-score': 0.7372093023255814, 'support': 467}, 'GLF': {'precision': 0.8047808764940239, 'recall': 0.7637051039697542, 'f1-score': 0.7837051406401552, 'support': 529}, 'accuracy': 0.808349609375, 'macro avg': {'precision': 0.7871137170759666, 'recall': 0.758862307953288, 'f1-score': 0.7711108669405669, 'support': 4096}, 'weighted avg': {'precision': 0.8072690533093448, 'recall': 0.808349609375, 'f1-score': 0.8062143174610381, 'support': 4096}}, 'eval_runtime': 7.5026, 'eval_samples_per_second': 545.942, 'eval_steps_per_second': 8.53, 'epoch': 0.46}\n"
     ]
    },
    {
     "name": "stderr",
     "output_type": "stream",
     "text": [
      "\n",
      " 12%|█▏        | 10000/86888 [1:51:27<9:21:08,  2.28it/s]"
     ]
    },
    {
     "name": "stdout",
     "output_type": "stream",
     "text": [
      "{'eval_loss': 0.5382239818572998, 'eval_macro_f1': 0.7711108669405669, 'eval_macro_precision': 0.7871137170759666, 'eval_macro_recall': 0.758862307953288, 'eval_accuracy': 0.808349609375, 'eval_report': {'NOR': {'precision': 0.6753246753246753, 'recall': 0.7086882453151618, 'f1-score': 0.6916043225270159, 'support': 587}, 'IRQ': {'precision': 0.8582554517133957, 'recall': 0.924496644295302, 'f1-score': 0.8901453957996768, 'support': 1788}, 'LEV': {'precision': 0.7905918057663126, 'recall': 0.7186206896551725, 'f1-score': 0.7528901734104047, 'support': 725}, 'EGY': {'precision': 0.806615776081425, 'recall': 0.6788008565310493, 'f1-score': 0.7372093023255814, 'support': 467}, 'GLF': {'precision': 0.8047808764940239, 'recall': 0.7637051039697542, 'f1-score': 0.7837051406401552, 'support': 529}, 'accuracy': 0.808349609375, 'macro avg': {'precision': 0.7871137170759666, 'recall': 0.758862307953288, 'f1-score': 0.7711108669405669, 'support': 4096}, 'weighted avg': {'precision': 0.8072690533093448, 'recall': 0.808349609375, 'f1-score': 0.8062143174610381, 'support': 4096}}, 'eval_runtime': 7.4865, 'eval_samples_per_second': 547.12, 'eval_steps_per_second': 8.549, 'epoch': 0.46}\n"
     ]
    },
    {
     "name": "stderr",
     "output_type": "stream",
     "text": [
      "\n",
      " 12%|█▏        | 10000/86888 [1:51:34<9:21:08,  2.28it/s]"
     ]
    },
    {
     "name": "stdout",
     "output_type": "stream",
     "text": [
      "{'eval_loss': 0.5382239818572998, 'eval_macro_f1': 0.7711108669405669, 'eval_macro_precision': 0.7871137170759666, 'eval_macro_recall': 0.758862307953288, 'eval_accuracy': 0.808349609375, 'eval_report': {'NOR': {'precision': 0.6753246753246753, 'recall': 0.7086882453151618, 'f1-score': 0.6916043225270159, 'support': 587}, 'IRQ': {'precision': 0.8582554517133957, 'recall': 0.924496644295302, 'f1-score': 0.8901453957996768, 'support': 1788}, 'LEV': {'precision': 0.7905918057663126, 'recall': 0.7186206896551725, 'f1-score': 0.7528901734104047, 'support': 725}, 'EGY': {'precision': 0.806615776081425, 'recall': 0.6788008565310493, 'f1-score': 0.7372093023255814, 'support': 467}, 'GLF': {'precision': 0.8047808764940239, 'recall': 0.7637051039697542, 'f1-score': 0.7837051406401552, 'support': 529}, 'accuracy': 0.808349609375, 'macro avg': {'precision': 0.7871137170759666, 'recall': 0.758862307953288, 'f1-score': 0.7711108669405669, 'support': 4096}, 'weighted avg': {'precision': 0.8072690533093448, 'recall': 0.808349609375, 'f1-score': 0.8062143174610381, 'support': 4096}}, 'eval_runtime': 7.4904, 'eval_samples_per_second': 546.835, 'eval_steps_per_second': 8.544, 'epoch': 0.46}\n"
     ]
    },
    {
     "name": "stderr",
     "output_type": "stream",
     "text": [
      "\n",
      " 12%|█▏        | 10000/86888 [1:51:42<9:21:08,  2.28it/s]"
     ]
    },
    {
     "name": "stdout",
     "output_type": "stream",
     "text": [
      "{'eval_loss': 0.5382239818572998, 'eval_macro_f1': 0.7711108669405669, 'eval_macro_precision': 0.7871137170759666, 'eval_macro_recall': 0.758862307953288, 'eval_accuracy': 0.808349609375, 'eval_report': {'NOR': {'precision': 0.6753246753246753, 'recall': 0.7086882453151618, 'f1-score': 0.6916043225270159, 'support': 587}, 'IRQ': {'precision': 0.8582554517133957, 'recall': 0.924496644295302, 'f1-score': 0.8901453957996768, 'support': 1788}, 'LEV': {'precision': 0.7905918057663126, 'recall': 0.7186206896551725, 'f1-score': 0.7528901734104047, 'support': 725}, 'EGY': {'precision': 0.806615776081425, 'recall': 0.6788008565310493, 'f1-score': 0.7372093023255814, 'support': 467}, 'GLF': {'precision': 0.8047808764940239, 'recall': 0.7637051039697542, 'f1-score': 0.7837051406401552, 'support': 529}, 'accuracy': 0.808349609375, 'macro avg': {'precision': 0.7871137170759666, 'recall': 0.758862307953288, 'f1-score': 0.7711108669405669, 'support': 4096}, 'weighted avg': {'precision': 0.8072690533093448, 'recall': 0.808349609375, 'f1-score': 0.8062143174610381, 'support': 4096}}, 'eval_runtime': 7.4859, 'eval_samples_per_second': 547.159, 'eval_steps_per_second': 8.549, 'epoch': 0.46}\n"
     ]
    },
    {
     "name": "stderr",
     "output_type": "stream",
     "text": [
      "\n",
      " 12%|█▏        | 10000/86888 [1:51:49<9:21:08,  2.28it/s]"
     ]
    },
    {
     "name": "stdout",
     "output_type": "stream",
     "text": [
      "{'eval_loss': 0.5382239818572998, 'eval_macro_f1': 0.7711108669405669, 'eval_macro_precision': 0.7871137170759666, 'eval_macro_recall': 0.758862307953288, 'eval_accuracy': 0.808349609375, 'eval_report': {'NOR': {'precision': 0.6753246753246753, 'recall': 0.7086882453151618, 'f1-score': 0.6916043225270159, 'support': 587}, 'IRQ': {'precision': 0.8582554517133957, 'recall': 0.924496644295302, 'f1-score': 0.8901453957996768, 'support': 1788}, 'LEV': {'precision': 0.7905918057663126, 'recall': 0.7186206896551725, 'f1-score': 0.7528901734104047, 'support': 725}, 'EGY': {'precision': 0.806615776081425, 'recall': 0.6788008565310493, 'f1-score': 0.7372093023255814, 'support': 467}, 'GLF': {'precision': 0.8047808764940239, 'recall': 0.7637051039697542, 'f1-score': 0.7837051406401552, 'support': 529}, 'accuracy': 0.808349609375, 'macro avg': {'precision': 0.7871137170759666, 'recall': 0.758862307953288, 'f1-score': 0.7711108669405669, 'support': 4096}, 'weighted avg': {'precision': 0.8072690533093448, 'recall': 0.808349609375, 'f1-score': 0.8062143174610381, 'support': 4096}}, 'eval_runtime': 7.4875, 'eval_samples_per_second': 547.042, 'eval_steps_per_second': 8.548, 'epoch': 0.46}\n"
     ]
    },
    {
     "name": "stderr",
     "output_type": "stream",
     "text": [
      "\n",
      " 12%|█▏        | 10000/86888 [1:51:57<9:21:08,  2.28it/s]"
     ]
    },
    {
     "name": "stdout",
     "output_type": "stream",
     "text": [
      "{'eval_loss': 0.5382239818572998, 'eval_macro_f1': 0.7711108669405669, 'eval_macro_precision': 0.7871137170759666, 'eval_macro_recall': 0.758862307953288, 'eval_accuracy': 0.808349609375, 'eval_report': {'NOR': {'precision': 0.6753246753246753, 'recall': 0.7086882453151618, 'f1-score': 0.6916043225270159, 'support': 587}, 'IRQ': {'precision': 0.8582554517133957, 'recall': 0.924496644295302, 'f1-score': 0.8901453957996768, 'support': 1788}, 'LEV': {'precision': 0.7905918057663126, 'recall': 0.7186206896551725, 'f1-score': 0.7528901734104047, 'support': 725}, 'EGY': {'precision': 0.806615776081425, 'recall': 0.6788008565310493, 'f1-score': 0.7372093023255814, 'support': 467}, 'GLF': {'precision': 0.8047808764940239, 'recall': 0.7637051039697542, 'f1-score': 0.7837051406401552, 'support': 529}, 'accuracy': 0.808349609375, 'macro avg': {'precision': 0.7871137170759666, 'recall': 0.758862307953288, 'f1-score': 0.7711108669405669, 'support': 4096}, 'weighted avg': {'precision': 0.8072690533093448, 'recall': 0.808349609375, 'f1-score': 0.8062143174610381, 'support': 4096}}, 'eval_runtime': 7.4862, 'eval_samples_per_second': 547.139, 'eval_steps_per_second': 8.549, 'epoch': 0.46}\n"
     ]
    },
    {
     "name": "stderr",
     "output_type": "stream",
     "text": [
      "\n",
      " 12%|█▏        | 10000/86888 [1:52:04<9:21:08,  2.28it/s]"
     ]
    },
    {
     "name": "stdout",
     "output_type": "stream",
     "text": [
      "{'eval_loss': 0.5382239818572998, 'eval_macro_f1': 0.7711108669405669, 'eval_macro_precision': 0.7871137170759666, 'eval_macro_recall': 0.758862307953288, 'eval_accuracy': 0.808349609375, 'eval_report': {'NOR': {'precision': 0.6753246753246753, 'recall': 0.7086882453151618, 'f1-score': 0.6916043225270159, 'support': 587}, 'IRQ': {'precision': 0.8582554517133957, 'recall': 0.924496644295302, 'f1-score': 0.8901453957996768, 'support': 1788}, 'LEV': {'precision': 0.7905918057663126, 'recall': 0.7186206896551725, 'f1-score': 0.7528901734104047, 'support': 725}, 'EGY': {'precision': 0.806615776081425, 'recall': 0.6788008565310493, 'f1-score': 0.7372093023255814, 'support': 467}, 'GLF': {'precision': 0.8047808764940239, 'recall': 0.7637051039697542, 'f1-score': 0.7837051406401552, 'support': 529}, 'accuracy': 0.808349609375, 'macro avg': {'precision': 0.7871137170759666, 'recall': 0.758862307953288, 'f1-score': 0.7711108669405669, 'support': 4096}, 'weighted avg': {'precision': 0.8072690533093448, 'recall': 0.808349609375, 'f1-score': 0.8062143174610381, 'support': 4096}}, 'eval_runtime': 7.4873, 'eval_samples_per_second': 547.063, 'eval_steps_per_second': 8.548, 'epoch': 0.46}\n"
     ]
    },
    {
     "name": "stderr",
     "output_type": "stream",
     "text": [
      "\n",
      " 12%|█▏        | 10000/86888 [1:52:12<9:21:08,  2.28it/s]"
     ]
    },
    {
     "name": "stdout",
     "output_type": "stream",
     "text": [
      "{'eval_loss': 0.5382239818572998, 'eval_macro_f1': 0.7711108669405669, 'eval_macro_precision': 0.7871137170759666, 'eval_macro_recall': 0.758862307953288, 'eval_accuracy': 0.808349609375, 'eval_report': {'NOR': {'precision': 0.6753246753246753, 'recall': 0.7086882453151618, 'f1-score': 0.6916043225270159, 'support': 587}, 'IRQ': {'precision': 0.8582554517133957, 'recall': 0.924496644295302, 'f1-score': 0.8901453957996768, 'support': 1788}, 'LEV': {'precision': 0.7905918057663126, 'recall': 0.7186206896551725, 'f1-score': 0.7528901734104047, 'support': 725}, 'EGY': {'precision': 0.806615776081425, 'recall': 0.6788008565310493, 'f1-score': 0.7372093023255814, 'support': 467}, 'GLF': {'precision': 0.8047808764940239, 'recall': 0.7637051039697542, 'f1-score': 0.7837051406401552, 'support': 529}, 'accuracy': 0.808349609375, 'macro avg': {'precision': 0.7871137170759666, 'recall': 0.758862307953288, 'f1-score': 0.7711108669405669, 'support': 4096}, 'weighted avg': {'precision': 0.8072690533093448, 'recall': 0.808349609375, 'f1-score': 0.8062143174610381, 'support': 4096}}, 'eval_runtime': 7.4955, 'eval_samples_per_second': 546.459, 'eval_steps_per_second': 8.538, 'epoch': 0.46}\n"
     ]
    },
    {
     "name": "stderr",
     "output_type": "stream",
     "text": [
      "\n",
      " 12%|█▏        | 10000/86888 [1:52:19<9:21:08,  2.28it/s]"
     ]
    },
    {
     "name": "stdout",
     "output_type": "stream",
     "text": [
      "{'eval_loss': 0.5382239818572998, 'eval_macro_f1': 0.7711108669405669, 'eval_macro_precision': 0.7871137170759666, 'eval_macro_recall': 0.758862307953288, 'eval_accuracy': 0.808349609375, 'eval_report': {'NOR': {'precision': 0.6753246753246753, 'recall': 0.7086882453151618, 'f1-score': 0.6916043225270159, 'support': 587}, 'IRQ': {'precision': 0.8582554517133957, 'recall': 0.924496644295302, 'f1-score': 0.8901453957996768, 'support': 1788}, 'LEV': {'precision': 0.7905918057663126, 'recall': 0.7186206896551725, 'f1-score': 0.7528901734104047, 'support': 725}, 'EGY': {'precision': 0.806615776081425, 'recall': 0.6788008565310493, 'f1-score': 0.7372093023255814, 'support': 467}, 'GLF': {'precision': 0.8047808764940239, 'recall': 0.7637051039697542, 'f1-score': 0.7837051406401552, 'support': 529}, 'accuracy': 0.808349609375, 'macro avg': {'precision': 0.7871137170759666, 'recall': 0.758862307953288, 'f1-score': 0.7711108669405669, 'support': 4096}, 'weighted avg': {'precision': 0.8072690533093448, 'recall': 0.808349609375, 'f1-score': 0.8062143174610381, 'support': 4096}}, 'eval_runtime': 7.4976, 'eval_samples_per_second': 546.309, 'eval_steps_per_second': 8.536, 'epoch': 0.46}\n"
     ]
    },
    {
     "name": "stderr",
     "output_type": "stream",
     "text": [
      "\n",
      " 12%|█▏        | 10000/86888 [1:52:27<9:21:08,  2.28it/s]"
     ]
    },
    {
     "name": "stdout",
     "output_type": "stream",
     "text": [
      "{'eval_loss': 0.5382239818572998, 'eval_macro_f1': 0.7711108669405669, 'eval_macro_precision': 0.7871137170759666, 'eval_macro_recall': 0.758862307953288, 'eval_accuracy': 0.808349609375, 'eval_report': {'NOR': {'precision': 0.6753246753246753, 'recall': 0.7086882453151618, 'f1-score': 0.6916043225270159, 'support': 587}, 'IRQ': {'precision': 0.8582554517133957, 'recall': 0.924496644295302, 'f1-score': 0.8901453957996768, 'support': 1788}, 'LEV': {'precision': 0.7905918057663126, 'recall': 0.7186206896551725, 'f1-score': 0.7528901734104047, 'support': 725}, 'EGY': {'precision': 0.806615776081425, 'recall': 0.6788008565310493, 'f1-score': 0.7372093023255814, 'support': 467}, 'GLF': {'precision': 0.8047808764940239, 'recall': 0.7637051039697542, 'f1-score': 0.7837051406401552, 'support': 529}, 'accuracy': 0.808349609375, 'macro avg': {'precision': 0.7871137170759666, 'recall': 0.758862307953288, 'f1-score': 0.7711108669405669, 'support': 4096}, 'weighted avg': {'precision': 0.8072690533093448, 'recall': 0.808349609375, 'f1-score': 0.8062143174610381, 'support': 4096}}, 'eval_runtime': 7.4929, 'eval_samples_per_second': 546.652, 'eval_steps_per_second': 8.541, 'epoch': 0.46}\n"
     ]
    },
    {
     "name": "stderr",
     "output_type": "stream",
     "text": [
      "\n",
      " 12%|█▏        | 10000/86888 [1:52:34<9:21:08,  2.28it/s]"
     ]
    },
    {
     "name": "stdout",
     "output_type": "stream",
     "text": [
      "{'eval_loss': 0.5382239818572998, 'eval_macro_f1': 0.7711108669405669, 'eval_macro_precision': 0.7871137170759666, 'eval_macro_recall': 0.758862307953288, 'eval_accuracy': 0.808349609375, 'eval_report': {'NOR': {'precision': 0.6753246753246753, 'recall': 0.7086882453151618, 'f1-score': 0.6916043225270159, 'support': 587}, 'IRQ': {'precision': 0.8582554517133957, 'recall': 0.924496644295302, 'f1-score': 0.8901453957996768, 'support': 1788}, 'LEV': {'precision': 0.7905918057663126, 'recall': 0.7186206896551725, 'f1-score': 0.7528901734104047, 'support': 725}, 'EGY': {'precision': 0.806615776081425, 'recall': 0.6788008565310493, 'f1-score': 0.7372093023255814, 'support': 467}, 'GLF': {'precision': 0.8047808764940239, 'recall': 0.7637051039697542, 'f1-score': 0.7837051406401552, 'support': 529}, 'accuracy': 0.808349609375, 'macro avg': {'precision': 0.7871137170759666, 'recall': 0.758862307953288, 'f1-score': 0.7711108669405669, 'support': 4096}, 'weighted avg': {'precision': 0.8072690533093448, 'recall': 0.808349609375, 'f1-score': 0.8062143174610381, 'support': 4096}}, 'eval_runtime': 7.4887, 'eval_samples_per_second': 546.956, 'eval_steps_per_second': 8.546, 'epoch': 0.46}\n"
     ]
    },
    {
     "name": "stderr",
     "output_type": "stream",
     "text": [
      "\n",
      " 12%|█▏        | 10000/86888 [1:52:42<9:21:08,  2.28it/s]"
     ]
    },
    {
     "name": "stdout",
     "output_type": "stream",
     "text": [
      "{'eval_loss': 0.5382239818572998, 'eval_macro_f1': 0.7711108669405669, 'eval_macro_precision': 0.7871137170759666, 'eval_macro_recall': 0.758862307953288, 'eval_accuracy': 0.808349609375, 'eval_report': {'NOR': {'precision': 0.6753246753246753, 'recall': 0.7086882453151618, 'f1-score': 0.6916043225270159, 'support': 587}, 'IRQ': {'precision': 0.8582554517133957, 'recall': 0.924496644295302, 'f1-score': 0.8901453957996768, 'support': 1788}, 'LEV': {'precision': 0.7905918057663126, 'recall': 0.7186206896551725, 'f1-score': 0.7528901734104047, 'support': 725}, 'EGY': {'precision': 0.806615776081425, 'recall': 0.6788008565310493, 'f1-score': 0.7372093023255814, 'support': 467}, 'GLF': {'precision': 0.8047808764940239, 'recall': 0.7637051039697542, 'f1-score': 0.7837051406401552, 'support': 529}, 'accuracy': 0.808349609375, 'macro avg': {'precision': 0.7871137170759666, 'recall': 0.758862307953288, 'f1-score': 0.7711108669405669, 'support': 4096}, 'weighted avg': {'precision': 0.8072690533093448, 'recall': 0.808349609375, 'f1-score': 0.8062143174610381, 'support': 4096}}, 'eval_runtime': 7.5033, 'eval_samples_per_second': 545.896, 'eval_steps_per_second': 8.53, 'epoch': 0.46}\n"
     ]
    },
    {
     "name": "stderr",
     "output_type": "stream",
     "text": [
      "\n",
      " 12%|█▏        | 10000/86888 [1:52:49<9:21:08,  2.28it/s]"
     ]
    },
    {
     "name": "stdout",
     "output_type": "stream",
     "text": [
      "{'eval_loss': 0.5382239818572998, 'eval_macro_f1': 0.7711108669405669, 'eval_macro_precision': 0.7871137170759666, 'eval_macro_recall': 0.758862307953288, 'eval_accuracy': 0.808349609375, 'eval_report': {'NOR': {'precision': 0.6753246753246753, 'recall': 0.7086882453151618, 'f1-score': 0.6916043225270159, 'support': 587}, 'IRQ': {'precision': 0.8582554517133957, 'recall': 0.924496644295302, 'f1-score': 0.8901453957996768, 'support': 1788}, 'LEV': {'precision': 0.7905918057663126, 'recall': 0.7186206896551725, 'f1-score': 0.7528901734104047, 'support': 725}, 'EGY': {'precision': 0.806615776081425, 'recall': 0.6788008565310493, 'f1-score': 0.7372093023255814, 'support': 467}, 'GLF': {'precision': 0.8047808764940239, 'recall': 0.7637051039697542, 'f1-score': 0.7837051406401552, 'support': 529}, 'accuracy': 0.808349609375, 'macro avg': {'precision': 0.7871137170759666, 'recall': 0.758862307953288, 'f1-score': 0.7711108669405669, 'support': 4096}, 'weighted avg': {'precision': 0.8072690533093448, 'recall': 0.808349609375, 'f1-score': 0.8062143174610381, 'support': 4096}}, 'eval_runtime': 7.5012, 'eval_samples_per_second': 546.044, 'eval_steps_per_second': 8.532, 'epoch': 0.46}\n"
     ]
    },
    {
     "name": "stderr",
     "output_type": "stream",
     "text": [
      "\n",
      " 12%|█▏        | 10000/86888 [1:52:57<9:21:08,  2.28it/s]"
     ]
    },
    {
     "name": "stdout",
     "output_type": "stream",
     "text": [
      "{'eval_loss': 0.5382239818572998, 'eval_macro_f1': 0.7711108669405669, 'eval_macro_precision': 0.7871137170759666, 'eval_macro_recall': 0.758862307953288, 'eval_accuracy': 0.808349609375, 'eval_report': {'NOR': {'precision': 0.6753246753246753, 'recall': 0.7086882453151618, 'f1-score': 0.6916043225270159, 'support': 587}, 'IRQ': {'precision': 0.8582554517133957, 'recall': 0.924496644295302, 'f1-score': 0.8901453957996768, 'support': 1788}, 'LEV': {'precision': 0.7905918057663126, 'recall': 0.7186206896551725, 'f1-score': 0.7528901734104047, 'support': 725}, 'EGY': {'precision': 0.806615776081425, 'recall': 0.6788008565310493, 'f1-score': 0.7372093023255814, 'support': 467}, 'GLF': {'precision': 0.8047808764940239, 'recall': 0.7637051039697542, 'f1-score': 0.7837051406401552, 'support': 529}, 'accuracy': 0.808349609375, 'macro avg': {'precision': 0.7871137170759666, 'recall': 0.758862307953288, 'f1-score': 0.7711108669405669, 'support': 4096}, 'weighted avg': {'precision': 0.8072690533093448, 'recall': 0.808349609375, 'f1-score': 0.8062143174610381, 'support': 4096}}, 'eval_runtime': 7.4882, 'eval_samples_per_second': 546.991, 'eval_steps_per_second': 8.547, 'epoch': 0.46}\n"
     ]
    },
    {
     "name": "stderr",
     "output_type": "stream",
     "text": [
      "\n",
      " 12%|█▏        | 10000/86888 [1:53:04<9:21:08,  2.28it/s]"
     ]
    },
    {
     "name": "stdout",
     "output_type": "stream",
     "text": [
      "{'eval_loss': 0.5382239818572998, 'eval_macro_f1': 0.7711108669405669, 'eval_macro_precision': 0.7871137170759666, 'eval_macro_recall': 0.758862307953288, 'eval_accuracy': 0.808349609375, 'eval_report': {'NOR': {'precision': 0.6753246753246753, 'recall': 0.7086882453151618, 'f1-score': 0.6916043225270159, 'support': 587}, 'IRQ': {'precision': 0.8582554517133957, 'recall': 0.924496644295302, 'f1-score': 0.8901453957996768, 'support': 1788}, 'LEV': {'precision': 0.7905918057663126, 'recall': 0.7186206896551725, 'f1-score': 0.7528901734104047, 'support': 725}, 'EGY': {'precision': 0.806615776081425, 'recall': 0.6788008565310493, 'f1-score': 0.7372093023255814, 'support': 467}, 'GLF': {'precision': 0.8047808764940239, 'recall': 0.7637051039697542, 'f1-score': 0.7837051406401552, 'support': 529}, 'accuracy': 0.808349609375, 'macro avg': {'precision': 0.7871137170759666, 'recall': 0.758862307953288, 'f1-score': 0.7711108669405669, 'support': 4096}, 'weighted avg': {'precision': 0.8072690533093448, 'recall': 0.808349609375, 'f1-score': 0.8062143174610381, 'support': 4096}}, 'eval_runtime': 7.4954, 'eval_samples_per_second': 546.471, 'eval_steps_per_second': 8.539, 'epoch': 0.46}\n"
     ]
    },
    {
     "name": "stderr",
     "output_type": "stream",
     "text": [
      "\n",
      " 12%|█▏        | 10000/86888 [1:53:12<9:21:08,  2.28it/s]"
     ]
    },
    {
     "name": "stdout",
     "output_type": "stream",
     "text": [
      "{'eval_loss': 0.5382239818572998, 'eval_macro_f1': 0.7711108669405669, 'eval_macro_precision': 0.7871137170759666, 'eval_macro_recall': 0.758862307953288, 'eval_accuracy': 0.808349609375, 'eval_report': {'NOR': {'precision': 0.6753246753246753, 'recall': 0.7086882453151618, 'f1-score': 0.6916043225270159, 'support': 587}, 'IRQ': {'precision': 0.8582554517133957, 'recall': 0.924496644295302, 'f1-score': 0.8901453957996768, 'support': 1788}, 'LEV': {'precision': 0.7905918057663126, 'recall': 0.7186206896551725, 'f1-score': 0.7528901734104047, 'support': 725}, 'EGY': {'precision': 0.806615776081425, 'recall': 0.6788008565310493, 'f1-score': 0.7372093023255814, 'support': 467}, 'GLF': {'precision': 0.8047808764940239, 'recall': 0.7637051039697542, 'f1-score': 0.7837051406401552, 'support': 529}, 'accuracy': 0.808349609375, 'macro avg': {'precision': 0.7871137170759666, 'recall': 0.758862307953288, 'f1-score': 0.7711108669405669, 'support': 4096}, 'weighted avg': {'precision': 0.8072690533093448, 'recall': 0.808349609375, 'f1-score': 0.8062143174610381, 'support': 4096}}, 'eval_runtime': 7.4903, 'eval_samples_per_second': 546.844, 'eval_steps_per_second': 8.544, 'epoch': 0.46}\n"
     ]
    },
    {
     "name": "stderr",
     "output_type": "stream",
     "text": [
      "\n",
      " 12%|█▏        | 10000/86888 [1:53:19<9:21:08,  2.28it/s]"
     ]
    },
    {
     "name": "stdout",
     "output_type": "stream",
     "text": [
      "{'eval_loss': 0.5382239818572998, 'eval_macro_f1': 0.7711108669405669, 'eval_macro_precision': 0.7871137170759666, 'eval_macro_recall': 0.758862307953288, 'eval_accuracy': 0.808349609375, 'eval_report': {'NOR': {'precision': 0.6753246753246753, 'recall': 0.7086882453151618, 'f1-score': 0.6916043225270159, 'support': 587}, 'IRQ': {'precision': 0.8582554517133957, 'recall': 0.924496644295302, 'f1-score': 0.8901453957996768, 'support': 1788}, 'LEV': {'precision': 0.7905918057663126, 'recall': 0.7186206896551725, 'f1-score': 0.7528901734104047, 'support': 725}, 'EGY': {'precision': 0.806615776081425, 'recall': 0.6788008565310493, 'f1-score': 0.7372093023255814, 'support': 467}, 'GLF': {'precision': 0.8047808764940239, 'recall': 0.7637051039697542, 'f1-score': 0.7837051406401552, 'support': 529}, 'accuracy': 0.808349609375, 'macro avg': {'precision': 0.7871137170759666, 'recall': 0.758862307953288, 'f1-score': 0.7711108669405669, 'support': 4096}, 'weighted avg': {'precision': 0.8072690533093448, 'recall': 0.808349609375, 'f1-score': 0.8062143174610381, 'support': 4096}}, 'eval_runtime': 7.5058, 'eval_samples_per_second': 545.715, 'eval_steps_per_second': 8.527, 'epoch': 0.46}\n"
     ]
    },
    {
     "name": "stderr",
     "output_type": "stream",
     "text": [
      "\n",
      " 12%|█▏        | 10000/86888 [1:53:27<9:21:08,  2.28it/s]"
     ]
    },
    {
     "name": "stdout",
     "output_type": "stream",
     "text": [
      "{'eval_loss': 0.5382239818572998, 'eval_macro_f1': 0.7711108669405669, 'eval_macro_precision': 0.7871137170759666, 'eval_macro_recall': 0.758862307953288, 'eval_accuracy': 0.808349609375, 'eval_report': {'NOR': {'precision': 0.6753246753246753, 'recall': 0.7086882453151618, 'f1-score': 0.6916043225270159, 'support': 587}, 'IRQ': {'precision': 0.8582554517133957, 'recall': 0.924496644295302, 'f1-score': 0.8901453957996768, 'support': 1788}, 'LEV': {'precision': 0.7905918057663126, 'recall': 0.7186206896551725, 'f1-score': 0.7528901734104047, 'support': 725}, 'EGY': {'precision': 0.806615776081425, 'recall': 0.6788008565310493, 'f1-score': 0.7372093023255814, 'support': 467}, 'GLF': {'precision': 0.8047808764940239, 'recall': 0.7637051039697542, 'f1-score': 0.7837051406401552, 'support': 529}, 'accuracy': 0.808349609375, 'macro avg': {'precision': 0.7871137170759666, 'recall': 0.758862307953288, 'f1-score': 0.7711108669405669, 'support': 4096}, 'weighted avg': {'precision': 0.8072690533093448, 'recall': 0.808349609375, 'f1-score': 0.8062143174610381, 'support': 4096}}, 'eval_runtime': 7.4852, 'eval_samples_per_second': 547.21, 'eval_steps_per_second': 8.55, 'epoch': 0.46}\n"
     ]
    },
    {
     "name": "stderr",
     "output_type": "stream",
     "text": [
      "\n",
      " 12%|█▏        | 10000/86888 [1:53:34<9:21:08,  2.28it/s]"
     ]
    },
    {
     "name": "stdout",
     "output_type": "stream",
     "text": [
      "{'eval_loss': 0.5382239818572998, 'eval_macro_f1': 0.7711108669405669, 'eval_macro_precision': 0.7871137170759666, 'eval_macro_recall': 0.758862307953288, 'eval_accuracy': 0.808349609375, 'eval_report': {'NOR': {'precision': 0.6753246753246753, 'recall': 0.7086882453151618, 'f1-score': 0.6916043225270159, 'support': 587}, 'IRQ': {'precision': 0.8582554517133957, 'recall': 0.924496644295302, 'f1-score': 0.8901453957996768, 'support': 1788}, 'LEV': {'precision': 0.7905918057663126, 'recall': 0.7186206896551725, 'f1-score': 0.7528901734104047, 'support': 725}, 'EGY': {'precision': 0.806615776081425, 'recall': 0.6788008565310493, 'f1-score': 0.7372093023255814, 'support': 467}, 'GLF': {'precision': 0.8047808764940239, 'recall': 0.7637051039697542, 'f1-score': 0.7837051406401552, 'support': 529}, 'accuracy': 0.808349609375, 'macro avg': {'precision': 0.7871137170759666, 'recall': 0.758862307953288, 'f1-score': 0.7711108669405669, 'support': 4096}, 'weighted avg': {'precision': 0.8072690533093448, 'recall': 0.808349609375, 'f1-score': 0.8062143174610381, 'support': 4096}}, 'eval_runtime': 7.4878, 'eval_samples_per_second': 547.023, 'eval_steps_per_second': 8.547, 'epoch': 0.46}\n"
     ]
    },
    {
     "name": "stderr",
     "output_type": "stream",
     "text": [
      "\n",
      " 12%|█▏        | 10000/86888 [1:53:42<9:21:08,  2.28it/s]"
     ]
    },
    {
     "name": "stdout",
     "output_type": "stream",
     "text": [
      "{'eval_loss': 0.5382239818572998, 'eval_macro_f1': 0.7711108669405669, 'eval_macro_precision': 0.7871137170759666, 'eval_macro_recall': 0.758862307953288, 'eval_accuracy': 0.808349609375, 'eval_report': {'NOR': {'precision': 0.6753246753246753, 'recall': 0.7086882453151618, 'f1-score': 0.6916043225270159, 'support': 587}, 'IRQ': {'precision': 0.8582554517133957, 'recall': 0.924496644295302, 'f1-score': 0.8901453957996768, 'support': 1788}, 'LEV': {'precision': 0.7905918057663126, 'recall': 0.7186206896551725, 'f1-score': 0.7528901734104047, 'support': 725}, 'EGY': {'precision': 0.806615776081425, 'recall': 0.6788008565310493, 'f1-score': 0.7372093023255814, 'support': 467}, 'GLF': {'precision': 0.8047808764940239, 'recall': 0.7637051039697542, 'f1-score': 0.7837051406401552, 'support': 529}, 'accuracy': 0.808349609375, 'macro avg': {'precision': 0.7871137170759666, 'recall': 0.758862307953288, 'f1-score': 0.7711108669405669, 'support': 4096}, 'weighted avg': {'precision': 0.8072690533093448, 'recall': 0.808349609375, 'f1-score': 0.8062143174610381, 'support': 4096}}, 'eval_runtime': 7.4915, 'eval_samples_per_second': 546.754, 'eval_steps_per_second': 8.543, 'epoch': 0.46}\n"
     ]
    },
    {
     "name": "stderr",
     "output_type": "stream",
     "text": [
      "\n",
      " 12%|█▏        | 10000/86888 [1:53:49<9:21:08,  2.28it/s]"
     ]
    },
    {
     "name": "stdout",
     "output_type": "stream",
     "text": [
      "{'eval_loss': 0.5382239818572998, 'eval_macro_f1': 0.7711108669405669, 'eval_macro_precision': 0.7871137170759666, 'eval_macro_recall': 0.758862307953288, 'eval_accuracy': 0.808349609375, 'eval_report': {'NOR': {'precision': 0.6753246753246753, 'recall': 0.7086882453151618, 'f1-score': 0.6916043225270159, 'support': 587}, 'IRQ': {'precision': 0.8582554517133957, 'recall': 0.924496644295302, 'f1-score': 0.8901453957996768, 'support': 1788}, 'LEV': {'precision': 0.7905918057663126, 'recall': 0.7186206896551725, 'f1-score': 0.7528901734104047, 'support': 725}, 'EGY': {'precision': 0.806615776081425, 'recall': 0.6788008565310493, 'f1-score': 0.7372093023255814, 'support': 467}, 'GLF': {'precision': 0.8047808764940239, 'recall': 0.7637051039697542, 'f1-score': 0.7837051406401552, 'support': 529}, 'accuracy': 0.808349609375, 'macro avg': {'precision': 0.7871137170759666, 'recall': 0.758862307953288, 'f1-score': 0.7711108669405669, 'support': 4096}, 'weighted avg': {'precision': 0.8072690533093448, 'recall': 0.808349609375, 'f1-score': 0.8062143174610381, 'support': 4096}}, 'eval_runtime': 7.4903, 'eval_samples_per_second': 546.842, 'eval_steps_per_second': 8.544, 'epoch': 0.46}\n"
     ]
    },
    {
     "name": "stderr",
     "output_type": "stream",
     "text": [
      "\n",
      " 12%|█▏        | 10000/86888 [1:53:57<9:21:08,  2.28it/s]"
     ]
    },
    {
     "name": "stdout",
     "output_type": "stream",
     "text": [
      "{'eval_loss': 0.5382239818572998, 'eval_macro_f1': 0.7711108669405669, 'eval_macro_precision': 0.7871137170759666, 'eval_macro_recall': 0.758862307953288, 'eval_accuracy': 0.808349609375, 'eval_report': {'NOR': {'precision': 0.6753246753246753, 'recall': 0.7086882453151618, 'f1-score': 0.6916043225270159, 'support': 587}, 'IRQ': {'precision': 0.8582554517133957, 'recall': 0.924496644295302, 'f1-score': 0.8901453957996768, 'support': 1788}, 'LEV': {'precision': 0.7905918057663126, 'recall': 0.7186206896551725, 'f1-score': 0.7528901734104047, 'support': 725}, 'EGY': {'precision': 0.806615776081425, 'recall': 0.6788008565310493, 'f1-score': 0.7372093023255814, 'support': 467}, 'GLF': {'precision': 0.8047808764940239, 'recall': 0.7637051039697542, 'f1-score': 0.7837051406401552, 'support': 529}, 'accuracy': 0.808349609375, 'macro avg': {'precision': 0.7871137170759666, 'recall': 0.758862307953288, 'f1-score': 0.7711108669405669, 'support': 4096}, 'weighted avg': {'precision': 0.8072690533093448, 'recall': 0.808349609375, 'f1-score': 0.8062143174610381, 'support': 4096}}, 'eval_runtime': 7.4884, 'eval_samples_per_second': 546.98, 'eval_steps_per_second': 8.547, 'epoch': 0.46}\n"
     ]
    },
    {
     "name": "stderr",
     "output_type": "stream",
     "text": [
      "\n",
      " 12%|█▏        | 10000/86888 [1:54:04<9:21:08,  2.28it/s]"
     ]
    },
    {
     "name": "stdout",
     "output_type": "stream",
     "text": [
      "{'eval_loss': 0.5382239818572998, 'eval_macro_f1': 0.7711108669405669, 'eval_macro_precision': 0.7871137170759666, 'eval_macro_recall': 0.758862307953288, 'eval_accuracy': 0.808349609375, 'eval_report': {'NOR': {'precision': 0.6753246753246753, 'recall': 0.7086882453151618, 'f1-score': 0.6916043225270159, 'support': 587}, 'IRQ': {'precision': 0.8582554517133957, 'recall': 0.924496644295302, 'f1-score': 0.8901453957996768, 'support': 1788}, 'LEV': {'precision': 0.7905918057663126, 'recall': 0.7186206896551725, 'f1-score': 0.7528901734104047, 'support': 725}, 'EGY': {'precision': 0.806615776081425, 'recall': 0.6788008565310493, 'f1-score': 0.7372093023255814, 'support': 467}, 'GLF': {'precision': 0.8047808764940239, 'recall': 0.7637051039697542, 'f1-score': 0.7837051406401552, 'support': 529}, 'accuracy': 0.808349609375, 'macro avg': {'precision': 0.7871137170759666, 'recall': 0.758862307953288, 'f1-score': 0.7711108669405669, 'support': 4096}, 'weighted avg': {'precision': 0.8072690533093448, 'recall': 0.808349609375, 'f1-score': 0.8062143174610381, 'support': 4096}}, 'eval_runtime': 7.4855, 'eval_samples_per_second': 547.191, 'eval_steps_per_second': 8.55, 'epoch': 0.46}\n"
     ]
    },
    {
     "name": "stderr",
     "output_type": "stream",
     "text": [
      "\n",
      " 12%|█▏        | 10000/86888 [1:54:12<9:21:08,  2.28it/s]"
     ]
    },
    {
     "name": "stdout",
     "output_type": "stream",
     "text": [
      "{'eval_loss': 0.5382239818572998, 'eval_macro_f1': 0.7711108669405669, 'eval_macro_precision': 0.7871137170759666, 'eval_macro_recall': 0.758862307953288, 'eval_accuracy': 0.808349609375, 'eval_report': {'NOR': {'precision': 0.6753246753246753, 'recall': 0.7086882453151618, 'f1-score': 0.6916043225270159, 'support': 587}, 'IRQ': {'precision': 0.8582554517133957, 'recall': 0.924496644295302, 'f1-score': 0.8901453957996768, 'support': 1788}, 'LEV': {'precision': 0.7905918057663126, 'recall': 0.7186206896551725, 'f1-score': 0.7528901734104047, 'support': 725}, 'EGY': {'precision': 0.806615776081425, 'recall': 0.6788008565310493, 'f1-score': 0.7372093023255814, 'support': 467}, 'GLF': {'precision': 0.8047808764940239, 'recall': 0.7637051039697542, 'f1-score': 0.7837051406401552, 'support': 529}, 'accuracy': 0.808349609375, 'macro avg': {'precision': 0.7871137170759666, 'recall': 0.758862307953288, 'f1-score': 0.7711108669405669, 'support': 4096}, 'weighted avg': {'precision': 0.8072690533093448, 'recall': 0.808349609375, 'f1-score': 0.8062143174610381, 'support': 4096}}, 'eval_runtime': 7.4989, 'eval_samples_per_second': 546.212, 'eval_steps_per_second': 8.535, 'epoch': 0.46}\n"
     ]
    },
    {
     "name": "stderr",
     "output_type": "stream",
     "text": [
      "\n",
      " 12%|█▏        | 10000/86888 [1:54:19<9:21:08,  2.28it/s]"
     ]
    },
    {
     "name": "stdout",
     "output_type": "stream",
     "text": [
      "{'eval_loss': 0.5382239818572998, 'eval_macro_f1': 0.7711108669405669, 'eval_macro_precision': 0.7871137170759666, 'eval_macro_recall': 0.758862307953288, 'eval_accuracy': 0.808349609375, 'eval_report': {'NOR': {'precision': 0.6753246753246753, 'recall': 0.7086882453151618, 'f1-score': 0.6916043225270159, 'support': 587}, 'IRQ': {'precision': 0.8582554517133957, 'recall': 0.924496644295302, 'f1-score': 0.8901453957996768, 'support': 1788}, 'LEV': {'precision': 0.7905918057663126, 'recall': 0.7186206896551725, 'f1-score': 0.7528901734104047, 'support': 725}, 'EGY': {'precision': 0.806615776081425, 'recall': 0.6788008565310493, 'f1-score': 0.7372093023255814, 'support': 467}, 'GLF': {'precision': 0.8047808764940239, 'recall': 0.7637051039697542, 'f1-score': 0.7837051406401552, 'support': 529}, 'accuracy': 0.808349609375, 'macro avg': {'precision': 0.7871137170759666, 'recall': 0.758862307953288, 'f1-score': 0.7711108669405669, 'support': 4096}, 'weighted avg': {'precision': 0.8072690533093448, 'recall': 0.808349609375, 'f1-score': 0.8062143174610381, 'support': 4096}}, 'eval_runtime': 7.4984, 'eval_samples_per_second': 546.252, 'eval_steps_per_second': 8.535, 'epoch': 0.46}\n"
     ]
    },
    {
     "name": "stderr",
     "output_type": "stream",
     "text": [
      "\n",
      " 12%|█▏        | 10000/86888 [1:54:27<9:21:08,  2.28it/s]"
     ]
    },
    {
     "name": "stdout",
     "output_type": "stream",
     "text": [
      "{'eval_loss': 0.5382239818572998, 'eval_macro_f1': 0.7711108669405669, 'eval_macro_precision': 0.7871137170759666, 'eval_macro_recall': 0.758862307953288, 'eval_accuracy': 0.808349609375, 'eval_report': {'NOR': {'precision': 0.6753246753246753, 'recall': 0.7086882453151618, 'f1-score': 0.6916043225270159, 'support': 587}, 'IRQ': {'precision': 0.8582554517133957, 'recall': 0.924496644295302, 'f1-score': 0.8901453957996768, 'support': 1788}, 'LEV': {'precision': 0.7905918057663126, 'recall': 0.7186206896551725, 'f1-score': 0.7528901734104047, 'support': 725}, 'EGY': {'precision': 0.806615776081425, 'recall': 0.6788008565310493, 'f1-score': 0.7372093023255814, 'support': 467}, 'GLF': {'precision': 0.8047808764940239, 'recall': 0.7637051039697542, 'f1-score': 0.7837051406401552, 'support': 529}, 'accuracy': 0.808349609375, 'macro avg': {'precision': 0.7871137170759666, 'recall': 0.758862307953288, 'f1-score': 0.7711108669405669, 'support': 4096}, 'weighted avg': {'precision': 0.8072690533093448, 'recall': 0.808349609375, 'f1-score': 0.8062143174610381, 'support': 4096}}, 'eval_runtime': 7.4835, 'eval_samples_per_second': 547.339, 'eval_steps_per_second': 8.552, 'epoch': 0.46}\n"
     ]
    },
    {
     "name": "stderr",
     "output_type": "stream",
     "text": [
      "\n",
      " 12%|█▏        | 10000/86888 [1:54:34<9:21:08,  2.28it/s]"
     ]
    },
    {
     "name": "stdout",
     "output_type": "stream",
     "text": [
      "{'eval_loss': 0.5382239818572998, 'eval_macro_f1': 0.7711108669405669, 'eval_macro_precision': 0.7871137170759666, 'eval_macro_recall': 0.758862307953288, 'eval_accuracy': 0.808349609375, 'eval_report': {'NOR': {'precision': 0.6753246753246753, 'recall': 0.7086882453151618, 'f1-score': 0.6916043225270159, 'support': 587}, 'IRQ': {'precision': 0.8582554517133957, 'recall': 0.924496644295302, 'f1-score': 0.8901453957996768, 'support': 1788}, 'LEV': {'precision': 0.7905918057663126, 'recall': 0.7186206896551725, 'f1-score': 0.7528901734104047, 'support': 725}, 'EGY': {'precision': 0.806615776081425, 'recall': 0.6788008565310493, 'f1-score': 0.7372093023255814, 'support': 467}, 'GLF': {'precision': 0.8047808764940239, 'recall': 0.7637051039697542, 'f1-score': 0.7837051406401552, 'support': 529}, 'accuracy': 0.808349609375, 'macro avg': {'precision': 0.7871137170759666, 'recall': 0.758862307953288, 'f1-score': 0.7711108669405669, 'support': 4096}, 'weighted avg': {'precision': 0.8072690533093448, 'recall': 0.808349609375, 'f1-score': 0.8062143174610381, 'support': 4096}}, 'eval_runtime': 7.4874, 'eval_samples_per_second': 547.056, 'eval_steps_per_second': 8.548, 'epoch': 0.46}\n"
     ]
    },
    {
     "name": "stderr",
     "output_type": "stream",
     "text": [
      "\n",
      " 12%|█▏        | 10000/86888 [1:54:42<9:21:08,  2.28it/s]"
     ]
    },
    {
     "name": "stdout",
     "output_type": "stream",
     "text": [
      "{'eval_loss': 0.5382239818572998, 'eval_macro_f1': 0.7711108669405669, 'eval_macro_precision': 0.7871137170759666, 'eval_macro_recall': 0.758862307953288, 'eval_accuracy': 0.808349609375, 'eval_report': {'NOR': {'precision': 0.6753246753246753, 'recall': 0.7086882453151618, 'f1-score': 0.6916043225270159, 'support': 587}, 'IRQ': {'precision': 0.8582554517133957, 'recall': 0.924496644295302, 'f1-score': 0.8901453957996768, 'support': 1788}, 'LEV': {'precision': 0.7905918057663126, 'recall': 0.7186206896551725, 'f1-score': 0.7528901734104047, 'support': 725}, 'EGY': {'precision': 0.806615776081425, 'recall': 0.6788008565310493, 'f1-score': 0.7372093023255814, 'support': 467}, 'GLF': {'precision': 0.8047808764940239, 'recall': 0.7637051039697542, 'f1-score': 0.7837051406401552, 'support': 529}, 'accuracy': 0.808349609375, 'macro avg': {'precision': 0.7871137170759666, 'recall': 0.758862307953288, 'f1-score': 0.7711108669405669, 'support': 4096}, 'weighted avg': {'precision': 0.8072690533093448, 'recall': 0.808349609375, 'f1-score': 0.8062143174610381, 'support': 4096}}, 'eval_runtime': 7.4887, 'eval_samples_per_second': 546.956, 'eval_steps_per_second': 8.546, 'epoch': 0.46}\n"
     ]
    },
    {
     "name": "stderr",
     "output_type": "stream",
     "text": [
      "\n",
      " 12%|█▏        | 10000/86888 [1:54:49<9:21:08,  2.28it/s]"
     ]
    },
    {
     "name": "stdout",
     "output_type": "stream",
     "text": [
      "{'eval_loss': 0.5382239818572998, 'eval_macro_f1': 0.7711108669405669, 'eval_macro_precision': 0.7871137170759666, 'eval_macro_recall': 0.758862307953288, 'eval_accuracy': 0.808349609375, 'eval_report': {'NOR': {'precision': 0.6753246753246753, 'recall': 0.7086882453151618, 'f1-score': 0.6916043225270159, 'support': 587}, 'IRQ': {'precision': 0.8582554517133957, 'recall': 0.924496644295302, 'f1-score': 0.8901453957996768, 'support': 1788}, 'LEV': {'precision': 0.7905918057663126, 'recall': 0.7186206896551725, 'f1-score': 0.7528901734104047, 'support': 725}, 'EGY': {'precision': 0.806615776081425, 'recall': 0.6788008565310493, 'f1-score': 0.7372093023255814, 'support': 467}, 'GLF': {'precision': 0.8047808764940239, 'recall': 0.7637051039697542, 'f1-score': 0.7837051406401552, 'support': 529}, 'accuracy': 0.808349609375, 'macro avg': {'precision': 0.7871137170759666, 'recall': 0.758862307953288, 'f1-score': 0.7711108669405669, 'support': 4096}, 'weighted avg': {'precision': 0.8072690533093448, 'recall': 0.808349609375, 'f1-score': 0.8062143174610381, 'support': 4096}}, 'eval_runtime': 7.4955, 'eval_samples_per_second': 546.462, 'eval_steps_per_second': 8.538, 'epoch': 0.46}\n"
     ]
    },
    {
     "name": "stderr",
     "output_type": "stream",
     "text": [
      "\n",
      " 12%|█▏        | 10000/86888 [1:54:57<9:21:08,  2.28it/s]"
     ]
    },
    {
     "name": "stdout",
     "output_type": "stream",
     "text": [
      "{'eval_loss': 0.5382239818572998, 'eval_macro_f1': 0.7711108669405669, 'eval_macro_precision': 0.7871137170759666, 'eval_macro_recall': 0.758862307953288, 'eval_accuracy': 0.808349609375, 'eval_report': {'NOR': {'precision': 0.6753246753246753, 'recall': 0.7086882453151618, 'f1-score': 0.6916043225270159, 'support': 587}, 'IRQ': {'precision': 0.8582554517133957, 'recall': 0.924496644295302, 'f1-score': 0.8901453957996768, 'support': 1788}, 'LEV': {'precision': 0.7905918057663126, 'recall': 0.7186206896551725, 'f1-score': 0.7528901734104047, 'support': 725}, 'EGY': {'precision': 0.806615776081425, 'recall': 0.6788008565310493, 'f1-score': 0.7372093023255814, 'support': 467}, 'GLF': {'precision': 0.8047808764940239, 'recall': 0.7637051039697542, 'f1-score': 0.7837051406401552, 'support': 529}, 'accuracy': 0.808349609375, 'macro avg': {'precision': 0.7871137170759666, 'recall': 0.758862307953288, 'f1-score': 0.7711108669405669, 'support': 4096}, 'weighted avg': {'precision': 0.8072690533093448, 'recall': 0.808349609375, 'f1-score': 0.8062143174610381, 'support': 4096}}, 'eval_runtime': 7.4843, 'eval_samples_per_second': 547.277, 'eval_steps_per_second': 8.551, 'epoch': 0.46}\n"
     ]
    },
    {
     "name": "stderr",
     "output_type": "stream",
     "text": [
      "\n",
      " 12%|█▏        | 10000/86888 [1:55:04<9:21:08,  2.28it/s]"
     ]
    },
    {
     "name": "stdout",
     "output_type": "stream",
     "text": [
      "{'eval_loss': 0.5382239818572998, 'eval_macro_f1': 0.7711108669405669, 'eval_macro_precision': 0.7871137170759666, 'eval_macro_recall': 0.758862307953288, 'eval_accuracy': 0.808349609375, 'eval_report': {'NOR': {'precision': 0.6753246753246753, 'recall': 0.7086882453151618, 'f1-score': 0.6916043225270159, 'support': 587}, 'IRQ': {'precision': 0.8582554517133957, 'recall': 0.924496644295302, 'f1-score': 0.8901453957996768, 'support': 1788}, 'LEV': {'precision': 0.7905918057663126, 'recall': 0.7186206896551725, 'f1-score': 0.7528901734104047, 'support': 725}, 'EGY': {'precision': 0.806615776081425, 'recall': 0.6788008565310493, 'f1-score': 0.7372093023255814, 'support': 467}, 'GLF': {'precision': 0.8047808764940239, 'recall': 0.7637051039697542, 'f1-score': 0.7837051406401552, 'support': 529}, 'accuracy': 0.808349609375, 'macro avg': {'precision': 0.7871137170759666, 'recall': 0.758862307953288, 'f1-score': 0.7711108669405669, 'support': 4096}, 'weighted avg': {'precision': 0.8072690533093448, 'recall': 0.808349609375, 'f1-score': 0.8062143174610381, 'support': 4096}}, 'eval_runtime': 7.4869, 'eval_samples_per_second': 547.091, 'eval_steps_per_second': 8.548, 'epoch': 0.46}\n"
     ]
    },
    {
     "name": "stderr",
     "output_type": "stream",
     "text": [
      "\n",
      " 12%|█▏        | 10000/86888 [1:55:12<9:21:08,  2.28it/s]"
     ]
    },
    {
     "name": "stdout",
     "output_type": "stream",
     "text": [
      "{'eval_loss': 0.5382239818572998, 'eval_macro_f1': 0.7711108669405669, 'eval_macro_precision': 0.7871137170759666, 'eval_macro_recall': 0.758862307953288, 'eval_accuracy': 0.808349609375, 'eval_report': {'NOR': {'precision': 0.6753246753246753, 'recall': 0.7086882453151618, 'f1-score': 0.6916043225270159, 'support': 587}, 'IRQ': {'precision': 0.8582554517133957, 'recall': 0.924496644295302, 'f1-score': 0.8901453957996768, 'support': 1788}, 'LEV': {'precision': 0.7905918057663126, 'recall': 0.7186206896551725, 'f1-score': 0.7528901734104047, 'support': 725}, 'EGY': {'precision': 0.806615776081425, 'recall': 0.6788008565310493, 'f1-score': 0.7372093023255814, 'support': 467}, 'GLF': {'precision': 0.8047808764940239, 'recall': 0.7637051039697542, 'f1-score': 0.7837051406401552, 'support': 529}, 'accuracy': 0.808349609375, 'macro avg': {'precision': 0.7871137170759666, 'recall': 0.758862307953288, 'f1-score': 0.7711108669405669, 'support': 4096}, 'weighted avg': {'precision': 0.8072690533093448, 'recall': 0.808349609375, 'f1-score': 0.8062143174610381, 'support': 4096}}, 'eval_runtime': 7.4936, 'eval_samples_per_second': 546.601, 'eval_steps_per_second': 8.541, 'epoch': 0.46}\n"
     ]
    },
    {
     "name": "stderr",
     "output_type": "stream",
     "text": [
      "\n",
      " 12%|█▏        | 10000/86888 [1:55:19<9:21:08,  2.28it/s]"
     ]
    },
    {
     "name": "stdout",
     "output_type": "stream",
     "text": [
      "{'eval_loss': 0.5382239818572998, 'eval_macro_f1': 0.7711108669405669, 'eval_macro_precision': 0.7871137170759666, 'eval_macro_recall': 0.758862307953288, 'eval_accuracy': 0.808349609375, 'eval_report': {'NOR': {'precision': 0.6753246753246753, 'recall': 0.7086882453151618, 'f1-score': 0.6916043225270159, 'support': 587}, 'IRQ': {'precision': 0.8582554517133957, 'recall': 0.924496644295302, 'f1-score': 0.8901453957996768, 'support': 1788}, 'LEV': {'precision': 0.7905918057663126, 'recall': 0.7186206896551725, 'f1-score': 0.7528901734104047, 'support': 725}, 'EGY': {'precision': 0.806615776081425, 'recall': 0.6788008565310493, 'f1-score': 0.7372093023255814, 'support': 467}, 'GLF': {'precision': 0.8047808764940239, 'recall': 0.7637051039697542, 'f1-score': 0.7837051406401552, 'support': 529}, 'accuracy': 0.808349609375, 'macro avg': {'precision': 0.7871137170759666, 'recall': 0.758862307953288, 'f1-score': 0.7711108669405669, 'support': 4096}, 'weighted avg': {'precision': 0.8072690533093448, 'recall': 0.808349609375, 'f1-score': 0.8062143174610381, 'support': 4096}}, 'eval_runtime': 7.4968, 'eval_samples_per_second': 546.365, 'eval_steps_per_second': 8.537, 'epoch': 0.46}\n"
     ]
    },
    {
     "name": "stderr",
     "output_type": "stream",
     "text": [
      "\n",
      " 12%|█▏        | 10000/86888 [1:55:27<9:21:08,  2.28it/s]"
     ]
    },
    {
     "name": "stdout",
     "output_type": "stream",
     "text": [
      "{'eval_loss': 0.5382239818572998, 'eval_macro_f1': 0.7711108669405669, 'eval_macro_precision': 0.7871137170759666, 'eval_macro_recall': 0.758862307953288, 'eval_accuracy': 0.808349609375, 'eval_report': {'NOR': {'precision': 0.6753246753246753, 'recall': 0.7086882453151618, 'f1-score': 0.6916043225270159, 'support': 587}, 'IRQ': {'precision': 0.8582554517133957, 'recall': 0.924496644295302, 'f1-score': 0.8901453957996768, 'support': 1788}, 'LEV': {'precision': 0.7905918057663126, 'recall': 0.7186206896551725, 'f1-score': 0.7528901734104047, 'support': 725}, 'EGY': {'precision': 0.806615776081425, 'recall': 0.6788008565310493, 'f1-score': 0.7372093023255814, 'support': 467}, 'GLF': {'precision': 0.8047808764940239, 'recall': 0.7637051039697542, 'f1-score': 0.7837051406401552, 'support': 529}, 'accuracy': 0.808349609375, 'macro avg': {'precision': 0.7871137170759666, 'recall': 0.758862307953288, 'f1-score': 0.7711108669405669, 'support': 4096}, 'weighted avg': {'precision': 0.8072690533093448, 'recall': 0.808349609375, 'f1-score': 0.8062143174610381, 'support': 4096}}, 'eval_runtime': 7.491, 'eval_samples_per_second': 546.789, 'eval_steps_per_second': 8.544, 'epoch': 0.46}\n"
     ]
    },
    {
     "name": "stderr",
     "output_type": "stream",
     "text": [
      "\n",
      " 12%|█▏        | 10000/86888 [1:55:34<9:21:08,  2.28it/s]"
     ]
    },
    {
     "name": "stdout",
     "output_type": "stream",
     "text": [
      "{'eval_loss': 0.5382239818572998, 'eval_macro_f1': 0.7711108669405669, 'eval_macro_precision': 0.7871137170759666, 'eval_macro_recall': 0.758862307953288, 'eval_accuracy': 0.808349609375, 'eval_report': {'NOR': {'precision': 0.6753246753246753, 'recall': 0.7086882453151618, 'f1-score': 0.6916043225270159, 'support': 587}, 'IRQ': {'precision': 0.8582554517133957, 'recall': 0.924496644295302, 'f1-score': 0.8901453957996768, 'support': 1788}, 'LEV': {'precision': 0.7905918057663126, 'recall': 0.7186206896551725, 'f1-score': 0.7528901734104047, 'support': 725}, 'EGY': {'precision': 0.806615776081425, 'recall': 0.6788008565310493, 'f1-score': 0.7372093023255814, 'support': 467}, 'GLF': {'precision': 0.8047808764940239, 'recall': 0.7637051039697542, 'f1-score': 0.7837051406401552, 'support': 529}, 'accuracy': 0.808349609375, 'macro avg': {'precision': 0.7871137170759666, 'recall': 0.758862307953288, 'f1-score': 0.7711108669405669, 'support': 4096}, 'weighted avg': {'precision': 0.8072690533093448, 'recall': 0.808349609375, 'f1-score': 0.8062143174610381, 'support': 4096}}, 'eval_runtime': 7.4854, 'eval_samples_per_second': 547.199, 'eval_steps_per_second': 8.55, 'epoch': 0.46}\n"
     ]
    },
    {
     "name": "stderr",
     "output_type": "stream",
     "text": [
      "\n",
      " 12%|█▏        | 10000/86888 [1:55:42<9:21:08,  2.28it/s]"
     ]
    },
    {
     "name": "stdout",
     "output_type": "stream",
     "text": [
      "{'eval_loss': 0.5382239818572998, 'eval_macro_f1': 0.7711108669405669, 'eval_macro_precision': 0.7871137170759666, 'eval_macro_recall': 0.758862307953288, 'eval_accuracy': 0.808349609375, 'eval_report': {'NOR': {'precision': 0.6753246753246753, 'recall': 0.7086882453151618, 'f1-score': 0.6916043225270159, 'support': 587}, 'IRQ': {'precision': 0.8582554517133957, 'recall': 0.924496644295302, 'f1-score': 0.8901453957996768, 'support': 1788}, 'LEV': {'precision': 0.7905918057663126, 'recall': 0.7186206896551725, 'f1-score': 0.7528901734104047, 'support': 725}, 'EGY': {'precision': 0.806615776081425, 'recall': 0.6788008565310493, 'f1-score': 0.7372093023255814, 'support': 467}, 'GLF': {'precision': 0.8047808764940239, 'recall': 0.7637051039697542, 'f1-score': 0.7837051406401552, 'support': 529}, 'accuracy': 0.808349609375, 'macro avg': {'precision': 0.7871137170759666, 'recall': 0.758862307953288, 'f1-score': 0.7711108669405669, 'support': 4096}, 'weighted avg': {'precision': 0.8072690533093448, 'recall': 0.808349609375, 'f1-score': 0.8062143174610381, 'support': 4096}}, 'eval_runtime': 7.5046, 'eval_samples_per_second': 545.8, 'eval_steps_per_second': 8.528, 'epoch': 0.46}\n"
     ]
    },
    {
     "name": "stderr",
     "output_type": "stream",
     "text": [
      "\n",
      " 12%|█▏        | 10000/86888 [1:55:49<9:21:08,  2.28it/s]"
     ]
    },
    {
     "name": "stdout",
     "output_type": "stream",
     "text": [
      "{'eval_loss': 0.5382239818572998, 'eval_macro_f1': 0.7711108669405669, 'eval_macro_precision': 0.7871137170759666, 'eval_macro_recall': 0.758862307953288, 'eval_accuracy': 0.808349609375, 'eval_report': {'NOR': {'precision': 0.6753246753246753, 'recall': 0.7086882453151618, 'f1-score': 0.6916043225270159, 'support': 587}, 'IRQ': {'precision': 0.8582554517133957, 'recall': 0.924496644295302, 'f1-score': 0.8901453957996768, 'support': 1788}, 'LEV': {'precision': 0.7905918057663126, 'recall': 0.7186206896551725, 'f1-score': 0.7528901734104047, 'support': 725}, 'EGY': {'precision': 0.806615776081425, 'recall': 0.6788008565310493, 'f1-score': 0.7372093023255814, 'support': 467}, 'GLF': {'precision': 0.8047808764940239, 'recall': 0.7637051039697542, 'f1-score': 0.7837051406401552, 'support': 529}, 'accuracy': 0.808349609375, 'macro avg': {'precision': 0.7871137170759666, 'recall': 0.758862307953288, 'f1-score': 0.7711108669405669, 'support': 4096}, 'weighted avg': {'precision': 0.8072690533093448, 'recall': 0.808349609375, 'f1-score': 0.8062143174610381, 'support': 4096}}, 'eval_runtime': 7.4886, 'eval_samples_per_second': 546.966, 'eval_steps_per_second': 8.546, 'epoch': 0.46}\n"
     ]
    },
    {
     "name": "stderr",
     "output_type": "stream",
     "text": [
      "\n",
      " 12%|█▏        | 10000/86888 [1:55:57<9:21:08,  2.28it/s]"
     ]
    },
    {
     "name": "stdout",
     "output_type": "stream",
     "text": [
      "{'eval_loss': 0.5382239818572998, 'eval_macro_f1': 0.7711108669405669, 'eval_macro_precision': 0.7871137170759666, 'eval_macro_recall': 0.758862307953288, 'eval_accuracy': 0.808349609375, 'eval_report': {'NOR': {'precision': 0.6753246753246753, 'recall': 0.7086882453151618, 'f1-score': 0.6916043225270159, 'support': 587}, 'IRQ': {'precision': 0.8582554517133957, 'recall': 0.924496644295302, 'f1-score': 0.8901453957996768, 'support': 1788}, 'LEV': {'precision': 0.7905918057663126, 'recall': 0.7186206896551725, 'f1-score': 0.7528901734104047, 'support': 725}, 'EGY': {'precision': 0.806615776081425, 'recall': 0.6788008565310493, 'f1-score': 0.7372093023255814, 'support': 467}, 'GLF': {'precision': 0.8047808764940239, 'recall': 0.7637051039697542, 'f1-score': 0.7837051406401552, 'support': 529}, 'accuracy': 0.808349609375, 'macro avg': {'precision': 0.7871137170759666, 'recall': 0.758862307953288, 'f1-score': 0.7711108669405669, 'support': 4096}, 'weighted avg': {'precision': 0.8072690533093448, 'recall': 0.808349609375, 'f1-score': 0.8062143174610381, 'support': 4096}}, 'eval_runtime': 7.4878, 'eval_samples_per_second': 547.023, 'eval_steps_per_second': 8.547, 'epoch': 0.46}\n"
     ]
    },
    {
     "name": "stderr",
     "output_type": "stream",
     "text": [
      "\n",
      " 12%|█▏        | 10000/86888 [1:56:04<9:21:08,  2.28it/s]"
     ]
    },
    {
     "name": "stdout",
     "output_type": "stream",
     "text": [
      "{'eval_loss': 0.5382239818572998, 'eval_macro_f1': 0.7711108669405669, 'eval_macro_precision': 0.7871137170759666, 'eval_macro_recall': 0.758862307953288, 'eval_accuracy': 0.808349609375, 'eval_report': {'NOR': {'precision': 0.6753246753246753, 'recall': 0.7086882453151618, 'f1-score': 0.6916043225270159, 'support': 587}, 'IRQ': {'precision': 0.8582554517133957, 'recall': 0.924496644295302, 'f1-score': 0.8901453957996768, 'support': 1788}, 'LEV': {'precision': 0.7905918057663126, 'recall': 0.7186206896551725, 'f1-score': 0.7528901734104047, 'support': 725}, 'EGY': {'precision': 0.806615776081425, 'recall': 0.6788008565310493, 'f1-score': 0.7372093023255814, 'support': 467}, 'GLF': {'precision': 0.8047808764940239, 'recall': 0.7637051039697542, 'f1-score': 0.7837051406401552, 'support': 529}, 'accuracy': 0.808349609375, 'macro avg': {'precision': 0.7871137170759666, 'recall': 0.758862307953288, 'f1-score': 0.7711108669405669, 'support': 4096}, 'weighted avg': {'precision': 0.8072690533093448, 'recall': 0.808349609375, 'f1-score': 0.8062143174610381, 'support': 4096}}, 'eval_runtime': 7.4893, 'eval_samples_per_second': 546.915, 'eval_steps_per_second': 8.546, 'epoch': 0.46}\n"
     ]
    },
    {
     "name": "stderr",
     "output_type": "stream",
     "text": [
      "\n",
      " 12%|█▏        | 10000/86888 [1:56:12<9:21:08,  2.28it/s]"
     ]
    },
    {
     "name": "stdout",
     "output_type": "stream",
     "text": [
      "{'eval_loss': 0.5382239818572998, 'eval_macro_f1': 0.7711108669405669, 'eval_macro_precision': 0.7871137170759666, 'eval_macro_recall': 0.758862307953288, 'eval_accuracy': 0.808349609375, 'eval_report': {'NOR': {'precision': 0.6753246753246753, 'recall': 0.7086882453151618, 'f1-score': 0.6916043225270159, 'support': 587}, 'IRQ': {'precision': 0.8582554517133957, 'recall': 0.924496644295302, 'f1-score': 0.8901453957996768, 'support': 1788}, 'LEV': {'precision': 0.7905918057663126, 'recall': 0.7186206896551725, 'f1-score': 0.7528901734104047, 'support': 725}, 'EGY': {'precision': 0.806615776081425, 'recall': 0.6788008565310493, 'f1-score': 0.7372093023255814, 'support': 467}, 'GLF': {'precision': 0.8047808764940239, 'recall': 0.7637051039697542, 'f1-score': 0.7837051406401552, 'support': 529}, 'accuracy': 0.808349609375, 'macro avg': {'precision': 0.7871137170759666, 'recall': 0.758862307953288, 'f1-score': 0.7711108669405669, 'support': 4096}, 'weighted avg': {'precision': 0.8072690533093448, 'recall': 0.808349609375, 'f1-score': 0.8062143174610381, 'support': 4096}}, 'eval_runtime': 7.4907, 'eval_samples_per_second': 546.815, 'eval_steps_per_second': 8.544, 'epoch': 0.46}\n"
     ]
    },
    {
     "name": "stderr",
     "output_type": "stream",
     "text": [
      "\n",
      " 12%|█▏        | 10000/86888 [1:56:19<9:21:08,  2.28it/s]"
     ]
    },
    {
     "name": "stdout",
     "output_type": "stream",
     "text": [
      "{'eval_loss': 0.5382239818572998, 'eval_macro_f1': 0.7711108669405669, 'eval_macro_precision': 0.7871137170759666, 'eval_macro_recall': 0.758862307953288, 'eval_accuracy': 0.808349609375, 'eval_report': {'NOR': {'precision': 0.6753246753246753, 'recall': 0.7086882453151618, 'f1-score': 0.6916043225270159, 'support': 587}, 'IRQ': {'precision': 0.8582554517133957, 'recall': 0.924496644295302, 'f1-score': 0.8901453957996768, 'support': 1788}, 'LEV': {'precision': 0.7905918057663126, 'recall': 0.7186206896551725, 'f1-score': 0.7528901734104047, 'support': 725}, 'EGY': {'precision': 0.806615776081425, 'recall': 0.6788008565310493, 'f1-score': 0.7372093023255814, 'support': 467}, 'GLF': {'precision': 0.8047808764940239, 'recall': 0.7637051039697542, 'f1-score': 0.7837051406401552, 'support': 529}, 'accuracy': 0.808349609375, 'macro avg': {'precision': 0.7871137170759666, 'recall': 0.758862307953288, 'f1-score': 0.7711108669405669, 'support': 4096}, 'weighted avg': {'precision': 0.8072690533093448, 'recall': 0.808349609375, 'f1-score': 0.8062143174610381, 'support': 4096}}, 'eval_runtime': 7.4931, 'eval_samples_per_second': 546.637, 'eval_steps_per_second': 8.541, 'epoch': 0.46}\n"
     ]
    },
    {
     "name": "stderr",
     "output_type": "stream",
     "text": [
      "\n",
      " 12%|█▏        | 10000/86888 [1:56:27<9:21:08,  2.28it/s]"
     ]
    },
    {
     "name": "stdout",
     "output_type": "stream",
     "text": [
      "{'eval_loss': 0.5382239818572998, 'eval_macro_f1': 0.7711108669405669, 'eval_macro_precision': 0.7871137170759666, 'eval_macro_recall': 0.758862307953288, 'eval_accuracy': 0.808349609375, 'eval_report': {'NOR': {'precision': 0.6753246753246753, 'recall': 0.7086882453151618, 'f1-score': 0.6916043225270159, 'support': 587}, 'IRQ': {'precision': 0.8582554517133957, 'recall': 0.924496644295302, 'f1-score': 0.8901453957996768, 'support': 1788}, 'LEV': {'precision': 0.7905918057663126, 'recall': 0.7186206896551725, 'f1-score': 0.7528901734104047, 'support': 725}, 'EGY': {'precision': 0.806615776081425, 'recall': 0.6788008565310493, 'f1-score': 0.7372093023255814, 'support': 467}, 'GLF': {'precision': 0.8047808764940239, 'recall': 0.7637051039697542, 'f1-score': 0.7837051406401552, 'support': 529}, 'accuracy': 0.808349609375, 'macro avg': {'precision': 0.7871137170759666, 'recall': 0.758862307953288, 'f1-score': 0.7711108669405669, 'support': 4096}, 'weighted avg': {'precision': 0.8072690533093448, 'recall': 0.808349609375, 'f1-score': 0.8062143174610381, 'support': 4096}}, 'eval_runtime': 7.4788, 'eval_samples_per_second': 547.682, 'eval_steps_per_second': 8.558, 'epoch': 0.46}\n"
     ]
    },
    {
     "name": "stderr",
     "output_type": "stream",
     "text": [
      "\n",
      " 12%|█▏        | 10000/86888 [1:56:34<9:21:08,  2.28it/s]"
     ]
    },
    {
     "name": "stdout",
     "output_type": "stream",
     "text": [
      "{'eval_loss': 0.5382239818572998, 'eval_macro_f1': 0.7711108669405669, 'eval_macro_precision': 0.7871137170759666, 'eval_macro_recall': 0.758862307953288, 'eval_accuracy': 0.808349609375, 'eval_report': {'NOR': {'precision': 0.6753246753246753, 'recall': 0.7086882453151618, 'f1-score': 0.6916043225270159, 'support': 587}, 'IRQ': {'precision': 0.8582554517133957, 'recall': 0.924496644295302, 'f1-score': 0.8901453957996768, 'support': 1788}, 'LEV': {'precision': 0.7905918057663126, 'recall': 0.7186206896551725, 'f1-score': 0.7528901734104047, 'support': 725}, 'EGY': {'precision': 0.806615776081425, 'recall': 0.6788008565310493, 'f1-score': 0.7372093023255814, 'support': 467}, 'GLF': {'precision': 0.8047808764940239, 'recall': 0.7637051039697542, 'f1-score': 0.7837051406401552, 'support': 529}, 'accuracy': 0.808349609375, 'macro avg': {'precision': 0.7871137170759666, 'recall': 0.758862307953288, 'f1-score': 0.7711108669405669, 'support': 4096}, 'weighted avg': {'precision': 0.8072690533093448, 'recall': 0.808349609375, 'f1-score': 0.8062143174610381, 'support': 4096}}, 'eval_runtime': 7.4871, 'eval_samples_per_second': 547.073, 'eval_steps_per_second': 8.548, 'epoch': 0.46}\n"
     ]
    },
    {
     "name": "stderr",
     "output_type": "stream",
     "text": [
      "\n",
      " 12%|█▏        | 10000/86888 [1:56:42<9:21:08,  2.28it/s]"
     ]
    },
    {
     "name": "stdout",
     "output_type": "stream",
     "text": [
      "{'eval_loss': 0.5382239818572998, 'eval_macro_f1': 0.7711108669405669, 'eval_macro_precision': 0.7871137170759666, 'eval_macro_recall': 0.758862307953288, 'eval_accuracy': 0.808349609375, 'eval_report': {'NOR': {'precision': 0.6753246753246753, 'recall': 0.7086882453151618, 'f1-score': 0.6916043225270159, 'support': 587}, 'IRQ': {'precision': 0.8582554517133957, 'recall': 0.924496644295302, 'f1-score': 0.8901453957996768, 'support': 1788}, 'LEV': {'precision': 0.7905918057663126, 'recall': 0.7186206896551725, 'f1-score': 0.7528901734104047, 'support': 725}, 'EGY': {'precision': 0.806615776081425, 'recall': 0.6788008565310493, 'f1-score': 0.7372093023255814, 'support': 467}, 'GLF': {'precision': 0.8047808764940239, 'recall': 0.7637051039697542, 'f1-score': 0.7837051406401552, 'support': 529}, 'accuracy': 0.808349609375, 'macro avg': {'precision': 0.7871137170759666, 'recall': 0.758862307953288, 'f1-score': 0.7711108669405669, 'support': 4096}, 'weighted avg': {'precision': 0.8072690533093448, 'recall': 0.808349609375, 'f1-score': 0.8062143174610381, 'support': 4096}}, 'eval_runtime': 7.5, 'eval_samples_per_second': 546.131, 'eval_steps_per_second': 8.533, 'epoch': 0.46}\n"
     ]
    },
    {
     "name": "stderr",
     "output_type": "stream",
     "text": [
      "\n",
      " 12%|█▏        | 10000/86888 [1:56:49<9:21:08,  2.28it/s]"
     ]
    },
    {
     "name": "stdout",
     "output_type": "stream",
     "text": [
      "{'eval_loss': 0.5382239818572998, 'eval_macro_f1': 0.7711108669405669, 'eval_macro_precision': 0.7871137170759666, 'eval_macro_recall': 0.758862307953288, 'eval_accuracy': 0.808349609375, 'eval_report': {'NOR': {'precision': 0.6753246753246753, 'recall': 0.7086882453151618, 'f1-score': 0.6916043225270159, 'support': 587}, 'IRQ': {'precision': 0.8582554517133957, 'recall': 0.924496644295302, 'f1-score': 0.8901453957996768, 'support': 1788}, 'LEV': {'precision': 0.7905918057663126, 'recall': 0.7186206896551725, 'f1-score': 0.7528901734104047, 'support': 725}, 'EGY': {'precision': 0.806615776081425, 'recall': 0.6788008565310493, 'f1-score': 0.7372093023255814, 'support': 467}, 'GLF': {'precision': 0.8047808764940239, 'recall': 0.7637051039697542, 'f1-score': 0.7837051406401552, 'support': 529}, 'accuracy': 0.808349609375, 'macro avg': {'precision': 0.7871137170759666, 'recall': 0.758862307953288, 'f1-score': 0.7711108669405669, 'support': 4096}, 'weighted avg': {'precision': 0.8072690533093448, 'recall': 0.808349609375, 'f1-score': 0.8062143174610381, 'support': 4096}}, 'eval_runtime': 7.4794, 'eval_samples_per_second': 547.637, 'eval_steps_per_second': 8.557, 'epoch': 0.46}\n"
     ]
    },
    {
     "name": "stderr",
     "output_type": "stream",
     "text": [
      "\n",
      " 12%|█▏        | 10000/86888 [1:56:57<9:21:08,  2.28it/s]"
     ]
    },
    {
     "name": "stdout",
     "output_type": "stream",
     "text": [
      "{'eval_loss': 0.5382239818572998, 'eval_macro_f1': 0.7711108669405669, 'eval_macro_precision': 0.7871137170759666, 'eval_macro_recall': 0.758862307953288, 'eval_accuracy': 0.808349609375, 'eval_report': {'NOR': {'precision': 0.6753246753246753, 'recall': 0.7086882453151618, 'f1-score': 0.6916043225270159, 'support': 587}, 'IRQ': {'precision': 0.8582554517133957, 'recall': 0.924496644295302, 'f1-score': 0.8901453957996768, 'support': 1788}, 'LEV': {'precision': 0.7905918057663126, 'recall': 0.7186206896551725, 'f1-score': 0.7528901734104047, 'support': 725}, 'EGY': {'precision': 0.806615776081425, 'recall': 0.6788008565310493, 'f1-score': 0.7372093023255814, 'support': 467}, 'GLF': {'precision': 0.8047808764940239, 'recall': 0.7637051039697542, 'f1-score': 0.7837051406401552, 'support': 529}, 'accuracy': 0.808349609375, 'macro avg': {'precision': 0.7871137170759666, 'recall': 0.758862307953288, 'f1-score': 0.7711108669405669, 'support': 4096}, 'weighted avg': {'precision': 0.8072690533093448, 'recall': 0.808349609375, 'f1-score': 0.8062143174610381, 'support': 4096}}, 'eval_runtime': 7.4913, 'eval_samples_per_second': 546.765, 'eval_steps_per_second': 8.543, 'epoch': 0.46}\n"
     ]
    },
    {
     "name": "stderr",
     "output_type": "stream",
     "text": [
      "\n",
      " 12%|█▏        | 10000/86888 [1:57:04<9:21:08,  2.28it/s]"
     ]
    },
    {
     "name": "stdout",
     "output_type": "stream",
     "text": [
      "{'eval_loss': 0.5382239818572998, 'eval_macro_f1': 0.7711108669405669, 'eval_macro_precision': 0.7871137170759666, 'eval_macro_recall': 0.758862307953288, 'eval_accuracy': 0.808349609375, 'eval_report': {'NOR': {'precision': 0.6753246753246753, 'recall': 0.7086882453151618, 'f1-score': 0.6916043225270159, 'support': 587}, 'IRQ': {'precision': 0.8582554517133957, 'recall': 0.924496644295302, 'f1-score': 0.8901453957996768, 'support': 1788}, 'LEV': {'precision': 0.7905918057663126, 'recall': 0.7186206896551725, 'f1-score': 0.7528901734104047, 'support': 725}, 'EGY': {'precision': 0.806615776081425, 'recall': 0.6788008565310493, 'f1-score': 0.7372093023255814, 'support': 467}, 'GLF': {'precision': 0.8047808764940239, 'recall': 0.7637051039697542, 'f1-score': 0.7837051406401552, 'support': 529}, 'accuracy': 0.808349609375, 'macro avg': {'precision': 0.7871137170759666, 'recall': 0.758862307953288, 'f1-score': 0.7711108669405669, 'support': 4096}, 'weighted avg': {'precision': 0.8072690533093448, 'recall': 0.808349609375, 'f1-score': 0.8062143174610381, 'support': 4096}}, 'eval_runtime': 7.4896, 'eval_samples_per_second': 546.89, 'eval_steps_per_second': 8.545, 'epoch': 0.46}\n"
     ]
    },
    {
     "name": "stderr",
     "output_type": "stream",
     "text": [
      "\n",
      " 12%|█▏        | 10000/86888 [1:57:12<9:21:08,  2.28it/s]"
     ]
    },
    {
     "name": "stdout",
     "output_type": "stream",
     "text": [
      "{'eval_loss': 0.5382239818572998, 'eval_macro_f1': 0.7711108669405669, 'eval_macro_precision': 0.7871137170759666, 'eval_macro_recall': 0.758862307953288, 'eval_accuracy': 0.808349609375, 'eval_report': {'NOR': {'precision': 0.6753246753246753, 'recall': 0.7086882453151618, 'f1-score': 0.6916043225270159, 'support': 587}, 'IRQ': {'precision': 0.8582554517133957, 'recall': 0.924496644295302, 'f1-score': 0.8901453957996768, 'support': 1788}, 'LEV': {'precision': 0.7905918057663126, 'recall': 0.7186206896551725, 'f1-score': 0.7528901734104047, 'support': 725}, 'EGY': {'precision': 0.806615776081425, 'recall': 0.6788008565310493, 'f1-score': 0.7372093023255814, 'support': 467}, 'GLF': {'precision': 0.8047808764940239, 'recall': 0.7637051039697542, 'f1-score': 0.7837051406401552, 'support': 529}, 'accuracy': 0.808349609375, 'macro avg': {'precision': 0.7871137170759666, 'recall': 0.758862307953288, 'f1-score': 0.7711108669405669, 'support': 4096}, 'weighted avg': {'precision': 0.8072690533093448, 'recall': 0.808349609375, 'f1-score': 0.8062143174610381, 'support': 4096}}, 'eval_runtime': 7.503, 'eval_samples_per_second': 545.914, 'eval_steps_per_second': 8.53, 'epoch': 0.46}\n"
     ]
    },
    {
     "name": "stderr",
     "output_type": "stream",
     "text": [
      "\n",
      " 12%|█▏        | 10000/86888 [1:57:19<9:21:08,  2.28it/s]"
     ]
    },
    {
     "name": "stdout",
     "output_type": "stream",
     "text": [
      "{'eval_loss': 0.5382239818572998, 'eval_macro_f1': 0.7711108669405669, 'eval_macro_precision': 0.7871137170759666, 'eval_macro_recall': 0.758862307953288, 'eval_accuracy': 0.808349609375, 'eval_report': {'NOR': {'precision': 0.6753246753246753, 'recall': 0.7086882453151618, 'f1-score': 0.6916043225270159, 'support': 587}, 'IRQ': {'precision': 0.8582554517133957, 'recall': 0.924496644295302, 'f1-score': 0.8901453957996768, 'support': 1788}, 'LEV': {'precision': 0.7905918057663126, 'recall': 0.7186206896551725, 'f1-score': 0.7528901734104047, 'support': 725}, 'EGY': {'precision': 0.806615776081425, 'recall': 0.6788008565310493, 'f1-score': 0.7372093023255814, 'support': 467}, 'GLF': {'precision': 0.8047808764940239, 'recall': 0.7637051039697542, 'f1-score': 0.7837051406401552, 'support': 529}, 'accuracy': 0.808349609375, 'macro avg': {'precision': 0.7871137170759666, 'recall': 0.758862307953288, 'f1-score': 0.7711108669405669, 'support': 4096}, 'weighted avg': {'precision': 0.8072690533093448, 'recall': 0.808349609375, 'f1-score': 0.8062143174610381, 'support': 4096}}, 'eval_runtime': 7.4866, 'eval_samples_per_second': 547.109, 'eval_steps_per_second': 8.549, 'epoch': 0.46}\n"
     ]
    },
    {
     "name": "stderr",
     "output_type": "stream",
     "text": [
      "\n",
      " 12%|█▏        | 10000/86888 [1:57:27<9:21:08,  2.28it/s]"
     ]
    },
    {
     "name": "stdout",
     "output_type": "stream",
     "text": [
      "{'eval_loss': 0.5382239818572998, 'eval_macro_f1': 0.7711108669405669, 'eval_macro_precision': 0.7871137170759666, 'eval_macro_recall': 0.758862307953288, 'eval_accuracy': 0.808349609375, 'eval_report': {'NOR': {'precision': 0.6753246753246753, 'recall': 0.7086882453151618, 'f1-score': 0.6916043225270159, 'support': 587}, 'IRQ': {'precision': 0.8582554517133957, 'recall': 0.924496644295302, 'f1-score': 0.8901453957996768, 'support': 1788}, 'LEV': {'precision': 0.7905918057663126, 'recall': 0.7186206896551725, 'f1-score': 0.7528901734104047, 'support': 725}, 'EGY': {'precision': 0.806615776081425, 'recall': 0.6788008565310493, 'f1-score': 0.7372093023255814, 'support': 467}, 'GLF': {'precision': 0.8047808764940239, 'recall': 0.7637051039697542, 'f1-score': 0.7837051406401552, 'support': 529}, 'accuracy': 0.808349609375, 'macro avg': {'precision': 0.7871137170759666, 'recall': 0.758862307953288, 'f1-score': 0.7711108669405669, 'support': 4096}, 'weighted avg': {'precision': 0.8072690533093448, 'recall': 0.808349609375, 'f1-score': 0.8062143174610381, 'support': 4096}}, 'eval_runtime': 7.4956, 'eval_samples_per_second': 546.453, 'eval_steps_per_second': 8.538, 'epoch': 0.46}\n"
     ]
    },
    {
     "name": "stderr",
     "output_type": "stream",
     "text": [
      "\n",
      " 12%|█▏        | 10000/86888 [1:57:35<9:21:08,  2.28it/s]"
     ]
    },
    {
     "name": "stdout",
     "output_type": "stream",
     "text": [
      "{'eval_loss': 0.5382239818572998, 'eval_macro_f1': 0.7711108669405669, 'eval_macro_precision': 0.7871137170759666, 'eval_macro_recall': 0.758862307953288, 'eval_accuracy': 0.808349609375, 'eval_report': {'NOR': {'precision': 0.6753246753246753, 'recall': 0.7086882453151618, 'f1-score': 0.6916043225270159, 'support': 587}, 'IRQ': {'precision': 0.8582554517133957, 'recall': 0.924496644295302, 'f1-score': 0.8901453957996768, 'support': 1788}, 'LEV': {'precision': 0.7905918057663126, 'recall': 0.7186206896551725, 'f1-score': 0.7528901734104047, 'support': 725}, 'EGY': {'precision': 0.806615776081425, 'recall': 0.6788008565310493, 'f1-score': 0.7372093023255814, 'support': 467}, 'GLF': {'precision': 0.8047808764940239, 'recall': 0.7637051039697542, 'f1-score': 0.7837051406401552, 'support': 529}, 'accuracy': 0.808349609375, 'macro avg': {'precision': 0.7871137170759666, 'recall': 0.758862307953288, 'f1-score': 0.7711108669405669, 'support': 4096}, 'weighted avg': {'precision': 0.8072690533093448, 'recall': 0.808349609375, 'f1-score': 0.8062143174610381, 'support': 4096}}, 'eval_runtime': 7.4993, 'eval_samples_per_second': 546.186, 'eval_steps_per_second': 8.534, 'epoch': 0.46}\n"
     ]
    },
    {
     "name": "stderr",
     "output_type": "stream",
     "text": [
      "\n",
      " 12%|█▏        | 10000/86888 [1:57:42<9:21:08,  2.28it/s]"
     ]
    },
    {
     "name": "stdout",
     "output_type": "stream",
     "text": [
      "{'eval_loss': 0.5382239818572998, 'eval_macro_f1': 0.7711108669405669, 'eval_macro_precision': 0.7871137170759666, 'eval_macro_recall': 0.758862307953288, 'eval_accuracy': 0.808349609375, 'eval_report': {'NOR': {'precision': 0.6753246753246753, 'recall': 0.7086882453151618, 'f1-score': 0.6916043225270159, 'support': 587}, 'IRQ': {'precision': 0.8582554517133957, 'recall': 0.924496644295302, 'f1-score': 0.8901453957996768, 'support': 1788}, 'LEV': {'precision': 0.7905918057663126, 'recall': 0.7186206896551725, 'f1-score': 0.7528901734104047, 'support': 725}, 'EGY': {'precision': 0.806615776081425, 'recall': 0.6788008565310493, 'f1-score': 0.7372093023255814, 'support': 467}, 'GLF': {'precision': 0.8047808764940239, 'recall': 0.7637051039697542, 'f1-score': 0.7837051406401552, 'support': 529}, 'accuracy': 0.808349609375, 'macro avg': {'precision': 0.7871137170759666, 'recall': 0.758862307953288, 'f1-score': 0.7711108669405669, 'support': 4096}, 'weighted avg': {'precision': 0.8072690533093448, 'recall': 0.808349609375, 'f1-score': 0.8062143174610381, 'support': 4096}}, 'eval_runtime': 7.49, 'eval_samples_per_second': 546.863, 'eval_steps_per_second': 8.545, 'epoch': 0.46}\n"
     ]
    },
    {
     "name": "stderr",
     "output_type": "stream",
     "text": [
      "\n",
      " 12%|█▏        | 10000/86888 [1:57:50<9:21:08,  2.28it/s]"
     ]
    },
    {
     "name": "stdout",
     "output_type": "stream",
     "text": [
      "{'eval_loss': 0.5382239818572998, 'eval_macro_f1': 0.7711108669405669, 'eval_macro_precision': 0.7871137170759666, 'eval_macro_recall': 0.758862307953288, 'eval_accuracy': 0.808349609375, 'eval_report': {'NOR': {'precision': 0.6753246753246753, 'recall': 0.7086882453151618, 'f1-score': 0.6916043225270159, 'support': 587}, 'IRQ': {'precision': 0.8582554517133957, 'recall': 0.924496644295302, 'f1-score': 0.8901453957996768, 'support': 1788}, 'LEV': {'precision': 0.7905918057663126, 'recall': 0.7186206896551725, 'f1-score': 0.7528901734104047, 'support': 725}, 'EGY': {'precision': 0.806615776081425, 'recall': 0.6788008565310493, 'f1-score': 0.7372093023255814, 'support': 467}, 'GLF': {'precision': 0.8047808764940239, 'recall': 0.7637051039697542, 'f1-score': 0.7837051406401552, 'support': 529}, 'accuracy': 0.808349609375, 'macro avg': {'precision': 0.7871137170759666, 'recall': 0.758862307953288, 'f1-score': 0.7711108669405669, 'support': 4096}, 'weighted avg': {'precision': 0.8072690533093448, 'recall': 0.808349609375, 'f1-score': 0.8062143174610381, 'support': 4096}}, 'eval_runtime': 7.4888, 'eval_samples_per_second': 546.953, 'eval_steps_per_second': 8.546, 'epoch': 0.46}\n"
     ]
    },
    {
     "name": "stderr",
     "output_type": "stream",
     "text": [
      "\n",
      " 12%|█▏        | 10000/86888 [1:57:57<9:21:08,  2.28it/s]"
     ]
    },
    {
     "name": "stdout",
     "output_type": "stream",
     "text": [
      "{'eval_loss': 0.5382239818572998, 'eval_macro_f1': 0.7711108669405669, 'eval_macro_precision': 0.7871137170759666, 'eval_macro_recall': 0.758862307953288, 'eval_accuracy': 0.808349609375, 'eval_report': {'NOR': {'precision': 0.6753246753246753, 'recall': 0.7086882453151618, 'f1-score': 0.6916043225270159, 'support': 587}, 'IRQ': {'precision': 0.8582554517133957, 'recall': 0.924496644295302, 'f1-score': 0.8901453957996768, 'support': 1788}, 'LEV': {'precision': 0.7905918057663126, 'recall': 0.7186206896551725, 'f1-score': 0.7528901734104047, 'support': 725}, 'EGY': {'precision': 0.806615776081425, 'recall': 0.6788008565310493, 'f1-score': 0.7372093023255814, 'support': 467}, 'GLF': {'precision': 0.8047808764940239, 'recall': 0.7637051039697542, 'f1-score': 0.7837051406401552, 'support': 529}, 'accuracy': 0.808349609375, 'macro avg': {'precision': 0.7871137170759666, 'recall': 0.758862307953288, 'f1-score': 0.7711108669405669, 'support': 4096}, 'weighted avg': {'precision': 0.8072690533093448, 'recall': 0.808349609375, 'f1-score': 0.8062143174610381, 'support': 4096}}, 'eval_runtime': 7.4886, 'eval_samples_per_second': 546.964, 'eval_steps_per_second': 8.546, 'epoch': 0.46}\n"
     ]
    },
    {
     "name": "stderr",
     "output_type": "stream",
     "text": [
      "\n",
      " 12%|█▏        | 10000/86888 [1:58:05<9:21:08,  2.28it/s]"
     ]
    },
    {
     "name": "stdout",
     "output_type": "stream",
     "text": [
      "{'eval_loss': 0.5382239818572998, 'eval_macro_f1': 0.7711108669405669, 'eval_macro_precision': 0.7871137170759666, 'eval_macro_recall': 0.758862307953288, 'eval_accuracy': 0.808349609375, 'eval_report': {'NOR': {'precision': 0.6753246753246753, 'recall': 0.7086882453151618, 'f1-score': 0.6916043225270159, 'support': 587}, 'IRQ': {'precision': 0.8582554517133957, 'recall': 0.924496644295302, 'f1-score': 0.8901453957996768, 'support': 1788}, 'LEV': {'precision': 0.7905918057663126, 'recall': 0.7186206896551725, 'f1-score': 0.7528901734104047, 'support': 725}, 'EGY': {'precision': 0.806615776081425, 'recall': 0.6788008565310493, 'f1-score': 0.7372093023255814, 'support': 467}, 'GLF': {'precision': 0.8047808764940239, 'recall': 0.7637051039697542, 'f1-score': 0.7837051406401552, 'support': 529}, 'accuracy': 0.808349609375, 'macro avg': {'precision': 0.7871137170759666, 'recall': 0.758862307953288, 'f1-score': 0.7711108669405669, 'support': 4096}, 'weighted avg': {'precision': 0.8072690533093448, 'recall': 0.808349609375, 'f1-score': 0.8062143174610381, 'support': 4096}}, 'eval_runtime': 7.4993, 'eval_samples_per_second': 546.188, 'eval_steps_per_second': 8.534, 'epoch': 0.46}\n"
     ]
    },
    {
     "name": "stderr",
     "output_type": "stream",
     "text": [
      "\n",
      " 12%|█▏        | 10000/86888 [1:58:12<9:21:08,  2.28it/s]"
     ]
    },
    {
     "name": "stdout",
     "output_type": "stream",
     "text": [
      "{'eval_loss': 0.5382239818572998, 'eval_macro_f1': 0.7711108669405669, 'eval_macro_precision': 0.7871137170759666, 'eval_macro_recall': 0.758862307953288, 'eval_accuracy': 0.808349609375, 'eval_report': {'NOR': {'precision': 0.6753246753246753, 'recall': 0.7086882453151618, 'f1-score': 0.6916043225270159, 'support': 587}, 'IRQ': {'precision': 0.8582554517133957, 'recall': 0.924496644295302, 'f1-score': 0.8901453957996768, 'support': 1788}, 'LEV': {'precision': 0.7905918057663126, 'recall': 0.7186206896551725, 'f1-score': 0.7528901734104047, 'support': 725}, 'EGY': {'precision': 0.806615776081425, 'recall': 0.6788008565310493, 'f1-score': 0.7372093023255814, 'support': 467}, 'GLF': {'precision': 0.8047808764940239, 'recall': 0.7637051039697542, 'f1-score': 0.7837051406401552, 'support': 529}, 'accuracy': 0.808349609375, 'macro avg': {'precision': 0.7871137170759666, 'recall': 0.758862307953288, 'f1-score': 0.7711108669405669, 'support': 4096}, 'weighted avg': {'precision': 0.8072690533093448, 'recall': 0.808349609375, 'f1-score': 0.8062143174610381, 'support': 4096}}, 'eval_runtime': 7.4919, 'eval_samples_per_second': 546.721, 'eval_steps_per_second': 8.543, 'epoch': 0.46}\n"
     ]
    },
    {
     "name": "stderr",
     "output_type": "stream",
     "text": [
      "\n",
      " 12%|█▏        | 10000/86888 [1:58:20<9:21:08,  2.28it/s]"
     ]
    },
    {
     "name": "stdout",
     "output_type": "stream",
     "text": [
      "{'eval_loss': 0.5382239818572998, 'eval_macro_f1': 0.7711108669405669, 'eval_macro_precision': 0.7871137170759666, 'eval_macro_recall': 0.758862307953288, 'eval_accuracy': 0.808349609375, 'eval_report': {'NOR': {'precision': 0.6753246753246753, 'recall': 0.7086882453151618, 'f1-score': 0.6916043225270159, 'support': 587}, 'IRQ': {'precision': 0.8582554517133957, 'recall': 0.924496644295302, 'f1-score': 0.8901453957996768, 'support': 1788}, 'LEV': {'precision': 0.7905918057663126, 'recall': 0.7186206896551725, 'f1-score': 0.7528901734104047, 'support': 725}, 'EGY': {'precision': 0.806615776081425, 'recall': 0.6788008565310493, 'f1-score': 0.7372093023255814, 'support': 467}, 'GLF': {'precision': 0.8047808764940239, 'recall': 0.7637051039697542, 'f1-score': 0.7837051406401552, 'support': 529}, 'accuracy': 0.808349609375, 'macro avg': {'precision': 0.7871137170759666, 'recall': 0.758862307953288, 'f1-score': 0.7711108669405669, 'support': 4096}, 'weighted avg': {'precision': 0.8072690533093448, 'recall': 0.808349609375, 'f1-score': 0.8062143174610381, 'support': 4096}}, 'eval_runtime': 7.4821, 'eval_samples_per_second': 547.439, 'eval_steps_per_second': 8.554, 'epoch': 0.46}\n"
     ]
    },
    {
     "name": "stderr",
     "output_type": "stream",
     "text": [
      "\n",
      " 12%|█▏        | 10000/86888 [1:58:27<9:21:08,  2.28it/s]"
     ]
    },
    {
     "name": "stdout",
     "output_type": "stream",
     "text": [
      "{'eval_loss': 0.5382239818572998, 'eval_macro_f1': 0.7711108669405669, 'eval_macro_precision': 0.7871137170759666, 'eval_macro_recall': 0.758862307953288, 'eval_accuracy': 0.808349609375, 'eval_report': {'NOR': {'precision': 0.6753246753246753, 'recall': 0.7086882453151618, 'f1-score': 0.6916043225270159, 'support': 587}, 'IRQ': {'precision': 0.8582554517133957, 'recall': 0.924496644295302, 'f1-score': 0.8901453957996768, 'support': 1788}, 'LEV': {'precision': 0.7905918057663126, 'recall': 0.7186206896551725, 'f1-score': 0.7528901734104047, 'support': 725}, 'EGY': {'precision': 0.806615776081425, 'recall': 0.6788008565310493, 'f1-score': 0.7372093023255814, 'support': 467}, 'GLF': {'precision': 0.8047808764940239, 'recall': 0.7637051039697542, 'f1-score': 0.7837051406401552, 'support': 529}, 'accuracy': 0.808349609375, 'macro avg': {'precision': 0.7871137170759666, 'recall': 0.758862307953288, 'f1-score': 0.7711108669405669, 'support': 4096}, 'weighted avg': {'precision': 0.8072690533093448, 'recall': 0.808349609375, 'f1-score': 0.8062143174610381, 'support': 4096}}, 'eval_runtime': 7.4916, 'eval_samples_per_second': 546.745, 'eval_steps_per_second': 8.543, 'epoch': 0.46}\n"
     ]
    },
    {
     "name": "stderr",
     "output_type": "stream",
     "text": [
      "\n",
      " 12%|█▏        | 10000/86888 [1:58:35<9:21:08,  2.28it/s]"
     ]
    },
    {
     "name": "stdout",
     "output_type": "stream",
     "text": [
      "{'eval_loss': 0.5382239818572998, 'eval_macro_f1': 0.7711108669405669, 'eval_macro_precision': 0.7871137170759666, 'eval_macro_recall': 0.758862307953288, 'eval_accuracy': 0.808349609375, 'eval_report': {'NOR': {'precision': 0.6753246753246753, 'recall': 0.7086882453151618, 'f1-score': 0.6916043225270159, 'support': 587}, 'IRQ': {'precision': 0.8582554517133957, 'recall': 0.924496644295302, 'f1-score': 0.8901453957996768, 'support': 1788}, 'LEV': {'precision': 0.7905918057663126, 'recall': 0.7186206896551725, 'f1-score': 0.7528901734104047, 'support': 725}, 'EGY': {'precision': 0.806615776081425, 'recall': 0.6788008565310493, 'f1-score': 0.7372093023255814, 'support': 467}, 'GLF': {'precision': 0.8047808764940239, 'recall': 0.7637051039697542, 'f1-score': 0.7837051406401552, 'support': 529}, 'accuracy': 0.808349609375, 'macro avg': {'precision': 0.7871137170759666, 'recall': 0.758862307953288, 'f1-score': 0.7711108669405669, 'support': 4096}, 'weighted avg': {'precision': 0.8072690533093448, 'recall': 0.808349609375, 'f1-score': 0.8062143174610381, 'support': 4096}}, 'eval_runtime': 7.4921, 'eval_samples_per_second': 546.71, 'eval_steps_per_second': 8.542, 'epoch': 0.46}\n"
     ]
    },
    {
     "name": "stderr",
     "output_type": "stream",
     "text": [
      "\n",
      " 12%|█▏        | 10000/86888 [1:58:42<9:21:08,  2.28it/s]"
     ]
    },
    {
     "name": "stdout",
     "output_type": "stream",
     "text": [
      "{'eval_loss': 0.5382239818572998, 'eval_macro_f1': 0.7711108669405669, 'eval_macro_precision': 0.7871137170759666, 'eval_macro_recall': 0.758862307953288, 'eval_accuracy': 0.808349609375, 'eval_report': {'NOR': {'precision': 0.6753246753246753, 'recall': 0.7086882453151618, 'f1-score': 0.6916043225270159, 'support': 587}, 'IRQ': {'precision': 0.8582554517133957, 'recall': 0.924496644295302, 'f1-score': 0.8901453957996768, 'support': 1788}, 'LEV': {'precision': 0.7905918057663126, 'recall': 0.7186206896551725, 'f1-score': 0.7528901734104047, 'support': 725}, 'EGY': {'precision': 0.806615776081425, 'recall': 0.6788008565310493, 'f1-score': 0.7372093023255814, 'support': 467}, 'GLF': {'precision': 0.8047808764940239, 'recall': 0.7637051039697542, 'f1-score': 0.7837051406401552, 'support': 529}, 'accuracy': 0.808349609375, 'macro avg': {'precision': 0.7871137170759666, 'recall': 0.758862307953288, 'f1-score': 0.7711108669405669, 'support': 4096}, 'weighted avg': {'precision': 0.8072690533093448, 'recall': 0.808349609375, 'f1-score': 0.8062143174610381, 'support': 4096}}, 'eval_runtime': 7.4939, 'eval_samples_per_second': 546.578, 'eval_steps_per_second': 8.54, 'epoch': 0.46}\n"
     ]
    },
    {
     "name": "stderr",
     "output_type": "stream",
     "text": [
      "\n",
      " 12%|█▏        | 10000/86888 [1:58:50<9:21:08,  2.28it/s]"
     ]
    },
    {
     "name": "stdout",
     "output_type": "stream",
     "text": [
      "{'eval_loss': 0.5382239818572998, 'eval_macro_f1': 0.7711108669405669, 'eval_macro_precision': 0.7871137170759666, 'eval_macro_recall': 0.758862307953288, 'eval_accuracy': 0.808349609375, 'eval_report': {'NOR': {'precision': 0.6753246753246753, 'recall': 0.7086882453151618, 'f1-score': 0.6916043225270159, 'support': 587}, 'IRQ': {'precision': 0.8582554517133957, 'recall': 0.924496644295302, 'f1-score': 0.8901453957996768, 'support': 1788}, 'LEV': {'precision': 0.7905918057663126, 'recall': 0.7186206896551725, 'f1-score': 0.7528901734104047, 'support': 725}, 'EGY': {'precision': 0.806615776081425, 'recall': 0.6788008565310493, 'f1-score': 0.7372093023255814, 'support': 467}, 'GLF': {'precision': 0.8047808764940239, 'recall': 0.7637051039697542, 'f1-score': 0.7837051406401552, 'support': 529}, 'accuracy': 0.808349609375, 'macro avg': {'precision': 0.7871137170759666, 'recall': 0.758862307953288, 'f1-score': 0.7711108669405669, 'support': 4096}, 'weighted avg': {'precision': 0.8072690533093448, 'recall': 0.808349609375, 'f1-score': 0.8062143174610381, 'support': 4096}}, 'eval_runtime': 7.4903, 'eval_samples_per_second': 546.841, 'eval_steps_per_second': 8.544, 'epoch': 0.46}\n"
     ]
    },
    {
     "name": "stderr",
     "output_type": "stream",
     "text": [
      "\n",
      " 12%|█▏        | 10000/86888 [1:58:57<9:21:08,  2.28it/s]"
     ]
    },
    {
     "name": "stdout",
     "output_type": "stream",
     "text": [
      "{'eval_loss': 0.5382239818572998, 'eval_macro_f1': 0.7711108669405669, 'eval_macro_precision': 0.7871137170759666, 'eval_macro_recall': 0.758862307953288, 'eval_accuracy': 0.808349609375, 'eval_report': {'NOR': {'precision': 0.6753246753246753, 'recall': 0.7086882453151618, 'f1-score': 0.6916043225270159, 'support': 587}, 'IRQ': {'precision': 0.8582554517133957, 'recall': 0.924496644295302, 'f1-score': 0.8901453957996768, 'support': 1788}, 'LEV': {'precision': 0.7905918057663126, 'recall': 0.7186206896551725, 'f1-score': 0.7528901734104047, 'support': 725}, 'EGY': {'precision': 0.806615776081425, 'recall': 0.6788008565310493, 'f1-score': 0.7372093023255814, 'support': 467}, 'GLF': {'precision': 0.8047808764940239, 'recall': 0.7637051039697542, 'f1-score': 0.7837051406401552, 'support': 529}, 'accuracy': 0.808349609375, 'macro avg': {'precision': 0.7871137170759666, 'recall': 0.758862307953288, 'f1-score': 0.7711108669405669, 'support': 4096}, 'weighted avg': {'precision': 0.8072690533093448, 'recall': 0.808349609375, 'f1-score': 0.8062143174610381, 'support': 4096}}, 'eval_runtime': 7.4777, 'eval_samples_per_second': 547.764, 'eval_steps_per_second': 8.559, 'epoch': 0.46}\n"
     ]
    },
    {
     "name": "stderr",
     "output_type": "stream",
     "text": [
      "\n",
      " 12%|█▏        | 10000/86888 [1:59:05<9:21:08,  2.28it/s]"
     ]
    },
    {
     "name": "stdout",
     "output_type": "stream",
     "text": [
      "{'eval_loss': 0.5382239818572998, 'eval_macro_f1': 0.7711108669405669, 'eval_macro_precision': 0.7871137170759666, 'eval_macro_recall': 0.758862307953288, 'eval_accuracy': 0.808349609375, 'eval_report': {'NOR': {'precision': 0.6753246753246753, 'recall': 0.7086882453151618, 'f1-score': 0.6916043225270159, 'support': 587}, 'IRQ': {'precision': 0.8582554517133957, 'recall': 0.924496644295302, 'f1-score': 0.8901453957996768, 'support': 1788}, 'LEV': {'precision': 0.7905918057663126, 'recall': 0.7186206896551725, 'f1-score': 0.7528901734104047, 'support': 725}, 'EGY': {'precision': 0.806615776081425, 'recall': 0.6788008565310493, 'f1-score': 0.7372093023255814, 'support': 467}, 'GLF': {'precision': 0.8047808764940239, 'recall': 0.7637051039697542, 'f1-score': 0.7837051406401552, 'support': 529}, 'accuracy': 0.808349609375, 'macro avg': {'precision': 0.7871137170759666, 'recall': 0.758862307953288, 'f1-score': 0.7711108669405669, 'support': 4096}, 'weighted avg': {'precision': 0.8072690533093448, 'recall': 0.808349609375, 'f1-score': 0.8062143174610381, 'support': 4096}}, 'eval_runtime': 7.4952, 'eval_samples_per_second': 546.485, 'eval_steps_per_second': 8.539, 'epoch': 0.46}\n"
     ]
    },
    {
     "name": "stderr",
     "output_type": "stream",
     "text": [
      "\n",
      " 12%|█▏        | 10000/86888 [1:59:12<9:21:08,  2.28it/s]"
     ]
    },
    {
     "name": "stdout",
     "output_type": "stream",
     "text": [
      "{'eval_loss': 0.5382239818572998, 'eval_macro_f1': 0.7711108669405669, 'eval_macro_precision': 0.7871137170759666, 'eval_macro_recall': 0.758862307953288, 'eval_accuracy': 0.808349609375, 'eval_report': {'NOR': {'precision': 0.6753246753246753, 'recall': 0.7086882453151618, 'f1-score': 0.6916043225270159, 'support': 587}, 'IRQ': {'precision': 0.8582554517133957, 'recall': 0.924496644295302, 'f1-score': 0.8901453957996768, 'support': 1788}, 'LEV': {'precision': 0.7905918057663126, 'recall': 0.7186206896551725, 'f1-score': 0.7528901734104047, 'support': 725}, 'EGY': {'precision': 0.806615776081425, 'recall': 0.6788008565310493, 'f1-score': 0.7372093023255814, 'support': 467}, 'GLF': {'precision': 0.8047808764940239, 'recall': 0.7637051039697542, 'f1-score': 0.7837051406401552, 'support': 529}, 'accuracy': 0.808349609375, 'macro avg': {'precision': 0.7871137170759666, 'recall': 0.758862307953288, 'f1-score': 0.7711108669405669, 'support': 4096}, 'weighted avg': {'precision': 0.8072690533093448, 'recall': 0.808349609375, 'f1-score': 0.8062143174610381, 'support': 4096}}, 'eval_runtime': 7.503, 'eval_samples_per_second': 545.911, 'eval_steps_per_second': 8.53, 'epoch': 0.46}\n"
     ]
    },
    {
     "name": "stderr",
     "output_type": "stream",
     "text": [
      "\n",
      " 12%|█▏        | 10000/86888 [1:59:20<9:21:08,  2.28it/s]"
     ]
    },
    {
     "name": "stdout",
     "output_type": "stream",
     "text": [
      "{'eval_loss': 0.5382239818572998, 'eval_macro_f1': 0.7711108669405669, 'eval_macro_precision': 0.7871137170759666, 'eval_macro_recall': 0.758862307953288, 'eval_accuracy': 0.808349609375, 'eval_report': {'NOR': {'precision': 0.6753246753246753, 'recall': 0.7086882453151618, 'f1-score': 0.6916043225270159, 'support': 587}, 'IRQ': {'precision': 0.8582554517133957, 'recall': 0.924496644295302, 'f1-score': 0.8901453957996768, 'support': 1788}, 'LEV': {'precision': 0.7905918057663126, 'recall': 0.7186206896551725, 'f1-score': 0.7528901734104047, 'support': 725}, 'EGY': {'precision': 0.806615776081425, 'recall': 0.6788008565310493, 'f1-score': 0.7372093023255814, 'support': 467}, 'GLF': {'precision': 0.8047808764940239, 'recall': 0.7637051039697542, 'f1-score': 0.7837051406401552, 'support': 529}, 'accuracy': 0.808349609375, 'macro avg': {'precision': 0.7871137170759666, 'recall': 0.758862307953288, 'f1-score': 0.7711108669405669, 'support': 4096}, 'weighted avg': {'precision': 0.8072690533093448, 'recall': 0.808349609375, 'f1-score': 0.8062143174610381, 'support': 4096}}, 'eval_runtime': 7.4917, 'eval_samples_per_second': 546.739, 'eval_steps_per_second': 8.543, 'epoch': 0.46}\n"
     ]
    },
    {
     "name": "stderr",
     "output_type": "stream",
     "text": [
      "\n",
      " 12%|█▏        | 10000/86888 [1:59:27<9:21:08,  2.28it/s]"
     ]
    },
    {
     "name": "stdout",
     "output_type": "stream",
     "text": [
      "{'eval_loss': 0.5382239818572998, 'eval_macro_f1': 0.7711108669405669, 'eval_macro_precision': 0.7871137170759666, 'eval_macro_recall': 0.758862307953288, 'eval_accuracy': 0.808349609375, 'eval_report': {'NOR': {'precision': 0.6753246753246753, 'recall': 0.7086882453151618, 'f1-score': 0.6916043225270159, 'support': 587}, 'IRQ': {'precision': 0.8582554517133957, 'recall': 0.924496644295302, 'f1-score': 0.8901453957996768, 'support': 1788}, 'LEV': {'precision': 0.7905918057663126, 'recall': 0.7186206896551725, 'f1-score': 0.7528901734104047, 'support': 725}, 'EGY': {'precision': 0.806615776081425, 'recall': 0.6788008565310493, 'f1-score': 0.7372093023255814, 'support': 467}, 'GLF': {'precision': 0.8047808764940239, 'recall': 0.7637051039697542, 'f1-score': 0.7837051406401552, 'support': 529}, 'accuracy': 0.808349609375, 'macro avg': {'precision': 0.7871137170759666, 'recall': 0.758862307953288, 'f1-score': 0.7711108669405669, 'support': 4096}, 'weighted avg': {'precision': 0.8072690533093448, 'recall': 0.808349609375, 'f1-score': 0.8062143174610381, 'support': 4096}}, 'eval_runtime': 7.4823, 'eval_samples_per_second': 547.424, 'eval_steps_per_second': 8.554, 'epoch': 0.46}\n"
     ]
    },
    {
     "name": "stderr",
     "output_type": "stream",
     "text": [
      "\n",
      " 12%|█▏        | 10000/86888 [1:59:35<9:21:08,  2.28it/s]"
     ]
    },
    {
     "name": "stdout",
     "output_type": "stream",
     "text": [
      "{'eval_loss': 0.5382239818572998, 'eval_macro_f1': 0.7711108669405669, 'eval_macro_precision': 0.7871137170759666, 'eval_macro_recall': 0.758862307953288, 'eval_accuracy': 0.808349609375, 'eval_report': {'NOR': {'precision': 0.6753246753246753, 'recall': 0.7086882453151618, 'f1-score': 0.6916043225270159, 'support': 587}, 'IRQ': {'precision': 0.8582554517133957, 'recall': 0.924496644295302, 'f1-score': 0.8901453957996768, 'support': 1788}, 'LEV': {'precision': 0.7905918057663126, 'recall': 0.7186206896551725, 'f1-score': 0.7528901734104047, 'support': 725}, 'EGY': {'precision': 0.806615776081425, 'recall': 0.6788008565310493, 'f1-score': 0.7372093023255814, 'support': 467}, 'GLF': {'precision': 0.8047808764940239, 'recall': 0.7637051039697542, 'f1-score': 0.7837051406401552, 'support': 529}, 'accuracy': 0.808349609375, 'macro avg': {'precision': 0.7871137170759666, 'recall': 0.758862307953288, 'f1-score': 0.7711108669405669, 'support': 4096}, 'weighted avg': {'precision': 0.8072690533093448, 'recall': 0.808349609375, 'f1-score': 0.8062143174610381, 'support': 4096}}, 'eval_runtime': 7.4925, 'eval_samples_per_second': 546.68, 'eval_steps_per_second': 8.542, 'epoch': 0.46}\n"
     ]
    },
    {
     "name": "stderr",
     "output_type": "stream",
     "text": [
      "\n",
      " 12%|█▏        | 10000/86888 [1:59:42<9:21:08,  2.28it/s]"
     ]
    },
    {
     "name": "stdout",
     "output_type": "stream",
     "text": [
      "{'eval_loss': 0.5382239818572998, 'eval_macro_f1': 0.7711108669405669, 'eval_macro_precision': 0.7871137170759666, 'eval_macro_recall': 0.758862307953288, 'eval_accuracy': 0.808349609375, 'eval_report': {'NOR': {'precision': 0.6753246753246753, 'recall': 0.7086882453151618, 'f1-score': 0.6916043225270159, 'support': 587}, 'IRQ': {'precision': 0.8582554517133957, 'recall': 0.924496644295302, 'f1-score': 0.8901453957996768, 'support': 1788}, 'LEV': {'precision': 0.7905918057663126, 'recall': 0.7186206896551725, 'f1-score': 0.7528901734104047, 'support': 725}, 'EGY': {'precision': 0.806615776081425, 'recall': 0.6788008565310493, 'f1-score': 0.7372093023255814, 'support': 467}, 'GLF': {'precision': 0.8047808764940239, 'recall': 0.7637051039697542, 'f1-score': 0.7837051406401552, 'support': 529}, 'accuracy': 0.808349609375, 'macro avg': {'precision': 0.7871137170759666, 'recall': 0.758862307953288, 'f1-score': 0.7711108669405669, 'support': 4096}, 'weighted avg': {'precision': 0.8072690533093448, 'recall': 0.808349609375, 'f1-score': 0.8062143174610381, 'support': 4096}}, 'eval_runtime': 7.4839, 'eval_samples_per_second': 547.305, 'eval_steps_per_second': 8.552, 'epoch': 0.46}\n"
     ]
    },
    {
     "name": "stderr",
     "output_type": "stream",
     "text": [
      "\n",
      " 12%|█▏        | 10000/86888 [1:59:50<9:21:08,  2.28it/s]"
     ]
    },
    {
     "name": "stdout",
     "output_type": "stream",
     "text": [
      "{'eval_loss': 0.5382239818572998, 'eval_macro_f1': 0.7711108669405669, 'eval_macro_precision': 0.7871137170759666, 'eval_macro_recall': 0.758862307953288, 'eval_accuracy': 0.808349609375, 'eval_report': {'NOR': {'precision': 0.6753246753246753, 'recall': 0.7086882453151618, 'f1-score': 0.6916043225270159, 'support': 587}, 'IRQ': {'precision': 0.8582554517133957, 'recall': 0.924496644295302, 'f1-score': 0.8901453957996768, 'support': 1788}, 'LEV': {'precision': 0.7905918057663126, 'recall': 0.7186206896551725, 'f1-score': 0.7528901734104047, 'support': 725}, 'EGY': {'precision': 0.806615776081425, 'recall': 0.6788008565310493, 'f1-score': 0.7372093023255814, 'support': 467}, 'GLF': {'precision': 0.8047808764940239, 'recall': 0.7637051039697542, 'f1-score': 0.7837051406401552, 'support': 529}, 'accuracy': 0.808349609375, 'macro avg': {'precision': 0.7871137170759666, 'recall': 0.758862307953288, 'f1-score': 0.7711108669405669, 'support': 4096}, 'weighted avg': {'precision': 0.8072690533093448, 'recall': 0.808349609375, 'f1-score': 0.8062143174610381, 'support': 4096}}, 'eval_runtime': 7.4859, 'eval_samples_per_second': 547.158, 'eval_steps_per_second': 8.549, 'epoch': 0.46}\n"
     ]
    },
    {
     "name": "stderr",
     "output_type": "stream",
     "text": [
      "\n",
      " 12%|█▏        | 10000/86888 [1:59:57<9:21:08,  2.28it/s]"
     ]
    },
    {
     "name": "stdout",
     "output_type": "stream",
     "text": [
      "{'eval_loss': 0.5382239818572998, 'eval_macro_f1': 0.7711108669405669, 'eval_macro_precision': 0.7871137170759666, 'eval_macro_recall': 0.758862307953288, 'eval_accuracy': 0.808349609375, 'eval_report': {'NOR': {'precision': 0.6753246753246753, 'recall': 0.7086882453151618, 'f1-score': 0.6916043225270159, 'support': 587}, 'IRQ': {'precision': 0.8582554517133957, 'recall': 0.924496644295302, 'f1-score': 0.8901453957996768, 'support': 1788}, 'LEV': {'precision': 0.7905918057663126, 'recall': 0.7186206896551725, 'f1-score': 0.7528901734104047, 'support': 725}, 'EGY': {'precision': 0.806615776081425, 'recall': 0.6788008565310493, 'f1-score': 0.7372093023255814, 'support': 467}, 'GLF': {'precision': 0.8047808764940239, 'recall': 0.7637051039697542, 'f1-score': 0.7837051406401552, 'support': 529}, 'accuracy': 0.808349609375, 'macro avg': {'precision': 0.7871137170759666, 'recall': 0.758862307953288, 'f1-score': 0.7711108669405669, 'support': 4096}, 'weighted avg': {'precision': 0.8072690533093448, 'recall': 0.808349609375, 'f1-score': 0.8062143174610381, 'support': 4096}}, 'eval_runtime': 7.5006, 'eval_samples_per_second': 546.091, 'eval_steps_per_second': 8.533, 'epoch': 0.46}\n"
     ]
    },
    {
     "name": "stderr",
     "output_type": "stream",
     "text": [
      "\n",
      " 12%|█▏        | 10000/86888 [2:00:05<9:21:08,  2.28it/s]"
     ]
    },
    {
     "name": "stdout",
     "output_type": "stream",
     "text": [
      "{'eval_loss': 0.5382239818572998, 'eval_macro_f1': 0.7711108669405669, 'eval_macro_precision': 0.7871137170759666, 'eval_macro_recall': 0.758862307953288, 'eval_accuracy': 0.808349609375, 'eval_report': {'NOR': {'precision': 0.6753246753246753, 'recall': 0.7086882453151618, 'f1-score': 0.6916043225270159, 'support': 587}, 'IRQ': {'precision': 0.8582554517133957, 'recall': 0.924496644295302, 'f1-score': 0.8901453957996768, 'support': 1788}, 'LEV': {'precision': 0.7905918057663126, 'recall': 0.7186206896551725, 'f1-score': 0.7528901734104047, 'support': 725}, 'EGY': {'precision': 0.806615776081425, 'recall': 0.6788008565310493, 'f1-score': 0.7372093023255814, 'support': 467}, 'GLF': {'precision': 0.8047808764940239, 'recall': 0.7637051039697542, 'f1-score': 0.7837051406401552, 'support': 529}, 'accuracy': 0.808349609375, 'macro avg': {'precision': 0.7871137170759666, 'recall': 0.758862307953288, 'f1-score': 0.7711108669405669, 'support': 4096}, 'weighted avg': {'precision': 0.8072690533093448, 'recall': 0.808349609375, 'f1-score': 0.8062143174610381, 'support': 4096}}, 'eval_runtime': 7.4963, 'eval_samples_per_second': 546.4, 'eval_steps_per_second': 8.538, 'epoch': 0.46}\n"
     ]
    },
    {
     "name": "stderr",
     "output_type": "stream",
     "text": [
      "\n",
      " 12%|█▏        | 10000/86888 [2:00:12<9:21:08,  2.28it/s]"
     ]
    },
    {
     "name": "stdout",
     "output_type": "stream",
     "text": [
      "{'eval_loss': 0.5382239818572998, 'eval_macro_f1': 0.7711108669405669, 'eval_macro_precision': 0.7871137170759666, 'eval_macro_recall': 0.758862307953288, 'eval_accuracy': 0.808349609375, 'eval_report': {'NOR': {'precision': 0.6753246753246753, 'recall': 0.7086882453151618, 'f1-score': 0.6916043225270159, 'support': 587}, 'IRQ': {'precision': 0.8582554517133957, 'recall': 0.924496644295302, 'f1-score': 0.8901453957996768, 'support': 1788}, 'LEV': {'precision': 0.7905918057663126, 'recall': 0.7186206896551725, 'f1-score': 0.7528901734104047, 'support': 725}, 'EGY': {'precision': 0.806615776081425, 'recall': 0.6788008565310493, 'f1-score': 0.7372093023255814, 'support': 467}, 'GLF': {'precision': 0.8047808764940239, 'recall': 0.7637051039697542, 'f1-score': 0.7837051406401552, 'support': 529}, 'accuracy': 0.808349609375, 'macro avg': {'precision': 0.7871137170759666, 'recall': 0.758862307953288, 'f1-score': 0.7711108669405669, 'support': 4096}, 'weighted avg': {'precision': 0.8072690533093448, 'recall': 0.808349609375, 'f1-score': 0.8062143174610381, 'support': 4096}}, 'eval_runtime': 7.4968, 'eval_samples_per_second': 546.363, 'eval_steps_per_second': 8.537, 'epoch': 0.46}\n"
     ]
    },
    {
     "name": "stderr",
     "output_type": "stream",
     "text": [
      "\n",
      " 12%|█▏        | 10000/86888 [2:00:20<9:21:08,  2.28it/s]"
     ]
    },
    {
     "name": "stdout",
     "output_type": "stream",
     "text": [
      "{'eval_loss': 0.5382239818572998, 'eval_macro_f1': 0.7711108669405669, 'eval_macro_precision': 0.7871137170759666, 'eval_macro_recall': 0.758862307953288, 'eval_accuracy': 0.808349609375, 'eval_report': {'NOR': {'precision': 0.6753246753246753, 'recall': 0.7086882453151618, 'f1-score': 0.6916043225270159, 'support': 587}, 'IRQ': {'precision': 0.8582554517133957, 'recall': 0.924496644295302, 'f1-score': 0.8901453957996768, 'support': 1788}, 'LEV': {'precision': 0.7905918057663126, 'recall': 0.7186206896551725, 'f1-score': 0.7528901734104047, 'support': 725}, 'EGY': {'precision': 0.806615776081425, 'recall': 0.6788008565310493, 'f1-score': 0.7372093023255814, 'support': 467}, 'GLF': {'precision': 0.8047808764940239, 'recall': 0.7637051039697542, 'f1-score': 0.7837051406401552, 'support': 529}, 'accuracy': 0.808349609375, 'macro avg': {'precision': 0.7871137170759666, 'recall': 0.758862307953288, 'f1-score': 0.7711108669405669, 'support': 4096}, 'weighted avg': {'precision': 0.8072690533093448, 'recall': 0.808349609375, 'f1-score': 0.8062143174610381, 'support': 4096}}, 'eval_runtime': 7.4788, 'eval_samples_per_second': 547.682, 'eval_steps_per_second': 8.558, 'epoch': 0.46}\n"
     ]
    },
    {
     "name": "stderr",
     "output_type": "stream",
     "text": [
      "\n",
      " 12%|█▏        | 10000/86888 [2:00:27<9:21:08,  2.28it/s]"
     ]
    },
    {
     "name": "stdout",
     "output_type": "stream",
     "text": [
      "{'eval_loss': 0.5382239818572998, 'eval_macro_f1': 0.7711108669405669, 'eval_macro_precision': 0.7871137170759666, 'eval_macro_recall': 0.758862307953288, 'eval_accuracy': 0.808349609375, 'eval_report': {'NOR': {'precision': 0.6753246753246753, 'recall': 0.7086882453151618, 'f1-score': 0.6916043225270159, 'support': 587}, 'IRQ': {'precision': 0.8582554517133957, 'recall': 0.924496644295302, 'f1-score': 0.8901453957996768, 'support': 1788}, 'LEV': {'precision': 0.7905918057663126, 'recall': 0.7186206896551725, 'f1-score': 0.7528901734104047, 'support': 725}, 'EGY': {'precision': 0.806615776081425, 'recall': 0.6788008565310493, 'f1-score': 0.7372093023255814, 'support': 467}, 'GLF': {'precision': 0.8047808764940239, 'recall': 0.7637051039697542, 'f1-score': 0.7837051406401552, 'support': 529}, 'accuracy': 0.808349609375, 'macro avg': {'precision': 0.7871137170759666, 'recall': 0.758862307953288, 'f1-score': 0.7711108669405669, 'support': 4096}, 'weighted avg': {'precision': 0.8072690533093448, 'recall': 0.808349609375, 'f1-score': 0.8062143174610381, 'support': 4096}}, 'eval_runtime': 7.4975, 'eval_samples_per_second': 546.318, 'eval_steps_per_second': 8.536, 'epoch': 0.46}\n"
     ]
    },
    {
     "name": "stderr",
     "output_type": "stream",
     "text": [
      "\n",
      " 12%|█▏        | 10000/86888 [2:00:35<9:21:08,  2.28it/s]"
     ]
    },
    {
     "name": "stdout",
     "output_type": "stream",
     "text": [
      "{'eval_loss': 0.5382239818572998, 'eval_macro_f1': 0.7711108669405669, 'eval_macro_precision': 0.7871137170759666, 'eval_macro_recall': 0.758862307953288, 'eval_accuracy': 0.808349609375, 'eval_report': {'NOR': {'precision': 0.6753246753246753, 'recall': 0.7086882453151618, 'f1-score': 0.6916043225270159, 'support': 587}, 'IRQ': {'precision': 0.8582554517133957, 'recall': 0.924496644295302, 'f1-score': 0.8901453957996768, 'support': 1788}, 'LEV': {'precision': 0.7905918057663126, 'recall': 0.7186206896551725, 'f1-score': 0.7528901734104047, 'support': 725}, 'EGY': {'precision': 0.806615776081425, 'recall': 0.6788008565310493, 'f1-score': 0.7372093023255814, 'support': 467}, 'GLF': {'precision': 0.8047808764940239, 'recall': 0.7637051039697542, 'f1-score': 0.7837051406401552, 'support': 529}, 'accuracy': 0.808349609375, 'macro avg': {'precision': 0.7871137170759666, 'recall': 0.758862307953288, 'f1-score': 0.7711108669405669, 'support': 4096}, 'weighted avg': {'precision': 0.8072690533093448, 'recall': 0.808349609375, 'f1-score': 0.8062143174610381, 'support': 4096}}, 'eval_runtime': 7.492, 'eval_samples_per_second': 546.713, 'eval_steps_per_second': 8.542, 'epoch': 0.46}\n"
     ]
    },
    {
     "name": "stderr",
     "output_type": "stream",
     "text": [
      "\n",
      " 12%|█▏        | 10000/86888 [2:00:42<9:21:08,  2.28it/s]"
     ]
    },
    {
     "name": "stdout",
     "output_type": "stream",
     "text": [
      "{'eval_loss': 0.5382239818572998, 'eval_macro_f1': 0.7711108669405669, 'eval_macro_precision': 0.7871137170759666, 'eval_macro_recall': 0.758862307953288, 'eval_accuracy': 0.808349609375, 'eval_report': {'NOR': {'precision': 0.6753246753246753, 'recall': 0.7086882453151618, 'f1-score': 0.6916043225270159, 'support': 587}, 'IRQ': {'precision': 0.8582554517133957, 'recall': 0.924496644295302, 'f1-score': 0.8901453957996768, 'support': 1788}, 'LEV': {'precision': 0.7905918057663126, 'recall': 0.7186206896551725, 'f1-score': 0.7528901734104047, 'support': 725}, 'EGY': {'precision': 0.806615776081425, 'recall': 0.6788008565310493, 'f1-score': 0.7372093023255814, 'support': 467}, 'GLF': {'precision': 0.8047808764940239, 'recall': 0.7637051039697542, 'f1-score': 0.7837051406401552, 'support': 529}, 'accuracy': 0.808349609375, 'macro avg': {'precision': 0.7871137170759666, 'recall': 0.758862307953288, 'f1-score': 0.7711108669405669, 'support': 4096}, 'weighted avg': {'precision': 0.8072690533093448, 'recall': 0.808349609375, 'f1-score': 0.8062143174610381, 'support': 4096}}, 'eval_runtime': 7.4859, 'eval_samples_per_second': 547.163, 'eval_steps_per_second': 8.549, 'epoch': 0.46}\n"
     ]
    },
    {
     "name": "stderr",
     "output_type": "stream",
     "text": [
      "\n",
      " 12%|█▏        | 10000/86888 [2:00:50<9:21:08,  2.28it/s]"
     ]
    },
    {
     "name": "stdout",
     "output_type": "stream",
     "text": [
      "{'eval_loss': 0.5382239818572998, 'eval_macro_f1': 0.7711108669405669, 'eval_macro_precision': 0.7871137170759666, 'eval_macro_recall': 0.758862307953288, 'eval_accuracy': 0.808349609375, 'eval_report': {'NOR': {'precision': 0.6753246753246753, 'recall': 0.7086882453151618, 'f1-score': 0.6916043225270159, 'support': 587}, 'IRQ': {'precision': 0.8582554517133957, 'recall': 0.924496644295302, 'f1-score': 0.8901453957996768, 'support': 1788}, 'LEV': {'precision': 0.7905918057663126, 'recall': 0.7186206896551725, 'f1-score': 0.7528901734104047, 'support': 725}, 'EGY': {'precision': 0.806615776081425, 'recall': 0.6788008565310493, 'f1-score': 0.7372093023255814, 'support': 467}, 'GLF': {'precision': 0.8047808764940239, 'recall': 0.7637051039697542, 'f1-score': 0.7837051406401552, 'support': 529}, 'accuracy': 0.808349609375, 'macro avg': {'precision': 0.7871137170759666, 'recall': 0.758862307953288, 'f1-score': 0.7711108669405669, 'support': 4096}, 'weighted avg': {'precision': 0.8072690533093448, 'recall': 0.808349609375, 'f1-score': 0.8062143174610381, 'support': 4096}}, 'eval_runtime': 7.4918, 'eval_samples_per_second': 546.728, 'eval_steps_per_second': 8.543, 'epoch': 0.46}\n"
     ]
    },
    {
     "name": "stderr",
     "output_type": "stream",
     "text": [
      "\n",
      " 12%|█▏        | 10000/86888 [2:00:57<9:21:08,  2.28it/s]"
     ]
    },
    {
     "name": "stdout",
     "output_type": "stream",
     "text": [
      "{'eval_loss': 0.5382239818572998, 'eval_macro_f1': 0.7711108669405669, 'eval_macro_precision': 0.7871137170759666, 'eval_macro_recall': 0.758862307953288, 'eval_accuracy': 0.808349609375, 'eval_report': {'NOR': {'precision': 0.6753246753246753, 'recall': 0.7086882453151618, 'f1-score': 0.6916043225270159, 'support': 587}, 'IRQ': {'precision': 0.8582554517133957, 'recall': 0.924496644295302, 'f1-score': 0.8901453957996768, 'support': 1788}, 'LEV': {'precision': 0.7905918057663126, 'recall': 0.7186206896551725, 'f1-score': 0.7528901734104047, 'support': 725}, 'EGY': {'precision': 0.806615776081425, 'recall': 0.6788008565310493, 'f1-score': 0.7372093023255814, 'support': 467}, 'GLF': {'precision': 0.8047808764940239, 'recall': 0.7637051039697542, 'f1-score': 0.7837051406401552, 'support': 529}, 'accuracy': 0.808349609375, 'macro avg': {'precision': 0.7871137170759666, 'recall': 0.758862307953288, 'f1-score': 0.7711108669405669, 'support': 4096}, 'weighted avg': {'precision': 0.8072690533093448, 'recall': 0.808349609375, 'f1-score': 0.8062143174610381, 'support': 4096}}, 'eval_runtime': 7.4857, 'eval_samples_per_second': 547.178, 'eval_steps_per_second': 8.55, 'epoch': 0.46}\n"
     ]
    },
    {
     "name": "stderr",
     "output_type": "stream",
     "text": [
      "\n",
      " 12%|█▏        | 10000/86888 [2:01:05<9:21:08,  2.28it/s]"
     ]
    },
    {
     "name": "stdout",
     "output_type": "stream",
     "text": [
      "{'eval_loss': 0.5382239818572998, 'eval_macro_f1': 0.7711108669405669, 'eval_macro_precision': 0.7871137170759666, 'eval_macro_recall': 0.758862307953288, 'eval_accuracy': 0.808349609375, 'eval_report': {'NOR': {'precision': 0.6753246753246753, 'recall': 0.7086882453151618, 'f1-score': 0.6916043225270159, 'support': 587}, 'IRQ': {'precision': 0.8582554517133957, 'recall': 0.924496644295302, 'f1-score': 0.8901453957996768, 'support': 1788}, 'LEV': {'precision': 0.7905918057663126, 'recall': 0.7186206896551725, 'f1-score': 0.7528901734104047, 'support': 725}, 'EGY': {'precision': 0.806615776081425, 'recall': 0.6788008565310493, 'f1-score': 0.7372093023255814, 'support': 467}, 'GLF': {'precision': 0.8047808764940239, 'recall': 0.7637051039697542, 'f1-score': 0.7837051406401552, 'support': 529}, 'accuracy': 0.808349609375, 'macro avg': {'precision': 0.7871137170759666, 'recall': 0.758862307953288, 'f1-score': 0.7711108669405669, 'support': 4096}, 'weighted avg': {'precision': 0.8072690533093448, 'recall': 0.808349609375, 'f1-score': 0.8062143174610381, 'support': 4096}}, 'eval_runtime': 7.5001, 'eval_samples_per_second': 546.128, 'eval_steps_per_second': 8.533, 'epoch': 0.46}\n"
     ]
    },
    {
     "name": "stderr",
     "output_type": "stream",
     "text": [
      "\n",
      " 12%|█▏        | 10000/86888 [2:01:12<9:21:08,  2.28it/s]"
     ]
    },
    {
     "name": "stdout",
     "output_type": "stream",
     "text": [
      "{'eval_loss': 0.5382239818572998, 'eval_macro_f1': 0.7711108669405669, 'eval_macro_precision': 0.7871137170759666, 'eval_macro_recall': 0.758862307953288, 'eval_accuracy': 0.808349609375, 'eval_report': {'NOR': {'precision': 0.6753246753246753, 'recall': 0.7086882453151618, 'f1-score': 0.6916043225270159, 'support': 587}, 'IRQ': {'precision': 0.8582554517133957, 'recall': 0.924496644295302, 'f1-score': 0.8901453957996768, 'support': 1788}, 'LEV': {'precision': 0.7905918057663126, 'recall': 0.7186206896551725, 'f1-score': 0.7528901734104047, 'support': 725}, 'EGY': {'precision': 0.806615776081425, 'recall': 0.6788008565310493, 'f1-score': 0.7372093023255814, 'support': 467}, 'GLF': {'precision': 0.8047808764940239, 'recall': 0.7637051039697542, 'f1-score': 0.7837051406401552, 'support': 529}, 'accuracy': 0.808349609375, 'macro avg': {'precision': 0.7871137170759666, 'recall': 0.758862307953288, 'f1-score': 0.7711108669405669, 'support': 4096}, 'weighted avg': {'precision': 0.8072690533093448, 'recall': 0.808349609375, 'f1-score': 0.8062143174610381, 'support': 4096}}, 'eval_runtime': 7.4894, 'eval_samples_per_second': 546.904, 'eval_steps_per_second': 8.545, 'epoch': 0.46}\n"
     ]
    },
    {
     "name": "stderr",
     "output_type": "stream",
     "text": [
      "\n",
      " 12%|█▏        | 10000/86888 [2:01:20<9:21:08,  2.28it/s]"
     ]
    },
    {
     "name": "stdout",
     "output_type": "stream",
     "text": [
      "{'eval_loss': 0.5382239818572998, 'eval_macro_f1': 0.7711108669405669, 'eval_macro_precision': 0.7871137170759666, 'eval_macro_recall': 0.758862307953288, 'eval_accuracy': 0.808349609375, 'eval_report': {'NOR': {'precision': 0.6753246753246753, 'recall': 0.7086882453151618, 'f1-score': 0.6916043225270159, 'support': 587}, 'IRQ': {'precision': 0.8582554517133957, 'recall': 0.924496644295302, 'f1-score': 0.8901453957996768, 'support': 1788}, 'LEV': {'precision': 0.7905918057663126, 'recall': 0.7186206896551725, 'f1-score': 0.7528901734104047, 'support': 725}, 'EGY': {'precision': 0.806615776081425, 'recall': 0.6788008565310493, 'f1-score': 0.7372093023255814, 'support': 467}, 'GLF': {'precision': 0.8047808764940239, 'recall': 0.7637051039697542, 'f1-score': 0.7837051406401552, 'support': 529}, 'accuracy': 0.808349609375, 'macro avg': {'precision': 0.7871137170759666, 'recall': 0.758862307953288, 'f1-score': 0.7711108669405669, 'support': 4096}, 'weighted avg': {'precision': 0.8072690533093448, 'recall': 0.808349609375, 'f1-score': 0.8062143174610381, 'support': 4096}}, 'eval_runtime': 7.4768, 'eval_samples_per_second': 547.828, 'eval_steps_per_second': 8.56, 'epoch': 0.46}\n"
     ]
    },
    {
     "name": "stderr",
     "output_type": "stream",
     "text": [
      "\n",
      " 12%|█▏        | 10000/86888 [2:01:27<9:21:08,  2.28it/s]"
     ]
    },
    {
     "name": "stdout",
     "output_type": "stream",
     "text": [
      "{'eval_loss': 0.5382239818572998, 'eval_macro_f1': 0.7711108669405669, 'eval_macro_precision': 0.7871137170759666, 'eval_macro_recall': 0.758862307953288, 'eval_accuracy': 0.808349609375, 'eval_report': {'NOR': {'precision': 0.6753246753246753, 'recall': 0.7086882453151618, 'f1-score': 0.6916043225270159, 'support': 587}, 'IRQ': {'precision': 0.8582554517133957, 'recall': 0.924496644295302, 'f1-score': 0.8901453957996768, 'support': 1788}, 'LEV': {'precision': 0.7905918057663126, 'recall': 0.7186206896551725, 'f1-score': 0.7528901734104047, 'support': 725}, 'EGY': {'precision': 0.806615776081425, 'recall': 0.6788008565310493, 'f1-score': 0.7372093023255814, 'support': 467}, 'GLF': {'precision': 0.8047808764940239, 'recall': 0.7637051039697542, 'f1-score': 0.7837051406401552, 'support': 529}, 'accuracy': 0.808349609375, 'macro avg': {'precision': 0.7871137170759666, 'recall': 0.758862307953288, 'f1-score': 0.7711108669405669, 'support': 4096}, 'weighted avg': {'precision': 0.8072690533093448, 'recall': 0.808349609375, 'f1-score': 0.8062143174610381, 'support': 4096}}, 'eval_runtime': 7.4892, 'eval_samples_per_second': 546.918, 'eval_steps_per_second': 8.546, 'epoch': 0.46}\n"
     ]
    },
    {
     "name": "stderr",
     "output_type": "stream",
     "text": [
      "\n",
      " 12%|█▏        | 10000/86888 [2:01:35<9:21:08,  2.28it/s]"
     ]
    },
    {
     "name": "stdout",
     "output_type": "stream",
     "text": [
      "{'eval_loss': 0.5382239818572998, 'eval_macro_f1': 0.7711108669405669, 'eval_macro_precision': 0.7871137170759666, 'eval_macro_recall': 0.758862307953288, 'eval_accuracy': 0.808349609375, 'eval_report': {'NOR': {'precision': 0.6753246753246753, 'recall': 0.7086882453151618, 'f1-score': 0.6916043225270159, 'support': 587}, 'IRQ': {'precision': 0.8582554517133957, 'recall': 0.924496644295302, 'f1-score': 0.8901453957996768, 'support': 1788}, 'LEV': {'precision': 0.7905918057663126, 'recall': 0.7186206896551725, 'f1-score': 0.7528901734104047, 'support': 725}, 'EGY': {'precision': 0.806615776081425, 'recall': 0.6788008565310493, 'f1-score': 0.7372093023255814, 'support': 467}, 'GLF': {'precision': 0.8047808764940239, 'recall': 0.7637051039697542, 'f1-score': 0.7837051406401552, 'support': 529}, 'accuracy': 0.808349609375, 'macro avg': {'precision': 0.7871137170759666, 'recall': 0.758862307953288, 'f1-score': 0.7711108669405669, 'support': 4096}, 'weighted avg': {'precision': 0.8072690533093448, 'recall': 0.808349609375, 'f1-score': 0.8062143174610381, 'support': 4096}}, 'eval_runtime': 7.486, 'eval_samples_per_second': 547.151, 'eval_steps_per_second': 8.549, 'epoch': 0.46}\n"
     ]
    },
    {
     "name": "stderr",
     "output_type": "stream",
     "text": [
      "\n",
      " 12%|█▏        | 10000/86888 [2:01:42<9:21:08,  2.28it/s]"
     ]
    },
    {
     "name": "stdout",
     "output_type": "stream",
     "text": [
      "{'eval_loss': 0.5382239818572998, 'eval_macro_f1': 0.7711108669405669, 'eval_macro_precision': 0.7871137170759666, 'eval_macro_recall': 0.758862307953288, 'eval_accuracy': 0.808349609375, 'eval_report': {'NOR': {'precision': 0.6753246753246753, 'recall': 0.7086882453151618, 'f1-score': 0.6916043225270159, 'support': 587}, 'IRQ': {'precision': 0.8582554517133957, 'recall': 0.924496644295302, 'f1-score': 0.8901453957996768, 'support': 1788}, 'LEV': {'precision': 0.7905918057663126, 'recall': 0.7186206896551725, 'f1-score': 0.7528901734104047, 'support': 725}, 'EGY': {'precision': 0.806615776081425, 'recall': 0.6788008565310493, 'f1-score': 0.7372093023255814, 'support': 467}, 'GLF': {'precision': 0.8047808764940239, 'recall': 0.7637051039697542, 'f1-score': 0.7837051406401552, 'support': 529}, 'accuracy': 0.808349609375, 'macro avg': {'precision': 0.7871137170759666, 'recall': 0.758862307953288, 'f1-score': 0.7711108669405669, 'support': 4096}, 'weighted avg': {'precision': 0.8072690533093448, 'recall': 0.808349609375, 'f1-score': 0.8062143174610381, 'support': 4096}}, 'eval_runtime': 7.4983, 'eval_samples_per_second': 546.257, 'eval_steps_per_second': 8.535, 'epoch': 0.46}\n"
     ]
    },
    {
     "name": "stderr",
     "output_type": "stream",
     "text": [
      "\n",
      " 12%|█▏        | 10000/86888 [2:01:50<9:21:08,  2.28it/s]"
     ]
    },
    {
     "name": "stdout",
     "output_type": "stream",
     "text": [
      "{'eval_loss': 0.5382239818572998, 'eval_macro_f1': 0.7711108669405669, 'eval_macro_precision': 0.7871137170759666, 'eval_macro_recall': 0.758862307953288, 'eval_accuracy': 0.808349609375, 'eval_report': {'NOR': {'precision': 0.6753246753246753, 'recall': 0.7086882453151618, 'f1-score': 0.6916043225270159, 'support': 587}, 'IRQ': {'precision': 0.8582554517133957, 'recall': 0.924496644295302, 'f1-score': 0.8901453957996768, 'support': 1788}, 'LEV': {'precision': 0.7905918057663126, 'recall': 0.7186206896551725, 'f1-score': 0.7528901734104047, 'support': 725}, 'EGY': {'precision': 0.806615776081425, 'recall': 0.6788008565310493, 'f1-score': 0.7372093023255814, 'support': 467}, 'GLF': {'precision': 0.8047808764940239, 'recall': 0.7637051039697542, 'f1-score': 0.7837051406401552, 'support': 529}, 'accuracy': 0.808349609375, 'macro avg': {'precision': 0.7871137170759666, 'recall': 0.758862307953288, 'f1-score': 0.7711108669405669, 'support': 4096}, 'weighted avg': {'precision': 0.8072690533093448, 'recall': 0.808349609375, 'f1-score': 0.8062143174610381, 'support': 4096}}, 'eval_runtime': 7.4818, 'eval_samples_per_second': 547.459, 'eval_steps_per_second': 8.554, 'epoch': 0.46}\n"
     ]
    },
    {
     "name": "stderr",
     "output_type": "stream",
     "text": [
      "\n",
      " 12%|█▏        | 10000/86888 [2:01:57<9:21:08,  2.28it/s]"
     ]
    },
    {
     "name": "stdout",
     "output_type": "stream",
     "text": [
      "{'eval_loss': 0.5382239818572998, 'eval_macro_f1': 0.7711108669405669, 'eval_macro_precision': 0.7871137170759666, 'eval_macro_recall': 0.758862307953288, 'eval_accuracy': 0.808349609375, 'eval_report': {'NOR': {'precision': 0.6753246753246753, 'recall': 0.7086882453151618, 'f1-score': 0.6916043225270159, 'support': 587}, 'IRQ': {'precision': 0.8582554517133957, 'recall': 0.924496644295302, 'f1-score': 0.8901453957996768, 'support': 1788}, 'LEV': {'precision': 0.7905918057663126, 'recall': 0.7186206896551725, 'f1-score': 0.7528901734104047, 'support': 725}, 'EGY': {'precision': 0.806615776081425, 'recall': 0.6788008565310493, 'f1-score': 0.7372093023255814, 'support': 467}, 'GLF': {'precision': 0.8047808764940239, 'recall': 0.7637051039697542, 'f1-score': 0.7837051406401552, 'support': 529}, 'accuracy': 0.808349609375, 'macro avg': {'precision': 0.7871137170759666, 'recall': 0.758862307953288, 'f1-score': 0.7711108669405669, 'support': 4096}, 'weighted avg': {'precision': 0.8072690533093448, 'recall': 0.808349609375, 'f1-score': 0.8062143174610381, 'support': 4096}}, 'eval_runtime': 7.493, 'eval_samples_per_second': 546.642, 'eval_steps_per_second': 8.541, 'epoch': 0.46}\n"
     ]
    },
    {
     "name": "stderr",
     "output_type": "stream",
     "text": [
      "\n",
      " 12%|█▏        | 10000/86888 [2:02:05<9:21:08,  2.28it/s]"
     ]
    },
    {
     "name": "stdout",
     "output_type": "stream",
     "text": [
      "{'eval_loss': 0.5382239818572998, 'eval_macro_f1': 0.7711108669405669, 'eval_macro_precision': 0.7871137170759666, 'eval_macro_recall': 0.758862307953288, 'eval_accuracy': 0.808349609375, 'eval_report': {'NOR': {'precision': 0.6753246753246753, 'recall': 0.7086882453151618, 'f1-score': 0.6916043225270159, 'support': 587}, 'IRQ': {'precision': 0.8582554517133957, 'recall': 0.924496644295302, 'f1-score': 0.8901453957996768, 'support': 1788}, 'LEV': {'precision': 0.7905918057663126, 'recall': 0.7186206896551725, 'f1-score': 0.7528901734104047, 'support': 725}, 'EGY': {'precision': 0.806615776081425, 'recall': 0.6788008565310493, 'f1-score': 0.7372093023255814, 'support': 467}, 'GLF': {'precision': 0.8047808764940239, 'recall': 0.7637051039697542, 'f1-score': 0.7837051406401552, 'support': 529}, 'accuracy': 0.808349609375, 'macro avg': {'precision': 0.7871137170759666, 'recall': 0.758862307953288, 'f1-score': 0.7711108669405669, 'support': 4096}, 'weighted avg': {'precision': 0.8072690533093448, 'recall': 0.808349609375, 'f1-score': 0.8062143174610381, 'support': 4096}}, 'eval_runtime': 7.4971, 'eval_samples_per_second': 546.344, 'eval_steps_per_second': 8.537, 'epoch': 0.46}\n"
     ]
    },
    {
     "name": "stderr",
     "output_type": "stream",
     "text": [
      "\n",
      " 12%|█▏        | 10000/86888 [2:02:12<9:21:08,  2.28it/s]"
     ]
    },
    {
     "name": "stdout",
     "output_type": "stream",
     "text": [
      "{'eval_loss': 0.5382239818572998, 'eval_macro_f1': 0.7711108669405669, 'eval_macro_precision': 0.7871137170759666, 'eval_macro_recall': 0.758862307953288, 'eval_accuracy': 0.808349609375, 'eval_report': {'NOR': {'precision': 0.6753246753246753, 'recall': 0.7086882453151618, 'f1-score': 0.6916043225270159, 'support': 587}, 'IRQ': {'precision': 0.8582554517133957, 'recall': 0.924496644295302, 'f1-score': 0.8901453957996768, 'support': 1788}, 'LEV': {'precision': 0.7905918057663126, 'recall': 0.7186206896551725, 'f1-score': 0.7528901734104047, 'support': 725}, 'EGY': {'precision': 0.806615776081425, 'recall': 0.6788008565310493, 'f1-score': 0.7372093023255814, 'support': 467}, 'GLF': {'precision': 0.8047808764940239, 'recall': 0.7637051039697542, 'f1-score': 0.7837051406401552, 'support': 529}, 'accuracy': 0.808349609375, 'macro avg': {'precision': 0.7871137170759666, 'recall': 0.758862307953288, 'f1-score': 0.7711108669405669, 'support': 4096}, 'weighted avg': {'precision': 0.8072690533093448, 'recall': 0.808349609375, 'f1-score': 0.8062143174610381, 'support': 4096}}, 'eval_runtime': 7.4877, 'eval_samples_per_second': 547.033, 'eval_steps_per_second': 8.547, 'epoch': 0.46}\n"
     ]
    },
    {
     "name": "stderr",
     "output_type": "stream",
     "text": [
      "\n",
      " 12%|█▏        | 10000/86888 [2:02:20<9:21:08,  2.28it/s]"
     ]
    },
    {
     "name": "stdout",
     "output_type": "stream",
     "text": [
      "{'eval_loss': 0.5382239818572998, 'eval_macro_f1': 0.7711108669405669, 'eval_macro_precision': 0.7871137170759666, 'eval_macro_recall': 0.758862307953288, 'eval_accuracy': 0.808349609375, 'eval_report': {'NOR': {'precision': 0.6753246753246753, 'recall': 0.7086882453151618, 'f1-score': 0.6916043225270159, 'support': 587}, 'IRQ': {'precision': 0.8582554517133957, 'recall': 0.924496644295302, 'f1-score': 0.8901453957996768, 'support': 1788}, 'LEV': {'precision': 0.7905918057663126, 'recall': 0.7186206896551725, 'f1-score': 0.7528901734104047, 'support': 725}, 'EGY': {'precision': 0.806615776081425, 'recall': 0.6788008565310493, 'f1-score': 0.7372093023255814, 'support': 467}, 'GLF': {'precision': 0.8047808764940239, 'recall': 0.7637051039697542, 'f1-score': 0.7837051406401552, 'support': 529}, 'accuracy': 0.808349609375, 'macro avg': {'precision': 0.7871137170759666, 'recall': 0.758862307953288, 'f1-score': 0.7711108669405669, 'support': 4096}, 'weighted avg': {'precision': 0.8072690533093448, 'recall': 0.808349609375, 'f1-score': 0.8062143174610381, 'support': 4096}}, 'eval_runtime': 7.4889, 'eval_samples_per_second': 546.945, 'eval_steps_per_second': 8.546, 'epoch': 0.46}\n"
     ]
    },
    {
     "name": "stderr",
     "output_type": "stream",
     "text": [
      "\n",
      " 12%|█▏        | 10000/86888 [2:02:27<9:21:08,  2.28it/s]"
     ]
    },
    {
     "name": "stdout",
     "output_type": "stream",
     "text": [
      "{'eval_loss': 0.5382239818572998, 'eval_macro_f1': 0.7711108669405669, 'eval_macro_precision': 0.7871137170759666, 'eval_macro_recall': 0.758862307953288, 'eval_accuracy': 0.808349609375, 'eval_report': {'NOR': {'precision': 0.6753246753246753, 'recall': 0.7086882453151618, 'f1-score': 0.6916043225270159, 'support': 587}, 'IRQ': {'precision': 0.8582554517133957, 'recall': 0.924496644295302, 'f1-score': 0.8901453957996768, 'support': 1788}, 'LEV': {'precision': 0.7905918057663126, 'recall': 0.7186206896551725, 'f1-score': 0.7528901734104047, 'support': 725}, 'EGY': {'precision': 0.806615776081425, 'recall': 0.6788008565310493, 'f1-score': 0.7372093023255814, 'support': 467}, 'GLF': {'precision': 0.8047808764940239, 'recall': 0.7637051039697542, 'f1-score': 0.7837051406401552, 'support': 529}, 'accuracy': 0.808349609375, 'macro avg': {'precision': 0.7871137170759666, 'recall': 0.758862307953288, 'f1-score': 0.7711108669405669, 'support': 4096}, 'weighted avg': {'precision': 0.8072690533093448, 'recall': 0.808349609375, 'f1-score': 0.8062143174610381, 'support': 4096}}, 'eval_runtime': 7.5046, 'eval_samples_per_second': 545.796, 'eval_steps_per_second': 8.528, 'epoch': 0.46}\n"
     ]
    },
    {
     "name": "stderr",
     "output_type": "stream",
     "text": [
      "\n",
      " 12%|█▏        | 10000/86888 [2:02:35<9:21:08,  2.28it/s]"
     ]
    },
    {
     "name": "stdout",
     "output_type": "stream",
     "text": [
      "{'eval_loss': 0.5382239818572998, 'eval_macro_f1': 0.7711108669405669, 'eval_macro_precision': 0.7871137170759666, 'eval_macro_recall': 0.758862307953288, 'eval_accuracy': 0.808349609375, 'eval_report': {'NOR': {'precision': 0.6753246753246753, 'recall': 0.7086882453151618, 'f1-score': 0.6916043225270159, 'support': 587}, 'IRQ': {'precision': 0.8582554517133957, 'recall': 0.924496644295302, 'f1-score': 0.8901453957996768, 'support': 1788}, 'LEV': {'precision': 0.7905918057663126, 'recall': 0.7186206896551725, 'f1-score': 0.7528901734104047, 'support': 725}, 'EGY': {'precision': 0.806615776081425, 'recall': 0.6788008565310493, 'f1-score': 0.7372093023255814, 'support': 467}, 'GLF': {'precision': 0.8047808764940239, 'recall': 0.7637051039697542, 'f1-score': 0.7837051406401552, 'support': 529}, 'accuracy': 0.808349609375, 'macro avg': {'precision': 0.7871137170759666, 'recall': 0.758862307953288, 'f1-score': 0.7711108669405669, 'support': 4096}, 'weighted avg': {'precision': 0.8072690533093448, 'recall': 0.808349609375, 'f1-score': 0.8062143174610381, 'support': 4096}}, 'eval_runtime': 7.4968, 'eval_samples_per_second': 546.369, 'eval_steps_per_second': 8.537, 'epoch': 0.46}\n"
     ]
    },
    {
     "name": "stderr",
     "output_type": "stream",
     "text": [
      "\n",
      " 12%|█▏        | 10000/86888 [2:02:42<9:21:08,  2.28it/s]"
     ]
    },
    {
     "name": "stdout",
     "output_type": "stream",
     "text": [
      "{'eval_loss': 0.5382239818572998, 'eval_macro_f1': 0.7711108669405669, 'eval_macro_precision': 0.7871137170759666, 'eval_macro_recall': 0.758862307953288, 'eval_accuracy': 0.808349609375, 'eval_report': {'NOR': {'precision': 0.6753246753246753, 'recall': 0.7086882453151618, 'f1-score': 0.6916043225270159, 'support': 587}, 'IRQ': {'precision': 0.8582554517133957, 'recall': 0.924496644295302, 'f1-score': 0.8901453957996768, 'support': 1788}, 'LEV': {'precision': 0.7905918057663126, 'recall': 0.7186206896551725, 'f1-score': 0.7528901734104047, 'support': 725}, 'EGY': {'precision': 0.806615776081425, 'recall': 0.6788008565310493, 'f1-score': 0.7372093023255814, 'support': 467}, 'GLF': {'precision': 0.8047808764940239, 'recall': 0.7637051039697542, 'f1-score': 0.7837051406401552, 'support': 529}, 'accuracy': 0.808349609375, 'macro avg': {'precision': 0.7871137170759666, 'recall': 0.758862307953288, 'f1-score': 0.7711108669405669, 'support': 4096}, 'weighted avg': {'precision': 0.8072690533093448, 'recall': 0.808349609375, 'f1-score': 0.8062143174610381, 'support': 4096}}, 'eval_runtime': 7.4858, 'eval_samples_per_second': 547.168, 'eval_steps_per_second': 8.55, 'epoch': 0.46}\n"
     ]
    },
    {
     "name": "stderr",
     "output_type": "stream",
     "text": [
      "\n",
      " 12%|█▏        | 10000/86888 [2:02:50<9:21:08,  2.28it/s]"
     ]
    },
    {
     "name": "stdout",
     "output_type": "stream",
     "text": [
      "{'eval_loss': 0.5382239818572998, 'eval_macro_f1': 0.7711108669405669, 'eval_macro_precision': 0.7871137170759666, 'eval_macro_recall': 0.758862307953288, 'eval_accuracy': 0.808349609375, 'eval_report': {'NOR': {'precision': 0.6753246753246753, 'recall': 0.7086882453151618, 'f1-score': 0.6916043225270159, 'support': 587}, 'IRQ': {'precision': 0.8582554517133957, 'recall': 0.924496644295302, 'f1-score': 0.8901453957996768, 'support': 1788}, 'LEV': {'precision': 0.7905918057663126, 'recall': 0.7186206896551725, 'f1-score': 0.7528901734104047, 'support': 725}, 'EGY': {'precision': 0.806615776081425, 'recall': 0.6788008565310493, 'f1-score': 0.7372093023255814, 'support': 467}, 'GLF': {'precision': 0.8047808764940239, 'recall': 0.7637051039697542, 'f1-score': 0.7837051406401552, 'support': 529}, 'accuracy': 0.808349609375, 'macro avg': {'precision': 0.7871137170759666, 'recall': 0.758862307953288, 'f1-score': 0.7711108669405669, 'support': 4096}, 'weighted avg': {'precision': 0.8072690533093448, 'recall': 0.808349609375, 'f1-score': 0.8062143174610381, 'support': 4096}}, 'eval_runtime': 7.4944, 'eval_samples_per_second': 546.539, 'eval_steps_per_second': 8.54, 'epoch': 0.46}\n"
     ]
    },
    {
     "name": "stderr",
     "output_type": "stream",
     "text": [
      "\n",
      " 12%|█▏        | 10000/86888 [2:02:57<9:21:08,  2.28it/s]"
     ]
    },
    {
     "name": "stdout",
     "output_type": "stream",
     "text": [
      "{'eval_loss': 0.5382239818572998, 'eval_macro_f1': 0.7711108669405669, 'eval_macro_precision': 0.7871137170759666, 'eval_macro_recall': 0.758862307953288, 'eval_accuracy': 0.808349609375, 'eval_report': {'NOR': {'precision': 0.6753246753246753, 'recall': 0.7086882453151618, 'f1-score': 0.6916043225270159, 'support': 587}, 'IRQ': {'precision': 0.8582554517133957, 'recall': 0.924496644295302, 'f1-score': 0.8901453957996768, 'support': 1788}, 'LEV': {'precision': 0.7905918057663126, 'recall': 0.7186206896551725, 'f1-score': 0.7528901734104047, 'support': 725}, 'EGY': {'precision': 0.806615776081425, 'recall': 0.6788008565310493, 'f1-score': 0.7372093023255814, 'support': 467}, 'GLF': {'precision': 0.8047808764940239, 'recall': 0.7637051039697542, 'f1-score': 0.7837051406401552, 'support': 529}, 'accuracy': 0.808349609375, 'macro avg': {'precision': 0.7871137170759666, 'recall': 0.758862307953288, 'f1-score': 0.7711108669405669, 'support': 4096}, 'weighted avg': {'precision': 0.8072690533093448, 'recall': 0.808349609375, 'f1-score': 0.8062143174610381, 'support': 4096}}, 'eval_runtime': 7.4977, 'eval_samples_per_second': 546.301, 'eval_steps_per_second': 8.536, 'epoch': 0.46}\n"
     ]
    },
    {
     "name": "stderr",
     "output_type": "stream",
     "text": [
      "\n",
      " 12%|█▏        | 10000/86888 [2:03:05<9:21:08,  2.28it/s]"
     ]
    },
    {
     "name": "stdout",
     "output_type": "stream",
     "text": [
      "{'eval_loss': 0.5382239818572998, 'eval_macro_f1': 0.7711108669405669, 'eval_macro_precision': 0.7871137170759666, 'eval_macro_recall': 0.758862307953288, 'eval_accuracy': 0.808349609375, 'eval_report': {'NOR': {'precision': 0.6753246753246753, 'recall': 0.7086882453151618, 'f1-score': 0.6916043225270159, 'support': 587}, 'IRQ': {'precision': 0.8582554517133957, 'recall': 0.924496644295302, 'f1-score': 0.8901453957996768, 'support': 1788}, 'LEV': {'precision': 0.7905918057663126, 'recall': 0.7186206896551725, 'f1-score': 0.7528901734104047, 'support': 725}, 'EGY': {'precision': 0.806615776081425, 'recall': 0.6788008565310493, 'f1-score': 0.7372093023255814, 'support': 467}, 'GLF': {'precision': 0.8047808764940239, 'recall': 0.7637051039697542, 'f1-score': 0.7837051406401552, 'support': 529}, 'accuracy': 0.808349609375, 'macro avg': {'precision': 0.7871137170759666, 'recall': 0.758862307953288, 'f1-score': 0.7711108669405669, 'support': 4096}, 'weighted avg': {'precision': 0.8072690533093448, 'recall': 0.808349609375, 'f1-score': 0.8062143174610381, 'support': 4096}}, 'eval_runtime': 7.4988, 'eval_samples_per_second': 546.219, 'eval_steps_per_second': 8.535, 'epoch': 0.46}\n"
     ]
    },
    {
     "name": "stderr",
     "output_type": "stream",
     "text": [
      "\n",
      " 12%|█▏        | 10000/86888 [2:03:12<9:21:08,  2.28it/s]"
     ]
    },
    {
     "name": "stdout",
     "output_type": "stream",
     "text": [
      "{'eval_loss': 0.5382239818572998, 'eval_macro_f1': 0.7711108669405669, 'eval_macro_precision': 0.7871137170759666, 'eval_macro_recall': 0.758862307953288, 'eval_accuracy': 0.808349609375, 'eval_report': {'NOR': {'precision': 0.6753246753246753, 'recall': 0.7086882453151618, 'f1-score': 0.6916043225270159, 'support': 587}, 'IRQ': {'precision': 0.8582554517133957, 'recall': 0.924496644295302, 'f1-score': 0.8901453957996768, 'support': 1788}, 'LEV': {'precision': 0.7905918057663126, 'recall': 0.7186206896551725, 'f1-score': 0.7528901734104047, 'support': 725}, 'EGY': {'precision': 0.806615776081425, 'recall': 0.6788008565310493, 'f1-score': 0.7372093023255814, 'support': 467}, 'GLF': {'precision': 0.8047808764940239, 'recall': 0.7637051039697542, 'f1-score': 0.7837051406401552, 'support': 529}, 'accuracy': 0.808349609375, 'macro avg': {'precision': 0.7871137170759666, 'recall': 0.758862307953288, 'f1-score': 0.7711108669405669, 'support': 4096}, 'weighted avg': {'precision': 0.8072690533093448, 'recall': 0.808349609375, 'f1-score': 0.8062143174610381, 'support': 4096}}, 'eval_runtime': 7.4864, 'eval_samples_per_second': 547.126, 'eval_steps_per_second': 8.549, 'epoch': 0.46}\n"
     ]
    },
    {
     "name": "stderr",
     "output_type": "stream",
     "text": [
      "\n",
      " 12%|█▏        | 10000/86888 [2:03:20<9:21:08,  2.28it/s]"
     ]
    },
    {
     "name": "stdout",
     "output_type": "stream",
     "text": [
      "{'eval_loss': 0.5382239818572998, 'eval_macro_f1': 0.7711108669405669, 'eval_macro_precision': 0.7871137170759666, 'eval_macro_recall': 0.758862307953288, 'eval_accuracy': 0.808349609375, 'eval_report': {'NOR': {'precision': 0.6753246753246753, 'recall': 0.7086882453151618, 'f1-score': 0.6916043225270159, 'support': 587}, 'IRQ': {'precision': 0.8582554517133957, 'recall': 0.924496644295302, 'f1-score': 0.8901453957996768, 'support': 1788}, 'LEV': {'precision': 0.7905918057663126, 'recall': 0.7186206896551725, 'f1-score': 0.7528901734104047, 'support': 725}, 'EGY': {'precision': 0.806615776081425, 'recall': 0.6788008565310493, 'f1-score': 0.7372093023255814, 'support': 467}, 'GLF': {'precision': 0.8047808764940239, 'recall': 0.7637051039697542, 'f1-score': 0.7837051406401552, 'support': 529}, 'accuracy': 0.808349609375, 'macro avg': {'precision': 0.7871137170759666, 'recall': 0.758862307953288, 'f1-score': 0.7711108669405669, 'support': 4096}, 'weighted avg': {'precision': 0.8072690533093448, 'recall': 0.808349609375, 'f1-score': 0.8062143174610381, 'support': 4096}}, 'eval_runtime': 7.4861, 'eval_samples_per_second': 547.148, 'eval_steps_per_second': 8.549, 'epoch': 0.46}\n"
     ]
    },
    {
     "name": "stderr",
     "output_type": "stream",
     "text": [
      "\n",
      " 12%|█▏        | 10000/86888 [2:03:27<9:21:08,  2.28it/s]"
     ]
    },
    {
     "name": "stdout",
     "output_type": "stream",
     "text": [
      "{'eval_loss': 0.5382239818572998, 'eval_macro_f1': 0.7711108669405669, 'eval_macro_precision': 0.7871137170759666, 'eval_macro_recall': 0.758862307953288, 'eval_accuracy': 0.808349609375, 'eval_report': {'NOR': {'precision': 0.6753246753246753, 'recall': 0.7086882453151618, 'f1-score': 0.6916043225270159, 'support': 587}, 'IRQ': {'precision': 0.8582554517133957, 'recall': 0.924496644295302, 'f1-score': 0.8901453957996768, 'support': 1788}, 'LEV': {'precision': 0.7905918057663126, 'recall': 0.7186206896551725, 'f1-score': 0.7528901734104047, 'support': 725}, 'EGY': {'precision': 0.806615776081425, 'recall': 0.6788008565310493, 'f1-score': 0.7372093023255814, 'support': 467}, 'GLF': {'precision': 0.8047808764940239, 'recall': 0.7637051039697542, 'f1-score': 0.7837051406401552, 'support': 529}, 'accuracy': 0.808349609375, 'macro avg': {'precision': 0.7871137170759666, 'recall': 0.758862307953288, 'f1-score': 0.7711108669405669, 'support': 4096}, 'weighted avg': {'precision': 0.8072690533093448, 'recall': 0.808349609375, 'f1-score': 0.8062143174610381, 'support': 4096}}, 'eval_runtime': 7.4948, 'eval_samples_per_second': 546.513, 'eval_steps_per_second': 8.539, 'epoch': 0.46}\n"
     ]
    },
    {
     "name": "stderr",
     "output_type": "stream",
     "text": [
      "\n",
      " 12%|█▏        | 10000/86888 [2:03:35<9:21:08,  2.28it/s]"
     ]
    },
    {
     "name": "stdout",
     "output_type": "stream",
     "text": [
      "{'eval_loss': 0.5382239818572998, 'eval_macro_f1': 0.7711108669405669, 'eval_macro_precision': 0.7871137170759666, 'eval_macro_recall': 0.758862307953288, 'eval_accuracy': 0.808349609375, 'eval_report': {'NOR': {'precision': 0.6753246753246753, 'recall': 0.7086882453151618, 'f1-score': 0.6916043225270159, 'support': 587}, 'IRQ': {'precision': 0.8582554517133957, 'recall': 0.924496644295302, 'f1-score': 0.8901453957996768, 'support': 1788}, 'LEV': {'precision': 0.7905918057663126, 'recall': 0.7186206896551725, 'f1-score': 0.7528901734104047, 'support': 725}, 'EGY': {'precision': 0.806615776081425, 'recall': 0.6788008565310493, 'f1-score': 0.7372093023255814, 'support': 467}, 'GLF': {'precision': 0.8047808764940239, 'recall': 0.7637051039697542, 'f1-score': 0.7837051406401552, 'support': 529}, 'accuracy': 0.808349609375, 'macro avg': {'precision': 0.7871137170759666, 'recall': 0.758862307953288, 'f1-score': 0.7711108669405669, 'support': 4096}, 'weighted avg': {'precision': 0.8072690533093448, 'recall': 0.808349609375, 'f1-score': 0.8062143174610381, 'support': 4096}}, 'eval_runtime': 7.486, 'eval_samples_per_second': 547.157, 'eval_steps_per_second': 8.549, 'epoch': 0.46}\n"
     ]
    },
    {
     "name": "stderr",
     "output_type": "stream",
     "text": [
      "\n",
      " 12%|█▏        | 10000/86888 [2:03:42<9:21:08,  2.28it/s]"
     ]
    },
    {
     "name": "stdout",
     "output_type": "stream",
     "text": [
      "{'eval_loss': 0.5382239818572998, 'eval_macro_f1': 0.7711108669405669, 'eval_macro_precision': 0.7871137170759666, 'eval_macro_recall': 0.758862307953288, 'eval_accuracy': 0.808349609375, 'eval_report': {'NOR': {'precision': 0.6753246753246753, 'recall': 0.7086882453151618, 'f1-score': 0.6916043225270159, 'support': 587}, 'IRQ': {'precision': 0.8582554517133957, 'recall': 0.924496644295302, 'f1-score': 0.8901453957996768, 'support': 1788}, 'LEV': {'precision': 0.7905918057663126, 'recall': 0.7186206896551725, 'f1-score': 0.7528901734104047, 'support': 725}, 'EGY': {'precision': 0.806615776081425, 'recall': 0.6788008565310493, 'f1-score': 0.7372093023255814, 'support': 467}, 'GLF': {'precision': 0.8047808764940239, 'recall': 0.7637051039697542, 'f1-score': 0.7837051406401552, 'support': 529}, 'accuracy': 0.808349609375, 'macro avg': {'precision': 0.7871137170759666, 'recall': 0.758862307953288, 'f1-score': 0.7711108669405669, 'support': 4096}, 'weighted avg': {'precision': 0.8072690533093448, 'recall': 0.808349609375, 'f1-score': 0.8062143174610381, 'support': 4096}}, 'eval_runtime': 7.4894, 'eval_samples_per_second': 546.906, 'eval_steps_per_second': 8.545, 'epoch': 0.46}\n"
     ]
    },
    {
     "name": "stderr",
     "output_type": "stream",
     "text": [
      "\n",
      " 12%|█▏        | 10000/86888 [2:03:50<9:21:08,  2.28it/s]"
     ]
    },
    {
     "name": "stdout",
     "output_type": "stream",
     "text": [
      "{'eval_loss': 0.5382239818572998, 'eval_macro_f1': 0.7711108669405669, 'eval_macro_precision': 0.7871137170759666, 'eval_macro_recall': 0.758862307953288, 'eval_accuracy': 0.808349609375, 'eval_report': {'NOR': {'precision': 0.6753246753246753, 'recall': 0.7086882453151618, 'f1-score': 0.6916043225270159, 'support': 587}, 'IRQ': {'precision': 0.8582554517133957, 'recall': 0.924496644295302, 'f1-score': 0.8901453957996768, 'support': 1788}, 'LEV': {'precision': 0.7905918057663126, 'recall': 0.7186206896551725, 'f1-score': 0.7528901734104047, 'support': 725}, 'EGY': {'precision': 0.806615776081425, 'recall': 0.6788008565310493, 'f1-score': 0.7372093023255814, 'support': 467}, 'GLF': {'precision': 0.8047808764940239, 'recall': 0.7637051039697542, 'f1-score': 0.7837051406401552, 'support': 529}, 'accuracy': 0.808349609375, 'macro avg': {'precision': 0.7871137170759666, 'recall': 0.758862307953288, 'f1-score': 0.7711108669405669, 'support': 4096}, 'weighted avg': {'precision': 0.8072690533093448, 'recall': 0.808349609375, 'f1-score': 0.8062143174610381, 'support': 4096}}, 'eval_runtime': 7.499, 'eval_samples_per_second': 546.203, 'eval_steps_per_second': 8.534, 'epoch': 0.46}\n"
     ]
    },
    {
     "name": "stderr",
     "output_type": "stream",
     "text": [
      "\n",
      " 12%|█▏        | 10000/86888 [2:03:57<9:21:08,  2.28it/s]"
     ]
    },
    {
     "name": "stdout",
     "output_type": "stream",
     "text": [
      "{'eval_loss': 0.5382239818572998, 'eval_macro_f1': 0.7711108669405669, 'eval_macro_precision': 0.7871137170759666, 'eval_macro_recall': 0.758862307953288, 'eval_accuracy': 0.808349609375, 'eval_report': {'NOR': {'precision': 0.6753246753246753, 'recall': 0.7086882453151618, 'f1-score': 0.6916043225270159, 'support': 587}, 'IRQ': {'precision': 0.8582554517133957, 'recall': 0.924496644295302, 'f1-score': 0.8901453957996768, 'support': 1788}, 'LEV': {'precision': 0.7905918057663126, 'recall': 0.7186206896551725, 'f1-score': 0.7528901734104047, 'support': 725}, 'EGY': {'precision': 0.806615776081425, 'recall': 0.6788008565310493, 'f1-score': 0.7372093023255814, 'support': 467}, 'GLF': {'precision': 0.8047808764940239, 'recall': 0.7637051039697542, 'f1-score': 0.7837051406401552, 'support': 529}, 'accuracy': 0.808349609375, 'macro avg': {'precision': 0.7871137170759666, 'recall': 0.758862307953288, 'f1-score': 0.7711108669405669, 'support': 4096}, 'weighted avg': {'precision': 0.8072690533093448, 'recall': 0.808349609375, 'f1-score': 0.8062143174610381, 'support': 4096}}, 'eval_runtime': 7.4799, 'eval_samples_per_second': 547.598, 'eval_steps_per_second': 8.556, 'epoch': 0.46}\n"
     ]
    },
    {
     "name": "stderr",
     "output_type": "stream",
     "text": [
      "\n",
      " 12%|█▏        | 10000/86888 [2:04:05<9:21:08,  2.28it/s]"
     ]
    },
    {
     "name": "stdout",
     "output_type": "stream",
     "text": [
      "{'eval_loss': 0.5382239818572998, 'eval_macro_f1': 0.7711108669405669, 'eval_macro_precision': 0.7871137170759666, 'eval_macro_recall': 0.758862307953288, 'eval_accuracy': 0.808349609375, 'eval_report': {'NOR': {'precision': 0.6753246753246753, 'recall': 0.7086882453151618, 'f1-score': 0.6916043225270159, 'support': 587}, 'IRQ': {'precision': 0.8582554517133957, 'recall': 0.924496644295302, 'f1-score': 0.8901453957996768, 'support': 1788}, 'LEV': {'precision': 0.7905918057663126, 'recall': 0.7186206896551725, 'f1-score': 0.7528901734104047, 'support': 725}, 'EGY': {'precision': 0.806615776081425, 'recall': 0.6788008565310493, 'f1-score': 0.7372093023255814, 'support': 467}, 'GLF': {'precision': 0.8047808764940239, 'recall': 0.7637051039697542, 'f1-score': 0.7837051406401552, 'support': 529}, 'accuracy': 0.808349609375, 'macro avg': {'precision': 0.7871137170759666, 'recall': 0.758862307953288, 'f1-score': 0.7711108669405669, 'support': 4096}, 'weighted avg': {'precision': 0.8072690533093448, 'recall': 0.808349609375, 'f1-score': 0.8062143174610381, 'support': 4096}}, 'eval_runtime': 7.5072, 'eval_samples_per_second': 545.612, 'eval_steps_per_second': 8.525, 'epoch': 0.46}\n"
     ]
    },
    {
     "name": "stderr",
     "output_type": "stream",
     "text": [
      "\n",
      " 12%|█▏        | 10000/86888 [2:04:12<9:21:08,  2.28it/s]"
     ]
    },
    {
     "name": "stdout",
     "output_type": "stream",
     "text": [
      "{'eval_loss': 0.5382239818572998, 'eval_macro_f1': 0.7711108669405669, 'eval_macro_precision': 0.7871137170759666, 'eval_macro_recall': 0.758862307953288, 'eval_accuracy': 0.808349609375, 'eval_report': {'NOR': {'precision': 0.6753246753246753, 'recall': 0.7086882453151618, 'f1-score': 0.6916043225270159, 'support': 587}, 'IRQ': {'precision': 0.8582554517133957, 'recall': 0.924496644295302, 'f1-score': 0.8901453957996768, 'support': 1788}, 'LEV': {'precision': 0.7905918057663126, 'recall': 0.7186206896551725, 'f1-score': 0.7528901734104047, 'support': 725}, 'EGY': {'precision': 0.806615776081425, 'recall': 0.6788008565310493, 'f1-score': 0.7372093023255814, 'support': 467}, 'GLF': {'precision': 0.8047808764940239, 'recall': 0.7637051039697542, 'f1-score': 0.7837051406401552, 'support': 529}, 'accuracy': 0.808349609375, 'macro avg': {'precision': 0.7871137170759666, 'recall': 0.758862307953288, 'f1-score': 0.7711108669405669, 'support': 4096}, 'weighted avg': {'precision': 0.8072690533093448, 'recall': 0.808349609375, 'f1-score': 0.8062143174610381, 'support': 4096}}, 'eval_runtime': 7.4859, 'eval_samples_per_second': 547.163, 'eval_steps_per_second': 8.549, 'epoch': 0.46}\n"
     ]
    }
   ],
   "source": [
    "class EvaluatePleaseCallback(transformers.TrainerCallback):\n",
    "    def on_log(self, args, state, control, model, **kwargs):\n",
    "        print(trainer.evaluate())\n",
    " \n",
    "gc.collect()\n",
    "torch.cuda.empty_cache()\n",
    "trainer.add_callback(EvaluatePleaseCallback())\n",
    "trainer.train()"
   ]
  },
  {
   "cell_type": "markdown",
   "metadata": {},
   "source": [
    "# Analysis"
   ]
  },
  {
   "cell_type": "code",
   "execution_count": null,
   "metadata": {},
   "outputs": [
    {
     "ename": "Error",
     "evalue": "Session cannot generate requests",
     "output_type": "error",
     "traceback": [
      "Error: Session cannot generate requests",
      "at w.executeCodeCell (c:\\Users\\mohnd\\.vscode\\extensions\\ms-toolsai.jupyter-2021.8.2031187289\\out\\client\\extension.js:54:361777)",
      "at w.execute (c:\\Users\\mohnd\\.vscode\\extensions\\ms-toolsai.jupyter-2021.8.2031187289\\out\\client\\extension.js:54:361078)",
      "at w.start (c:\\Users\\mohnd\\.vscode\\extensions\\ms-toolsai.jupyter-2021.8.2031187289\\out\\client\\extension.js:54:356725)",
      "at runMicrotasks (<anonymous>)",
      "at processTicksAndRejections (internal/process/task_queues.js:93:5)",
      "at async t.CellExecutionQueue.executeQueuedCells (c:\\Users\\mohnd\\.vscode\\extensions\\ms-toolsai.jupyter-2021.8.2031187289\\out\\client\\extension.js:54:371647)",
      "at async t.CellExecutionQueue.start (c:\\Users\\mohnd\\.vscode\\extensions\\ms-toolsai.jupyter-2021.8.2031187289\\out\\client\\extension.js:54:371187)"
     ]
    }
   ],
   "source": [
    "evaluation = trainer.evaluate(test_dataset)\n",
    "evaluation"
   ]
  },
  {
   "cell_type": "markdown",
   "metadata": {},
   "source": [
    "# Save & load"
   ]
  },
  {
   "cell_type": "code",
   "execution_count": null,
   "metadata": {},
   "outputs": [
    {
     "name": "stderr",
     "output_type": "stream",
     "text": [
      "100%|██████████| 64/64 [00:07<00:00,  8.74it/s]\n"
     ]
    }
   ],
   "source": [
    "if save_model_after_finish:\n",
    "    save_path = f'models/finalized_models/{trainer.args.output_dir.split(\"/\")[-1]}-{model_name[model_name.rfind(\"/\")+1:]}-{trainer.evaluate()[\"eval_accuracy\"]}'\n",
    "    trainer.save_model(save_path)\n",
    "    with open(join(save_path, \"evaluation.json\"), \"w\") as file:\n",
    "        file.write(json.dumps(evaluation))\n",
    "        \n",
    "    with open(join(save_path, \"arguments.txt\"), \"w\") as file:\n",
    "        file.write(str(training_args))\n",
    "    "
   ]
  },
  {
   "cell_type": "markdown",
   "metadata": {},
   "source": [
    "# Hyperparameter search"
   ]
  },
  {
   "cell_type": "code",
   "execution_count": null,
   "metadata": {},
   "outputs": [],
   "source": [
    "# def objective(trial: optuna.Trial):     \n",
    "    \n",
    "#     training_args = generate_training_args(search_path, epochs=None, do_warmup=False, save_model=False, eval_while_training=False)\n",
    "#     training_args.learning_rate= trial.suggest_loguniform('learning_rate', low=4e-5, high=0.01)\n",
    "#     training_args.weight_decay= trial.suggest_loguniform('weight_decay', 4e-5, 0.01)\n",
    "#     training_args.num_train_epochs= trial.suggest_int('num_train_epochs', low=2, high=5)\n",
    "    \n",
    "#     trainer = Trainer(\n",
    "#         model_init=lambda:model_init(model_name, len(classes), label2id=class_to_index, id2label=index_to_class),\n",
    "#         args=training_args,\n",
    "#         train_dataset=train_dataset,\n",
    "#         eval_dataset=validate_dataset,\n",
    "#         compute_metrics=compute_metrics,\n",
    "#         callbacks=[TensorBoardCallback()]\n",
    "#     )\n",
    "    \n",
    "#     result = trainer.train()     \n",
    "    \n",
    "#     return result.training_loss # Or result.training_loss[\"metric_name\"] ps: change direction in study if necessary\n",
    "   \n",
    "# We want to minimize the loss! \n",
    "# study = optuna.create_study(study_name='hyper-parameter-search', direction='minimize') \n",
    "# study.optimize(func=objective, n_trials=15)\n",
    "\n",
    "# print(study.best_value) \n",
    "# print(study.best_params) \n",
    "# print(study.best_trial)\n",
    "\n",
    "# trainer.hyperparameter_search(n_trials=10)\n"
   ]
  },
  {
   "cell_type": "code",
   "execution_count": null,
   "metadata": {},
   "outputs": [],
   "source": []
  }
 ],
 "metadata": {
  "interpreter": {
   "hash": "7a11609d3c9a3d6d9d27250456fa90a271920de06fcd2ad5e9bde9ece7a63280"
  },
  "kernelspec": {
   "display_name": "Python 3.9.7 ('graduation_project')",
   "name": "python3"
  },
  "language_info": {
   "codemirror_mode": {
    "name": "ipython",
    "version": 3
   },
   "file_extension": ".py",
   "mimetype": "text/x-python",
   "name": "python",
   "nbconvert_exporter": "python",
   "pygments_lexer": "ipython3",
   "version": "3.9.7"
  }
 },
 "nbformat": 4,
 "nbformat_minor": 4
}
