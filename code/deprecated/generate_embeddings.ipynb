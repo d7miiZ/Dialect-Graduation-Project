{
 "cells": [
  {
   "cell_type": "code",
   "execution_count": 3,
   "metadata": {},
   "outputs": [],
   "source": [
    "import fasttext as ft\n",
    "from gensim.models import KeyedVectors\n",
    "from gensim.models import Word2Vec\n",
    "import gensim"
   ]
  },
  {
   "cell_type": "code",
   "execution_count": 4,
   "metadata": {},
   "outputs": [],
   "source": [
    "# model = KeyedVectors.load_word2vec_format(\"Embeddings/egy.bin\", binary=True)"
   ]
  },
  {
   "cell_type": "code",
   "execution_count": 5,
   "metadata": {},
   "outputs": [],
   "source": [
    "embedding_GLF = ft.train_unsupervised(\"../model_and_research/code/data/SMADC/GLF.txt\", dim=512)\n",
    "embedding_EGY = ft.train_unsupervised(\"../model_and_research/code/data/SMADC/EGY.txt\", dim=512)\n"
   ]
  },
  {
   "cell_type": "code",
   "execution_count": 6,
   "metadata": {},
   "outputs": [],
   "source": [
    "embedding_GLF.save_model(\"embedding_GLF.bin\")\n",
    "embedding_EGY.save_model(\"embedding_EGY.bin\")"
   ]
  },
  {
   "cell_type": "code",
   "execution_count": 7,
   "metadata": {},
   "outputs": [],
   "source": [
    "# embedding_GLF = ft.load_model(\"embedding_GLF.bin\")\n",
    "# embedding_EGY = ft.load_model(\"embedding_EGY.bin\")"
   ]
  },
  {
   "cell_type": "code",
   "execution_count": 8,
   "metadata": {},
   "outputs": [
    {
     "name": "stderr",
     "output_type": "stream",
     "text": [
      "<ipython-input-8-c15372744783>:1: DeprecationWarning: Call to deprecated `load_fasttext_format` (use load_facebook_vectors (to use pretrained embeddings) or load_facebook_model (to continue training with the loaded full model, more RAM) instead).\n",
      "  gensim.models.FastText.load_fasttext_format('embedding_GLF.bin').wv.save_word2vec_format(\"glf.vec\", binary=False)\n",
      "<ipython-input-8-c15372744783>:2: DeprecationWarning: Call to deprecated `load_fasttext_format` (use load_facebook_vectors (to use pretrained embeddings) or load_facebook_model (to continue training with the loaded full model, more RAM) instead).\n",
      "  gensim.models.FastText.load_fasttext_format('embedding_EGY.bin').wv.save_word2vec_format(\"egy.vec\", binary=False)\n"
     ]
    }
   ],
   "source": [
    "gensim.models.FastText.load_fasttext_format('embedding_GLF.bin').wv.save_word2vec_format(\"glf.vec\", binary=False)\n",
    "gensim.models.FastText.load_fasttext_format('embedding_EGY.bin').wv.save_word2vec_format(\"egy.vec\", binary=False)"
   ]
  },
  {
   "cell_type": "code",
   "execution_count": null,
   "metadata": {},
   "outputs": [],
   "source": []
  }
 ],
 "metadata": {
  "interpreter": {
   "hash": "c2deab0c0d56e72ca5db1d97fb88fe0c0ab6b5e910fcaec703ad36be267b2091"
  },
  "kernelspec": {
   "display_name": "Python 3.8.8 ('base')",
   "name": "python3"
  },
  "language_info": {
   "codemirror_mode": {
    "name": "ipython",
    "version": 3
   },
   "file_extension": ".py",
   "mimetype": "text/x-python",
   "name": "python",
   "nbconvert_exporter": "python",
   "pygments_lexer": "ipython3",
   "version": "3.8.8"
  },
  "orig_nbformat": 4
 },
 "nbformat": 4,
 "nbformat_minor": 2
}
